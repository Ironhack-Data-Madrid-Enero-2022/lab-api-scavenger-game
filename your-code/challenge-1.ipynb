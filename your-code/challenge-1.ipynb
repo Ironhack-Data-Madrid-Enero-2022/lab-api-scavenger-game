{
 "cells": [
  {
   "cell_type": "code",
   "execution_count": 11,
   "metadata": {},
   "outputs": [],
   "source": [
    "import json\n",
    "import requests as req"
   ]
  },
  {
   "cell_type": "markdown",
   "metadata": {},
   "source": [
    "Only if you're using your environmental variable eith the `.env` file, import/install the following modules. Otherwise it is not necessary:\n",
    "\n",
    "https://pypi.org/project/python-dotenv/"
   ]
  },
  {
   "cell_type": "code",
   "execution_count": 8,
   "metadata": {},
   "outputs": [],
   "source": [
    "import os\n",
    "from dotenv import load_dotenv"
   ]
  },
  {
   "cell_type": "code",
   "execution_count": null,
   "metadata": {},
   "outputs": [],
   "source": [
    "#pip install python-dotenv"
   ]
  },
  {
   "cell_type": "code",
   "execution_count": 2,
   "metadata": {},
   "outputs": [
    {
     "data": {
      "text/plain": [
       "True"
      ]
     },
     "execution_count": 2,
     "metadata": {},
     "output_type": "execute_result"
    }
   ],
   "source": [
    "load_dotenv()"
   ]
  },
  {
   "cell_type": "code",
   "execution_count": 13,
   "metadata": {},
   "outputs": [],
   "source": [
    "github = os.getenv(\"token\")"
   ]
  },
  {
   "cell_type": "markdown",
   "metadata": {},
   "source": [
    "# Challenge 1: Fork Languages\n",
    "\n",
    "You will find out how many programming languages are used among all the forks created from the main lab repo of your bootcamp. Assuming the main lab repo is ironhack-datalabs/datamad1020-rev, you will:\n",
    "\n",
    "1. Obtain the full list of forks created from the main lab repo via Github API.\n",
    "\n",
    "2. Loop the JSON response to find out the language attribute of each fork. Use an array to store the language attributes of each fork.\n",
    "\n",
    "Hint: Each language should appear only once in your array.\n",
    "\n",
    "3. Print the language array. It should be something like:\n",
    "\n",
    "[\"Python\", \"Jupyter Notebook\", \"HTML\"]\n"
   ]
  },
  {
   "cell_type": "markdown",
   "metadata": {},
   "source": [
    "**HINT:**: Create a list with every **language_url** you find in every fork "
   ]
  },
  {
   "cell_type": "markdown",
   "metadata": {},
   "source": [
    "⚠️ **Remember to limit your output before submission**."
   ]
  },
  {
   "cell_type": "code",
   "execution_count": 14,
   "metadata": {},
   "outputs": [],
   "source": [
    "url = 'https://api.github.com/repos/Ironhack-Data-Madrid-Enero-2022/apuntes_clase/forks'"
   ]
  },
  {
   "cell_type": "code",
   "execution_count": 15,
   "metadata": {},
   "outputs": [
    {
     "data": {
      "text/plain": [
       "<Response [200]>"
      ]
     },
     "execution_count": 15,
     "metadata": {},
     "output_type": "execute_result"
    }
   ],
   "source": [
    "req.get(url)"
   ]
  },
  {
   "cell_type": "code",
   "execution_count": 18,
   "metadata": {
    "scrolled": false
   },
   "outputs": [],
   "source": [
    "ironhack = req.get(url).json()"
   ]
  },
  {
   "cell_type": "code",
   "execution_count": 47,
   "metadata": {},
   "outputs": [],
   "source": [
    "# ironhack"
   ]
  },
  {
   "cell_type": "code",
   "execution_count": 21,
   "metadata": {},
   "outputs": [],
   "source": [
    "# Hemos obtenido una lista de diccionarios. Ahora queremos sacar una lista con los nombres de cada uno iterando sobre la lista\n",
    "# y después sobre el diccionario:\n",
    "lista_forks = []\n",
    "for i in ironhack:\n",
    "    for k,v in i.items():\n",
    "        if k == 'id':\n",
    "            lista_forks.append(v)"
   ]
  },
  {
   "cell_type": "code",
   "execution_count": 22,
   "metadata": {},
   "outputs": [
    {
     "data": {
      "text/plain": [
       "[452633928,\n",
       " 450045830,\n",
       " 449774630,\n",
       " 449199202,\n",
       " 448903033,\n",
       " 447276463,\n",
       " 447190248,\n",
       " 446880118,\n",
       " 446879337,\n",
       " 446875255,\n",
       " 446874119,\n",
       " 446754174,\n",
       " 446731860,\n",
       " 446731643,\n",
       " 446731580,\n",
       " 446394415,\n",
       " 446213571]"
      ]
     },
     "execution_count": 22,
     "metadata": {},
     "output_type": "execute_result"
    }
   ],
   "source": [
    "lista_forks"
   ]
  },
  {
   "cell_type": "code",
   "execution_count": 43,
   "metadata": {},
   "outputs": [],
   "source": [
    "# Se crea una lista ocn un diccionario dentro para obtener los id's y el lenguaje de cada uno\n",
    "lista_language = []\n",
    "for i in ironhack:\n",
    "    for k,v in i.items():\n",
    "        if k == 'id':\n",
    "            clave = v\n",
    "        if k == 'language':\n",
    "            valor = v\n",
    "            lista_language.append({clave :valor })"
   ]
  },
  {
   "cell_type": "code",
   "execution_count": 44,
   "metadata": {},
   "outputs": [
    {
     "data": {
      "text/plain": [
       "[{452633928: None},\n",
       " {450045830: None},\n",
       " {449774630: 'Jupyter Notebook'},\n",
       " {449199202: None},\n",
       " {448903033: 'Jupyter Notebook'},\n",
       " {447276463: 'Jupyter Notebook'},\n",
       " {447190248: 'Jupyter Notebook'},\n",
       " {446880118: 'Jupyter Notebook'},\n",
       " {446879337: None},\n",
       " {446875255: None},\n",
       " {446874119: 'Jupyter Notebook'},\n",
       " {446754174: 'Jupyter Notebook'},\n",
       " {446731860: 'Jupyter Notebook'},\n",
       " {446731643: None},\n",
       " {446731580: None},\n",
       " {446394415: 'Jupyter Notebook'},\n",
       " {446213571: 'Jupyter Notebook'}]"
      ]
     },
     "execution_count": 44,
     "metadata": {},
     "output_type": "execute_result"
    }
   ],
   "source": [
    "# lista_language"
   ]
  },
  {
   "cell_type": "code",
   "execution_count": 45,
   "metadata": {},
   "outputs": [],
   "source": [
    "lista_lenguajes = []\n",
    "for i in ironhack:\n",
    "    for k,v in i.items():\n",
    "        if k == 'language':\n",
    "            if v not in lista_lenguajes:\n",
    "                lista_lenguajes.append(v)"
   ]
  },
  {
   "cell_type": "code",
   "execution_count": 46,
   "metadata": {},
   "outputs": [
    {
     "data": {
      "text/plain": [
       "[None, 'Jupyter Notebook']"
      ]
     },
     "execution_count": 46,
     "metadata": {},
     "output_type": "execute_result"
    }
   ],
   "source": [
    "lista_lenguajes"
   ]
  },
  {
   "cell_type": "code",
   "execution_count": null,
   "metadata": {},
   "outputs": [],
   "source": []
  },
  {
   "cell_type": "code",
   "execution_count": null,
   "metadata": {},
   "outputs": [],
   "source": []
  }
 ],
 "metadata": {
  "kernelspec": {
   "display_name": "ironhack",
   "language": "python",
   "name": "ironhack"
  },
  "language_info": {
   "codemirror_mode": {
    "name": "ipython",
    "version": 3
   },
   "file_extension": ".py",
   "mimetype": "text/x-python",
   "name": "python",
   "nbconvert_exporter": "python",
   "pygments_lexer": "ipython3",
   "version": "3.8.2"
  },
  "toc": {
   "base_numbering": 1,
   "nav_menu": {},
   "number_sections": true,
   "sideBar": true,
   "skip_h1_title": true,
   "title_cell": "Table of Contents",
   "title_sidebar": "Contents",
   "toc_cell": false,
   "toc_position": {},
   "toc_section_display": true,
   "toc_window_display": false
  }
 },
 "nbformat": 4,
 "nbformat_minor": 2
}
