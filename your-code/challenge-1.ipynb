{
 "cells": [
  {
   "cell_type": "code",
   "execution_count": 8,
   "metadata": {},
   "outputs": [],
   "source": [
    "import json\n",
    "import requests as req"
   ]
  },
  {
   "cell_type": "markdown",
   "metadata": {},
   "source": [
    "Only if you're using your environmental variable eith the `.env` file, import/install the following modules. Otherwise it is not necessary:\n",
    "\n",
    "https://pypi.org/project/python-dotenv/"
   ]
  },
  {
   "cell_type": "code",
   "execution_count": 9,
   "metadata": {},
   "outputs": [],
   "source": [
    "import os\n",
    "from dotenv import load_dotenv"
   ]
  },
  {
   "cell_type": "code",
   "execution_count": 10,
   "metadata": {},
   "outputs": [],
   "source": [
    "#pip install python-dotenv"
   ]
  },
  {
   "cell_type": "code",
   "execution_count": 11,
   "metadata": {},
   "outputs": [
    {
     "data": {
      "text/plain": [
       "True"
      ]
     },
     "execution_count": 11,
     "metadata": {},
     "output_type": "execute_result"
    }
   ],
   "source": [
    "load_dotenv()"
   ]
  },
  {
   "cell_type": "code",
   "execution_count": 12,
   "metadata": {},
   "outputs": [],
   "source": [
    "github = os.getenv(\"token\")"
   ]
  },
  {
   "cell_type": "markdown",
   "metadata": {},
   "source": [
    "# Challenge 1: Fork Languages\n",
    "\n",
    "You will find out how many programming languages are used among all the forks created from the main lab repo of your bootcamp. Assuming the main lab repo is ironhack-datalabs/datamad1020-rev, you will:\n",
    "\n",
    "1. Obtain the full list of forks created from the main lab repo via Github API.\n",
    "\n",
    "2. Loop the JSON response to find out the language attribute of each fork. Use an array to store the language attributes of each fork.\n",
    "\n",
    "Hint: Each language should appear only once in your array.\n",
    "\n",
    "3. Print the language array. It should be something like:\n",
    "\n",
    "[\"Python\", \"Jupyter Notebook\", \"HTML\"]\n"
   ]
  },
  {
   "cell_type": "markdown",
   "metadata": {},
   "source": [
    "**HINT:**: Create a list with every **language_url** you find in every fork "
   ]
  },
  {
   "cell_type": "markdown",
   "metadata": {},
   "source": [
    "⚠️ **Remember to limit your output before submission**."
   ]
  },
  {
   "cell_type": "code",
   "execution_count": 18,
   "metadata": {},
   "outputs": [
    {
     "data": {
      "text/plain": [
       "<Response [200]>"
      ]
     },
     "execution_count": 18,
     "metadata": {},
     "output_type": "execute_result"
    }
   ],
   "source": [
    "URL='https://api.github.com/'\n",
    "usuario = \"repos/Ironhack-Data-Madrid-Enero-2022/lab-api-scavenger-game/forks\"\n",
    "res_git=req.get(URL+usuario,)\n",
    "res_git"
   ]
  },
  {
   "cell_type": "code",
   "execution_count": 26,
   "metadata": {
    "scrolled": true
   },
   "outputs": [
    {
     "data": {
      "text/plain": [
       "'Jupyter Notebook'"
      ]
     },
     "execution_count": 26,
     "metadata": {},
     "output_type": "execute_result"
    }
   ],
   "source": [
    "res_git.json()[0][\"language\"]"
   ]
  },
  {
   "cell_type": "code",
   "execution_count": 39,
   "metadata": {
    "scrolled": false
   },
   "outputs": [
    {
     "data": {
      "text/plain": [
       "[None, 'Jupyter Notebook']"
      ]
     },
     "execution_count": 39,
     "metadata": {},
     "output_type": "execute_result"
    }
   ],
   "source": [
    "languages = []\n",
    "for i in res_git.json():\n",
    "    languages.append(i[\"language\"])\n",
    "    \n",
    "languages = set(languages)\n",
    "languages = list(languages)\n",
    "languages"
   ]
  },
  {
   "cell_type": "code",
   "execution_count": 36,
   "metadata": {},
   "outputs": [
    {
     "data": {
      "text/plain": [
       "{'id': 452737657,\n",
       " 'node_id': 'R_kgDOGvw6eQ',\n",
       " 'name': 'lab-api-scavenger-game',\n",
       " 'full_name': 'AntonioLopga12/lab-api-scavenger-game',\n",
       " 'private': False,\n",
       " 'owner': {'login': 'AntonioLopga12',\n",
       "  'id': 95697009,\n",
       "  'node_id': 'U_kgDOBbQ4cQ',\n",
       "  'avatar_url': 'https://avatars.githubusercontent.com/u/95697009?v=4',\n",
       "  'gravatar_id': '',\n",
       "  'url': 'https://api.github.com/users/AntonioLopga12',\n",
       "  'html_url': 'https://github.com/AntonioLopga12',\n",
       "  'followers_url': 'https://api.github.com/users/AntonioLopga12/followers',\n",
       "  'following_url': 'https://api.github.com/users/AntonioLopga12/following{/other_user}',\n",
       "  'gists_url': 'https://api.github.com/users/AntonioLopga12/gists{/gist_id}',\n",
       "  'starred_url': 'https://api.github.com/users/AntonioLopga12/starred{/owner}{/repo}',\n",
       "  'subscriptions_url': 'https://api.github.com/users/AntonioLopga12/subscriptions',\n",
       "  'organizations_url': 'https://api.github.com/users/AntonioLopga12/orgs',\n",
       "  'repos_url': 'https://api.github.com/users/AntonioLopga12/repos',\n",
       "  'events_url': 'https://api.github.com/users/AntonioLopga12/events{/privacy}',\n",
       "  'received_events_url': 'https://api.github.com/users/AntonioLopga12/received_events',\n",
       "  'type': 'User',\n",
       "  'site_admin': False},\n",
       " 'html_url': 'https://github.com/AntonioLopga12/lab-api-scavenger-game',\n",
       " 'description': None,\n",
       " 'fork': True,\n",
       " 'url': 'https://api.github.com/repos/AntonioLopga12/lab-api-scavenger-game',\n",
       " 'forks_url': 'https://api.github.com/repos/AntonioLopga12/lab-api-scavenger-game/forks',\n",
       " 'keys_url': 'https://api.github.com/repos/AntonioLopga12/lab-api-scavenger-game/keys{/key_id}',\n",
       " 'collaborators_url': 'https://api.github.com/repos/AntonioLopga12/lab-api-scavenger-game/collaborators{/collaborator}',\n",
       " 'teams_url': 'https://api.github.com/repos/AntonioLopga12/lab-api-scavenger-game/teams',\n",
       " 'hooks_url': 'https://api.github.com/repos/AntonioLopga12/lab-api-scavenger-game/hooks',\n",
       " 'issue_events_url': 'https://api.github.com/repos/AntonioLopga12/lab-api-scavenger-game/issues/events{/number}',\n",
       " 'events_url': 'https://api.github.com/repos/AntonioLopga12/lab-api-scavenger-game/events',\n",
       " 'assignees_url': 'https://api.github.com/repos/AntonioLopga12/lab-api-scavenger-game/assignees{/user}',\n",
       " 'branches_url': 'https://api.github.com/repos/AntonioLopga12/lab-api-scavenger-game/branches{/branch}',\n",
       " 'tags_url': 'https://api.github.com/repos/AntonioLopga12/lab-api-scavenger-game/tags',\n",
       " 'blobs_url': 'https://api.github.com/repos/AntonioLopga12/lab-api-scavenger-game/git/blobs{/sha}',\n",
       " 'git_tags_url': 'https://api.github.com/repos/AntonioLopga12/lab-api-scavenger-game/git/tags{/sha}',\n",
       " 'git_refs_url': 'https://api.github.com/repos/AntonioLopga12/lab-api-scavenger-game/git/refs{/sha}',\n",
       " 'trees_url': 'https://api.github.com/repos/AntonioLopga12/lab-api-scavenger-game/git/trees{/sha}',\n",
       " 'statuses_url': 'https://api.github.com/repos/AntonioLopga12/lab-api-scavenger-game/statuses/{sha}',\n",
       " 'languages_url': 'https://api.github.com/repos/AntonioLopga12/lab-api-scavenger-game/languages',\n",
       " 'stargazers_url': 'https://api.github.com/repos/AntonioLopga12/lab-api-scavenger-game/stargazers',\n",
       " 'contributors_url': 'https://api.github.com/repos/AntonioLopga12/lab-api-scavenger-game/contributors',\n",
       " 'subscribers_url': 'https://api.github.com/repos/AntonioLopga12/lab-api-scavenger-game/subscribers',\n",
       " 'subscription_url': 'https://api.github.com/repos/AntonioLopga12/lab-api-scavenger-game/subscription',\n",
       " 'commits_url': 'https://api.github.com/repos/AntonioLopga12/lab-api-scavenger-game/commits{/sha}',\n",
       " 'git_commits_url': 'https://api.github.com/repos/AntonioLopga12/lab-api-scavenger-game/git/commits{/sha}',\n",
       " 'comments_url': 'https://api.github.com/repos/AntonioLopga12/lab-api-scavenger-game/comments{/number}',\n",
       " 'issue_comment_url': 'https://api.github.com/repos/AntonioLopga12/lab-api-scavenger-game/issues/comments{/number}',\n",
       " 'contents_url': 'https://api.github.com/repos/AntonioLopga12/lab-api-scavenger-game/contents/{+path}',\n",
       " 'compare_url': 'https://api.github.com/repos/AntonioLopga12/lab-api-scavenger-game/compare/{base}...{head}',\n",
       " 'merges_url': 'https://api.github.com/repos/AntonioLopga12/lab-api-scavenger-game/merges',\n",
       " 'archive_url': 'https://api.github.com/repos/AntonioLopga12/lab-api-scavenger-game/{archive_format}{/ref}',\n",
       " 'downloads_url': 'https://api.github.com/repos/AntonioLopga12/lab-api-scavenger-game/downloads',\n",
       " 'issues_url': 'https://api.github.com/repos/AntonioLopga12/lab-api-scavenger-game/issues{/number}',\n",
       " 'pulls_url': 'https://api.github.com/repos/AntonioLopga12/lab-api-scavenger-game/pulls{/number}',\n",
       " 'milestones_url': 'https://api.github.com/repos/AntonioLopga12/lab-api-scavenger-game/milestones{/number}',\n",
       " 'notifications_url': 'https://api.github.com/repos/AntonioLopga12/lab-api-scavenger-game/notifications{?since,all,participating}',\n",
       " 'labels_url': 'https://api.github.com/repos/AntonioLopga12/lab-api-scavenger-game/labels{/name}',\n",
       " 'releases_url': 'https://api.github.com/repos/AntonioLopga12/lab-api-scavenger-game/releases{/id}',\n",
       " 'deployments_url': 'https://api.github.com/repos/AntonioLopga12/lab-api-scavenger-game/deployments',\n",
       " 'created_at': '2022-01-27T15:30:35Z',\n",
       " 'updated_at': '2022-01-27T15:33:23Z',\n",
       " 'pushed_at': '2022-01-27T15:33:20Z',\n",
       " 'git_url': 'git://github.com/AntonioLopga12/lab-api-scavenger-game.git',\n",
       " 'ssh_url': 'git@github.com:AntonioLopga12/lab-api-scavenger-game.git',\n",
       " 'clone_url': 'https://github.com/AntonioLopga12/lab-api-scavenger-game.git',\n",
       " 'svn_url': 'https://github.com/AntonioLopga12/lab-api-scavenger-game',\n",
       " 'homepage': None,\n",
       " 'size': 91,\n",
       " 'stargazers_count': 0,\n",
       " 'watchers_count': 0,\n",
       " 'language': 'Jupyter Notebook',\n",
       " 'has_issues': False,\n",
       " 'has_projects': True,\n",
       " 'has_downloads': True,\n",
       " 'has_wiki': True,\n",
       " 'has_pages': False,\n",
       " 'forks_count': 0,\n",
       " 'mirror_url': None,\n",
       " 'archived': False,\n",
       " 'disabled': False,\n",
       " 'open_issues_count': 0,\n",
       " 'license': None,\n",
       " 'allow_forking': True,\n",
       " 'is_template': False,\n",
       " 'topics': [],\n",
       " 'visibility': 'public',\n",
       " 'forks': 0,\n",
       " 'open_issues': 0,\n",
       " 'watchers': 0,\n",
       " 'default_branch': 'main'}"
      ]
     },
     "execution_count": 36,
     "metadata": {},
     "output_type": "execute_result"
    }
   ],
   "source": [
    "res_git.json()[0]"
   ]
  }
 ],
 "metadata": {
  "kernelspec": {
   "display_name": "ironhack",
   "language": "python",
   "name": "ironhack"
  },
  "language_info": {
   "codemirror_mode": {
    "name": "ipython",
    "version": 3
   },
   "file_extension": ".py",
   "mimetype": "text/x-python",
   "name": "python",
   "nbconvert_exporter": "python",
   "pygments_lexer": "ipython3",
   "version": "3.8.5"
  },
  "toc": {
   "base_numbering": 1,
   "nav_menu": {},
   "number_sections": true,
   "sideBar": true,
   "skip_h1_title": true,
   "title_cell": "Table of Contents",
   "title_sidebar": "Contents",
   "toc_cell": false,
   "toc_position": {},
   "toc_section_display": true,
   "toc_window_display": false
  }
 },
 "nbformat": 4,
 "nbformat_minor": 2
}
