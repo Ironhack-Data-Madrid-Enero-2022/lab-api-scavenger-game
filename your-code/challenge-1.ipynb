{
 "cells": [
  {
   "cell_type": "code",
   "execution_count": 125,
   "metadata": {},
   "outputs": [],
   "source": [
    "import json\n",
    "import requests as req"
   ]
  },
  {
   "cell_type": "markdown",
   "metadata": {},
   "source": [
    "Only if you're using your environmental variable eith the `.env` file, import/install the following modules. Otherwise it is not necessary:\n",
    "\n",
    "https://pypi.org/project/python-dotenv/"
   ]
  },
  {
   "cell_type": "code",
   "execution_count": 2,
   "metadata": {},
   "outputs": [
    {
     "name": "stdout",
     "output_type": "stream",
     "text": [
      "Requirement already satisfied: python-dotenv in /home/pomilusky/anaconda3/lib/python3.8/site-packages (0.19.2)\r\n"
     ]
    }
   ],
   "source": [
    "! pip install python-dotenv"
   ]
  },
  {
   "cell_type": "code",
   "execution_count": 3,
   "metadata": {
    "scrolled": true
   },
   "outputs": [],
   "source": [
    "import os\n",
    "from dotenv import load_dotenv"
   ]
  },
  {
   "cell_type": "code",
   "execution_count": 4,
   "metadata": {},
   "outputs": [],
   "source": [
    "#pip install python-dotenv"
   ]
  },
  {
   "cell_type": "code",
   "execution_count": 5,
   "metadata": {},
   "outputs": [
    {
     "data": {
      "text/plain": [
       "True"
      ]
     },
     "execution_count": 5,
     "metadata": {},
     "output_type": "execute_result"
    }
   ],
   "source": [
    "load_dotenv()"
   ]
  },
  {
   "cell_type": "code",
   "execution_count": 6,
   "metadata": {},
   "outputs": [],
   "source": [
    "github = os.getenv(\"token\")"
   ]
  },
  {
   "cell_type": "markdown",
   "metadata": {},
   "source": [
    "# Challenge 1: Fork Languages\n",
    "\n",
    "You will find out how many programming languages are used among all the forks created from the main lab repo of your bootcamp. Assuming the main lab repo is ironhack-datalabs/datamad1020-rev, you will:\n",
    "\n",
    "1. Obtain the full list of forks created from the main lab repo via Github API.\n",
    "\n",
    "2. Loop the JSON response to find out the language attribute of each fork. Use an array to store the language attributes of each fork.\n",
    "\n",
    "Hint: Each language should appear only once in your array.\n",
    "\n",
    "3. Print the language array. It should be something like:\n",
    "\n",
    "[\"Python\", \"Jupyter Notebook\", \"HTML\"]\n"
   ]
  },
  {
   "cell_type": "markdown",
   "metadata": {},
   "source": [
    "**HINT:**: Create a list with every **language_url** you find in every fork "
   ]
  },
  {
   "cell_type": "markdown",
   "metadata": {},
   "source": [
    "⚠️ **Remember to limit your output before submission**."
   ]
  },
  {
   "cell_type": "code",
   "execution_count": 81,
   "metadata": {},
   "outputs": [],
   "source": [
    "# Primo encontramos todos los repos del usuario que estamos estudiando,\n",
    "URL ='https://api.github.com/users/Ironhack-Data-Madrid-Enero-2022/repos' # Con el endpoint ..+/repos nos salen todas\n",
    "token = open (\"../token.txt\").readlines()[0]"
   ]
  },
  {
   "cell_type": "code",
   "execution_count": 127,
   "metadata": {},
   "outputs": [],
   "source": [
    "params = {\"Authorization\": f\"token {token}\"}\n",
    "get_repos_list = req.get(URL, headers = params) # ahora que los tenemos los guardamos en una lista,\n",
    "lista_repos = [i['name'] for i in get_repos_list.json()]\n",
    "#print(lista_repos)"
   ]
  },
  {
   "cell_type": "code",
   "execution_count": 105,
   "metadata": {},
   "outputs": [],
   "source": [
    "# Vamos a crear una funcion que nos mire los lenguajes en todos los forks de cada lab,\n",
    "def finding_languages(lab_name, URL_BASE='https://api.github.com/repos/Ironhack-Data-Madrid-Enero-2022', par = params):\n",
    "    \"\"\" This function aims to detect all the languages used in the forks of a certain repo in git hub.\n",
    "    Inputs: all the inputs should be strings,\n",
    "    lab_name ----> Name of the repo we want to acces and study; URL_BASE ----------> Should have the following structure:\n",
    "    https://api.github.com/repos/USERNAME\n",
    "    par is the headers we need for authentification, it is not always necesary.\n",
    "    \"\"\"\n",
    "    URL = URL_BASE+f'/{lab_name}/forks' # Nos creamos el endpoint para acceder a todos los forks de cada lab\n",
    "    langs = req.get(URL, headers = par)\n",
    "    lang_list = list()\n",
    "    for fork in langs.json():\n",
    "        if fork['fork'] == True: # Será siempre cierto porque estamos en forks...\n",
    "            lang_list.append(fork['language']) # Añadimos el lenguaje usado en nuestra lista de languages, podriamos hacer un diccionario y añadir el usuario que lo usa, pero es innecesario para lo que necesitamos\n",
    "        \n",
    "    return set(lang_list) # Creamos un set para evitar valores repetidos\n",
    "# Vamos a comprobar que fuciona"
   ]
  },
  {
   "cell_type": "code",
   "execution_count": 126,
   "metadata": {},
   "outputs": [],
   "source": [
    "# Vamos a hacerlo pues para cada uno de los labs:\n",
    "resultado = dict() # Crearemos un diccionario vacio para almacenar la info\n",
    "for lab in lista_repos:\n",
    "    resultado[lab] = [i for i in finding_languages(lab) if i] # nos quitamos de enchima los None con la list coprehension\n",
    "resultado_lista =  list(set(j for a in resultado.values() for j in a))\n",
    "#print(resultado)"
   ]
  },
  {
   "cell_type": "code",
   "execution_count": 124,
   "metadata": {},
   "outputs": [
    {
     "data": {
      "text/plain": [
       "['Jupyter Notebook', 'Python']"
      ]
     },
     "execution_count": 124,
     "metadata": {},
     "output_type": "execute_result"
    }
   ],
   "source": [
    "# Ahora si queremos una lista como se pide en el enunciado,\n",
    "resultado_lista =  list(set(j for a in resultado.values() for j in a))\n",
    "resultado_lista"
   ]
  },
  {
   "cell_type": "code",
   "execution_count": null,
   "metadata": {},
   "outputs": [],
   "source": []
  }
 ],
 "metadata": {
  "kernelspec": {
   "display_name": "ironhack",
   "language": "python",
   "name": "ironhack"
  },
  "language_info": {
   "codemirror_mode": {
    "name": "ipython",
    "version": 3
   },
   "file_extension": ".py",
   "mimetype": "text/x-python",
   "name": "python",
   "nbconvert_exporter": "python",
   "pygments_lexer": "ipython3",
   "version": "3.8.5"
  },
  "toc": {
   "base_numbering": 1,
   "nav_menu": {},
   "number_sections": true,
   "sideBar": true,
   "skip_h1_title": true,
   "title_cell": "Table of Contents",
   "title_sidebar": "Contents",
   "toc_cell": false,
   "toc_position": {},
   "toc_section_display": true,
   "toc_window_display": false
  }
 },
 "nbformat": 4,
 "nbformat_minor": 2
}
