{
 "cells": [
  {
   "cell_type": "markdown",
   "id": "defensive-clock",
   "metadata": {},
   "source": [
    "# Challenge 3: Hidden Cold Joke\n",
    "\n",
    "Using Python, call Github API to find out the cold joke contained in the 24 secret files in the following repo:\n",
    "\n",
    "https://github.com/ironhack-datalabs/scavenger\n",
    "\n",
    "The filenames of the secret files contain .scavengerhunt and they are scattered in different directories of this repo. The secret files are named from .0001.scavengerhunt to .0024.scavengerhunt. They are scattered randomly throughout this repo. You need to search for these files by calling the Github API, not searching the local files on your computer.\n",
    "\n",
    "\n",
    "After you find out the secrete files:\n",
    "\n",
    "Sort the filenames ascendingly.\n",
    "\n",
    "Read the content of each secret files into an array of strings.\n",
    "\n",
    "Concatenate the strings in the array separating each two with a whitespace.\n",
    "\n",
    "Print out the joke."
   ]
  },
  {
   "cell_type": "markdown",
   "id": "universal-length",
   "metadata": {},
   "source": [
    "⚠️ **Remember to limit your output before submission**."
   ]
  },
  {
   "cell_type": "code",
   "execution_count": 9,
   "id": "toxic-trading",
   "metadata": {},
   "outputs": [],
   "source": [
    "import pandas as pd\n",
    "import json\n",
    "import requests as req"
   ]
  },
  {
   "cell_type": "code",
   "execution_count": 10,
   "id": "cb3fca96",
   "metadata": {},
   "outputs": [],
   "source": [
    "a=open(\"../.token.txt\", \"r\").read()"
   ]
  },
  {
   "cell_type": "code",
   "execution_count": 11,
   "id": "edc2a8c3",
   "metadata": {},
   "outputs": [],
   "source": [
    "auth=('IsabelGarcia11',a)"
   ]
  },
  {
   "cell_type": "code",
   "execution_count": 12,
   "id": "92b4999e",
   "metadata": {},
   "outputs": [],
   "source": [
    "import os\n",
    "from dotenv import load_dotenv"
   ]
  },
  {
   "cell_type": "code",
   "execution_count": 13,
   "id": "fae07d7f",
   "metadata": {},
   "outputs": [],
   "source": [
    "URL='https://api.github.com/'"
   ]
  },
  {
   "cell_type": "code",
   "execution_count": 16,
   "id": "6d415f5b",
   "metadata": {},
   "outputs": [],
   "source": [
    "user_repo=\"repos/ironhack-datalabs/scavenger\""
   ]
  },
  {
   "cell_type": "code",
   "execution_count": 58,
   "id": "64d42b46",
   "metadata": {},
   "outputs": [
    {
     "data": {
      "text/plain": [
       "<Response [200]>"
      ]
     },
     "execution_count": 58,
     "metadata": {},
     "output_type": "execute_result"
    }
   ],
   "source": [
    "web1=req.get(URL+user_repo,auth=auth)\n",
    "web1"
   ]
  },
  {
   "cell_type": "code",
   "execution_count": 59,
   "id": "5a7e369f",
   "metadata": {},
   "outputs": [],
   "source": [
    "#repository_url\": \"https://api.github.com/repos/{owner}/{repo}\", recordatorio"
   ]
  },
  {
   "cell_type": "code",
   "execution_count": 60,
   "id": "865f4b9a",
   "metadata": {},
   "outputs": [
    {
     "data": {
      "text/plain": [
       "'https://api.github.com/repos/ironhack-datalabs/scavenger/git/trees{/sha}'"
      ]
     },
     "execution_count": 60,
     "metadata": {},
     "output_type": "execute_result"
    }
   ],
   "source": [
    "web1_tress=web1.json()['trees_url']\n",
    "web1_tress"
   ]
  },
  {
   "cell_type": "code",
   "execution_count": 140,
   "id": "a3c80f04",
   "metadata": {},
   "outputs": [],
   "source": [
    "url1=\"https://api.github.com/repos/ironhack-datalabs/scavenger/git/trees/master?.recursive1\""
   ]
  },
  {
   "cell_type": "code",
   "execution_count": 141,
   "id": "833f0e96",
   "metadata": {},
   "outputs": [
    {
     "data": {
      "text/plain": [
       "{'sha': '9308ccc8a4c34c5e3a991ee815222a9691c32476',\n",
       " 'url': 'https://api.github.com/repos/ironhack-datalabs/scavenger/git/trees/9308ccc8a4c34c5e3a991ee815222a9691c32476',\n",
       " 'tree': [{'path': '.gitignore',\n",
       "   'mode': '100644',\n",
       "   'type': 'blob',\n",
       "   'sha': 'e43b0f988953ae3a84b00331d0ccf5f7d51cb3cf',\n",
       "   'size': 10,\n",
       "   'url': 'https://api.github.com/repos/ironhack-datalabs/scavenger/git/blobs/e43b0f988953ae3a84b00331d0ccf5f7d51cb3cf'},\n",
       "  {'path': '15024',\n",
       "   'mode': '040000',\n",
       "   'type': 'tree',\n",
       "   'sha': '2945e51c87ad5da893c954afcf092f06343bbb7d',\n",
       "   'url': 'https://api.github.com/repos/ironhack-datalabs/scavenger/git/trees/2945e51c87ad5da893c954afcf092f06343bbb7d'},\n",
       "  {'path': '15534',\n",
       "   'mode': '040000',\n",
       "   'type': 'tree',\n",
       "   'sha': '5af6f2a7287e4191f39e55693fc1e9c8918d1d3a',\n",
       "   'url': 'https://api.github.com/repos/ironhack-datalabs/scavenger/git/trees/5af6f2a7287e4191f39e55693fc1e9c8918d1d3a'},\n",
       "  {'path': '17020',\n",
       "   'mode': '040000',\n",
       "   'type': 'tree',\n",
       "   'sha': '9c49f920aa4d9433fa99a5824128f0e6b90ec5f2',\n",
       "   'url': 'https://api.github.com/repos/ironhack-datalabs/scavenger/git/trees/9c49f920aa4d9433fa99a5824128f0e6b90ec5f2'},\n",
       "  {'path': '30351',\n",
       "   'mode': '040000',\n",
       "   'type': 'tree',\n",
       "   'sha': 'c488d7f64088c852e22067d48fdc64ee3670f3ba',\n",
       "   'url': 'https://api.github.com/repos/ironhack-datalabs/scavenger/git/trees/c488d7f64088c852e22067d48fdc64ee3670f3ba'},\n",
       "  {'path': '40303',\n",
       "   'mode': '040000',\n",
       "   'type': 'tree',\n",
       "   'sha': '30193d9cf62b07bcbb6366513ff03596861f2d29',\n",
       "   'url': 'https://api.github.com/repos/ironhack-datalabs/scavenger/git/trees/30193d9cf62b07bcbb6366513ff03596861f2d29'},\n",
       "  {'path': '44639',\n",
       "   'mode': '040000',\n",
       "   'type': 'tree',\n",
       "   'sha': '22fc3d5c2db80822c351edb2248f3491c8ebda86',\n",
       "   'url': 'https://api.github.com/repos/ironhack-datalabs/scavenger/git/trees/22fc3d5c2db80822c351edb2248f3491c8ebda86'},\n",
       "  {'path': '45525',\n",
       "   'mode': '040000',\n",
       "   'type': 'tree',\n",
       "   'sha': '6a4a88cd9084110c8646c3cfd84dfe96b300a4a7',\n",
       "   'url': 'https://api.github.com/repos/ironhack-datalabs/scavenger/git/trees/6a4a88cd9084110c8646c3cfd84dfe96b300a4a7'},\n",
       "  {'path': '47222',\n",
       "   'mode': '040000',\n",
       "   'type': 'tree',\n",
       "   'sha': 'c7001604cdadc2fe7b82e0f6996690718cac6941',\n",
       "   'url': 'https://api.github.com/repos/ironhack-datalabs/scavenger/git/trees/c7001604cdadc2fe7b82e0f6996690718cac6941'},\n",
       "  {'path': '47830',\n",
       "   'mode': '040000',\n",
       "   'type': 'tree',\n",
       "   'sha': 'f84882ad7560fd2b8c6a0867bc707ce9009ef288',\n",
       "   'url': 'https://api.github.com/repos/ironhack-datalabs/scavenger/git/trees/f84882ad7560fd2b8c6a0867bc707ce9009ef288'},\n",
       "  {'path': '49418',\n",
       "   'mode': '040000',\n",
       "   'type': 'tree',\n",
       "   'sha': '46bc658c09589d9023246b00e848ce97d30d4989',\n",
       "   'url': 'https://api.github.com/repos/ironhack-datalabs/scavenger/git/trees/46bc658c09589d9023246b00e848ce97d30d4989'},\n",
       "  {'path': '50896',\n",
       "   'mode': '040000',\n",
       "   'type': 'tree',\n",
       "   'sha': 'e47a7a35a19f80694587330c57d94e28d3b4c054',\n",
       "   'url': 'https://api.github.com/repos/ironhack-datalabs/scavenger/git/trees/e47a7a35a19f80694587330c57d94e28d3b4c054'},\n",
       "  {'path': '55417',\n",
       "   'mode': '040000',\n",
       "   'type': 'tree',\n",
       "   'sha': '636fa555a2ee752759144a268fd860feb2b6fd2d',\n",
       "   'url': 'https://api.github.com/repos/ironhack-datalabs/scavenger/git/trees/636fa555a2ee752759144a268fd860feb2b6fd2d'},\n",
       "  {'path': '55685',\n",
       "   'mode': '040000',\n",
       "   'type': 'tree',\n",
       "   'sha': 'a00a8148a88287508a867616d7063786d3d5d4ff',\n",
       "   'url': 'https://api.github.com/repos/ironhack-datalabs/scavenger/git/trees/a00a8148a88287508a867616d7063786d3d5d4ff'},\n",
       "  {'path': '60224',\n",
       "   'mode': '040000',\n",
       "   'type': 'tree',\n",
       "   'sha': '28d70fba98bfacfaa5e5544b2eff6b61c9e8f57b',\n",
       "   'url': 'https://api.github.com/repos/ironhack-datalabs/scavenger/git/trees/28d70fba98bfacfaa5e5544b2eff6b61c9e8f57b'},\n",
       "  {'path': '64880',\n",
       "   'mode': '040000',\n",
       "   'type': 'tree',\n",
       "   'sha': '88b159d6f73378e6968bb35ccfd8e3ad0cc462d2',\n",
       "   'url': 'https://api.github.com/repos/ironhack-datalabs/scavenger/git/trees/88b159d6f73378e6968bb35ccfd8e3ad0cc462d2'},\n",
       "  {'path': '66032',\n",
       "   'mode': '040000',\n",
       "   'type': 'tree',\n",
       "   'sha': '0230fa6fa1ccf49ab976fbbfc9eb838094779785',\n",
       "   'url': 'https://api.github.com/repos/ironhack-datalabs/scavenger/git/trees/0230fa6fa1ccf49ab976fbbfc9eb838094779785'},\n",
       "  {'path': '68848',\n",
       "   'mode': '040000',\n",
       "   'type': 'tree',\n",
       "   'sha': 'ed2f90be6835e7e74c283aedba1942b788754d32',\n",
       "   'url': 'https://api.github.com/repos/ironhack-datalabs/scavenger/git/trees/ed2f90be6835e7e74c283aedba1942b788754d32'},\n",
       "  {'path': '70751',\n",
       "   'mode': '040000',\n",
       "   'type': 'tree',\n",
       "   'sha': 'a5d9391003b67cecf3c336398ec38cfa75a689b7',\n",
       "   'url': 'https://api.github.com/repos/ironhack-datalabs/scavenger/git/trees/a5d9391003b67cecf3c336398ec38cfa75a689b7'},\n",
       "  {'path': '70985',\n",
       "   'mode': '040000',\n",
       "   'type': 'tree',\n",
       "   'sha': 'd1a654c5811f52ec8a101652b0a04367644eab99',\n",
       "   'url': 'https://api.github.com/repos/ironhack-datalabs/scavenger/git/trees/d1a654c5811f52ec8a101652b0a04367644eab99'},\n",
       "  {'path': '88596',\n",
       "   'mode': '040000',\n",
       "   'type': 'tree',\n",
       "   'sha': 'f294d2a0e55a4bab12625a7f709b44450a5e4648',\n",
       "   'url': 'https://api.github.com/repos/ironhack-datalabs/scavenger/git/trees/f294d2a0e55a4bab12625a7f709b44450a5e4648'},\n",
       "  {'path': '89046',\n",
       "   'mode': '040000',\n",
       "   'type': 'tree',\n",
       "   'sha': '5f3ef5f14cf72bbe03a24b69777ba02f19a3adb5',\n",
       "   'url': 'https://api.github.com/repos/ironhack-datalabs/scavenger/git/trees/5f3ef5f14cf72bbe03a24b69777ba02f19a3adb5'},\n",
       "  {'path': '89338',\n",
       "   'mode': '040000',\n",
       "   'type': 'tree',\n",
       "   'sha': '79c94a4032a927b2af52cc6da4ce27eb2abbf55e',\n",
       "   'url': 'https://api.github.com/repos/ironhack-datalabs/scavenger/git/trees/79c94a4032a927b2af52cc6da4ce27eb2abbf55e'},\n",
       "  {'path': '91701',\n",
       "   'mode': '040000',\n",
       "   'type': 'tree',\n",
       "   'sha': '0ad19115f0b56c3cd10cb7e077140c201b527301',\n",
       "   'url': 'https://api.github.com/repos/ironhack-datalabs/scavenger/git/trees/0ad19115f0b56c3cd10cb7e077140c201b527301'},\n",
       "  {'path': '97881',\n",
       "   'mode': '040000',\n",
       "   'type': 'tree',\n",
       "   'sha': 'c369c43c17ec44cc3e66dd27f8e557f9d15d40f4',\n",
       "   'url': 'https://api.github.com/repos/ironhack-datalabs/scavenger/git/trees/c369c43c17ec44cc3e66dd27f8e557f9d15d40f4'},\n",
       "  {'path': '98750',\n",
       "   'mode': '040000',\n",
       "   'type': 'tree',\n",
       "   'sha': 'cdc23915e0a5179127458431986ba3750840a924',\n",
       "   'url': 'https://api.github.com/repos/ironhack-datalabs/scavenger/git/trees/cdc23915e0a5179127458431986ba3750840a924'}],\n",
       " 'truncated': False}"
      ]
     },
     "execution_count": 141,
     "metadata": {},
     "output_type": "execute_result"
    }
   ],
   "source": [
    "web2=req.get(url1,auth=auth)\n",
    "web2.json()"
   ]
  },
  {
   "cell_type": "code",
   "execution_count": 142,
   "id": "78f64eb5",
   "metadata": {},
   "outputs": [],
   "source": [
    "solucion=web2.json()['tree']"
   ]
  },
  {
   "cell_type": "code",
   "execution_count": 146,
   "id": "static-stopping",
   "metadata": {},
   "outputs": [
    {
     "data": {
      "text/html": [
       "<div>\n",
       "<style scoped>\n",
       "    .dataframe tbody tr th:only-of-type {\n",
       "        vertical-align: middle;\n",
       "    }\n",
       "\n",
       "    .dataframe tbody tr th {\n",
       "        vertical-align: top;\n",
       "    }\n",
       "\n",
       "    .dataframe thead th {\n",
       "        text-align: right;\n",
       "    }\n",
       "</style>\n",
       "<table border=\"1\" class=\"dataframe\">\n",
       "  <thead>\n",
       "    <tr style=\"text-align: right;\">\n",
       "      <th></th>\n",
       "      <th>path</th>\n",
       "      <th>mode</th>\n",
       "      <th>type</th>\n",
       "      <th>sha</th>\n",
       "      <th>size</th>\n",
       "      <th>url</th>\n",
       "    </tr>\n",
       "  </thead>\n",
       "  <tbody>\n",
       "    <tr>\n",
       "      <th>0</th>\n",
       "      <td>.gitignore</td>\n",
       "      <td>100644</td>\n",
       "      <td>blob</td>\n",
       "      <td>e43b0f988953ae3a84b00331d0ccf5f7d51cb3cf</td>\n",
       "      <td>10.0</td>\n",
       "      <td>https://api.github.com/repos/ironhack-datalabs...</td>\n",
       "    </tr>\n",
       "    <tr>\n",
       "      <th>1</th>\n",
       "      <td>15024</td>\n",
       "      <td>040000</td>\n",
       "      <td>tree</td>\n",
       "      <td>2945e51c87ad5da893c954afcf092f06343bbb7d</td>\n",
       "      <td>NaN</td>\n",
       "      <td>https://api.github.com/repos/ironhack-datalabs...</td>\n",
       "    </tr>\n",
       "    <tr>\n",
       "      <th>2</th>\n",
       "      <td>15534</td>\n",
       "      <td>040000</td>\n",
       "      <td>tree</td>\n",
       "      <td>5af6f2a7287e4191f39e55693fc1e9c8918d1d3a</td>\n",
       "      <td>NaN</td>\n",
       "      <td>https://api.github.com/repos/ironhack-datalabs...</td>\n",
       "    </tr>\n",
       "    <tr>\n",
       "      <th>3</th>\n",
       "      <td>17020</td>\n",
       "      <td>040000</td>\n",
       "      <td>tree</td>\n",
       "      <td>9c49f920aa4d9433fa99a5824128f0e6b90ec5f2</td>\n",
       "      <td>NaN</td>\n",
       "      <td>https://api.github.com/repos/ironhack-datalabs...</td>\n",
       "    </tr>\n",
       "    <tr>\n",
       "      <th>4</th>\n",
       "      <td>30351</td>\n",
       "      <td>040000</td>\n",
       "      <td>tree</td>\n",
       "      <td>c488d7f64088c852e22067d48fdc64ee3670f3ba</td>\n",
       "      <td>NaN</td>\n",
       "      <td>https://api.github.com/repos/ironhack-datalabs...</td>\n",
       "    </tr>\n",
       "  </tbody>\n",
       "</table>\n",
       "</div>"
      ],
      "text/plain": [
       "         path    mode  type                                       sha  size  \\\n",
       "0  .gitignore  100644  blob  e43b0f988953ae3a84b00331d0ccf5f7d51cb3cf  10.0   \n",
       "1       15024  040000  tree  2945e51c87ad5da893c954afcf092f06343bbb7d   NaN   \n",
       "2       15534  040000  tree  5af6f2a7287e4191f39e55693fc1e9c8918d1d3a   NaN   \n",
       "3       17020  040000  tree  9c49f920aa4d9433fa99a5824128f0e6b90ec5f2   NaN   \n",
       "4       30351  040000  tree  c488d7f64088c852e22067d48fdc64ee3670f3ba   NaN   \n",
       "\n",
       "                                                 url  \n",
       "0  https://api.github.com/repos/ironhack-datalabs...  \n",
       "1  https://api.github.com/repos/ironhack-datalabs...  \n",
       "2  https://api.github.com/repos/ironhack-datalabs...  \n",
       "3  https://api.github.com/repos/ironhack-datalabs...  \n",
       "4  https://api.github.com/repos/ironhack-datalabs...  "
      ]
     },
     "execution_count": 146,
     "metadata": {},
     "output_type": "execute_result"
    }
   ],
   "source": [
    "data=pd.DataFrame(solucion)\n",
    "data.head()"
   ]
  },
  {
   "cell_type": "code",
   "execution_count": 147,
   "id": "d54b23bf",
   "metadata": {},
   "outputs": [
    {
     "name": "stdout",
     "output_type": "stream",
     "text": [
      "['30351', '44639', '89338', '47830', '97881', '68848', '17020', '15024', '70751', '.gitignore', '98750', '50896', '88596', '47222', '45525', '91701', '55417', '66032', '89046', '70985', '15534', '40303', '49418', '64880', '55685', '60224']\n"
     ]
    }
   ],
   "source": [
    "lista_path=data[\"path\"]\n",
    "seta=set(lista_path)\n",
    "seta_lista=list(seta)\n",
    "print(seta_lista)"
   ]
  },
  {
   "cell_type": "code",
   "execution_count": 148,
   "id": "68fc799c",
   "metadata": {},
   "outputs": [
    {
     "data": {
      "text/plain": [
       "26"
      ]
     },
     "execution_count": 148,
     "metadata": {},
     "output_type": "execute_result"
    }
   ],
   "source": [
    "len(seta_lista) \n",
    "#he creado una lista de los path para luego sacar los path que son las carpetas que luego contienen los secret files pero\n",
    "#no he conseguido leer el contenido"
   ]
  },
  {
   "cell_type": "code",
   "execution_count": null,
   "id": "7153ff52",
   "metadata": {},
   "outputs": [],
   "source": []
  }
 ],
 "metadata": {
  "kernelspec": {
   "display_name": "ironhack",
   "language": "python",
   "name": "ironhack"
  },
  "language_info": {
   "codemirror_mode": {
    "name": "ipython",
    "version": 3
   },
   "file_extension": ".py",
   "mimetype": "text/x-python",
   "name": "python",
   "nbconvert_exporter": "python",
   "pygments_lexer": "ipython3",
   "version": "3.8.5"
  },
  "toc": {
   "base_numbering": 1,
   "nav_menu": {},
   "number_sections": true,
   "sideBar": true,
   "skip_h1_title": true,
   "title_cell": "Table of Contents",
   "title_sidebar": "Contents",
   "toc_cell": false,
   "toc_position": {},
   "toc_section_display": true,
   "toc_window_display": true
  }
 },
 "nbformat": 4,
 "nbformat_minor": 5
}
