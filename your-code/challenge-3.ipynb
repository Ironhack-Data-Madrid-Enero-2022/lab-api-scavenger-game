{
 "cells": [
  {
   "cell_type": "markdown",
   "id": "defensive-clock",
   "metadata": {},
   "source": [
    "# Challenge 3: Hidden Cold Joke\n",
    "\n",
    "Using Python, call Github API to find out the cold joke contained in the 24 secret files in the following repo:\n",
    "\n",
    "https://github.com/ironhack-datalabs/scavenger\n",
    "\n",
    "The filenames of the secret files contain .scavengerhunt and they are scattered in different directories of this repo. The secret files are named from .0001.scavengerhunt to .0024.scavengerhunt. They are scattered randomly throughout this repo. You need to search for these files by calling the Github API, not searching the local files on your computer.\n",
    "\n",
    "\n",
    "After you find out the secrete files:\n",
    "\n",
    "Sort the filenames ascendingly.\n",
    "\n",
    "Read the content of each secret files into an array of strings.\n",
    "\n",
    "Concatenate the strings in the array separating each two with a whitespace.\n",
    "\n",
    "Print out the joke."
   ]
  },
  {
   "cell_type": "markdown",
   "id": "universal-length",
   "metadata": {},
   "source": [
    "⚠️ **Remember to limit your output before submission**."
   ]
  },
  {
   "cell_type": "code",
   "execution_count": 1,
   "id": "toxic-trading",
   "metadata": {},
   "outputs": [],
   "source": [
    "import json\n",
    "import requests as req"
   ]
  },
  {
   "cell_type": "code",
   "execution_count": 2,
   "id": "55677180",
   "metadata": {},
   "outputs": [],
   "source": [
    "username = 'mariozapatero'\n",
    "token = open('../token.txt').read()"
   ]
  },
  {
   "cell_type": "code",
   "execution_count": 19,
   "id": "3124c0fa",
   "metadata": {},
   "outputs": [],
   "source": [
    "URL='https://api.github.com/'\n",
    "SCA = 'repos/ironhack-datalabs/scavenger/contents'"
   ]
  },
  {
   "cell_type": "code",
   "execution_count": 20,
   "id": "static-stopping",
   "metadata": {},
   "outputs": [],
   "source": [
    "response = req.get(URL+SCA, auth=(username,token))"
   ]
  },
  {
   "cell_type": "code",
   "execution_count": 53,
   "id": "4bbbfc0b",
   "metadata": {},
   "outputs": [
    {
     "name": "stdout",
     "output_type": "stream",
     "text": [
      "['.gitignore', '15024', '15534', '17020', '30351', '40303', '44639', '45525', '47222', '47830', '49418', '50896', '55417', '55685', '60224', '64880', '66032', '68848', '70751', '70985', '88596', '89046', '89338', '91701', '97881', '98750']\n"
     ]
    }
   ],
   "source": [
    "archivos = []\n",
    "for e in response.json():\n",
    "    for x in e:\n",
    "        if x == 'name':\n",
    "            archivos.append(e[x])\n",
    "print(archivos)"
   ]
  },
  {
   "cell_type": "code",
   "execution_count": 55,
   "id": "719f3c84",
   "metadata": {},
   "outputs": [
    {
     "name": "stdout",
     "output_type": "stream",
     "text": [
      "['15534', '17020', '30351', '40303', '44639', '45525', '47222', '47830', '49418', '50896', '55417', '55685', '60224', '64880', '66032', '68848', '70751', '70985', '88596', '89046', '89338', '91701', '97881', '98750']\n"
     ]
    }
   ],
   "source": [
    "archivos.pop(0)\n",
    "print(archivos)"
   ]
  },
  {
   "cell_type": "code",
   "execution_count": 155,
   "id": "b31d048e",
   "metadata": {
    "scrolled": true
   },
   "outputs": [],
   "source": [
    "json_tocho = []\n",
    "\n",
    "for e in archivos:\n",
    "    folder = e\n",
    "    response2 = req.get(URL+SCA+folder, auth=(username,token))\n",
    "    json_tocho.append(response2.json())\n"
   ]
  },
  {
   "cell_type": "code",
   "execution_count": 98,
   "id": "4b60875b",
   "metadata": {},
   "outputs": [
    {
     "name": "stdout",
     "output_type": "stream",
     "text": [
      "['15534/.0008.scavengerhunt', '15534/.0012.scavengerhunt', '17020/.0007.scavengerhunt', '30351/.0021.scavengerhunt', '40303/.0022.scavengerhunt', '44639/.0005.scavengerhunt', '45525/.0018.scavengerhunt', '47222/.0016.scavengerhunt', '47222/.0024.scavengerhunt', '47830/.0010.scavengerhunt', '49418/.0014.scavengerhunt', '50896/.0011.scavengerhunt', '55417/.0023.scavengerhunt', '55685/.0020.scavengerhunt', '60224/.0003.scavengerhunt', '68848/.0004.scavengerhunt', '70751/.0019.scavengerhunt', '70985/.0017.scavengerhunt', '88596/.0002.scavengerhunt', '89338/.0013.scavengerhunt', '91701/.0015.scavengerhunt', '97881/.0009.scavengerhunt', '98750/.0001.scavengerhunt']\n"
     ]
    }
   ],
   "source": [
    "json_tocho_clean = []\n",
    "\n",
    "for e in json_tocho:\n",
    "    for x in e:\n",
    "        for e in x:\n",
    "            if e == 'path':\n",
    "                if \"hunt\" in str(x[e]):\n",
    "                    json_tocho_clean.append(x[e])\n",
    "\n",
    "print(json_tocho_clean)"
   ]
  },
  {
   "cell_type": "code",
   "execution_count": 128,
   "id": "78986761",
   "metadata": {
    "scrolled": true
   },
   "outputs": [
    {
     "name": "stdout",
     "output_type": "stream",
     "text": [
      "['98750/.0001.scavengerhunt', '88596/.0002.scavengerhunt', '60224/.0003.scavengerhunt', '68848/.0004.scavengerhunt', '44639/.0005.scavengerhunt', '17020/.0007.scavengerhunt', '15534/.0008.scavengerhunt', '97881/.0009.scavengerhunt', '47830/.0010.scavengerhunt', '50896/.0011.scavengerhunt', '15534/.0012.scavengerhunt', '89338/.0013.scavengerhunt', '49418/.0014.scavengerhunt', '91701/.0015.scavengerhunt', '47222/.0016.scavengerhunt', '70985/.0017.scavengerhunt', '45525/.0018.scavengerhunt', '70751/.0019.scavengerhunt', '55685/.0020.scavengerhunt', '30351/.0021.scavengerhunt', '40303/.0022.scavengerhunt', '55417/.0023.scavengerhunt', '47222/.0024.scavengerhunt']\n"
     ]
    }
   ],
   "source": [
    "listilla = sorted(json_tocho_clean,key=lambda x:x[8:])\n",
    "print(listilla)"
   ]
  },
  {
   "cell_type": "code",
   "execution_count": 149,
   "id": "6f7c4a92",
   "metadata": {},
   "outputs": [],
   "source": [
    "URL_2 ='https://raw.githubusercontent.com/ironhack-datalabs/scavenger/master/'"
   ]
  },
  {
   "cell_type": "code",
   "execution_count": 150,
   "id": "814a8274",
   "metadata": {},
   "outputs": [
    {
     "data": {
      "text/plain": [
       "'In\\ndata\\nscience,\\n80\\npercent\\ntime\\nspent\\nis\\npreparing\\ndata,\\n20\\npercent\\nof\\ntime\\nis\\nspent\\ncomplaining\\nabout\\nthe\\nneed\\nto\\nprepare\\ndata.\\n'"
      ]
     },
     "execution_count": 150,
     "metadata": {},
     "output_type": "execute_result"
    }
   ],
   "source": [
    "frase_secreta = \"\"\n",
    "\n",
    "for e in listilla:\n",
    "    frase_secreta+=req.get(URL_2+e, auth=(username,token)).text           \n",
    "frase_secreta"
   ]
  },
  {
   "cell_type": "code",
   "execution_count": 153,
   "id": "7c12147a",
   "metadata": {},
   "outputs": [
    {
     "name": "stdout",
     "output_type": "stream",
     "text": [
      "In data science, 80 percent time spent is preparing data, 20 percent of time is spent complaining about the need to prepare data. \n"
     ]
    }
   ],
   "source": [
    "frase_secreta = frase_secreta.replace(\"\\n\", \" \")\n",
    "print(frase_secreta)"
   ]
  }
 ],
 "metadata": {
  "kernelspec": {
   "display_name": "Python 3 (ipykernel)",
   "language": "python",
   "name": "python3"
  },
  "language_info": {
   "codemirror_mode": {
    "name": "ipython",
    "version": 3
   },
   "file_extension": ".py",
   "mimetype": "text/x-python",
   "name": "python",
   "nbconvert_exporter": "python",
   "pygments_lexer": "ipython3",
   "version": "3.9.7"
  },
  "toc": {
   "base_numbering": 1,
   "nav_menu": {},
   "number_sections": true,
   "sideBar": true,
   "skip_h1_title": true,
   "title_cell": "Table of Contents",
   "title_sidebar": "Contents",
   "toc_cell": false,
   "toc_position": {},
   "toc_section_display": true,
   "toc_window_display": true
  }
 },
 "nbformat": 4,
 "nbformat_minor": 5
}
