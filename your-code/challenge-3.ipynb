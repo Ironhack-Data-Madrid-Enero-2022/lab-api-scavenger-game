{
 "cells": [
  {
   "cell_type": "markdown",
   "id": "defensive-clock",
   "metadata": {},
   "source": [
    "# Challenge 3: Hidden Cold Joke\n",
    "\n",
    "Using Python, call Github API to find out the cold joke contained in the 24 secret files in the following repo:\n",
    "\n",
    "https://github.com/ironhack-datalabs/scavenger\n",
    "\n",
    "The filenames of the secret files contain .scavengerhunt and they are scattered in different directories of this repo. The secret files are named from .0001.scavengerhunt to .0024.scavengerhunt. They are scattered randomly throughout this repo. You need to search for these files by calling the Github API, not searching the local files on your computer.\n",
    "\n",
    "\n",
    "After you find out the secrete files:\n",
    "\n",
    "Sort the filenames ascendingly.\n",
    "\n",
    "Read the content of each secret files into an array of strings.\n",
    "\n",
    "Concatenate the strings in the array separating each two with a whitespace.\n",
    "\n",
    "Print out the joke."
   ]
  },
  {
   "cell_type": "markdown",
   "id": "universal-length",
   "metadata": {},
   "source": [
    "⚠️ **Remember to limit your output before submission**."
   ]
  },
  {
   "cell_type": "code",
   "execution_count": 1,
   "id": "6400012c",
   "metadata": {},
   "outputs": [],
   "source": [
    "import json\n",
    "import os\n",
    "import pandas as pd\n",
    "import requests as req"
   ]
  },
  {
   "cell_type": "code",
   "execution_count": 2,
   "id": "7a7f0e73",
   "metadata": {},
   "outputs": [],
   "source": [
    "URL='https://api.github.com/repos/ironhack-datalabs/scavenger'\n",
    "token = open('../token.txt').read()\n",
    "user = 'AntonioLopga12'"
   ]
  },
  {
   "cell_type": "code",
   "execution_count": 3,
   "id": "toxic-trading",
   "metadata": {
    "scrolled": false
   },
   "outputs": [],
   "source": [
    "# Your code\n",
    "challenge_3 = req.get(URL,auth=(user,token))"
   ]
  },
  {
   "cell_type": "code",
   "execution_count": 4,
   "id": "1a4a1741",
   "metadata": {},
   "outputs": [
    {
     "data": {
      "text/plain": [
       "'public'"
      ]
     },
     "execution_count": 4,
     "metadata": {},
     "output_type": "execute_result"
    }
   ],
   "source": [
    "challenge_3.json()[\"visibility\"]"
   ]
  },
  {
   "cell_type": "code",
   "execution_count": 5,
   "id": "b1813da9",
   "metadata": {},
   "outputs": [],
   "source": [
    "link_2 = 'https://api.github.com/repos/ironhack-datalabs/scavenger/contents/'"
   ]
  },
  {
   "cell_type": "code",
   "execution_count": 6,
   "id": "9f1af3ba",
   "metadata": {
    "scrolled": false
   },
   "outputs": [],
   "source": [
    "len(req.get(link_2,auth=(user,token)).json())\n",
    "list_folder=[]\n",
    "\n",
    "for i in range(26):\n",
    "    list_folder.append(req.get(link_2,auth=(user,token)).json()[i][\"name\"])\n"
   ]
  },
  {
   "cell_type": "code",
   "execution_count": 7,
   "id": "6dfa6e21",
   "metadata": {
    "scrolled": false
   },
   "outputs": [],
   "source": [
    "fol = []\n",
    "for i in range(1,len(req.get(link_2,auth=(user,token)).json())):\n",
    "    fol.append(req.get(link_2,auth=(user,token)).json()[i]['name'])\n"
   ]
  },
  {
   "cell_type": "code",
   "execution_count": 8,
   "id": "cdc27ec0",
   "metadata": {},
   "outputs": [],
   "source": [
    "fol_2 = []\n",
    "for i in fol:\n",
    "    fol_2.append(req.get(link_2 + i ,auth=(user,token)).json()[0]['url'])"
   ]
  },
  {
   "cell_type": "code",
   "execution_count": 9,
   "id": "37ddf5cf",
   "metadata": {},
   "outputs": [],
   "source": [
    "fol_3 = [] \n",
    "\n",
    "for d in fol_2:\n",
    "    if 'scavengerhunt' in d:\n",
    "        fol_3.append(req.get(d,auth=(user,token)).json()['download_url'])"
   ]
  },
  {
   "cell_type": "code",
   "execution_count": 10,
   "id": "5557bd31",
   "metadata": {},
   "outputs": [],
   "source": [
    "fol_4 = sorted(fol_3,key=lambda x:x[-18:-14])"
   ]
  },
  {
   "cell_type": "code",
   "execution_count": 11,
   "id": "856cff93",
   "metadata": {},
   "outputs": [],
   "source": [
    "final_fol = ''\n",
    "\n",
    "for d in fol_4:\n",
    "    final_fol+=req.get(d,auth=(user,token)).text"
   ]
  },
  {
   "cell_type": "code",
   "execution_count": 12,
   "id": "69874513",
   "metadata": {},
   "outputs": [],
   "source": [
    "frase = final_fol.replace('\\n',' ')"
   ]
  },
  {
   "cell_type": "code",
   "execution_count": 13,
   "id": "ef8bbce7",
   "metadata": {},
   "outputs": [
    {
     "data": {
      "text/plain": [
       "'In data science, 80 percent of time spent is preparing data, percent of time is spent complaining about the need to prepare '"
      ]
     },
     "execution_count": 13,
     "metadata": {},
     "output_type": "execute_result"
    }
   ],
   "source": [
    "frase"
   ]
  }
 ],
 "metadata": {
  "kernelspec": {
   "display_name": "ironhack",
   "language": "python",
   "name": "ironhack"
  },
  "language_info": {
   "codemirror_mode": {
    "name": "ipython",
    "version": 3
   },
   "file_extension": ".py",
   "mimetype": "text/x-python",
   "name": "python",
   "nbconvert_exporter": "python",
   "pygments_lexer": "ipython3",
   "version": "3.9.7"
  },
  "toc": {
   "base_numbering": 1,
   "nav_menu": {},
   "number_sections": true,
   "sideBar": true,
   "skip_h1_title": true,
   "title_cell": "Table of Contents",
   "title_sidebar": "Contents",
   "toc_cell": false,
   "toc_position": {},
   "toc_section_display": true,
   "toc_window_display": true
  }
 },
 "nbformat": 4,
 "nbformat_minor": 5
}
