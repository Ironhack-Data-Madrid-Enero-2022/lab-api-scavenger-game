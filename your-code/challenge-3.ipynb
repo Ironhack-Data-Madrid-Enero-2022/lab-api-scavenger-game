{
 "cells": [
  {
   "cell_type": "markdown",
   "id": "defensive-clock",
   "metadata": {},
   "source": [
    "# Challenge 3: Hidden Cold Joke\n",
    "\n",
    "Using Python, call Github API to find out the cold joke contained in the 24 secret files in the following repo:\n",
    "\n",
    "https://github.com/ironhack-datalabs/scavenger\n",
    "\n",
    "The filenames of the secret files contain .scavengerhunt and they are scattered in different directories of this repo. The secret files are named from .0001.scavengerhunt to .0024.scavengerhunt. They are scattered randomly throughout this repo. You need to search for these files by calling the Github API, not searching the local files on your computer.\n",
    "\n",
    "\n",
    "After you find out the secrete files:\n",
    "\n",
    "Sort the filenames ascendingly.\n",
    "\n",
    "Read the content of each secret files into an array of strings.\n",
    "\n",
    "Concatenate the strings in the array separating each two with a whitespace.\n",
    "\n",
    "Print out the joke."
   ]
  },
  {
   "cell_type": "markdown",
   "id": "universal-length",
   "metadata": {},
   "source": [
    "⚠️ **Remember to limit your output before submission**."
   ]
  },
  {
   "cell_type": "code",
   "execution_count": 1,
   "id": "toxic-trading",
   "metadata": {},
   "outputs": [],
   "source": [
    "import requests as req\n",
    "import base64 as b64\n",
    "import re\n",
    "URL='https://api.github.com/'"
   ]
  },
  {
   "cell_type": "code",
   "execution_count": 2,
   "id": "d447567c",
   "metadata": {},
   "outputs": [],
   "source": [
    "import os\n",
    "from dotenv import load_dotenv"
   ]
  },
  {
   "cell_type": "code",
   "execution_count": 3,
   "id": "9cca5faf",
   "metadata": {},
   "outputs": [
    {
     "ename": "FileNotFoundError",
     "evalue": "[Errno 2] No such file or directory: '../txt.txt'",
     "output_type": "error",
     "traceback": [
      "\u001b[0;31m---------------------------------------------------------------------------\u001b[0m",
      "\u001b[0;31mFileNotFoundError\u001b[0m                         Traceback (most recent call last)",
      "Input \u001b[0;32mIn [3]\u001b[0m, in \u001b[0;36m<module>\u001b[0;34m\u001b[0m\n\u001b[0;32m----> 1\u001b[0m clave \u001b[38;5;241m=\u001b[39m \u001b[38;5;28;43mopen\u001b[39;49m\u001b[43m(\u001b[49m\u001b[38;5;124;43m\"\u001b[39;49m\u001b[38;5;124;43m../txt.txt\u001b[39;49m\u001b[38;5;124;43m\"\u001b[39;49m\u001b[43m,\u001b[49m\u001b[38;5;124;43m\"\u001b[39;49m\u001b[38;5;124;43mr\u001b[39;49m\u001b[38;5;124;43m\"\u001b[39;49m\u001b[43m)\u001b[49m\n\u001b[1;32m      2\u001b[0m token \u001b[38;5;241m=\u001b[39m clave\u001b[38;5;241m.\u001b[39mread()\n\u001b[1;32m      3\u001b[0m username\u001b[38;5;241m=\u001b[39m\u001b[38;5;124m\"\u001b[39m\u001b[38;5;124mVictorPablo12\u001b[39m\u001b[38;5;124m\"\u001b[39m\n",
      "\u001b[0;31mFileNotFoundError\u001b[0m: [Errno 2] No such file or directory: '../txt.txt'"
     ]
    }
   ],
   "source": [
    "clave = open(\"../txt.txt\",\"r\")\n",
    "token = clave.read()\n",
    "username=\"VictorPablo12\""
   ]
  },
  {
   "cell_type": "code",
   "execution_count": 4,
   "id": "3d6d3219",
   "metadata": {},
   "outputs": [],
   "source": [
    "repo=\"repos/ironhack-datalabs/scavenger/contents\"\n",
    "\n",
    "#repo =\"repos/ironhack-datalabs/scavenger/contents/15024?ref=master\" ->penultimo level por el que hay que pasar\n",
    "# --> Esta es la ruta que contiene la key content que es la que quiero/15024/.0006.scavengerhunt\""
   ]
  },
  {
   "cell_type": "code",
   "execution_count": 5,
   "id": "95263aa1",
   "metadata": {},
   "outputs": [],
   "source": [
    "#repo = \"repos/ironhack-datalabs/scavenger/commits\""
   ]
  },
  {
   "cell_type": "code",
   "execution_count": 6,
   "id": "bb433b65",
   "metadata": {},
   "outputs": [],
   "source": [
    "#repo = \"repos/ironhack-datalabs/scavenger/git/commits/5af6f2a7287e4191f39e55693fc1e9c8918d1d3a\""
   ]
  },
  {
   "cell_type": "code",
   "execution_count": 7,
   "id": "27d3c691",
   "metadata": {},
   "outputs": [],
   "source": [
    "#repo = \"repos/ironhack-datalabs/scavenger/git/blobs/e43b0f988953ae3a84b00331d0ccf5f7d51cb3cf\""
   ]
  },
  {
   "cell_type": "code",
   "execution_count": 8,
   "id": "5ac9b247",
   "metadata": {},
   "outputs": [
    {
     "data": {
      "text/plain": [
       "<Response [200]>"
      ]
     },
     "execution_count": 8,
     "metadata": {},
     "output_type": "execute_result"
    }
   ],
   "source": [
    "res_git= req.get(URL+repo)\n",
    "res_git"
   ]
  },
  {
   "cell_type": "code",
   "execution_count": 9,
   "id": "1fb50e3b",
   "metadata": {},
   "outputs": [
    {
     "data": {
      "text/plain": [
       "{'name': '15024',\n",
       " 'path': '15024',\n",
       " 'sha': '2945e51c87ad5da893c954afcf092f06343bbb7d',\n",
       " 'size': 0,\n",
       " 'url': 'https://api.github.com/repos/ironhack-datalabs/scavenger/contents/15024?ref=master',\n",
       " 'html_url': 'https://github.com/ironhack-datalabs/scavenger/tree/master/15024',\n",
       " 'git_url': 'https://api.github.com/repos/ironhack-datalabs/scavenger/git/trees/2945e51c87ad5da893c954afcf092f06343bbb7d',\n",
       " 'download_url': None,\n",
       " 'type': 'dir',\n",
       " '_links': {'self': 'https://api.github.com/repos/ironhack-datalabs/scavenger/contents/15024?ref=master',\n",
       "  'git': 'https://api.github.com/repos/ironhack-datalabs/scavenger/git/trees/2945e51c87ad5da893c954afcf092f06343bbb7d',\n",
       "  'html': 'https://github.com/ironhack-datalabs/scavenger/tree/master/15024'}}"
      ]
     },
     "execution_count": 9,
     "metadata": {},
     "output_type": "execute_result"
    }
   ],
   "source": [
    "res_git.json()[1]"
   ]
  },
  {
   "cell_type": "code",
   "execution_count": 10,
   "id": "65e6a06e",
   "metadata": {},
   "outputs": [
    {
     "name": "stdout",
     "output_type": "stream",
     "text": [
      "['15024', '15534', '17020', '30351', '40303', '44639', '45525', '47222', '47830', '49418', '50896', '55417', '55685', '60224', '64880', '66032', '68848', '70751', '70985', '88596', '89046', '89338', '91701', '97881', '98750']\n"
     ]
    }
   ],
   "source": [
    "carpetas = []\n",
    "for a in range(len(res_git.json())):\n",
    "    carpetas.append(res_git.json()[a][\"name\"])\n",
    "    \n",
    "carpetas.pop(0)\n",
    "print(carpetas) #Ya sabemos las carpetas que vamos a mirar"
   ]
  },
  {
   "cell_type": "code",
   "execution_count": 31,
   "id": "40d7c399",
   "metadata": {},
   "outputs": [
    {
     "name": "stdout",
     "output_type": "stream",
     "text": [
      "['15024/.0006.scavengerhunt', '15024/40', '15024/74', '15024/99', '15534/.0008.scavengerhunt', '15534/.0012.scavengerhunt', '15534/2', '15534/98', '17020/.0007.scavengerhunt', '17020/46', '17020/97', '30351/.0021.scavengerhunt', '30351/22', '30351/96', '40303/.0022.scavengerhunt', '40303/51', '40303/65', '44639/.0005.scavengerhunt', '44639/76', '44639/91', '45525/.0018.scavengerhunt', '45525/67', '45525/90', '47222/.0016.scavengerhunt', '47222/.0024.scavengerhunt', '47222/7', '47222/89', '47830/.0010.scavengerhunt', '47830/66', '47830/85', '49418/.0014.scavengerhunt', '49418/30', '49418/38', '49418/84', '50896/.0011.scavengerhunt', '50896/4', '50896/83', '55417/.0023.scavengerhunt', '55417/14', '55417/82', '55685/.0020.scavengerhunt', '55685/5', '55685/81', '60224/.0003.scavengerhunt', '60224/1', '60224/80', '64880/3', '64880/57', '64880/79', '66032/28', '66032/47', '66032/77', '68848/.0004.scavengerhunt', '68848/16', '68848/75', '70751/.0019.scavengerhunt', '70751/18', '70751/44', '70751/68', '70985/.0017.scavengerhunt', '70985/11', '70985/59', '88596/.0002.scavengerhunt', '88596/12', '88596/32', '88596/55', '89046/64', '89046/70', '89046/73', '89338/.0013.scavengerhunt', '89338/35', '89338/43', '89338/8', '91701/.0015.scavengerhunt', '91701/33', '91701/39', '97881/.0009.scavengerhunt', '97881/26', '97881/36', '97881/71', '98750/.0001.scavengerhunt', '98750/20', '98750/62']\n"
     ]
    }
   ],
   "source": [
    "REF =\"?ref=master\"\n",
    "ends=[]\n",
    "ficheros = []\n",
    "for element in carpetas:\n",
    "    res_git= req.get(f\"{URL}{repo}/{element}{REF}\",auth=(username,token))\n",
    "    for x in range(len(res_git.json())):\n",
    "        #print(res_git)\n",
    "        ficheros.append(element)\n",
    "        ends.append(f\"{element}/{res_git.json()[x]['name']}\") #o Hago esto todo a la vez o no se que direcciones me ha dado que fichero\n",
    "print(ends)"
   ]
  },
  {
   "cell_type": "code",
   "execution_count": 39,
   "id": "5e5e39d6",
   "metadata": {},
   "outputs": [
    {
     "name": "stdout",
     "output_type": "stream",
     "text": [
      "['15024/.0006.scavengerhunt', '15534/.0008.scavengerhunt', '15534/.0012.scavengerhunt', '17020/.0007.scavengerhunt', '30351/.0021.scavengerhunt', '40303/.0022.scavengerhunt', '44639/.0005.scavengerhunt', '45525/.0018.scavengerhunt', '47222/.0016.scavengerhunt', '47222/.0024.scavengerhunt', '47830/.0010.scavengerhunt', '49418/.0014.scavengerhunt', '50896/.0011.scavengerhunt', '55417/.0023.scavengerhunt', '55685/.0020.scavengerhunt', '60224/.0003.scavengerhunt', '68848/.0004.scavengerhunt', '70751/.0019.scavengerhunt', '70985/.0017.scavengerhunt', '88596/.0002.scavengerhunt', '89338/.0013.scavengerhunt', '91701/.0015.scavengerhunt', '97881/.0009.scavengerhunt', '98750/.0001.scavengerhunt']\n"
     ]
    },
    {
     "data": {
      "text/plain": [
       "24"
      ]
     },
     "execution_count": 39,
     "metadata": {},
     "output_type": "execute_result"
    }
   ],
   "source": [
    "for element in ends:\n",
    "    if len(element) < 12:\n",
    "        ends.remove(element)\n",
    "print(ends)\n",
    "len(ends)#No se porque narices aplica esto pegando saltos"
   ]
  },
  {
   "cell_type": "code",
   "execution_count": 124,
   "id": "1589d2cd",
   "metadata": {},
   "outputs": [
    {
     "data": {
      "text/plain": [
       "list"
      ]
     },
     "execution_count": 124,
     "metadata": {},
     "output_type": "execute_result"
    }
   ],
   "source": [
    "type(ends)"
   ]
  },
  {
   "cell_type": "code",
   "execution_count": 78,
   "id": "dac8eb1a",
   "metadata": {},
   "outputs": [
    {
     "name": "stdout",
     "output_type": "stream",
     "text": [
      "['98750/.0001.scavengerhunt', '88596/.0002.scavengerhunt', '60224/.0003.scavengerhunt', '68848/.0004.scavengerhunt', '44639/.0005.scavengerhunt', '15024/.0006.scavengerhunt', '17020/.0007.scavengerhunt', '15534/.0008.scavengerhunt', '97881/.0009.scavengerhunt', '47830/.0010.scavengerhunt', '50896/.0011.scavengerhunt', '15534/.0012.scavengerhunt', '89338/.0013.scavengerhunt', '49418/.0014.scavengerhunt', '91701/.0015.scavengerhunt', '47222/.0016.scavengerhunt', '70985/.0017.scavengerhunt', '45525/.0018.scavengerhunt', '70751/.0019.scavengerhunt', '55685/.0020.scavengerhunt', '30351/.0021.scavengerhunt', '40303/.0022.scavengerhunt', '55417/.0023.scavengerhunt', '47222/.0024.scavengerhunt']\n"
     ]
    }
   ],
   "source": [
    "c = [23,19,15,16,6,0,3,1,22,10,12,2,20,11,21,8,18,7,17,14,4,5,13,9]\n",
    "ordenadas = []\n",
    "len(c)\n",
    "for element in c:\n",
    "    ordenadas.append(ends[element])\n",
    "print(ordenadas) #ordenadmos la lista que tenemos para que quede primer elemento de la lista *0001, segundo *0002...."
   ]
  },
  {
   "cell_type": "code",
   "execution_count": 123,
   "id": "d1dab6c1",
   "metadata": {},
   "outputs": [
    {
     "name": "stdout",
     "output_type": "stream",
     "text": [
      "[b'In\\n', b'data\\n', b'science,\\n', b'80\\n', b'percent\\n', b'of\\n', b'time\\n', b'spent\\n', b'is\\n', b'preparing\\n', b'data,\\n', b'20\\n', b'percent\\n', b'of\\n', b'time\\n', b'is\\n', b'spent\\n', b'complaining\\n', b'about\\n', b'the\\n', b'need\\n', b'to\\n', b'prepare\\n', b'data.\\n']\n"
     ]
    }
   ],
   "source": [
    "mensaje=[]\n",
    "for x in ordenadas:\n",
    "    res_git=req.get(f\"{URL}{repo}/{x}\",auth=(username,token))  #print(res_git.json()[\"content\"]) #print(f\"{URL}{repo}/{x}\")\n",
    "    mensaje.append(b64.b64decode(res_git.json()[\"content\"]))     \n",
    "print(mensaje)    \n",
    "    "
   ]
  },
  {
   "cell_type": "code",
   "execution_count": null,
   "id": "ef584d80",
   "metadata": {},
   "outputs": [],
   "source": []
  },
  {
   "cell_type": "code",
   "execution_count": 125,
   "id": "ca075462",
   "metadata": {},
   "outputs": [
    {
     "data": {
      "text/plain": [
       "\"[b'In\\\\n', b'data\\\\n', b'science,\\\\n', b'80\\\\n', b'percent\\\\n', b'of\\\\n', b'time\\\\n', b'spent\\\\n', b'is\\\\n', b'preparing\\\\n', b'data,\\\\n', b'20\\\\n', b'percent\\\\n', b'of\\\\n', b'time\\\\n', b'is\\\\n', b'spent\\\\n', b'complaining\\\\n', b'about\\\\n', b'the\\\\n', b'need\\\\n', b'to\\\\n', b'prepare\\\\n', b'data.\\\\n']\""
      ]
     },
     "execution_count": 125,
     "metadata": {},
     "output_type": "execute_result"
    }
   ],
   "source": [
    "str(mensaje)"
   ]
  },
  {
   "cell_type": "code",
   "execution_count": 126,
   "id": "865ba0d8",
   "metadata": {},
   "outputs": [
    {
     "data": {
      "text/plain": [
       "\"[b'In\\\\n', b'data\\\\n', b'science,\\\\n', b'80\\\\n', b'percent\\\\n', b'of\\\\n', b'time\\\\n', b'spent\\\\n', b'is\\\\n', b'preparing\\\\n', b'data,\\\\n', b'20\\\\n', b'percent\\\\n', b'of\\\\n', b'time\\\\n', b'is\\\\n', b'spent\\\\n', b'complaining\\\\n', b'about\\\\n', b'the\\\\n', b'need\\\\n', b'to\\\\n', b'prepare\\\\n', b'data.\\\\n']\""
      ]
     },
     "execution_count": 126,
     "metadata": {},
     "output_type": "execute_result"
    }
   ],
   "source": [
    "str(mensaje).rstrip(\"\\n\").lstrip(\"\\n\")"
   ]
  },
  {
   "cell_type": "code",
   "execution_count": 127,
   "id": "48015c5a",
   "metadata": {},
   "outputs": [
    {
     "data": {
      "text/plain": [
       "bytes"
      ]
     },
     "execution_count": 127,
     "metadata": {},
     "output_type": "execute_result"
    }
   ],
   "source": [
    "type(mensaje[1])"
   ]
  },
  {
   "cell_type": "code",
   "execution_count": 116,
   "id": "c8f05144",
   "metadata": {},
   "outputs": [
    {
     "data": {
      "text/plain": [
       "[\"[b'In\\\\n',\",\n",
       " \"b'data\\\\n',\",\n",
       " \"b'science,\\\\n',\",\n",
       " \"b'80\\\\n',\",\n",
       " \"b'percent\\\\n',\",\n",
       " \"b'of\\\\n',\",\n",
       " \"b'time\\\\n',\",\n",
       " \"b'spent\\\\n',\",\n",
       " \"b'is\\\\n',\",\n",
       " \"b'preparing\\\\n',\",\n",
       " \"b'data,\\\\n',\",\n",
       " \"b'20\\\\n',\",\n",
       " \"b'percent\\\\n',\",\n",
       " \"b'of\\\\n',\",\n",
       " \"b'time\\\\n',\",\n",
       " \"b'is\\\\n',\",\n",
       " \"b'spent\\\\n',\",\n",
       " \"b'complaining\\\\n',\",\n",
       " \"b'about\\\\n',\",\n",
       " \"b'the\\\\n',\",\n",
       " \"b'need\\\\n',\",\n",
       " \"b'to\\\\n',\",\n",
       " \"b'prepare\\\\n',\",\n",
       " \"b'data.\\\\n']\"]"
      ]
     },
     "execution_count": 116,
     "metadata": {},
     "output_type": "execute_result"
    }
   ],
   "source": [
    "#str(mensaje).split()"
   ]
  },
  {
   "cell_type": "code",
   "execution_count": 103,
   "id": "ce30acb0",
   "metadata": {},
   "outputs": [
    {
     "ename": "AttributeError",
     "evalue": "'list' object has no attribute 'rstrip'",
     "output_type": "error",
     "traceback": [
      "\u001b[0;31m---------------------------------------------------------------------------\u001b[0m",
      "\u001b[0;31mAttributeError\u001b[0m                            Traceback (most recent call last)",
      "Input \u001b[0;32mIn [103]\u001b[0m, in \u001b[0;36m<module>\u001b[0;34m\u001b[0m\n\u001b[0;32m----> 1\u001b[0m \u001b[43mmensaje\u001b[49m\u001b[38;5;241;43m.\u001b[39;49m\u001b[43mrstrip\u001b[49m(\u001b[38;5;124m'\u001b[39m\u001b[38;5;124mb\u001b[39m\u001b[38;5;124m'\u001b[39m)\n",
      "\u001b[0;31mAttributeError\u001b[0m: 'list' object has no attribute 'rstrip'"
     ]
    }
   ],
   "source": [
    "mensaje.rstrip('b')"
   ]
  },
  {
   "cell_type": "code",
   "execution_count": null,
   "id": "0ea410e6",
   "metadata": {},
   "outputs": [],
   "source": []
  },
  {
   "cell_type": "code",
   "execution_count": 117,
   "id": "e249a558",
   "metadata": {},
   "outputs": [
    {
     "data": {
      "text/plain": [
       "<Response [404]>"
      ]
     },
     "execution_count": 117,
     "metadata": {},
     "output_type": "execute_result"
    }
   ],
   "source": [
    "res_git = req.get(\"https://api.github.com/repos/ironhack-datalabs/scavenger/15024/.0006.scavengerhunt\",auth=(username,token))\n",
    "res_git\n",
    "#mensaje.append(b64.b64decode(res_git.json()[\"content\"]))"
   ]
  },
  {
   "cell_type": "code",
   "execution_count": 118,
   "id": "ece95eab",
   "metadata": {},
   "outputs": [
    {
     "name": "stdout",
     "output_type": "stream",
     "text": [
      "b'time\\n'\n"
     ]
    }
   ],
   "source": [
    "decode = b64.b64decode('dGltZQo=\\n')\n",
    "print(decode) #Tiene pinta de que es esto, suPM"
   ]
  },
  {
   "cell_type": "code",
   "execution_count": 119,
   "id": "static-stopping",
   "metadata": {},
   "outputs": [],
   "source": [
    "#list((res_git.json()))"
   ]
  },
  {
   "cell_type": "code",
   "execution_count": null,
   "id": "2dad0586",
   "metadata": {},
   "outputs": [],
   "source": [
    "https://api.github.com/repos/ironhack-datalabs/scavenger/git/blobs # aqui detras veo que añade el SHA de cada elemento"
   ]
  },
  {
   "cell_type": "code",
   "execution_count": null,
   "id": "2ce8618c",
   "metadata": {},
   "outputs": [],
   "source": []
  }
 ],
 "metadata": {
  "kernelspec": {
   "display_name": "ironhack",
   "language": "python",
   "name": "ironhack"
  },
  "language_info": {
   "codemirror_mode": {
    "name": "ipython",
    "version": 3
   },
   "file_extension": ".py",
   "mimetype": "text/x-python",
   "name": "python",
   "nbconvert_exporter": "python",
   "pygments_lexer": "ipython3",
   "version": "3.8.10"
  },
  "toc": {
   "base_numbering": 1,
   "nav_menu": {},
   "number_sections": true,
   "sideBar": true,
   "skip_h1_title": true,
   "title_cell": "Table of Contents",
   "title_sidebar": "Contents",
   "toc_cell": false,
   "toc_position": {},
   "toc_section_display": true,
   "toc_window_display": true
  }
 },
 "nbformat": 4,
 "nbformat_minor": 5
}
