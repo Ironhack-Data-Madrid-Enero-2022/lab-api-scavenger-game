{
 "cells": [
  {
   "cell_type": "markdown",
   "id": "defensive-clock",
   "metadata": {},
   "source": [
    "# Challenge 3: Hidden Cold Joke\n",
    "\n",
    "Using Python, call Github API to find out the cold joke contained in the 24 secret files in the following repo:\n",
    "\n",
    "https://github.com/ironhack-datalabs/scavenger\n",
    "\n",
    "The filenames of the secret files contain .scavengerhunt and they are scattered in different directories of this repo. The secret files are named from .0001.scavengerhunt to .0024.scavengerhunt. They are scattered randomly throughout this repo. You need to search for these files by calling the Github API, not searching the local files on your computer.\n",
    "\n",
    "\n",
    "After you find out the secrete files:\n",
    "\n",
    "Sort the filenames ascendingly.\n",
    "\n",
    "Read the content of each secret files into an array of strings.\n",
    "\n",
    "Concatenate the strings in the array separating each two with a whitespace.\n",
    "\n",
    "Print out the joke."
   ]
  },
  {
   "cell_type": "markdown",
   "id": "universal-length",
   "metadata": {},
   "source": [
    "⚠️ **Remember to limit your output before submission**."
   ]
  },
  {
   "cell_type": "code",
   "execution_count": 54,
   "id": "495c3f8e",
   "metadata": {},
   "outputs": [],
   "source": [
    "# First things first, let's import all the libraries we might need,\n",
    "import json\n",
    "import requests as req\n",
    "import base64"
   ]
  },
  {
   "cell_type": "code",
   "execution_count": 178,
   "id": "toxic-trading",
   "metadata": {},
   "outputs": [
    {
     "data": {
      "text/plain": [
       "'In data science, 80 percent of time spent is preparing data, 20 percent of time is spent complaining about the need to prepare '"
      ]
     },
     "execution_count": 178,
     "metadata": {},
     "output_type": "execute_result"
    }
   ],
   "source": [
    "def Read_files_in(url):\n",
    "    token = open (\"../token.txt\").readlines()[0]\n",
    "    params = {\"Authorization\": f\"token {token}\"} # This should enter as a parameter in a proper function, this is not a proper function\n",
    "    first_read = req.get(url, headers = params).json()\n",
    "    files_dict = dict()\n",
    "    message, message_dic = '' , dict()\n",
    "    for directory in first_read:\n",
    "        name = directory['name']\n",
    "        resposta = req.get(url+f'/{name}', headers = params).json()\n",
    "        if type(resposta) == list: # We access all the directories in the repo, only reading lists helps ignoring other files that might be in the repo, such as gitignore\n",
    "            file_names=[]\n",
    "            for file in resposta:\n",
    "                file_name =file['name']\n",
    "                if 'scavengerhunt' in file_name: file_names.append(file_name)\n",
    "            \n",
    "            files_dict[name] = file_names # Now we got all the files and where to find them\n",
    "\n",
    "    for key in files_dict.keys(): # now we access every file to read it and decode \n",
    "        list_items = files_dict[key]\n",
    "        for item in list_items:\n",
    "            resposta = req.get(url+ f'/{key}/{item}', headers = params).json() # getting the file\n",
    "            content = base64.b64decode(resposta['content']) # Decoding it\n",
    "            message_dic[int(item[1:5])] = content.decode('utf-8') # We store the extracted data into a dictonary with the number in the file so we can sort them afterwards\n",
    "    for i in range(min(message_dic.keys()), max(message_dic.keys())):\n",
    "        message += message_dic[i]\n",
    "    return message.replace('\\n', ' ')\n",
    "\n",
    "# Your code\n",
    "URL = 'https://api.github.com/repos/ironhack-datalabs/scavenger/contents'\n",
    "Read_files_in(URL)"
   ]
  },
  {
   "cell_type": "code",
   "execution_count": null,
   "id": "55dfcb55",
   "metadata": {},
   "outputs": [],
   "source": []
  }
 ],
 "metadata": {
  "kernelspec": {
   "display_name": "Python 3",
   "language": "python",
   "name": "python3"
  },
  "language_info": {
   "codemirror_mode": {
    "name": "ipython",
    "version": 3
   },
   "file_extension": ".py",
   "mimetype": "text/x-python",
   "name": "python",
   "nbconvert_exporter": "python",
   "pygments_lexer": "ipython3",
   "version": "3.8.12"
  },
  "toc": {
   "base_numbering": 1,
   "nav_menu": {},
   "number_sections": true,
   "sideBar": true,
   "skip_h1_title": true,
   "title_cell": "Table of Contents",
   "title_sidebar": "Contents",
   "toc_cell": false,
   "toc_position": {},
   "toc_section_display": true,
   "toc_window_display": true
  }
 },
 "nbformat": 4,
 "nbformat_minor": 5
}
