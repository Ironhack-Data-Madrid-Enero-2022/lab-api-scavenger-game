{
 "cells": [
  {
   "cell_type": "markdown",
   "id": "defensive-clock",
   "metadata": {},
   "source": [
    "# Challenge 3: Hidden Cold Joke\n",
    "\n",
    "Using Python, call Github API to find out the cold joke contained in the 24 secret files in the following repo:\n",
    "\n",
    "https://github.com/ironhack-datalabs/scavenger\n",
    "\n",
    "The filenames of the secret files contain .scavengerhunt and they are scattered in different directories of this repo. The secret files are named from .0001.scavengerhunt to .0024.scavengerhunt. They are scattered randomly throughout this repo. You need to search for these files by calling the Github API, not searching the local files on your computer.\n",
    "\n",
    "\n",
    "After you find out the secrete files:\n",
    "\n",
    "Sort the filenames ascendingly.\n",
    "\n",
    "Read the content of each secret files into an array of strings.\n",
    "\n",
    "Concatenate the strings in the array separating each two with a whitespace.\n",
    "\n",
    "Print out the joke."
   ]
  },
  {
   "cell_type": "markdown",
   "id": "universal-length",
   "metadata": {},
   "source": [
    "⚠️ **Remember to limit your output before submission**."
   ]
  },
  {
   "cell_type": "code",
   "execution_count": 368,
   "id": "toxic-trading",
   "metadata": {},
   "outputs": [],
   "source": [
    "import pandas as pd\n",
    "import json\n",
    "import requests as req"
   ]
  },
  {
   "cell_type": "code",
   "execution_count": 369,
   "id": "7802f9ee",
   "metadata": {},
   "outputs": [],
   "source": [
    "a=open(\"../.token.txt\", \"r\").read()"
   ]
  },
  {
   "cell_type": "code",
   "execution_count": 370,
   "id": "9aec53ae",
   "metadata": {},
   "outputs": [],
   "source": [
    "auth=('IsabelGarcia11',a)"
   ]
  },
  {
   "cell_type": "code",
   "execution_count": 371,
   "id": "b14a944b",
   "metadata": {},
   "outputs": [],
   "source": [
    "import os\n",
    "from dotenv import load_dotenv"
   ]
  },
  {
   "cell_type": "code",
   "execution_count": 372,
   "id": "295c6d81",
   "metadata": {},
   "outputs": [],
   "source": [
    "URL='https://api.github.com/'"
   ]
  },
  {
   "cell_type": "code",
   "execution_count": 373,
   "id": "478e3690",
   "metadata": {},
   "outputs": [],
   "source": [
    "user_repo=\"repos/ironhack-datalabs/scavenger\""
   ]
  },
  {
   "cell_type": "code",
   "execution_count": 374,
   "id": "c0944963",
   "metadata": {},
   "outputs": [
    {
     "data": {
      "text/plain": [
       "{'id': 162375181,\n",
       " 'node_id': 'MDEwOlJlcG9zaXRvcnkxNjIzNzUxODE=',\n",
       " 'name': 'scavenger',\n",
       " 'full_name': 'ironhack-datalabs/scavenger',\n",
       " 'private': False,\n",
       " 'owner': {'login': 'ironhack-datalabs',\n",
       "  'id': 44225188,\n",
       "  'node_id': 'MDEyOk9yZ2FuaXphdGlvbjQ0MjI1MTg4',\n",
       "  'avatar_url': 'https://avatars.githubusercontent.com/u/44225188?v=4',\n",
       "  'gravatar_id': '',\n",
       "  'url': 'https://api.github.com/users/ironhack-datalabs',\n",
       "  'html_url': 'https://github.com/ironhack-datalabs',\n",
       "  'followers_url': 'https://api.github.com/users/ironhack-datalabs/followers',\n",
       "  'following_url': 'https://api.github.com/users/ironhack-datalabs/following{/other_user}',\n",
       "  'gists_url': 'https://api.github.com/users/ironhack-datalabs/gists{/gist_id}',\n",
       "  'starred_url': 'https://api.github.com/users/ironhack-datalabs/starred{/owner}{/repo}',\n",
       "  'subscriptions_url': 'https://api.github.com/users/ironhack-datalabs/subscriptions',\n",
       "  'organizations_url': 'https://api.github.com/users/ironhack-datalabs/orgs',\n",
       "  'repos_url': 'https://api.github.com/users/ironhack-datalabs/repos',\n",
       "  'events_url': 'https://api.github.com/users/ironhack-datalabs/events{/privacy}',\n",
       "  'received_events_url': 'https://api.github.com/users/ironhack-datalabs/received_events',\n",
       "  'type': 'Organization',\n",
       "  'site_admin': False},\n",
       " 'html_url': 'https://github.com/ironhack-datalabs/scavenger',\n",
       " 'description': None,\n",
       " 'fork': False,\n",
       " 'url': 'https://api.github.com/repos/ironhack-datalabs/scavenger',\n",
       " 'forks_url': 'https://api.github.com/repos/ironhack-datalabs/scavenger/forks',\n",
       " 'keys_url': 'https://api.github.com/repos/ironhack-datalabs/scavenger/keys{/key_id}',\n",
       " 'collaborators_url': 'https://api.github.com/repos/ironhack-datalabs/scavenger/collaborators{/collaborator}',\n",
       " 'teams_url': 'https://api.github.com/repos/ironhack-datalabs/scavenger/teams',\n",
       " 'hooks_url': 'https://api.github.com/repos/ironhack-datalabs/scavenger/hooks',\n",
       " 'issue_events_url': 'https://api.github.com/repos/ironhack-datalabs/scavenger/issues/events{/number}',\n",
       " 'events_url': 'https://api.github.com/repos/ironhack-datalabs/scavenger/events',\n",
       " 'assignees_url': 'https://api.github.com/repos/ironhack-datalabs/scavenger/assignees{/user}',\n",
       " 'branches_url': 'https://api.github.com/repos/ironhack-datalabs/scavenger/branches{/branch}',\n",
       " 'tags_url': 'https://api.github.com/repos/ironhack-datalabs/scavenger/tags',\n",
       " 'blobs_url': 'https://api.github.com/repos/ironhack-datalabs/scavenger/git/blobs{/sha}',\n",
       " 'git_tags_url': 'https://api.github.com/repos/ironhack-datalabs/scavenger/git/tags{/sha}',\n",
       " 'git_refs_url': 'https://api.github.com/repos/ironhack-datalabs/scavenger/git/refs{/sha}',\n",
       " 'trees_url': 'https://api.github.com/repos/ironhack-datalabs/scavenger/git/trees{/sha}',\n",
       " 'statuses_url': 'https://api.github.com/repos/ironhack-datalabs/scavenger/statuses/{sha}',\n",
       " 'languages_url': 'https://api.github.com/repos/ironhack-datalabs/scavenger/languages',\n",
       " 'stargazers_url': 'https://api.github.com/repos/ironhack-datalabs/scavenger/stargazers',\n",
       " 'contributors_url': 'https://api.github.com/repos/ironhack-datalabs/scavenger/contributors',\n",
       " 'subscribers_url': 'https://api.github.com/repos/ironhack-datalabs/scavenger/subscribers',\n",
       " 'subscription_url': 'https://api.github.com/repos/ironhack-datalabs/scavenger/subscription',\n",
       " 'commits_url': 'https://api.github.com/repos/ironhack-datalabs/scavenger/commits{/sha}',\n",
       " 'git_commits_url': 'https://api.github.com/repos/ironhack-datalabs/scavenger/git/commits{/sha}',\n",
       " 'comments_url': 'https://api.github.com/repos/ironhack-datalabs/scavenger/comments{/number}',\n",
       " 'issue_comment_url': 'https://api.github.com/repos/ironhack-datalabs/scavenger/issues/comments{/number}',\n",
       " 'contents_url': 'https://api.github.com/repos/ironhack-datalabs/scavenger/contents/{+path}',\n",
       " 'compare_url': 'https://api.github.com/repos/ironhack-datalabs/scavenger/compare/{base}...{head}',\n",
       " 'merges_url': 'https://api.github.com/repos/ironhack-datalabs/scavenger/merges',\n",
       " 'archive_url': 'https://api.github.com/repos/ironhack-datalabs/scavenger/{archive_format}{/ref}',\n",
       " 'downloads_url': 'https://api.github.com/repos/ironhack-datalabs/scavenger/downloads',\n",
       " 'issues_url': 'https://api.github.com/repos/ironhack-datalabs/scavenger/issues{/number}',\n",
       " 'pulls_url': 'https://api.github.com/repos/ironhack-datalabs/scavenger/pulls{/number}',\n",
       " 'milestones_url': 'https://api.github.com/repos/ironhack-datalabs/scavenger/milestones{/number}',\n",
       " 'notifications_url': 'https://api.github.com/repos/ironhack-datalabs/scavenger/notifications{?since,all,participating}',\n",
       " 'labels_url': 'https://api.github.com/repos/ironhack-datalabs/scavenger/labels{/name}',\n",
       " 'releases_url': 'https://api.github.com/repos/ironhack-datalabs/scavenger/releases{/id}',\n",
       " 'deployments_url': 'https://api.github.com/repos/ironhack-datalabs/scavenger/deployments',\n",
       " 'created_at': '2018-12-19T03:01:30Z',\n",
       " 'updated_at': '2018-12-19T03:05:09Z',\n",
       " 'pushed_at': '2018-12-19T03:05:07Z',\n",
       " 'git_url': 'git://github.com/ironhack-datalabs/scavenger.git',\n",
       " 'ssh_url': 'git@github.com:ironhack-datalabs/scavenger.git',\n",
       " 'clone_url': 'https://github.com/ironhack-datalabs/scavenger.git',\n",
       " 'svn_url': 'https://github.com/ironhack-datalabs/scavenger',\n",
       " 'homepage': None,\n",
       " 'size': 3,\n",
       " 'stargazers_count': 0,\n",
       " 'watchers_count': 0,\n",
       " 'language': None,\n",
       " 'has_issues': True,\n",
       " 'has_projects': True,\n",
       " 'has_downloads': True,\n",
       " 'has_wiki': True,\n",
       " 'has_pages': False,\n",
       " 'forks_count': 13,\n",
       " 'mirror_url': None,\n",
       " 'archived': False,\n",
       " 'disabled': False,\n",
       " 'open_issues_count': 0,\n",
       " 'license': None,\n",
       " 'allow_forking': True,\n",
       " 'is_template': False,\n",
       " 'topics': [],\n",
       " 'visibility': 'public',\n",
       " 'forks': 13,\n",
       " 'open_issues': 0,\n",
       " 'watchers': 0,\n",
       " 'default_branch': 'master',\n",
       " 'permissions': {'admin': False,\n",
       "  'maintain': False,\n",
       "  'push': False,\n",
       "  'triage': False,\n",
       "  'pull': True},\n",
       " 'temp_clone_token': '',\n",
       " 'organization': {'login': 'ironhack-datalabs',\n",
       "  'id': 44225188,\n",
       "  'node_id': 'MDEyOk9yZ2FuaXphdGlvbjQ0MjI1MTg4',\n",
       "  'avatar_url': 'https://avatars.githubusercontent.com/u/44225188?v=4',\n",
       "  'gravatar_id': '',\n",
       "  'url': 'https://api.github.com/users/ironhack-datalabs',\n",
       "  'html_url': 'https://github.com/ironhack-datalabs',\n",
       "  'followers_url': 'https://api.github.com/users/ironhack-datalabs/followers',\n",
       "  'following_url': 'https://api.github.com/users/ironhack-datalabs/following{/other_user}',\n",
       "  'gists_url': 'https://api.github.com/users/ironhack-datalabs/gists{/gist_id}',\n",
       "  'starred_url': 'https://api.github.com/users/ironhack-datalabs/starred{/owner}{/repo}',\n",
       "  'subscriptions_url': 'https://api.github.com/users/ironhack-datalabs/subscriptions',\n",
       "  'organizations_url': 'https://api.github.com/users/ironhack-datalabs/orgs',\n",
       "  'repos_url': 'https://api.github.com/users/ironhack-datalabs/repos',\n",
       "  'events_url': 'https://api.github.com/users/ironhack-datalabs/events{/privacy}',\n",
       "  'received_events_url': 'https://api.github.com/users/ironhack-datalabs/received_events',\n",
       "  'type': 'Organization',\n",
       "  'site_admin': False},\n",
       " 'network_count': 13,\n",
       " 'subscribers_count': 2}"
      ]
     },
     "execution_count": 374,
     "metadata": {},
     "output_type": "execute_result"
    }
   ],
   "source": [
    "web1=req.get(URL+user_repo,auth=auth)\n",
    "web1.json()"
   ]
  },
  {
   "cell_type": "code",
   "execution_count": 375,
   "id": "ae078e90",
   "metadata": {},
   "outputs": [],
   "source": [
    "#repository_url\": \"https://api.github.com/repos/{owner}/{repo}\", recordatorio"
   ]
  },
  {
   "cell_type": "code",
   "execution_count": 376,
   "id": "6be1c5d9",
   "metadata": {},
   "outputs": [
    {
     "data": {
      "text/plain": [
       "'https://api.github.com/repos/ironhack-datalabs/scavenger/git/trees{/sha}'"
      ]
     },
     "execution_count": 376,
     "metadata": {},
     "output_type": "execute_result"
    }
   ],
   "source": [
    "web1_tress=web1.json()['trees_url']\n",
    "web1_tress"
   ]
  },
  {
   "cell_type": "code",
   "execution_count": 377,
   "id": "c09a696b",
   "metadata": {},
   "outputs": [],
   "source": [
    "url1=\"https://api.github.com/repos/ironhack-datalabs/scavenger/git/trees/master?recursive=1\"\n",
    "#si añado recursive=1 al final, los path incluye más datos de la secret file"
   ]
  },
  {
   "cell_type": "code",
   "execution_count": 378,
   "id": "df020edf",
   "metadata": {},
   "outputs": [
    {
     "data": {
      "text/plain": [
       "<Response [200]>"
      ]
     },
     "execution_count": 378,
     "metadata": {},
     "output_type": "execute_result"
    }
   ],
   "source": [
    "web2=req.get(url1,auth=auth)\n",
    "web2"
   ]
  },
  {
   "cell_type": "code",
   "execution_count": 379,
   "id": "40b483a8",
   "metadata": {},
   "outputs": [],
   "source": [
    "solucion=web2.json()['tree']"
   ]
  },
  {
   "cell_type": "code",
   "execution_count": 380,
   "id": "static-stopping",
   "metadata": {},
   "outputs": [
    {
     "data": {
      "text/html": [
       "<div>\n",
       "<style scoped>\n",
       "    .dataframe tbody tr th:only-of-type {\n",
       "        vertical-align: middle;\n",
       "    }\n",
       "\n",
       "    .dataframe tbody tr th {\n",
       "        vertical-align: top;\n",
       "    }\n",
       "\n",
       "    .dataframe thead th {\n",
       "        text-align: right;\n",
       "    }\n",
       "</style>\n",
       "<table border=\"1\" class=\"dataframe\">\n",
       "  <thead>\n",
       "    <tr style=\"text-align: right;\">\n",
       "      <th></th>\n",
       "      <th>path</th>\n",
       "      <th>mode</th>\n",
       "      <th>type</th>\n",
       "      <th>sha</th>\n",
       "      <th>size</th>\n",
       "      <th>url</th>\n",
       "    </tr>\n",
       "  </thead>\n",
       "  <tbody>\n",
       "    <tr>\n",
       "      <th>0</th>\n",
       "      <td>.gitignore</td>\n",
       "      <td>100644</td>\n",
       "      <td>blob</td>\n",
       "      <td>e43b0f988953ae3a84b00331d0ccf5f7d51cb3cf</td>\n",
       "      <td>10.0</td>\n",
       "      <td>https://api.github.com/repos/ironhack-datalabs...</td>\n",
       "    </tr>\n",
       "    <tr>\n",
       "      <th>1</th>\n",
       "      <td>15024</td>\n",
       "      <td>040000</td>\n",
       "      <td>tree</td>\n",
       "      <td>2945e51c87ad5da893c954afcf092f06343bbb7d</td>\n",
       "      <td>NaN</td>\n",
       "      <td>https://api.github.com/repos/ironhack-datalabs...</td>\n",
       "    </tr>\n",
       "    <tr>\n",
       "      <th>2</th>\n",
       "      <td>15024/.0006.scavengerhunt</td>\n",
       "      <td>100644</td>\n",
       "      <td>blob</td>\n",
       "      <td>1c9064284a24b3486015eafdb391b141c27ada2b</td>\n",
       "      <td>3.0</td>\n",
       "      <td>https://api.github.com/repos/ironhack-datalabs...</td>\n",
       "    </tr>\n",
       "    <tr>\n",
       "      <th>3</th>\n",
       "      <td>15024/40</td>\n",
       "      <td>100644</td>\n",
       "      <td>blob</td>\n",
       "      <td>e69de29bb2d1d6434b8b29ae775ad8c2e48c5391</td>\n",
       "      <td>0.0</td>\n",
       "      <td>https://api.github.com/repos/ironhack-datalabs...</td>\n",
       "    </tr>\n",
       "    <tr>\n",
       "      <th>4</th>\n",
       "      <td>15024/74</td>\n",
       "      <td>100644</td>\n",
       "      <td>blob</td>\n",
       "      <td>e69de29bb2d1d6434b8b29ae775ad8c2e48c5391</td>\n",
       "      <td>0.0</td>\n",
       "      <td>https://api.github.com/repos/ironhack-datalabs...</td>\n",
       "    </tr>\n",
       "  </tbody>\n",
       "</table>\n",
       "</div>"
      ],
      "text/plain": [
       "                        path    mode  type  \\\n",
       "0                 .gitignore  100644  blob   \n",
       "1                      15024  040000  tree   \n",
       "2  15024/.0006.scavengerhunt  100644  blob   \n",
       "3                   15024/40  100644  blob   \n",
       "4                   15024/74  100644  blob   \n",
       "\n",
       "                                        sha  size  \\\n",
       "0  e43b0f988953ae3a84b00331d0ccf5f7d51cb3cf  10.0   \n",
       "1  2945e51c87ad5da893c954afcf092f06343bbb7d   NaN   \n",
       "2  1c9064284a24b3486015eafdb391b141c27ada2b   3.0   \n",
       "3  e69de29bb2d1d6434b8b29ae775ad8c2e48c5391   0.0   \n",
       "4  e69de29bb2d1d6434b8b29ae775ad8c2e48c5391   0.0   \n",
       "\n",
       "                                                 url  \n",
       "0  https://api.github.com/repos/ironhack-datalabs...  \n",
       "1  https://api.github.com/repos/ironhack-datalabs...  \n",
       "2  https://api.github.com/repos/ironhack-datalabs...  \n",
       "3  https://api.github.com/repos/ironhack-datalabs...  \n",
       "4  https://api.github.com/repos/ironhack-datalabs...  "
      ]
     },
     "execution_count": 380,
     "metadata": {},
     "output_type": "execute_result"
    }
   ],
   "source": [
    "data=pd.DataFrame(solucion)\n",
    "data.head(5)"
   ]
  },
  {
   "cell_type": "code",
   "execution_count": 381,
   "id": "437a8005",
   "metadata": {},
   "outputs": [
    {
     "name": "stdout",
     "output_type": "stream",
     "text": [
      "['30351', '89338/8', '55417/82', '97881', '68848', '47222/7', '47222/.0016.scavengerhunt', '55685/.0020.scavengerhunt', '70751', '68848/.0004.scavengerhunt', '88596', '45525/.0018.scavengerhunt', '47830/.0010.scavengerhunt', '47830/66', '88596/12', '70751/68', '44639/.0005.scavengerhunt', '15534/.0008.scavengerhunt', '64880/57', '17020/46', '91701/39', '70751/18', '55685', '15024/99', '89338', '89046/73', '17020', '88596/55', '30351/96', '70751/44', '98750/62', '98750', '15024/74', '50896', '70985/59', '97881/26', '60224/1', '66032/47', '66032/28', '47222', '30351/.0021.scavengerhunt', '89338/43', '47222/.0024.scavengerhunt', '91701', '15534/2', '68848/16', '88596/32', '66032/77', '49418', '64880', '44639', '49418/30', '89046/64', '55417/.0023.scavengerhunt', '15534/.0012.scavengerhunt', '45525/90', '98750/20', '47222/89', '30351/22', '50896/4', '97881/.0009.scavengerhunt', '49418/38', '15024/40', '70985/11', '40303/51', '55685/81', '40303/65', '70985/.0017.scavengerhunt', '17020/.0007.scavengerhunt', '55417', '98750/.0001.scavengerhunt', '97881/71', '17020/97', '89046/70', '40303/.0022.scavengerhunt', '89338/.0013.scavengerhunt', '60224/80', '60224', '15534/98', '44639/76', '47830', '88596/.0002.scavengerhunt', '89338/35', '60224/.0003.scavengerhunt', '49418/.0014.scavengerhunt', '15024', '49418/84', '.gitignore', '15024/.0006.scavengerhunt', '70751/.0019.scavengerhunt', '91701/33', '44639/91', '45525', '91701/.0015.scavengerhunt', '55685/5', '66032', '89046', '55417/14', '45525/67', '97881/36', '47830/85', '50896/83', '64880/79', '15534', '70985', '40303', '50896/.0011.scavengerhunt', '68848/75', '64880/3']\n"
     ]
    }
   ],
   "source": [
    "lista_path=data[\"path\"]\n",
    "seta=set(lista_path)\n",
    "seta_lista=list(seta)\n",
    "print(seta_lista)"
   ]
  },
  {
   "cell_type": "code",
   "execution_count": 382,
   "id": "76cf7f8d",
   "metadata": {},
   "outputs": [
    {
     "data": {
      "text/plain": [
       "109"
      ]
     },
     "execution_count": 382,
     "metadata": {},
     "output_type": "execute_result"
    }
   ],
   "source": [
    "len(seta_lista) \n",
    "#he creado una lista de los path para luego sacar los path que son las carpetas que luego contienen los secret files pero\n",
    "#no he conseguido leer el contenido"
   ]
  },
  {
   "cell_type": "code",
   "execution_count": 383,
   "id": "9c5e3428",
   "metadata": {},
   "outputs": [],
   "source": [
    "#probamos con content en lugar de tree para llegar a las secret files"
   ]
  },
  {
   "cell_type": "code",
   "execution_count": 384,
   "id": "666dfc09",
   "metadata": {},
   "outputs": [
    {
     "data": {
      "text/plain": [
       "'https://api.github.com/repos/ironhack-datalabs/scavenger/contents/{+path}'"
      ]
     },
     "execution_count": 384,
     "metadata": {},
     "output_type": "execute_result"
    }
   ],
   "source": [
    "web1_cont=web1.json()['contents_url']\n",
    "web1_cont"
   ]
  },
  {
   "cell_type": "code",
   "execution_count": 385,
   "id": "3145deba",
   "metadata": {},
   "outputs": [],
   "source": [
    "url3='https://api.github.com/repos/ironhack-datalabs/scavenger/contents/'\n",
    "path=seta_lista"
   ]
  },
  {
   "cell_type": "code",
   "execution_count": 386,
   "id": "85e98baf",
   "metadata": {},
   "outputs": [
    {
     "data": {
      "text/plain": [
       "['https://api.github.com/repos/ironhack-datalabs/scavenger/contents/30351',\n",
       " 'https://api.github.com/repos/ironhack-datalabs/scavenger/contents/89338/8',\n",
       " 'https://api.github.com/repos/ironhack-datalabs/scavenger/contents/55417/82',\n",
       " 'https://api.github.com/repos/ironhack-datalabs/scavenger/contents/97881',\n",
       " 'https://api.github.com/repos/ironhack-datalabs/scavenger/contents/68848',\n",
       " 'https://api.github.com/repos/ironhack-datalabs/scavenger/contents/47222/7',\n",
       " 'https://api.github.com/repos/ironhack-datalabs/scavenger/contents/47222/.0016.scavengerhunt',\n",
       " 'https://api.github.com/repos/ironhack-datalabs/scavenger/contents/55685/.0020.scavengerhunt',\n",
       " 'https://api.github.com/repos/ironhack-datalabs/scavenger/contents/70751',\n",
       " 'https://api.github.com/repos/ironhack-datalabs/scavenger/contents/68848/.0004.scavengerhunt',\n",
       " 'https://api.github.com/repos/ironhack-datalabs/scavenger/contents/88596',\n",
       " 'https://api.github.com/repos/ironhack-datalabs/scavenger/contents/45525/.0018.scavengerhunt',\n",
       " 'https://api.github.com/repos/ironhack-datalabs/scavenger/contents/47830/.0010.scavengerhunt',\n",
       " 'https://api.github.com/repos/ironhack-datalabs/scavenger/contents/47830/66',\n",
       " 'https://api.github.com/repos/ironhack-datalabs/scavenger/contents/88596/12',\n",
       " 'https://api.github.com/repos/ironhack-datalabs/scavenger/contents/70751/68',\n",
       " 'https://api.github.com/repos/ironhack-datalabs/scavenger/contents/44639/.0005.scavengerhunt',\n",
       " 'https://api.github.com/repos/ironhack-datalabs/scavenger/contents/15534/.0008.scavengerhunt',\n",
       " 'https://api.github.com/repos/ironhack-datalabs/scavenger/contents/64880/57',\n",
       " 'https://api.github.com/repos/ironhack-datalabs/scavenger/contents/17020/46',\n",
       " 'https://api.github.com/repos/ironhack-datalabs/scavenger/contents/91701/39',\n",
       " 'https://api.github.com/repos/ironhack-datalabs/scavenger/contents/70751/18',\n",
       " 'https://api.github.com/repos/ironhack-datalabs/scavenger/contents/55685',\n",
       " 'https://api.github.com/repos/ironhack-datalabs/scavenger/contents/15024/99',\n",
       " 'https://api.github.com/repos/ironhack-datalabs/scavenger/contents/89338',\n",
       " 'https://api.github.com/repos/ironhack-datalabs/scavenger/contents/89046/73',\n",
       " 'https://api.github.com/repos/ironhack-datalabs/scavenger/contents/17020',\n",
       " 'https://api.github.com/repos/ironhack-datalabs/scavenger/contents/88596/55',\n",
       " 'https://api.github.com/repos/ironhack-datalabs/scavenger/contents/30351/96',\n",
       " 'https://api.github.com/repos/ironhack-datalabs/scavenger/contents/70751/44',\n",
       " 'https://api.github.com/repos/ironhack-datalabs/scavenger/contents/98750/62',\n",
       " 'https://api.github.com/repos/ironhack-datalabs/scavenger/contents/98750',\n",
       " 'https://api.github.com/repos/ironhack-datalabs/scavenger/contents/15024/74',\n",
       " 'https://api.github.com/repos/ironhack-datalabs/scavenger/contents/50896',\n",
       " 'https://api.github.com/repos/ironhack-datalabs/scavenger/contents/70985/59',\n",
       " 'https://api.github.com/repos/ironhack-datalabs/scavenger/contents/97881/26',\n",
       " 'https://api.github.com/repos/ironhack-datalabs/scavenger/contents/60224/1',\n",
       " 'https://api.github.com/repos/ironhack-datalabs/scavenger/contents/66032/47',\n",
       " 'https://api.github.com/repos/ironhack-datalabs/scavenger/contents/66032/28',\n",
       " 'https://api.github.com/repos/ironhack-datalabs/scavenger/contents/47222',\n",
       " 'https://api.github.com/repos/ironhack-datalabs/scavenger/contents/30351/.0021.scavengerhunt',\n",
       " 'https://api.github.com/repos/ironhack-datalabs/scavenger/contents/89338/43',\n",
       " 'https://api.github.com/repos/ironhack-datalabs/scavenger/contents/47222/.0024.scavengerhunt',\n",
       " 'https://api.github.com/repos/ironhack-datalabs/scavenger/contents/91701',\n",
       " 'https://api.github.com/repos/ironhack-datalabs/scavenger/contents/15534/2',\n",
       " 'https://api.github.com/repos/ironhack-datalabs/scavenger/contents/68848/16',\n",
       " 'https://api.github.com/repos/ironhack-datalabs/scavenger/contents/88596/32',\n",
       " 'https://api.github.com/repos/ironhack-datalabs/scavenger/contents/66032/77',\n",
       " 'https://api.github.com/repos/ironhack-datalabs/scavenger/contents/49418',\n",
       " 'https://api.github.com/repos/ironhack-datalabs/scavenger/contents/64880',\n",
       " 'https://api.github.com/repos/ironhack-datalabs/scavenger/contents/44639',\n",
       " 'https://api.github.com/repos/ironhack-datalabs/scavenger/contents/49418/30',\n",
       " 'https://api.github.com/repos/ironhack-datalabs/scavenger/contents/89046/64',\n",
       " 'https://api.github.com/repos/ironhack-datalabs/scavenger/contents/55417/.0023.scavengerhunt',\n",
       " 'https://api.github.com/repos/ironhack-datalabs/scavenger/contents/15534/.0012.scavengerhunt',\n",
       " 'https://api.github.com/repos/ironhack-datalabs/scavenger/contents/45525/90',\n",
       " 'https://api.github.com/repos/ironhack-datalabs/scavenger/contents/98750/20',\n",
       " 'https://api.github.com/repos/ironhack-datalabs/scavenger/contents/47222/89',\n",
       " 'https://api.github.com/repos/ironhack-datalabs/scavenger/contents/30351/22',\n",
       " 'https://api.github.com/repos/ironhack-datalabs/scavenger/contents/50896/4',\n",
       " 'https://api.github.com/repos/ironhack-datalabs/scavenger/contents/97881/.0009.scavengerhunt',\n",
       " 'https://api.github.com/repos/ironhack-datalabs/scavenger/contents/49418/38',\n",
       " 'https://api.github.com/repos/ironhack-datalabs/scavenger/contents/15024/40',\n",
       " 'https://api.github.com/repos/ironhack-datalabs/scavenger/contents/70985/11',\n",
       " 'https://api.github.com/repos/ironhack-datalabs/scavenger/contents/40303/51',\n",
       " 'https://api.github.com/repos/ironhack-datalabs/scavenger/contents/55685/81',\n",
       " 'https://api.github.com/repos/ironhack-datalabs/scavenger/contents/40303/65',\n",
       " 'https://api.github.com/repos/ironhack-datalabs/scavenger/contents/70985/.0017.scavengerhunt',\n",
       " 'https://api.github.com/repos/ironhack-datalabs/scavenger/contents/17020/.0007.scavengerhunt',\n",
       " 'https://api.github.com/repos/ironhack-datalabs/scavenger/contents/55417',\n",
       " 'https://api.github.com/repos/ironhack-datalabs/scavenger/contents/98750/.0001.scavengerhunt',\n",
       " 'https://api.github.com/repos/ironhack-datalabs/scavenger/contents/97881/71',\n",
       " 'https://api.github.com/repos/ironhack-datalabs/scavenger/contents/17020/97',\n",
       " 'https://api.github.com/repos/ironhack-datalabs/scavenger/contents/89046/70',\n",
       " 'https://api.github.com/repos/ironhack-datalabs/scavenger/contents/40303/.0022.scavengerhunt',\n",
       " 'https://api.github.com/repos/ironhack-datalabs/scavenger/contents/89338/.0013.scavengerhunt',\n",
       " 'https://api.github.com/repos/ironhack-datalabs/scavenger/contents/60224/80',\n",
       " 'https://api.github.com/repos/ironhack-datalabs/scavenger/contents/60224',\n",
       " 'https://api.github.com/repos/ironhack-datalabs/scavenger/contents/15534/98',\n",
       " 'https://api.github.com/repos/ironhack-datalabs/scavenger/contents/44639/76',\n",
       " 'https://api.github.com/repos/ironhack-datalabs/scavenger/contents/47830',\n",
       " 'https://api.github.com/repos/ironhack-datalabs/scavenger/contents/88596/.0002.scavengerhunt',\n",
       " 'https://api.github.com/repos/ironhack-datalabs/scavenger/contents/89338/35',\n",
       " 'https://api.github.com/repos/ironhack-datalabs/scavenger/contents/60224/.0003.scavengerhunt',\n",
       " 'https://api.github.com/repos/ironhack-datalabs/scavenger/contents/49418/.0014.scavengerhunt',\n",
       " 'https://api.github.com/repos/ironhack-datalabs/scavenger/contents/15024',\n",
       " 'https://api.github.com/repos/ironhack-datalabs/scavenger/contents/49418/84',\n",
       " 'https://api.github.com/repos/ironhack-datalabs/scavenger/contents/.gitignore',\n",
       " 'https://api.github.com/repos/ironhack-datalabs/scavenger/contents/15024/.0006.scavengerhunt',\n",
       " 'https://api.github.com/repos/ironhack-datalabs/scavenger/contents/70751/.0019.scavengerhunt',\n",
       " 'https://api.github.com/repos/ironhack-datalabs/scavenger/contents/91701/33',\n",
       " 'https://api.github.com/repos/ironhack-datalabs/scavenger/contents/44639/91',\n",
       " 'https://api.github.com/repos/ironhack-datalabs/scavenger/contents/45525',\n",
       " 'https://api.github.com/repos/ironhack-datalabs/scavenger/contents/91701/.0015.scavengerhunt',\n",
       " 'https://api.github.com/repos/ironhack-datalabs/scavenger/contents/55685/5',\n",
       " 'https://api.github.com/repos/ironhack-datalabs/scavenger/contents/66032',\n",
       " 'https://api.github.com/repos/ironhack-datalabs/scavenger/contents/89046',\n",
       " 'https://api.github.com/repos/ironhack-datalabs/scavenger/contents/55417/14',\n",
       " 'https://api.github.com/repos/ironhack-datalabs/scavenger/contents/45525/67',\n",
       " 'https://api.github.com/repos/ironhack-datalabs/scavenger/contents/97881/36',\n",
       " 'https://api.github.com/repos/ironhack-datalabs/scavenger/contents/47830/85',\n",
       " 'https://api.github.com/repos/ironhack-datalabs/scavenger/contents/50896/83',\n",
       " 'https://api.github.com/repos/ironhack-datalabs/scavenger/contents/64880/79',\n",
       " 'https://api.github.com/repos/ironhack-datalabs/scavenger/contents/15534',\n",
       " 'https://api.github.com/repos/ironhack-datalabs/scavenger/contents/70985',\n",
       " 'https://api.github.com/repos/ironhack-datalabs/scavenger/contents/40303',\n",
       " 'https://api.github.com/repos/ironhack-datalabs/scavenger/contents/50896/.0011.scavengerhunt',\n",
       " 'https://api.github.com/repos/ironhack-datalabs/scavenger/contents/68848/75',\n",
       " 'https://api.github.com/repos/ironhack-datalabs/scavenger/contents/64880/3']"
      ]
     },
     "execution_count": 386,
     "metadata": {},
     "output_type": "execute_result"
    }
   ],
   "source": [
    "union=[]\n",
    "for items in seta_lista:\n",
    "    union.append(url3+items)\n",
    "union"
   ]
  },
  {
   "cell_type": "code",
   "execution_count": 387,
   "id": "2cbafc3f",
   "metadata": {},
   "outputs": [
    {
     "data": {
      "text/plain": [
       "['https://api.github.com/repos/ironhack-datalabs/scavenger/contents/47222/.0016.scavengerhunt',\n",
       " 'https://api.github.com/repos/ironhack-datalabs/scavenger/contents/55685/.0020.scavengerhunt',\n",
       " 'https://api.github.com/repos/ironhack-datalabs/scavenger/contents/68848/.0004.scavengerhunt',\n",
       " 'https://api.github.com/repos/ironhack-datalabs/scavenger/contents/45525/.0018.scavengerhunt',\n",
       " 'https://api.github.com/repos/ironhack-datalabs/scavenger/contents/47830/.0010.scavengerhunt',\n",
       " 'https://api.github.com/repos/ironhack-datalabs/scavenger/contents/44639/.0005.scavengerhunt',\n",
       " 'https://api.github.com/repos/ironhack-datalabs/scavenger/contents/15534/.0008.scavengerhunt',\n",
       " 'https://api.github.com/repos/ironhack-datalabs/scavenger/contents/30351/.0021.scavengerhunt',\n",
       " 'https://api.github.com/repos/ironhack-datalabs/scavenger/contents/47222/.0024.scavengerhunt',\n",
       " 'https://api.github.com/repos/ironhack-datalabs/scavenger/contents/55417/.0023.scavengerhunt',\n",
       " 'https://api.github.com/repos/ironhack-datalabs/scavenger/contents/15534/.0012.scavengerhunt',\n",
       " 'https://api.github.com/repos/ironhack-datalabs/scavenger/contents/97881/.0009.scavengerhunt',\n",
       " 'https://api.github.com/repos/ironhack-datalabs/scavenger/contents/70985/.0017.scavengerhunt',\n",
       " 'https://api.github.com/repos/ironhack-datalabs/scavenger/contents/17020/.0007.scavengerhunt',\n",
       " 'https://api.github.com/repos/ironhack-datalabs/scavenger/contents/98750/.0001.scavengerhunt',\n",
       " 'https://api.github.com/repos/ironhack-datalabs/scavenger/contents/40303/.0022.scavengerhunt',\n",
       " 'https://api.github.com/repos/ironhack-datalabs/scavenger/contents/89338/.0013.scavengerhunt',\n",
       " 'https://api.github.com/repos/ironhack-datalabs/scavenger/contents/88596/.0002.scavengerhunt',\n",
       " 'https://api.github.com/repos/ironhack-datalabs/scavenger/contents/60224/.0003.scavengerhunt',\n",
       " 'https://api.github.com/repos/ironhack-datalabs/scavenger/contents/49418/.0014.scavengerhunt',\n",
       " 'https://api.github.com/repos/ironhack-datalabs/scavenger/contents/15024/.0006.scavengerhunt',\n",
       " 'https://api.github.com/repos/ironhack-datalabs/scavenger/contents/70751/.0019.scavengerhunt',\n",
       " 'https://api.github.com/repos/ironhack-datalabs/scavenger/contents/91701/.0015.scavengerhunt',\n",
       " 'https://api.github.com/repos/ironhack-datalabs/scavenger/contents/50896/.0011.scavengerhunt']"
      ]
     },
     "execution_count": 387,
     "metadata": {},
     "output_type": "execute_result"
    }
   ],
   "source": [
    "urls_totales=[]\n",
    "for items in union:\n",
    "    if 'scavengerhunt' in items:\n",
    "        urls_totales.append(items)\n",
    "urls_totales"
   ]
  },
  {
   "cell_type": "code",
   "execution_count": 388,
   "id": "53c87bde",
   "metadata": {},
   "outputs": [
    {
     "data": {
      "text/plain": [
       "24"
      ]
     },
     "execution_count": 388,
     "metadata": {},
     "output_type": "execute_result"
    }
   ],
   "source": [
    "len(urls_totales)"
   ]
  },
  {
   "cell_type": "code",
   "execution_count": 389,
   "id": "fbbba1b9",
   "metadata": {},
   "outputs": [
    {
     "data": {
      "text/plain": [
       "{'name': '.0016.scavengerhunt',\n",
       " 'path': '47222/.0016.scavengerhunt',\n",
       " 'sha': 'f5cb13223fdc1b11f4cfbbe1694f533b3c579fa0',\n",
       " 'size': 3,\n",
       " 'url': 'https://api.github.com/repos/ironhack-datalabs/scavenger/contents/47222/.0016.scavengerhunt?ref=master',\n",
       " 'html_url': 'https://github.com/ironhack-datalabs/scavenger/blob/master/47222/.0016.scavengerhunt',\n",
       " 'git_url': 'https://api.github.com/repos/ironhack-datalabs/scavenger/git/blobs/f5cb13223fdc1b11f4cfbbe1694f533b3c579fa0',\n",
       " 'download_url': 'https://raw.githubusercontent.com/ironhack-datalabs/scavenger/master/47222/.0016.scavengerhunt',\n",
       " 'type': 'file',\n",
       " 'content': 'aXMK\\n',\n",
       " 'encoding': 'base64',\n",
       " '_links': {'self': 'https://api.github.com/repos/ironhack-datalabs/scavenger/contents/47222/.0016.scavengerhunt?ref=master',\n",
       "  'git': 'https://api.github.com/repos/ironhack-datalabs/scavenger/git/blobs/f5cb13223fdc1b11f4cfbbe1694f533b3c579fa0',\n",
       "  'html': 'https://github.com/ironhack-datalabs/scavenger/blob/master/47222/.0016.scavengerhunt'}}"
      ]
     },
     "execution_count": 389,
     "metadata": {},
     "output_type": "execute_result"
    }
   ],
   "source": [
    "obtener_raw=req.get(urls_totales[0],auth=auth)\n",
    "obtener_raw.json() "
   ]
  },
  {
   "cell_type": "code",
   "execution_count": 390,
   "id": "a88d6acf",
   "metadata": {
    "scrolled": true
   },
   "outputs": [
    {
     "data": {
      "text/plain": [
       "[<Response [200]>,\n",
       " <Response [200]>,\n",
       " <Response [200]>,\n",
       " <Response [200]>,\n",
       " <Response [200]>,\n",
       " <Response [200]>,\n",
       " <Response [200]>,\n",
       " <Response [200]>,\n",
       " <Response [200]>,\n",
       " <Response [200]>,\n",
       " <Response [200]>,\n",
       " <Response [200]>,\n",
       " <Response [200]>,\n",
       " <Response [200]>,\n",
       " <Response [200]>,\n",
       " <Response [200]>,\n",
       " <Response [200]>,\n",
       " <Response [200]>,\n",
       " <Response [200]>,\n",
       " <Response [200]>,\n",
       " <Response [200]>,\n",
       " <Response [200]>,\n",
       " <Response [200]>,\n",
       " <Response [200]>]"
      ]
     },
     "execution_count": 390,
     "metadata": {},
     "output_type": "execute_result"
    }
   ],
   "source": [
    "raw_totales=[]\n",
    "for i in urls_totales:\n",
    "    data=req.get(i,auth=auth)\n",
    "    raw_totales.append(data)\n",
    "raw_totales"
   ]
  },
  {
   "cell_type": "code",
   "execution_count": 391,
   "id": "8fba5644",
   "metadata": {},
   "outputs": [
    {
     "data": {
      "text/plain": [
       "{'name': '.0016.scavengerhunt',\n",
       " 'path': '47222/.0016.scavengerhunt',\n",
       " 'sha': 'f5cb13223fdc1b11f4cfbbe1694f533b3c579fa0',\n",
       " 'size': 3,\n",
       " 'url': 'https://api.github.com/repos/ironhack-datalabs/scavenger/contents/47222/.0016.scavengerhunt?ref=master',\n",
       " 'html_url': 'https://github.com/ironhack-datalabs/scavenger/blob/master/47222/.0016.scavengerhunt',\n",
       " 'git_url': 'https://api.github.com/repos/ironhack-datalabs/scavenger/git/blobs/f5cb13223fdc1b11f4cfbbe1694f533b3c579fa0',\n",
       " 'download_url': 'https://raw.githubusercontent.com/ironhack-datalabs/scavenger/master/47222/.0016.scavengerhunt',\n",
       " 'type': 'file',\n",
       " 'content': 'aXMK\\n',\n",
       " 'encoding': 'base64',\n",
       " '_links': {'self': 'https://api.github.com/repos/ironhack-datalabs/scavenger/contents/47222/.0016.scavengerhunt?ref=master',\n",
       "  'git': 'https://api.github.com/repos/ironhack-datalabs/scavenger/git/blobs/f5cb13223fdc1b11f4cfbbe1694f533b3c579fa0',\n",
       "  'html': 'https://github.com/ironhack-datalabs/scavenger/blob/master/47222/.0016.scavengerhunt'}}"
      ]
     },
     "execution_count": 391,
     "metadata": {},
     "output_type": "execute_result"
    }
   ],
   "source": [
    "raw_totales[0].json() #para comprobar a lo que tenemos que llegar, download_url"
   ]
  },
  {
   "cell_type": "code",
   "execution_count": 392,
   "id": "5d6c747b",
   "metadata": {},
   "outputs": [
    {
     "data": {
      "text/html": [
       "<div>\n",
       "<style scoped>\n",
       "    .dataframe tbody tr th:only-of-type {\n",
       "        vertical-align: middle;\n",
       "    }\n",
       "\n",
       "    .dataframe tbody tr th {\n",
       "        vertical-align: top;\n",
       "    }\n",
       "\n",
       "    .dataframe thead th {\n",
       "        text-align: right;\n",
       "    }\n",
       "</style>\n",
       "<table border=\"1\" class=\"dataframe\">\n",
       "  <thead>\n",
       "    <tr style=\"text-align: right;\">\n",
       "      <th></th>\n",
       "      <th>0</th>\n",
       "      <th>1</th>\n",
       "      <th>2</th>\n",
       "      <th>3</th>\n",
       "      <th>4</th>\n",
       "      <th>5</th>\n",
       "      <th>6</th>\n",
       "      <th>7</th>\n",
       "    </tr>\n",
       "  </thead>\n",
       "  <tbody>\n",
       "    <tr>\n",
       "      <th>0</th>\n",
       "      <td>b'{\"name\":\".0016.scavengerhunt\",\"path\":\"47222/...</td>\n",
       "      <td>b':\"https://api.github.com/repos/ironhack-data...</td>\n",
       "      <td>b'thub.com/ironhack-datalabs/scavenger/blob/ma...</td>\n",
       "      <td>b'alabs/scavenger/git/blobs/f5cb13223fdc1b11f4...</td>\n",
       "      <td>b'atalabs/scavenger/master/47222/.0016.scaveng...</td>\n",
       "      <td>b'://api.github.com/repos/ironhack-datalabs/sc...</td>\n",
       "      <td>b'/repos/ironhack-datalabs/scavenger/git/blobs...</td>\n",
       "      <td>b'abs/scavenger/blob/master/47222/.0016.scaven...</td>\n",
       "    </tr>\n",
       "    <tr>\n",
       "      <th>1</th>\n",
       "      <td>b'{\"name\":\".0020.scavengerhunt\",\"path\":\"55685/...</td>\n",
       "      <td>b':\"https://api.github.com/repos/ironhack-data...</td>\n",
       "      <td>b'thub.com/ironhack-datalabs/scavenger/blob/ma...</td>\n",
       "      <td>b'alabs/scavenger/git/blobs/41d25f51c301c5eee3...</td>\n",
       "      <td>b'atalabs/scavenger/master/55685/.0020.scaveng...</td>\n",
       "      <td>b'ttps://api.github.com/repos/ironhack-datalab...</td>\n",
       "      <td>b'.com/repos/ironhack-datalabs/scavenger/git/b...</td>\n",
       "      <td>b'atalabs/scavenger/blob/master/55685/.0020.sc...</td>\n",
       "    </tr>\n",
       "    <tr>\n",
       "      <th>2</th>\n",
       "      <td>b'{\"name\":\".0004.scavengerhunt\",\"path\":\"68848/...</td>\n",
       "      <td>b':\"https://api.github.com/repos/ironhack-data...</td>\n",
       "      <td>b'thub.com/ironhack-datalabs/scavenger/blob/ma...</td>\n",
       "      <td>b'alabs/scavenger/git/blobs/d15a2cc44e31b14c65...</td>\n",
       "      <td>b'atalabs/scavenger/master/68848/.0004.scaveng...</td>\n",
       "      <td>b'://api.github.com/repos/ironhack-datalabs/sc...</td>\n",
       "      <td>b'/repos/ironhack-datalabs/scavenger/git/blobs...</td>\n",
       "      <td>b'abs/scavenger/blob/master/68848/.0004.scaven...</td>\n",
       "    </tr>\n",
       "    <tr>\n",
       "      <th>3</th>\n",
       "      <td>b'{\"name\":\".0018.scavengerhunt\",\"path\":\"45525/...</td>\n",
       "      <td>b'\":\"https://api.github.com/repos/ironhack-dat...</td>\n",
       "      <td>b'ithub.com/ironhack-datalabs/scavenger/blob/m...</td>\n",
       "      <td>b'talabs/scavenger/git/blobs/397b22b2dc371e8db...</td>\n",
       "      <td>b'datalabs/scavenger/master/45525/.0018.scaven...</td>\n",
       "      <td>b'\"self\":\"https://api.github.com/repos/ironhac...</td>\n",
       "      <td>b'pi.github.com/repos/ironhack-datalabs/scaven...</td>\n",
       "      <td>b'ronhack-datalabs/scavenger/blob/master/45525...</td>\n",
       "    </tr>\n",
       "    <tr>\n",
       "      <th>4</th>\n",
       "      <td>b'{\"name\":\".0010.scavengerhunt\",\"path\":\"47830/...</td>\n",
       "      <td>b'\":\"https://api.github.com/repos/ironhack-dat...</td>\n",
       "      <td>b'ithub.com/ironhack-datalabs/scavenger/blob/m...</td>\n",
       "      <td>b'talabs/scavenger/git/blobs/c1187c4badc9be699...</td>\n",
       "      <td>b'datalabs/scavenger/master/47830/.0010.scaven...</td>\n",
       "      <td>b'\"self\":\"https://api.github.com/repos/ironhac...</td>\n",
       "      <td>b'pi.github.com/repos/ironhack-datalabs/scaven...</td>\n",
       "      <td>b'ronhack-datalabs/scavenger/blob/master/47830...</td>\n",
       "    </tr>\n",
       "  </tbody>\n",
       "</table>\n",
       "</div>"
      ],
      "text/plain": [
       "                                                   0  \\\n",
       "0  b'{\"name\":\".0016.scavengerhunt\",\"path\":\"47222/...   \n",
       "1  b'{\"name\":\".0020.scavengerhunt\",\"path\":\"55685/...   \n",
       "2  b'{\"name\":\".0004.scavengerhunt\",\"path\":\"68848/...   \n",
       "3  b'{\"name\":\".0018.scavengerhunt\",\"path\":\"45525/...   \n",
       "4  b'{\"name\":\".0010.scavengerhunt\",\"path\":\"47830/...   \n",
       "\n",
       "                                                   1  \\\n",
       "0  b':\"https://api.github.com/repos/ironhack-data...   \n",
       "1  b':\"https://api.github.com/repos/ironhack-data...   \n",
       "2  b':\"https://api.github.com/repos/ironhack-data...   \n",
       "3  b'\":\"https://api.github.com/repos/ironhack-dat...   \n",
       "4  b'\":\"https://api.github.com/repos/ironhack-dat...   \n",
       "\n",
       "                                                   2  \\\n",
       "0  b'thub.com/ironhack-datalabs/scavenger/blob/ma...   \n",
       "1  b'thub.com/ironhack-datalabs/scavenger/blob/ma...   \n",
       "2  b'thub.com/ironhack-datalabs/scavenger/blob/ma...   \n",
       "3  b'ithub.com/ironhack-datalabs/scavenger/blob/m...   \n",
       "4  b'ithub.com/ironhack-datalabs/scavenger/blob/m...   \n",
       "\n",
       "                                                   3  \\\n",
       "0  b'alabs/scavenger/git/blobs/f5cb13223fdc1b11f4...   \n",
       "1  b'alabs/scavenger/git/blobs/41d25f51c301c5eee3...   \n",
       "2  b'alabs/scavenger/git/blobs/d15a2cc44e31b14c65...   \n",
       "3  b'talabs/scavenger/git/blobs/397b22b2dc371e8db...   \n",
       "4  b'talabs/scavenger/git/blobs/c1187c4badc9be699...   \n",
       "\n",
       "                                                   4  \\\n",
       "0  b'atalabs/scavenger/master/47222/.0016.scaveng...   \n",
       "1  b'atalabs/scavenger/master/55685/.0020.scaveng...   \n",
       "2  b'atalabs/scavenger/master/68848/.0004.scaveng...   \n",
       "3  b'datalabs/scavenger/master/45525/.0018.scaven...   \n",
       "4  b'datalabs/scavenger/master/47830/.0010.scaven...   \n",
       "\n",
       "                                                   5  \\\n",
       "0  b'://api.github.com/repos/ironhack-datalabs/sc...   \n",
       "1  b'ttps://api.github.com/repos/ironhack-datalab...   \n",
       "2  b'://api.github.com/repos/ironhack-datalabs/sc...   \n",
       "3  b'\"self\":\"https://api.github.com/repos/ironhac...   \n",
       "4  b'\"self\":\"https://api.github.com/repos/ironhac...   \n",
       "\n",
       "                                                   6  \\\n",
       "0  b'/repos/ironhack-datalabs/scavenger/git/blobs...   \n",
       "1  b'.com/repos/ironhack-datalabs/scavenger/git/b...   \n",
       "2  b'/repos/ironhack-datalabs/scavenger/git/blobs...   \n",
       "3  b'pi.github.com/repos/ironhack-datalabs/scaven...   \n",
       "4  b'pi.github.com/repos/ironhack-datalabs/scaven...   \n",
       "\n",
       "                                                   7  \n",
       "0  b'abs/scavenger/blob/master/47222/.0016.scaven...  \n",
       "1  b'atalabs/scavenger/blob/master/55685/.0020.sc...  \n",
       "2  b'abs/scavenger/blob/master/68848/.0004.scaven...  \n",
       "3  b'ronhack-datalabs/scavenger/blob/master/45525...  \n",
       "4  b'ronhack-datalabs/scavenger/blob/master/47830...  "
      ]
     },
     "execution_count": 392,
     "metadata": {},
     "output_type": "execute_result"
    }
   ],
   "source": [
    "data2=pd.DataFrame(raw_totales)\n",
    "data2.head(5)\n"
   ]
  },
  {
   "cell_type": "code",
   "execution_count": 401,
   "id": "dde653e5",
   "metadata": {},
   "outputs": [
    {
     "data": {
      "text/html": [
       "<div>\n",
       "<style scoped>\n",
       "    .dataframe tbody tr th:only-of-type {\n",
       "        vertical-align: middle;\n",
       "    }\n",
       "\n",
       "    .dataframe tbody tr th {\n",
       "        vertical-align: top;\n",
       "    }\n",
       "\n",
       "    .dataframe thead th {\n",
       "        text-align: right;\n",
       "    }\n",
       "</style>\n",
       "<table border=\"1\" class=\"dataframe\">\n",
       "  <thead>\n",
       "    <tr style=\"text-align: right;\">\n",
       "      <th></th>\n",
       "    </tr>\n",
       "  </thead>\n",
       "  <tbody>\n",
       "    <tr>\n",
       "      <th>0</th>\n",
       "    </tr>\n",
       "    <tr>\n",
       "      <th>1</th>\n",
       "    </tr>\n",
       "    <tr>\n",
       "      <th>2</th>\n",
       "    </tr>\n",
       "    <tr>\n",
       "      <th>3</th>\n",
       "    </tr>\n",
       "    <tr>\n",
       "      <th>4</th>\n",
       "    </tr>\n",
       "    <tr>\n",
       "      <th>5</th>\n",
       "    </tr>\n",
       "    <tr>\n",
       "      <th>6</th>\n",
       "    </tr>\n",
       "    <tr>\n",
       "      <th>7</th>\n",
       "    </tr>\n",
       "    <tr>\n",
       "      <th>8</th>\n",
       "    </tr>\n",
       "    <tr>\n",
       "      <th>9</th>\n",
       "    </tr>\n",
       "    <tr>\n",
       "      <th>10</th>\n",
       "    </tr>\n",
       "    <tr>\n",
       "      <th>11</th>\n",
       "    </tr>\n",
       "    <tr>\n",
       "      <th>12</th>\n",
       "    </tr>\n",
       "    <tr>\n",
       "      <th>13</th>\n",
       "    </tr>\n",
       "    <tr>\n",
       "      <th>14</th>\n",
       "    </tr>\n",
       "    <tr>\n",
       "      <th>15</th>\n",
       "    </tr>\n",
       "    <tr>\n",
       "      <th>16</th>\n",
       "    </tr>\n",
       "    <tr>\n",
       "      <th>17</th>\n",
       "    </tr>\n",
       "    <tr>\n",
       "      <th>18</th>\n",
       "    </tr>\n",
       "    <tr>\n",
       "      <th>19</th>\n",
       "    </tr>\n",
       "    <tr>\n",
       "      <th>20</th>\n",
       "    </tr>\n",
       "    <tr>\n",
       "      <th>21</th>\n",
       "    </tr>\n",
       "    <tr>\n",
       "      <th>22</th>\n",
       "    </tr>\n",
       "    <tr>\n",
       "      <th>23</th>\n",
       "    </tr>\n",
       "  </tbody>\n",
       "</table>\n",
       "</div>"
      ],
      "text/plain": [
       "Empty DataFrame\n",
       "Columns: []\n",
       "Index: [0, 1, 2, 3, 4, 5, 6, 7, 8, 9, 10, 11, 12, 13, 14, 15, 16, 17, 18, 19, 20, 21, 22, 23]"
      ]
     },
     "execution_count": 401,
     "metadata": {},
     "output_type": "execute_result"
    }
   ],
   "source": [
    "data3=pd.json_normalize(raw_totales)\n",
    "data3 #me da error, no me saca las keys. pendiente de revisar"
   ]
  },
  {
   "cell_type": "code",
   "execution_count": null,
   "id": "24aa7398",
   "metadata": {},
   "outputs": [],
   "source": []
  }
 ],
 "metadata": {
  "kernelspec": {
   "display_name": "ironhack",
   "language": "python",
   "name": "ironhack"
  },
  "language_info": {
   "codemirror_mode": {
    "name": "ipython",
    "version": 3
   },
   "file_extension": ".py",
   "mimetype": "text/x-python",
   "name": "python",
   "nbconvert_exporter": "python",
   "pygments_lexer": "ipython3",
   "version": "3.8.5"
  },
  "toc": {
   "base_numbering": 1,
   "nav_menu": {},
   "number_sections": true,
   "sideBar": true,
   "skip_h1_title": true,
   "title_cell": "Table of Contents",
   "title_sidebar": "Contents",
   "toc_cell": false,
   "toc_position": {},
   "toc_section_display": true,
   "toc_window_display": true
  }
 },
 "nbformat": 4,
 "nbformat_minor": 5
}
