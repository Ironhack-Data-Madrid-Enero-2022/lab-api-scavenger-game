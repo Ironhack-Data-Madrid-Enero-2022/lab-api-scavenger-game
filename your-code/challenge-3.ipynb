{
 "cells": [
  {
   "cell_type": "markdown",
   "id": "defensive-clock",
   "metadata": {},
   "source": [
    "# Challenge 3: Hidden Cold Joke\n",
    "\n",
    "Using Python, call Github API to find out the cold joke contained in the 24 secret files in the following repo:\n",
    "\n",
    "https://github.com/ironhack-datalabs/scavenger\n",
    "\n",
    "The filenames of the secret files contain .scavengerhunt and they are scattered in different directories of this repo. The secret files are named from .0001.scavengerhunt to .0024.scavengerhunt. They are scattered randomly throughout this repo. You need to search for these files by calling the Github API, not searching the local files on your computer.\n",
    "\n",
    "\n",
    "After you find out the secrete files:\n",
    "\n",
    "Sort the filenames ascendingly.\n",
    "\n",
    "Read the content of each secret files into an array of strings.\n",
    "\n",
    "Concatenate the strings in the array separating each two with a whitespace.\n",
    "\n",
    "Print out the joke."
   ]
  },
  {
   "cell_type": "markdown",
   "id": "universal-length",
   "metadata": {},
   "source": [
    "⚠️ **Remember to limit your output before submission**."
   ]
  },
  {
   "cell_type": "code",
   "execution_count": 54,
   "id": "bda0ee61",
   "metadata": {},
   "outputs": [],
   "source": [
    "with open('ignoredstuff/token.txt') as f:\n",
    "    token = f.readline()\n",
    "username = 'disanchz'"
   ]
  },
  {
   "cell_type": "code",
   "execution_count": 55,
   "id": "e193937b",
   "metadata": {},
   "outputs": [],
   "source": [
    "import json\n",
    "import requests as req"
   ]
  },
  {
   "cell_type": "code",
   "execution_count": 56,
   "id": "toxic-trading",
   "metadata": {},
   "outputs": [
    {
     "data": {
      "text/plain": [
       "<Response [200]>"
      ]
     },
     "execution_count": 56,
     "metadata": {},
     "output_type": "execute_result"
    }
   ],
   "source": [
    "#Viendo el número de commits en el repo\n",
    "res_git=req.get('https://api.github.com/repos/ironhack-datalabs/scavenger/commits',auth=(username,token) )\n",
    "res_git"
   ]
  },
  {
   "cell_type": "code",
   "execution_count": 57,
   "id": "da7a9a3c",
   "metadata": {
    "scrolled": true
   },
   "outputs": [
    {
     "data": {
      "text/plain": [
       "[{'sha': '9308ccc8a4c34c5e3a991ee815222a9691c32476',\n",
       "  'node_id': 'MDY6Q29tbWl0MTYyMzc1MTgxOjkzMDhjY2M4YTRjMzRjNWUzYTk5MWVlODE1MjIyYTk2OTFjMzI0NzY=',\n",
       "  'commit': {'author': {'name': 'Zhou Zhou',\n",
       "    'email': 'zhou.eye8@gmail.com',\n",
       "    'date': '2018-12-19T03:03:57Z'},\n",
       "   'committer': {'name': 'Zhou Zhou',\n",
       "    'email': 'zhou.eye8@gmail.com',\n",
       "    'date': '2018-12-19T03:03:57Z'},\n",
       "   'message': 'initial commit',\n",
       "   'tree': {'sha': '0d82bf748275dbc1239a11e9157b198d88da7383',\n",
       "    'url': 'https://api.github.com/repos/ironhack-datalabs/scavenger/git/trees/0d82bf748275dbc1239a11e9157b198d88da7383'},\n",
       "   'url': 'https://api.github.com/repos/ironhack-datalabs/scavenger/git/commits/9308ccc8a4c34c5e3a991ee815222a9691c32476',\n",
       "   'comment_count': 0,\n",
       "   'verification': {'verified': False,\n",
       "    'reason': 'unsigned',\n",
       "    'signature': None,\n",
       "    'payload': None}},\n",
       "  'url': 'https://api.github.com/repos/ironhack-datalabs/scavenger/commits/9308ccc8a4c34c5e3a991ee815222a9691c32476',\n",
       "  'html_url': 'https://github.com/ironhack-datalabs/scavenger/commit/9308ccc8a4c34c5e3a991ee815222a9691c32476',\n",
       "  'comments_url': 'https://api.github.com/repos/ironhack-datalabs/scavenger/commits/9308ccc8a4c34c5e3a991ee815222a9691c32476/comments',\n",
       "  'author': {'login': 'eye8',\n",
       "   'id': 1659798,\n",
       "   'node_id': 'MDQ6VXNlcjE2NTk3OTg=',\n",
       "   'avatar_url': 'https://avatars.githubusercontent.com/u/1659798?v=4',\n",
       "   'gravatar_id': '',\n",
       "   'url': 'https://api.github.com/users/eye8',\n",
       "   'html_url': 'https://github.com/eye8',\n",
       "   'followers_url': 'https://api.github.com/users/eye8/followers',\n",
       "   'following_url': 'https://api.github.com/users/eye8/following{/other_user}',\n",
       "   'gists_url': 'https://api.github.com/users/eye8/gists{/gist_id}',\n",
       "   'starred_url': 'https://api.github.com/users/eye8/starred{/owner}{/repo}',\n",
       "   'subscriptions_url': 'https://api.github.com/users/eye8/subscriptions',\n",
       "   'organizations_url': 'https://api.github.com/users/eye8/orgs',\n",
       "   'repos_url': 'https://api.github.com/users/eye8/repos',\n",
       "   'events_url': 'https://api.github.com/users/eye8/events{/privacy}',\n",
       "   'received_events_url': 'https://api.github.com/users/eye8/received_events',\n",
       "   'type': 'User',\n",
       "   'site_admin': False},\n",
       "  'committer': {'login': 'eye8',\n",
       "   'id': 1659798,\n",
       "   'node_id': 'MDQ6VXNlcjE2NTk3OTg=',\n",
       "   'avatar_url': 'https://avatars.githubusercontent.com/u/1659798?v=4',\n",
       "   'gravatar_id': '',\n",
       "   'url': 'https://api.github.com/users/eye8',\n",
       "   'html_url': 'https://github.com/eye8',\n",
       "   'followers_url': 'https://api.github.com/users/eye8/followers',\n",
       "   'following_url': 'https://api.github.com/users/eye8/following{/other_user}',\n",
       "   'gists_url': 'https://api.github.com/users/eye8/gists{/gist_id}',\n",
       "   'starred_url': 'https://api.github.com/users/eye8/starred{/owner}{/repo}',\n",
       "   'subscriptions_url': 'https://api.github.com/users/eye8/subscriptions',\n",
       "   'organizations_url': 'https://api.github.com/users/eye8/orgs',\n",
       "   'repos_url': 'https://api.github.com/users/eye8/repos',\n",
       "   'events_url': 'https://api.github.com/users/eye8/events{/privacy}',\n",
       "   'received_events_url': 'https://api.github.com/users/eye8/received_events',\n",
       "   'type': 'User',\n",
       "   'site_admin': False},\n",
       "  'parents': []}]"
      ]
     },
     "execution_count": 57,
     "metadata": {},
     "output_type": "execute_result"
    }
   ],
   "source": [
    "res_git.json()"
   ]
  },
  {
   "cell_type": "code",
   "execution_count": 58,
   "id": "c2315947",
   "metadata": {},
   "outputs": [
    {
     "data": {
      "text/plain": [
       "<Response [200]>"
      ]
     },
     "execution_count": 58,
     "metadata": {},
     "output_type": "execute_result"
    }
   ],
   "source": [
    "#mirando los archivos presentes en el último commit\n",
    "res_git=req.get('https://api.github.com/repos/ironhack-datalabs/scavenger/git/trees/0d82bf748275dbc1239a11e9157b198d88da7383',auth=(username,token))\n",
    "res_git\n",
    "#se obtiene una lista de directorios..."
   ]
  },
  {
   "cell_type": "code",
   "execution_count": 59,
   "id": "a7bb944b",
   "metadata": {},
   "outputs": [
    {
     "data": {
      "text/plain": [
       "{'sha': '0d82bf748275dbc1239a11e9157b198d88da7383',\n",
       " 'url': 'https://api.github.com/repos/ironhack-datalabs/scavenger/git/trees/0d82bf748275dbc1239a11e9157b198d88da7383',\n",
       " 'tree': [{'path': '.gitignore',\n",
       "   'mode': '100644',\n",
       "   'type': 'blob',\n",
       "   'sha': 'e43b0f988953ae3a84b00331d0ccf5f7d51cb3cf',\n",
       "   'size': 10,\n",
       "   'url': 'https://api.github.com/repos/ironhack-datalabs/scavenger/git/blobs/e43b0f988953ae3a84b00331d0ccf5f7d51cb3cf'},\n",
       "  {'path': '15024',\n",
       "   'mode': '040000',\n",
       "   'type': 'tree',\n",
       "   'sha': '2945e51c87ad5da893c954afcf092f06343bbb7d',\n",
       "   'url': 'https://api.github.com/repos/ironhack-datalabs/scavenger/git/trees/2945e51c87ad5da893c954afcf092f06343bbb7d'},\n",
       "  {'path': '15534',\n",
       "   'mode': '040000',\n",
       "   'type': 'tree',\n",
       "   'sha': '5af6f2a7287e4191f39e55693fc1e9c8918d1d3a',\n",
       "   'url': 'https://api.github.com/repos/ironhack-datalabs/scavenger/git/trees/5af6f2a7287e4191f39e55693fc1e9c8918d1d3a'},\n",
       "  {'path': '17020',\n",
       "   'mode': '040000',\n",
       "   'type': 'tree',\n",
       "   'sha': '9c49f920aa4d9433fa99a5824128f0e6b90ec5f2',\n",
       "   'url': 'https://api.github.com/repos/ironhack-datalabs/scavenger/git/trees/9c49f920aa4d9433fa99a5824128f0e6b90ec5f2'},\n",
       "  {'path': '30351',\n",
       "   'mode': '040000',\n",
       "   'type': 'tree',\n",
       "   'sha': 'c488d7f64088c852e22067d48fdc64ee3670f3ba',\n",
       "   'url': 'https://api.github.com/repos/ironhack-datalabs/scavenger/git/trees/c488d7f64088c852e22067d48fdc64ee3670f3ba'},\n",
       "  {'path': '40303',\n",
       "   'mode': '040000',\n",
       "   'type': 'tree',\n",
       "   'sha': '30193d9cf62b07bcbb6366513ff03596861f2d29',\n",
       "   'url': 'https://api.github.com/repos/ironhack-datalabs/scavenger/git/trees/30193d9cf62b07bcbb6366513ff03596861f2d29'},\n",
       "  {'path': '44639',\n",
       "   'mode': '040000',\n",
       "   'type': 'tree',\n",
       "   'sha': '22fc3d5c2db80822c351edb2248f3491c8ebda86',\n",
       "   'url': 'https://api.github.com/repos/ironhack-datalabs/scavenger/git/trees/22fc3d5c2db80822c351edb2248f3491c8ebda86'},\n",
       "  {'path': '45525',\n",
       "   'mode': '040000',\n",
       "   'type': 'tree',\n",
       "   'sha': '6a4a88cd9084110c8646c3cfd84dfe96b300a4a7',\n",
       "   'url': 'https://api.github.com/repos/ironhack-datalabs/scavenger/git/trees/6a4a88cd9084110c8646c3cfd84dfe96b300a4a7'},\n",
       "  {'path': '47222',\n",
       "   'mode': '040000',\n",
       "   'type': 'tree',\n",
       "   'sha': 'c7001604cdadc2fe7b82e0f6996690718cac6941',\n",
       "   'url': 'https://api.github.com/repos/ironhack-datalabs/scavenger/git/trees/c7001604cdadc2fe7b82e0f6996690718cac6941'},\n",
       "  {'path': '47830',\n",
       "   'mode': '040000',\n",
       "   'type': 'tree',\n",
       "   'sha': 'f84882ad7560fd2b8c6a0867bc707ce9009ef288',\n",
       "   'url': 'https://api.github.com/repos/ironhack-datalabs/scavenger/git/trees/f84882ad7560fd2b8c6a0867bc707ce9009ef288'},\n",
       "  {'path': '49418',\n",
       "   'mode': '040000',\n",
       "   'type': 'tree',\n",
       "   'sha': '46bc658c09589d9023246b00e848ce97d30d4989',\n",
       "   'url': 'https://api.github.com/repos/ironhack-datalabs/scavenger/git/trees/46bc658c09589d9023246b00e848ce97d30d4989'},\n",
       "  {'path': '50896',\n",
       "   'mode': '040000',\n",
       "   'type': 'tree',\n",
       "   'sha': 'e47a7a35a19f80694587330c57d94e28d3b4c054',\n",
       "   'url': 'https://api.github.com/repos/ironhack-datalabs/scavenger/git/trees/e47a7a35a19f80694587330c57d94e28d3b4c054'},\n",
       "  {'path': '55417',\n",
       "   'mode': '040000',\n",
       "   'type': 'tree',\n",
       "   'sha': '636fa555a2ee752759144a268fd860feb2b6fd2d',\n",
       "   'url': 'https://api.github.com/repos/ironhack-datalabs/scavenger/git/trees/636fa555a2ee752759144a268fd860feb2b6fd2d'},\n",
       "  {'path': '55685',\n",
       "   'mode': '040000',\n",
       "   'type': 'tree',\n",
       "   'sha': 'a00a8148a88287508a867616d7063786d3d5d4ff',\n",
       "   'url': 'https://api.github.com/repos/ironhack-datalabs/scavenger/git/trees/a00a8148a88287508a867616d7063786d3d5d4ff'},\n",
       "  {'path': '60224',\n",
       "   'mode': '040000',\n",
       "   'type': 'tree',\n",
       "   'sha': '28d70fba98bfacfaa5e5544b2eff6b61c9e8f57b',\n",
       "   'url': 'https://api.github.com/repos/ironhack-datalabs/scavenger/git/trees/28d70fba98bfacfaa5e5544b2eff6b61c9e8f57b'},\n",
       "  {'path': '64880',\n",
       "   'mode': '040000',\n",
       "   'type': 'tree',\n",
       "   'sha': '88b159d6f73378e6968bb35ccfd8e3ad0cc462d2',\n",
       "   'url': 'https://api.github.com/repos/ironhack-datalabs/scavenger/git/trees/88b159d6f73378e6968bb35ccfd8e3ad0cc462d2'},\n",
       "  {'path': '66032',\n",
       "   'mode': '040000',\n",
       "   'type': 'tree',\n",
       "   'sha': '0230fa6fa1ccf49ab976fbbfc9eb838094779785',\n",
       "   'url': 'https://api.github.com/repos/ironhack-datalabs/scavenger/git/trees/0230fa6fa1ccf49ab976fbbfc9eb838094779785'},\n",
       "  {'path': '68848',\n",
       "   'mode': '040000',\n",
       "   'type': 'tree',\n",
       "   'sha': 'ed2f90be6835e7e74c283aedba1942b788754d32',\n",
       "   'url': 'https://api.github.com/repos/ironhack-datalabs/scavenger/git/trees/ed2f90be6835e7e74c283aedba1942b788754d32'},\n",
       "  {'path': '70751',\n",
       "   'mode': '040000',\n",
       "   'type': 'tree',\n",
       "   'sha': 'a5d9391003b67cecf3c336398ec38cfa75a689b7',\n",
       "   'url': 'https://api.github.com/repos/ironhack-datalabs/scavenger/git/trees/a5d9391003b67cecf3c336398ec38cfa75a689b7'},\n",
       "  {'path': '70985',\n",
       "   'mode': '040000',\n",
       "   'type': 'tree',\n",
       "   'sha': 'd1a654c5811f52ec8a101652b0a04367644eab99',\n",
       "   'url': 'https://api.github.com/repos/ironhack-datalabs/scavenger/git/trees/d1a654c5811f52ec8a101652b0a04367644eab99'},\n",
       "  {'path': '88596',\n",
       "   'mode': '040000',\n",
       "   'type': 'tree',\n",
       "   'sha': 'f294d2a0e55a4bab12625a7f709b44450a5e4648',\n",
       "   'url': 'https://api.github.com/repos/ironhack-datalabs/scavenger/git/trees/f294d2a0e55a4bab12625a7f709b44450a5e4648'},\n",
       "  {'path': '89046',\n",
       "   'mode': '040000',\n",
       "   'type': 'tree',\n",
       "   'sha': '5f3ef5f14cf72bbe03a24b69777ba02f19a3adb5',\n",
       "   'url': 'https://api.github.com/repos/ironhack-datalabs/scavenger/git/trees/5f3ef5f14cf72bbe03a24b69777ba02f19a3adb5'},\n",
       "  {'path': '89338',\n",
       "   'mode': '040000',\n",
       "   'type': 'tree',\n",
       "   'sha': '79c94a4032a927b2af52cc6da4ce27eb2abbf55e',\n",
       "   'url': 'https://api.github.com/repos/ironhack-datalabs/scavenger/git/trees/79c94a4032a927b2af52cc6da4ce27eb2abbf55e'},\n",
       "  {'path': '91701',\n",
       "   'mode': '040000',\n",
       "   'type': 'tree',\n",
       "   'sha': '0ad19115f0b56c3cd10cb7e077140c201b527301',\n",
       "   'url': 'https://api.github.com/repos/ironhack-datalabs/scavenger/git/trees/0ad19115f0b56c3cd10cb7e077140c201b527301'},\n",
       "  {'path': '97881',\n",
       "   'mode': '040000',\n",
       "   'type': 'tree',\n",
       "   'sha': 'c369c43c17ec44cc3e66dd27f8e557f9d15d40f4',\n",
       "   'url': 'https://api.github.com/repos/ironhack-datalabs/scavenger/git/trees/c369c43c17ec44cc3e66dd27f8e557f9d15d40f4'},\n",
       "  {'path': '98750',\n",
       "   'mode': '040000',\n",
       "   'type': 'tree',\n",
       "   'sha': 'cdc23915e0a5179127458431986ba3750840a924',\n",
       "   'url': 'https://api.github.com/repos/ironhack-datalabs/scavenger/git/trees/cdc23915e0a5179127458431986ba3750840a924'}],\n",
       " 'truncated': False}"
      ]
     },
     "execution_count": 59,
     "metadata": {},
     "output_type": "execute_result"
    }
   ],
   "source": [
    "res_git.json()"
   ]
  },
  {
   "cell_type": "code",
   "execution_count": 60,
   "id": "cc9103fc",
   "metadata": {},
   "outputs": [
    {
     "data": {
      "text/plain": [
       "['.gitignore',\n",
       " '15024',\n",
       " '15534',\n",
       " '17020',\n",
       " '30351',\n",
       " '40303',\n",
       " '44639',\n",
       " '45525',\n",
       " '47222',\n",
       " '47830',\n",
       " '49418',\n",
       " '50896',\n",
       " '55417',\n",
       " '55685',\n",
       " '60224',\n",
       " '64880',\n",
       " '66032',\n",
       " '68848',\n",
       " '70751',\n",
       " '70985',\n",
       " '88596',\n",
       " '89046',\n",
       " '89338',\n",
       " '91701',\n",
       " '97881',\n",
       " '98750']"
      ]
     },
     "execution_count": 60,
     "metadata": {},
     "output_type": "execute_result"
    }
   ],
   "source": [
    "p_list = []\n",
    "for i in range(len(res_git.json()['tree'])):\n",
    "     p_list.append(res_git.json()['tree'][i]['path'])\n",
    "p_list"
   ]
  },
  {
   "cell_type": "code",
   "execution_count": 61,
   "id": "6e68e0d5",
   "metadata": {
    "scrolled": true
   },
   "outputs": [
    {
     "data": {
      "text/plain": [
       "['e43b0f988953ae3a84b00331d0ccf5f7d51cb3cf',\n",
       " '2945e51c87ad5da893c954afcf092f06343bbb7d',\n",
       " '5af6f2a7287e4191f39e55693fc1e9c8918d1d3a',\n",
       " '9c49f920aa4d9433fa99a5824128f0e6b90ec5f2',\n",
       " 'c488d7f64088c852e22067d48fdc64ee3670f3ba',\n",
       " '30193d9cf62b07bcbb6366513ff03596861f2d29',\n",
       " '22fc3d5c2db80822c351edb2248f3491c8ebda86',\n",
       " '6a4a88cd9084110c8646c3cfd84dfe96b300a4a7',\n",
       " 'c7001604cdadc2fe7b82e0f6996690718cac6941',\n",
       " 'f84882ad7560fd2b8c6a0867bc707ce9009ef288',\n",
       " '46bc658c09589d9023246b00e848ce97d30d4989',\n",
       " 'e47a7a35a19f80694587330c57d94e28d3b4c054',\n",
       " '636fa555a2ee752759144a268fd860feb2b6fd2d',\n",
       " 'a00a8148a88287508a867616d7063786d3d5d4ff',\n",
       " '28d70fba98bfacfaa5e5544b2eff6b61c9e8f57b',\n",
       " '88b159d6f73378e6968bb35ccfd8e3ad0cc462d2',\n",
       " '0230fa6fa1ccf49ab976fbbfc9eb838094779785',\n",
       " 'ed2f90be6835e7e74c283aedba1942b788754d32',\n",
       " 'a5d9391003b67cecf3c336398ec38cfa75a689b7',\n",
       " 'd1a654c5811f52ec8a101652b0a04367644eab99',\n",
       " 'f294d2a0e55a4bab12625a7f709b44450a5e4648',\n",
       " '5f3ef5f14cf72bbe03a24b69777ba02f19a3adb5',\n",
       " '79c94a4032a927b2af52cc6da4ce27eb2abbf55e',\n",
       " '0ad19115f0b56c3cd10cb7e077140c201b527301',\n",
       " 'c369c43c17ec44cc3e66dd27f8e557f9d15d40f4',\n",
       " 'cdc23915e0a5179127458431986ba3750840a924']"
      ]
     },
     "execution_count": 61,
     "metadata": {},
     "output_type": "execute_result"
    }
   ],
   "source": [
    "l_list = []\n",
    "for i in range(len(res_git.json()['tree'])):\n",
    "     l_list.append(res_git.json()['tree'][i]['sha'])\n",
    "l_list\n",
    "#l_list contains the names of the files in the repository, now we are going down another level to find scavengerhunt files!"
   ]
  },
  {
   "cell_type": "code",
   "execution_count": 62,
   "id": "5c02ea62",
   "metadata": {},
   "outputs": [
    {
     "data": {
      "text/plain": [
       "{'sha': '2945e51c87ad5da893c954afcf092f06343bbb7d',\n",
       " 'url': 'https://api.github.com/repos/ironhack-datalabs/scavenger/git/trees/2945e51c87ad5da893c954afcf092f06343bbb7d',\n",
       " 'tree': [{'path': '.0006.scavengerhunt',\n",
       "   'mode': '100644',\n",
       "   'type': 'blob',\n",
       "   'sha': '1c9064284a24b3486015eafdb391b141c27ada2b',\n",
       "   'size': 3,\n",
       "   'url': 'https://api.github.com/repos/ironhack-datalabs/scavenger/git/blobs/1c9064284a24b3486015eafdb391b141c27ada2b'},\n",
       "  {'path': '40',\n",
       "   'mode': '100644',\n",
       "   'type': 'blob',\n",
       "   'sha': 'e69de29bb2d1d6434b8b29ae775ad8c2e48c5391',\n",
       "   'size': 0,\n",
       "   'url': 'https://api.github.com/repos/ironhack-datalabs/scavenger/git/blobs/e69de29bb2d1d6434b8b29ae775ad8c2e48c5391'},\n",
       "  {'path': '74',\n",
       "   'mode': '100644',\n",
       "   'type': 'blob',\n",
       "   'sha': 'e69de29bb2d1d6434b8b29ae775ad8c2e48c5391',\n",
       "   'size': 0,\n",
       "   'url': 'https://api.github.com/repos/ironhack-datalabs/scavenger/git/blobs/e69de29bb2d1d6434b8b29ae775ad8c2e48c5391'},\n",
       "  {'path': '99',\n",
       "   'mode': '100644',\n",
       "   'type': 'blob',\n",
       "   'sha': 'e69de29bb2d1d6434b8b29ae775ad8c2e48c5391',\n",
       "   'size': 0,\n",
       "   'url': 'https://api.github.com/repos/ironhack-datalabs/scavenger/git/blobs/e69de29bb2d1d6434b8b29ae775ad8c2e48c5391'}],\n",
       " 'truncated': False}"
      ]
     },
     "execution_count": 62,
     "metadata": {},
     "output_type": "execute_result"
    }
   ],
   "source": [
    "res_git=req.get('https://api.github.com/repos/ironhack-datalabs/scavenger/git/trees/2945e51c87ad5da893c954afcf092f06343bbb7d',auth=(username,token))\n",
    "res_git.json()\n",
    "#res_git.json()"
   ]
  },
  {
   "cell_type": "code",
   "execution_count": 63,
   "id": "ad719bce",
   "metadata": {
    "scrolled": true
   },
   "outputs": [],
   "source": [
    "files_list = []\n",
    "for i in l_list:\n",
    "    if i != 'e43b0f988953ae3a84b00331d0ccf5f7d51cb3cf':\n",
    "        res_git=req.get(f'https://api.github.com/repos/ironhack-datalabs/scavenger/git/trees/{i}',auth=(username,token))\n",
    "        for k in res_git.json()['tree']:\n",
    "            files_list.append(k['path'])\n",
    "    else:\n",
    "        pass\n"
   ]
  },
  {
   "cell_type": "code",
   "execution_count": 64,
   "id": "6666f926",
   "metadata": {},
   "outputs": [
    {
     "name": "stdout",
     "output_type": "stream",
     "text": [
      "['.0006.scavengerhunt', '.0008.scavengerhunt', '.0012.scavengerhunt', '.0007.scavengerhunt', '.0021.scavengerhunt', '.0022.scavengerhunt', '.0005.scavengerhunt', '.0018.scavengerhunt', '.0016.scavengerhunt', '.0024.scavengerhunt', '.0010.scavengerhunt', '.0014.scavengerhunt', '.0011.scavengerhunt', '.0023.scavengerhunt', '.0020.scavengerhunt', '.0003.scavengerhunt', '.0004.scavengerhunt', '.0019.scavengerhunt', '.0017.scavengerhunt', '.0002.scavengerhunt', '.0013.scavengerhunt', '.0015.scavengerhunt', '.0009.scavengerhunt', '.0001.scavengerhunt']\n"
     ]
    }
   ],
   "source": [
    "scav = []\n",
    "for i in files_list:\n",
    "    if 'scav' in i:\n",
    "        scav.append(i)\n",
    "print(scav)"
   ]
  },
  {
   "cell_type": "code",
   "execution_count": 48,
   "id": "779afcb6",
   "metadata": {},
   "outputs": [
    {
     "data": {
      "text/plain": [
       "['.0001.scavengerhunt',\n",
       " '.0002.scavengerhunt',\n",
       " '.0003.scavengerhunt',\n",
       " '.0004.scavengerhunt',\n",
       " '.0005.scavengerhunt',\n",
       " '.0006.scavengerhunt',\n",
       " '.0007.scavengerhunt',\n",
       " '.0008.scavengerhunt',\n",
       " '.0009.scavengerhunt',\n",
       " '.0010.scavengerhunt',\n",
       " '.0011.scavengerhunt',\n",
       " '.0012.scavengerhunt',\n",
       " '.0013.scavengerhunt',\n",
       " '.0014.scavengerhunt',\n",
       " '.0015.scavengerhunt',\n",
       " '.0016.scavengerhunt',\n",
       " '.0017.scavengerhunt',\n",
       " '.0018.scavengerhunt',\n",
       " '.0019.scavengerhunt',\n",
       " '.0020.scavengerhunt',\n",
       " '.0021.scavengerhunt',\n",
       " '.0022.scavengerhunt',\n",
       " '.0023.scavengerhunt',\n",
       " '.0024.scavengerhunt']"
      ]
     },
     "execution_count": 48,
     "metadata": {},
     "output_type": "execute_result"
    }
   ],
   "source": [
    "list_order = sorted(scav)\n",
    "list_order"
   ]
  },
  {
   "cell_type": "code",
   "execution_count": null,
   "id": "8bf9c67d",
   "metadata": {},
   "outputs": [],
   "source": [
    "# -> P_list: carpetas\n",
    "# -> L_list: path a los archivos\n",
    "# -> list_order: scavenger hunts ordenados"
   ]
  },
  {
   "cell_type": "code",
   "execution_count": 71,
   "id": "dbb278d0",
   "metadata": {},
   "outputs": [
    {
     "data": {
      "text/plain": [
       "<Response [404]>"
      ]
     },
     "execution_count": 71,
     "metadata": {},
     "output_type": "execute_result"
    }
   ],
   "source": []
  },
  {
   "cell_type": "code",
   "execution_count": 73,
   "id": "4c18121f",
   "metadata": {},
   "outputs": [
    {
     "data": {
      "text/plain": [
       "<Response [404]>"
      ]
     },
     "execution_count": 73,
     "metadata": {},
     "output_type": "execute_result"
    }
   ],
   "source": [
    "res_git=req.get('https://api.github.com/repos/ironhack-datalabs/scavenger/15024/.0006.scavengerhunt/commits',auth=(username,token))\n"
   ]
  },
  {
   "cell_type": "code",
   "execution_count": null,
   "id": "36bc0ee7",
   "metadata": {},
   "outputs": [],
   "source": []
  },
  {
   "cell_type": "code",
   "execution_count": 2,
   "id": "static-stopping",
   "metadata": {},
   "outputs": [],
   "source": [
    "# Example: print(variable[:10]) "
   ]
  },
  {
   "cell_type": "code",
   "execution_count": 47,
   "id": "ee42d02e",
   "metadata": {},
   "outputs": [
    {
     "data": {
      "text/plain": [
       "<Response [200]>"
      ]
     },
     "execution_count": 47,
     "metadata": {},
     "output_type": "execute_result"
    }
   ],
   "source": [
    "with open('ignoredstuff/token.txt') as f:\n",
    "    token = f.readline()\n",
    "username = 'disanchz'\n",
    "res_git = req.get('https://api.github.com/search/repositories?q=github+api', auth=(username,token))\n",
    "res_git"
   ]
  }
 ],
 "metadata": {
  "kernelspec": {
   "display_name": "Python 3 (ipykernel)",
   "language": "python",
   "name": "python3"
  },
  "language_info": {
   "codemirror_mode": {
    "name": "ipython",
    "version": 3
   },
   "file_extension": ".py",
   "mimetype": "text/x-python",
   "name": "python",
   "nbconvert_exporter": "python",
   "pygments_lexer": "ipython3",
   "version": "3.9.7"
  },
  "toc": {
   "base_numbering": 1,
   "nav_menu": {},
   "number_sections": true,
   "sideBar": true,
   "skip_h1_title": true,
   "title_cell": "Table of Contents",
   "title_sidebar": "Contents",
   "toc_cell": false,
   "toc_position": {},
   "toc_section_display": true,
   "toc_window_display": true
  }
 },
 "nbformat": 4,
 "nbformat_minor": 5
}
