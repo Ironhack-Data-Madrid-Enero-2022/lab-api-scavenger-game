{
 "cells": [
  {
   "cell_type": "markdown",
   "metadata": {},
   "source": [
    "# Challenge 3: Hidden Cold Joke\n",
    "\n",
    "Using Python, call Github API to find out the cold joke contained in the 24 secret files in the following repo:\n",
    "\n",
    "https://github.com/ironhack-datalabs/scavenger\n",
    "\n",
    "The filenames of the secret files contain .scavengerhunt and they are scattered in different directories of this repo. The secret files are named from .0001.scavengerhunt to .0024.scavengerhunt. They are scattered randomly throughout this repo. You need to search for these files by calling the Github API, not searching the local files on your computer.\n",
    "\n",
    "\n",
    "After you find out the secrete files:\n",
    "\n",
    "Sort the filenames ascendingly.\n",
    "\n",
    "Read the content of each secret files into an array of strings.\n",
    "\n",
    "Concatenate the strings in the array separating each two with a whitespace.\n",
    "\n",
    "Print out the joke."
   ]
  },
  {
   "cell_type": "markdown",
   "metadata": {},
   "source": [
    "⚠️ **Remember to limit your output before submission**."
   ]
  },
  {
   "cell_type": "code",
   "execution_count": 1,
   "metadata": {},
   "outputs": [],
   "source": [
    "import json\n",
    "import requests as req\n",
    "import pandas as pd"
   ]
  },
  {
   "cell_type": "code",
   "execution_count": 2,
   "metadata": {},
   "outputs": [],
   "source": [
    "import base64"
   ]
  },
  {
   "cell_type": "code",
   "execution_count": 3,
   "metadata": {},
   "outputs": [],
   "source": [
    "# Your code\n",
    "URL = 'https://api.github.com/repos/ironhack-datalabs/scavenger/contents'\n",
    "username = 'evaarquero'\n",
    "with open('token.txt') as f:\n",
    "    token = f.readline()"
   ]
  },
  {
   "cell_type": "code",
   "execution_count": 4,
   "metadata": {},
   "outputs": [],
   "source": [
    "c= req.get(URL, auth=(username,token)).json()"
   ]
  },
  {
   "cell_type": "code",
   "execution_count": 5,
   "metadata": {},
   "outputs": [
    {
     "name": "stdout",
     "output_type": "stream",
     "text": [
      "['.gitignore', '15024', '15534', '17020', '30351', '40303', '44639', '45525', '47222', '47830', '49418', '50896', '55417', '55685', '60224', '64880', '66032', '68848', '70751', '70985', '88596', '89046', '89338', '91701', '97881', '98750']\n"
     ]
    }
   ],
   "source": [
    "name=pd.json_normalize(c)\n",
    "print(list(name[\"path\"]))"
   ]
  },
  {
   "cell_type": "code",
   "execution_count": 6,
   "metadata": {},
   "outputs": [],
   "source": [
    "def github_read_file(username, repository_name, file_path, github_token=None):\n",
    "    headers = {}\n",
    "    if github_token:\n",
    "        headers['Authorization'] = f\"token {token}\"\n",
    "    url = f'https://api.github.com/repos/{username}/{repository_name}/contents/{file_path}'\n",
    "    r = req.get(url, headers=headers,auth=('evaarquero',token))\n",
    "    r.raise_for_status()\n",
    "    data = r.json()\n",
    "    file_content = data['content']\n",
    "    file_content_encoding = data.get('encoding')\n",
    "    if file_content_encoding == 'base64':\n",
    "        file_content = base64.b64decode(file_content).decode()\n",
    "\n",
    "    return file_content"
   ]
  },
  {
   "cell_type": "code",
   "execution_count": 7,
   "metadata": {
    "scrolled": true
   },
   "outputs": [
    {
     "data": {
      "text/plain": [
       "26"
      ]
     },
     "execution_count": 7,
     "metadata": {},
     "output_type": "execute_result"
    }
   ],
   "source": [
    "url = []\n",
    "name2= []\n",
    "for i in name['path']:\n",
    "    name2.append(i)\n",
    "    url.append('https://api.github.com/repos/ironhack-datalabs/scavenger/contents/'+i+'?ref=master')\n",
    "url\n",
    "len(url)"
   ]
  },
  {
   "cell_type": "code",
   "execution_count": 8,
   "metadata": {
    "scrolled": true
   },
   "outputs": [],
   "source": [
    "path =[]\n",
    "for i in url:\n",
    "    path.append(req.get(i, auth=(username,token)).json())"
   ]
  },
  {
   "cell_type": "code",
   "execution_count": 9,
   "metadata": {},
   "outputs": [],
   "source": [
    "files = [path[1][0]['path'],\n",
    "         path[2][0]['path'],\n",
    "         path[3][0]['path'],\n",
    "         path[4][0]['path'],\n",
    "         path[5][0]['path'],\n",
    "         path[6][0]['path'],\n",
    "         path[7][0]['path'],\n",
    "         path[8][0]['path'],\n",
    "         path[9][0]['path'],\n",
    "         path[10][0]['path'],\n",
    "         path[11][0]['path'],\n",
    "         path[12][0]['path'],\n",
    "         path[13][0]['path'],\n",
    "         path[14][0]['path'],\n",
    "         path[15][0]['path'],\n",
    "         path[15][2]['path'],\n",
    "         path[17][0]['path'],\n",
    "         path[18][0]['path'],\n",
    "         path[19][0]['path'],\n",
    "         path[20][0]['path'],\n",
    "         path[21][0]['path'],\n",
    "         path[22][0]['path'],\n",
    "         path[23][0]['path'],\n",
    "         path[24][0]['path'],\n",
    "         path[25][0]['path'],\n",
    "         path[25][1]['path'],]"
   ]
  },
  {
   "cell_type": "code",
   "execution_count": 11,
   "metadata": {},
   "outputs": [
    {
     "name": "stdout",
     "output_type": "stream",
     "text": [
      "['64880/3', '64880/79', '89046/64', '98750/20', '98750/.0001.scavengerhunt', '88596/.0002.scavengerhunt', '60224/.0003.scavengerhunt', '68848/.0004.scavengerhunt', '44639/.0005.scavengerhunt', '15024/.0006.scavengerhunt', '17020/.0007.scavengerhunt', '15534/.0008.scavengerhunt', '97881/.0009.scavengerhunt', '47830/.0010.scavengerhunt', '50896/.0011.scavengerhunt', '89338/.0013.scavengerhunt', '49418/.0014.scavengerhunt', '91701/.0015.scavengerhunt', '47222/.0016.scavengerhunt', '70985/.0017.scavengerhunt', '45525/.0018.scavengerhunt', '70751/.0019.scavengerhunt', '55685/.0020.scavengerhunt', '30351/.0021.scavengerhunt', '40303/.0022.scavengerhunt', '55417/.0023.scavengerhunt']\n"
     ]
    }
   ],
   "source": [
    "import re\n",
    "\n",
    "def atoi(text):\n",
    "    return int(text) if text.isdigit() else text\n",
    "\n",
    "def natural_keys(text):\n",
    "    '''\n",
    "    alist.sort(key=natural_keys) sorts in human order\n",
    "    http://nedbatchelder.com/blog/200712/human_sorting.html\n",
    "    (See Toothy's implementation in the comments)\n",
    "    '''\n",
    "    return [ atoi(c) for c in re.findall(r'00\\d+', text) ]\n",
    "\n",
    "\n",
    "files.sort(key=natural_keys)\n",
    "print(files)"
   ]
  },
  {
   "cell_type": "code",
   "execution_count": 12,
   "metadata": {},
   "outputs": [
    {
     "data": {
      "text/plain": [
       "'In\\ndata\\nscience,\\n80\\npercent\\nof\\ntime\\nspent\\nis\\npreparing\\ndata,\\npercent\\nof\\ntime\\nis\\nspent\\ncomplaining\\nabout\\nthe\\nneed\\nto\\nprepare\\n'"
      ]
     },
     "execution_count": 12,
     "metadata": {},
     "output_type": "execute_result"
    }
   ],
   "source": [
    "sentence = \"\"\n",
    "for i in files:\n",
    "    sentence += github_read_file('ironhack-datalabs', 'scavenger', i)\n",
    "sentence"
   ]
  },
  {
   "cell_type": "code",
   "execution_count": 13,
   "metadata": {},
   "outputs": [
    {
     "name": "stdout",
     "output_type": "stream",
     "text": [
      "In\n",
      "data\n",
      "science,\n",
      "80\n",
      "percent\n",
      "of\n",
      "time\n",
      "spent\n",
      "is\n",
      "preparing\n",
      "data,\n",
      "percent\n",
      "of\n",
      "time\n",
      "is\n",
      "spent\n",
      "complaining\n",
      "about\n",
      "the\n",
      "need\n",
      "to\n",
      "prepare\n",
      "\n"
     ]
    }
   ],
   "source": [
    "print(sentence)"
   ]
  },
  {
   "cell_type": "markdown",
   "metadata": {},
   "source": [
    "PARTE DEL PROCESO SIMPLIFICADO"
   ]
  },
  {
   "cell_type": "code",
   "execution_count": 14,
   "metadata": {},
   "outputs": [],
   "source": [
    "URL15024 = 'https://api.github.com/repos/ironhack-datalabs/scavenger/contents/15024?ref=master'"
   ]
  },
  {
   "cell_type": "code",
   "execution_count": 15,
   "metadata": {},
   "outputs": [
    {
     "name": "stdout",
     "output_type": "stream",
     "text": [
      "15024/.0006.scavengerhunt\n",
      "15024/40\n",
      "15024/74\n",
      "15024/99\n"
     ]
    }
   ],
   "source": [
    "d_15024=req.get(URL15024, auth=(username,token)).json()\n",
    "for i in d_15024[0:5]:\n",
    "    d =i['path']\n",
    "    print(d)"
   ]
  },
  {
   "cell_type": "code",
   "execution_count": 16,
   "metadata": {},
   "outputs": [
    {
     "data": {
      "text/plain": [
       "'of\\n'"
      ]
     },
     "execution_count": 16,
     "metadata": {},
     "output_type": "execute_result"
    }
   ],
   "source": [
    "github_read_file('ironhack-datalabs', 'scavenger', '15024/.0006.scavengerhunt')"
   ]
  }
 ],
 "metadata": {
  "kernelspec": {
   "display_name": "Python 3",
   "language": "python",
   "name": "python3"
  },
  "language_info": {
   "codemirror_mode": {
    "name": "ipython",
    "version": 3
   },
   "file_extension": ".py",
   "mimetype": "text/x-python",
   "name": "python",
   "nbconvert_exporter": "python",
   "pygments_lexer": "ipython3",
   "version": "3.8.5"
  },
  "toc": {
   "base_numbering": 1,
   "nav_menu": {},
   "number_sections": true,
   "sideBar": true,
   "skip_h1_title": true,
   "title_cell": "Table of Contents",
   "title_sidebar": "Contents",
   "toc_cell": false,
   "toc_position": {},
   "toc_section_display": true,
   "toc_window_display": true
  }
 },
 "nbformat": 4,
 "nbformat_minor": 5
}
