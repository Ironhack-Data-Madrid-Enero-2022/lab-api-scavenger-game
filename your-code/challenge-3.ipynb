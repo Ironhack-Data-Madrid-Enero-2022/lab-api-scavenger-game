{
 "cells": [
  {
   "cell_type": "markdown",
   "id": "defensive-clock",
   "metadata": {},
   "source": [
    "# Challenge 3: Hidden Cold Joke\n",
    "\n",
    "Using Python, call Github API to find out the cold joke contained in the 24 secret files in the following repo:\n",
    "\n",
    "https://github.com/ironhack-datalabs/scavenger\n",
    "\n",
    "The filenames of the secret files contain .scavengerhunt and they are scattered in different directories of this repo. The secret files are named from .0001.scavengerhunt to .0024.scavengerhunt. They are scattered randomly throughout this repo. You need to search for these files by calling the Github API, not searching the local files on your computer.\n",
    "\n",
    "\n",
    "After you find out the secrete files:\n",
    "\n",
    "Sort the filenames ascendingly.\n",
    "\n",
    "Read the content of each secret files into an array of strings.\n",
    "\n",
    "Concatenate the strings in the array separating each two with a whitespace.\n",
    "\n",
    "Print out the joke."
   ]
  },
  {
   "cell_type": "markdown",
   "id": "universal-length",
   "metadata": {},
   "source": [
    "⚠️ **Remember to limit your output before submission**."
   ]
  },
  {
   "cell_type": "code",
   "execution_count": 49,
   "id": "toxic-trading",
   "metadata": {},
   "outputs": [],
   "source": [
    "import requests as req\n",
    "import base64 as b64\n",
    "import re\n",
    "URL='https://api.github.com/'"
   ]
  },
  {
   "cell_type": "code",
   "execution_count": 2,
   "id": "d447567c",
   "metadata": {},
   "outputs": [],
   "source": [
    "import os\n",
    "from dotenv import load_dotenv"
   ]
  },
  {
   "cell_type": "code",
   "execution_count": 3,
   "id": "9cca5faf",
   "metadata": {},
   "outputs": [],
   "source": [
    "clave = open(\"../txt.txt\",\"r\")\n",
    "token = clave.read()\n",
    "username=\"VictorPablo12\""
   ]
  },
  {
   "cell_type": "code",
   "execution_count": 4,
   "id": "3d6d3219",
   "metadata": {},
   "outputs": [],
   "source": [
    "repo=\"repos/ironhack-datalabs/scavenger/contents\"\n",
    "\n",
    "#repo =\"repos/ironhack-datalabs/scavenger/contents/15024?ref=master\" ->penultimo level por el que hay que pasar\n",
    "# --> Esta es la ruta que contiene la key content que es la que quiero/15024/.0006.scavengerhunt\""
   ]
  },
  {
   "cell_type": "code",
   "execution_count": 5,
   "id": "95263aa1",
   "metadata": {},
   "outputs": [],
   "source": [
    "#repo = \"repos/ironhack-datalabs/scavenger/commits\""
   ]
  },
  {
   "cell_type": "code",
   "execution_count": 6,
   "id": "bb433b65",
   "metadata": {},
   "outputs": [],
   "source": [
    "#repo = \"repos/ironhack-datalabs/scavenger/git/commits/5af6f2a7287e4191f39e55693fc1e9c8918d1d3a\""
   ]
  },
  {
   "cell_type": "code",
   "execution_count": 7,
   "id": "27d3c691",
   "metadata": {},
   "outputs": [],
   "source": [
    "#repo = \"repos/ironhack-datalabs/scavenger/git/blobs/e43b0f988953ae3a84b00331d0ccf5f7d51cb3cf\""
   ]
  },
  {
   "cell_type": "code",
   "execution_count": 8,
   "id": "5ac9b247",
   "metadata": {},
   "outputs": [
    {
     "data": {
      "text/plain": [
       "<Response [200]>"
      ]
     },
     "execution_count": 8,
     "metadata": {},
     "output_type": "execute_result"
    }
   ],
   "source": [
    "res_git= req.get(URL+repo)\n",
    "res_git"
   ]
  },
  {
   "cell_type": "code",
   "execution_count": 9,
   "id": "1fb50e3b",
   "metadata": {},
   "outputs": [
    {
     "data": {
      "text/plain": [
       "{'name': '15024',\n",
       " 'path': '15024',\n",
       " 'sha': '2945e51c87ad5da893c954afcf092f06343bbb7d',\n",
       " 'size': 0,\n",
       " 'url': 'https://api.github.com/repos/ironhack-datalabs/scavenger/contents/15024?ref=master',\n",
       " 'html_url': 'https://github.com/ironhack-datalabs/scavenger/tree/master/15024',\n",
       " 'git_url': 'https://api.github.com/repos/ironhack-datalabs/scavenger/git/trees/2945e51c87ad5da893c954afcf092f06343bbb7d',\n",
       " 'download_url': None,\n",
       " 'type': 'dir',\n",
       " '_links': {'self': 'https://api.github.com/repos/ironhack-datalabs/scavenger/contents/15024?ref=master',\n",
       "  'git': 'https://api.github.com/repos/ironhack-datalabs/scavenger/git/trees/2945e51c87ad5da893c954afcf092f06343bbb7d',\n",
       "  'html': 'https://github.com/ironhack-datalabs/scavenger/tree/master/15024'}}"
      ]
     },
     "execution_count": 9,
     "metadata": {},
     "output_type": "execute_result"
    }
   ],
   "source": [
    "res_git.json()[1]"
   ]
  },
  {
   "cell_type": "code",
   "execution_count": 10,
   "id": "65e6a06e",
   "metadata": {},
   "outputs": [
    {
     "name": "stdout",
     "output_type": "stream",
     "text": [
      "['15024', '15534', '17020', '30351', '40303', '44639', '45525', '47222', '47830', '49418', '50896', '55417', '55685', '60224', '64880', '66032', '68848', '70751', '70985', '88596', '89046', '89338', '91701', '97881', '98750']\n"
     ]
    }
   ],
   "source": [
    "carpetas = []\n",
    "for a in range(len(res_git.json())):\n",
    "    carpetas.append(res_git.json()[a][\"name\"])\n",
    "    \n",
    "carpetas.pop(0)\n",
    "print(carpetas) #Ya sabemos las carpetas que vamos a mirar"
   ]
  },
  {
   "cell_type": "code",
   "execution_count": 31,
   "id": "40d7c399",
   "metadata": {},
   "outputs": [
    {
     "name": "stdout",
     "output_type": "stream",
     "text": [
      "['15024/.0006.scavengerhunt', '15024/40', '15024/74', '15024/99', '15534/.0008.scavengerhunt', '15534/.0012.scavengerhunt', '15534/2', '15534/98', '17020/.0007.scavengerhunt', '17020/46', '17020/97', '30351/.0021.scavengerhunt', '30351/22', '30351/96', '40303/.0022.scavengerhunt', '40303/51', '40303/65', '44639/.0005.scavengerhunt', '44639/76', '44639/91', '45525/.0018.scavengerhunt', '45525/67', '45525/90', '47222/.0016.scavengerhunt', '47222/.0024.scavengerhunt', '47222/7', '47222/89', '47830/.0010.scavengerhunt', '47830/66', '47830/85', '49418/.0014.scavengerhunt', '49418/30', '49418/38', '49418/84', '50896/.0011.scavengerhunt', '50896/4', '50896/83', '55417/.0023.scavengerhunt', '55417/14', '55417/82', '55685/.0020.scavengerhunt', '55685/5', '55685/81', '60224/.0003.scavengerhunt', '60224/1', '60224/80', '64880/3', '64880/57', '64880/79', '66032/28', '66032/47', '66032/77', '68848/.0004.scavengerhunt', '68848/16', '68848/75', '70751/.0019.scavengerhunt', '70751/18', '70751/44', '70751/68', '70985/.0017.scavengerhunt', '70985/11', '70985/59', '88596/.0002.scavengerhunt', '88596/12', '88596/32', '88596/55', '89046/64', '89046/70', '89046/73', '89338/.0013.scavengerhunt', '89338/35', '89338/43', '89338/8', '91701/.0015.scavengerhunt', '91701/33', '91701/39', '97881/.0009.scavengerhunt', '97881/26', '97881/36', '97881/71', '98750/.0001.scavengerhunt', '98750/20', '98750/62']\n"
     ]
    }
   ],
   "source": [
    "REF =\"?ref=master\"\n",
    "ends=[]\n",
    "ficheros = []\n",
    "for element in carpetas:\n",
    "    res_git= req.get(f\"{URL}{repo}/{element}{REF}\",auth=(username,token))\n",
    "    for x in range(len(res_git.json())):\n",
    "        #print(res_git)\n",
    "        ficheros.append(element)\n",
    "        ends.append(f\"{element}/{res_git.json()[x]['name']}\") #o Hago esto todo a la vez o no se que direcciones me ha dado que fichero\n",
    "print(ends)"
   ]
  },
  {
   "cell_type": "code",
   "execution_count": 39,
   "id": "5e5e39d6",
   "metadata": {},
   "outputs": [
    {
     "name": "stdout",
     "output_type": "stream",
     "text": [
      "['15024/.0006.scavengerhunt', '15534/.0008.scavengerhunt', '15534/.0012.scavengerhunt', '17020/.0007.scavengerhunt', '30351/.0021.scavengerhunt', '40303/.0022.scavengerhunt', '44639/.0005.scavengerhunt', '45525/.0018.scavengerhunt', '47222/.0016.scavengerhunt', '47222/.0024.scavengerhunt', '47830/.0010.scavengerhunt', '49418/.0014.scavengerhunt', '50896/.0011.scavengerhunt', '55417/.0023.scavengerhunt', '55685/.0020.scavengerhunt', '60224/.0003.scavengerhunt', '68848/.0004.scavengerhunt', '70751/.0019.scavengerhunt', '70985/.0017.scavengerhunt', '88596/.0002.scavengerhunt', '89338/.0013.scavengerhunt', '91701/.0015.scavengerhunt', '97881/.0009.scavengerhunt', '98750/.0001.scavengerhunt']\n"
     ]
    },
    {
     "data": {
      "text/plain": [
       "24"
      ]
     },
     "execution_count": 39,
     "metadata": {},
     "output_type": "execute_result"
    }
   ],
   "source": [
    "for element in ends:\n",
    "    if len(element) < 12:\n",
    "        ends.remove(element)\n",
    "print(ends)\n",
    "len(ends)#No se porque narices aplica esto pegando saltos"
   ]
  },
  {
   "cell_type": "code",
   "execution_count": 44,
   "id": "10f09950",
   "metadata": {},
   "outputs": [
    {
     "data": {
      "text/plain": [
       "{'15024/.0006.scavengerhunt',\n",
       " '15534/.0008.scavengerhunt',\n",
       " '15534/.0012.scavengerhunt',\n",
       " '17020/.0007.scavengerhunt',\n",
       " '30351/.0021.scavengerhunt',\n",
       " '40303/.0022.scavengerhunt',\n",
       " '44639/.0005.scavengerhunt',\n",
       " '45525/.0018.scavengerhunt',\n",
       " '47222/.0016.scavengerhunt',\n",
       " '47222/.0024.scavengerhunt',\n",
       " '47830/.0010.scavengerhunt',\n",
       " '49418/.0014.scavengerhunt',\n",
       " '50896/.0011.scavengerhunt',\n",
       " '55417/.0023.scavengerhunt',\n",
       " '55685/.0020.scavengerhunt',\n",
       " '60224/.0003.scavengerhunt',\n",
       " '68848/.0004.scavengerhunt',\n",
       " '70751/.0019.scavengerhunt',\n",
       " '70985/.0017.scavengerhunt',\n",
       " '88596/.0002.scavengerhunt',\n",
       " '89338/.0013.scavengerhunt',\n",
       " '91701/.0015.scavengerhunt',\n",
       " '97881/.0009.scavengerhunt',\n",
       " '98750/.0001.scavengerhunt'}"
      ]
     },
     "execution_count": 44,
     "metadata": {},
     "output_type": "execute_result"
    }
   ],
   "source": []
  },
  {
   "cell_type": "code",
   "execution_count": 78,
   "id": "1427fe47",
   "metadata": {},
   "outputs": [
    {
     "name": "stdout",
     "output_type": "stream",
     "text": [
      "['98750/.0001.scavengerhunt', '88596/.0002.scavengerhunt', '60224/.0003.scavengerhunt', '68848/.0004.scavengerhunt', '44639/.0005.scavengerhunt', '15024/.0006.scavengerhunt', '17020/.0007.scavengerhunt', '15534/.0008.scavengerhunt', '97881/.0009.scavengerhunt', '47830/.0010.scavengerhunt', '50896/.0011.scavengerhunt', '15534/.0012.scavengerhunt', '89338/.0013.scavengerhunt', '49418/.0014.scavengerhunt', '91701/.0015.scavengerhunt', '47222/.0016.scavengerhunt', '70985/.0017.scavengerhunt', '45525/.0018.scavengerhunt', '70751/.0019.scavengerhunt', '55685/.0020.scavengerhunt', '30351/.0021.scavengerhunt', '40303/.0022.scavengerhunt', '55417/.0023.scavengerhunt', '47222/.0024.scavengerhunt']\n"
     ]
    }
   ],
   "source": [
    "c = [23,19,15,16,6,0,3,1,22,10,12,2,20,11,21,8,18,7,17,14,4,5,13,9]\n",
    "ordenadas = []\n",
    "len(c)\n",
    "for element in c:\n",
    "    ordenadas.append(ends[element])\n",
    "print(ordenadas)"
   ]
  },
  {
   "cell_type": "code",
   "execution_count": 102,
   "id": "e959c9c2",
   "metadata": {},
   "outputs": [
    {
     "name": "stdout",
     "output_type": "stream",
     "text": [
      "[b'In\\n', b'data\\n', b'science,\\n', b'80\\n', b'percent\\n', b'of\\n', b'time\\n', b'spent\\n', b'is\\n', b'preparing\\n', b'data,\\n', b'20\\n', b'percent\\n', b'of\\n', b'time\\n', b'is\\n', b'spent\\n', b'complaining\\n', b'about\\n', b'the\\n', b'need\\n', b'to\\n', b'prepare\\n', b'data.\\n']\n"
     ]
    }
   ],
   "source": [
    "mensaje=[]\n",
    "for x in ordenadas:\n",
    "    res_git=req.get(f\"{URL}{repo}/{x}\",auth=(username,token))  #print(res_git.json()[\"content\"]) #print(f\"{URL}{repo}/{x}\")\n",
    "    mensaje.append(b64.b64decode(res_git.json()[\"content\"]))     \n",
    "print(mensaje)    \n",
    "    "
   ]
  },
  {
   "cell_type": "code",
   "execution_count": 107,
   "id": "c926878a",
   "metadata": {},
   "outputs": [
    {
     "data": {
      "text/plain": [
       "\"[b'In\\\\n', b'data\\\\n', b'science,\\\\n', b'80\\\\n', b'percent\\\\n', b'of\\\\n', b'time\\\\n', b'spent\\\\n', b'is\\\\n', b'preparing\\\\n', b'data,\\\\n', b'20\\\\n', b'percent\\\\n', b'of\\\\n', b'time\\\\n', b'is\\\\n', b'spent\\\\n', b'complaining\\\\n', b'about\\\\n', b'the\\\\n', b'need\\\\n', b'to\\\\n', b'prepare\\\\n', b'data.\\\\n']\""
      ]
     },
     "execution_count": 107,
     "metadata": {},
     "output_type": "execute_result"
    }
   ],
   "source": [
    "str(mensaje)"
   ]
  },
  {
   "cell_type": "code",
   "execution_count": 113,
   "id": "d763bf65",
   "metadata": {},
   "outputs": [
    {
     "data": {
      "text/plain": [
       "\"[b'In\\\\n', b'data\\\\n', b'science,\\\\n', b'80\\\\n', b'percent\\\\n', b'of\\\\n', b'time\\\\n', b'spent\\\\n', b'is\\\\n', b'preparing\\\\n', b'data,\\\\n', b'20\\\\n', b'percent\\\\n', b'of\\\\n', b'time\\\\n', b'is\\\\n', b'spent\\\\n', b'complaining\\\\n', b'about\\\\n', b'the\\\\n', b'need\\\\n', b'to\\\\n', b'prepare\\\\n', b'data.\\\\n']\""
      ]
     },
     "execution_count": 113,
     "metadata": {},
     "output_type": "execute_result"
    }
   ],
   "source": [
    "#str(mensaje).rstrip(\"\\n\").lstrip(\"\\n\")"
   ]
  },
  {
   "cell_type": "markdown",
   "id": "5045848a",
   "metadata": {},
   "source": [
    "type(mensaje[1])"
   ]
  },
  {
   "cell_type": "code",
   "execution_count": 116,
   "id": "61d6641c",
   "metadata": {},
   "outputs": [
    {
     "data": {
      "text/plain": [
       "[\"[b'In\\\\n',\",\n",
       " \"b'data\\\\n',\",\n",
       " \"b'science,\\\\n',\",\n",
       " \"b'80\\\\n',\",\n",
       " \"b'percent\\\\n',\",\n",
       " \"b'of\\\\n',\",\n",
       " \"b'time\\\\n',\",\n",
       " \"b'spent\\\\n',\",\n",
       " \"b'is\\\\n',\",\n",
       " \"b'preparing\\\\n',\",\n",
       " \"b'data,\\\\n',\",\n",
       " \"b'20\\\\n',\",\n",
       " \"b'percent\\\\n',\",\n",
       " \"b'of\\\\n',\",\n",
       " \"b'time\\\\n',\",\n",
       " \"b'is\\\\n',\",\n",
       " \"b'spent\\\\n',\",\n",
       " \"b'complaining\\\\n',\",\n",
       " \"b'about\\\\n',\",\n",
       " \"b'the\\\\n',\",\n",
       " \"b'need\\\\n',\",\n",
       " \"b'to\\\\n',\",\n",
       " \"b'prepare\\\\n',\",\n",
       " \"b'data.\\\\n']\"]"
      ]
     },
     "execution_count": 116,
     "metadata": {},
     "output_type": "execute_result"
    }
   ],
   "source": [
    "#str(mensaje).split()"
   ]
  },
  {
   "cell_type": "code",
   "execution_count": 103,
   "id": "78513990",
   "metadata": {},
   "outputs": [
    {
     "ename": "AttributeError",
     "evalue": "'list' object has no attribute 'rstrip'",
     "output_type": "error",
     "traceback": [
      "\u001b[0;31m---------------------------------------------------------------------------\u001b[0m",
      "\u001b[0;31mAttributeError\u001b[0m                            Traceback (most recent call last)",
      "Input \u001b[0;32mIn [103]\u001b[0m, in \u001b[0;36m<module>\u001b[0;34m\u001b[0m\n\u001b[0;32m----> 1\u001b[0m \u001b[43mmensaje\u001b[49m\u001b[38;5;241;43m.\u001b[39;49m\u001b[43mrstrip\u001b[49m(\u001b[38;5;124m'\u001b[39m\u001b[38;5;124mb\u001b[39m\u001b[38;5;124m'\u001b[39m)\n",
      "\u001b[0;31mAttributeError\u001b[0m: 'list' object has no attribute 'rstrip'"
     ]
    }
   ],
   "source": [
    "mensaje.rstrip('b')"
   ]
  },
  {
   "cell_type": "code",
   "execution_count": null,
   "id": "ee729523",
   "metadata": {},
   "outputs": [],
   "source": []
  },
  {
   "cell_type": "code",
   "execution_count": 572,
   "id": "e249a558",
   "metadata": {},
   "outputs": [
    {
     "data": {
      "text/plain": [
       "<Response [404]>"
      ]
     },
     "execution_count": 572,
     "metadata": {},
     "output_type": "execute_result"
    }
   ],
   "source": [
    "res_git = req.get(\"https://api.github.com/repos/ironhack-datalabs/scavenger/15024/.0006.scavengerhunt\",auth=(username,token))\n",
    "res_git\n",
    "#mensaje.append(b64.b64decode(res_git.json()[\"content\"]))"
   ]
  },
  {
   "cell_type": "code",
   "execution_count": 320,
   "id": "ece95eab",
   "metadata": {},
   "outputs": [
    {
     "name": "stdout",
     "output_type": "stream",
     "text": [
      "b'time\\n'\n"
     ]
    }
   ],
   "source": [
    "decode = b64.b64decode('dGltZQo=\\n')\n",
    "print(decode) #Tiene pinta de que es esto, suPM"
   ]
  },
  {
   "cell_type": "code",
   "execution_count": 136,
   "id": "static-stopping",
   "metadata": {},
   "outputs": [
    {
     "data": {
      "text/plain": [
       "[{'name': '.gitignore',\n",
       "  'path': '.gitignore',\n",
       "  'sha': 'e43b0f988953ae3a84b00331d0ccf5f7d51cb3cf',\n",
       "  'size': 10,\n",
       "  'url': 'https://api.github.com/repos/ironhack-datalabs/scavenger/contents/.gitignore?ref=master',\n",
       "  'html_url': 'https://github.com/ironhack-datalabs/scavenger/blob/master/.gitignore',\n",
       "  'git_url': 'https://api.github.com/repos/ironhack-datalabs/scavenger/git/blobs/e43b0f988953ae3a84b00331d0ccf5f7d51cb3cf',\n",
       "  'download_url': 'https://raw.githubusercontent.com/ironhack-datalabs/scavenger/master/.gitignore',\n",
       "  'type': 'file',\n",
       "  '_links': {'self': 'https://api.github.com/repos/ironhack-datalabs/scavenger/contents/.gitignore?ref=master',\n",
       "   'git': 'https://api.github.com/repos/ironhack-datalabs/scavenger/git/blobs/e43b0f988953ae3a84b00331d0ccf5f7d51cb3cf',\n",
       "   'html': 'https://github.com/ironhack-datalabs/scavenger/blob/master/.gitignore'}},\n",
       " {'name': '15024',\n",
       "  'path': '15024',\n",
       "  'sha': '2945e51c87ad5da893c954afcf092f06343bbb7d',\n",
       "  'size': 0,\n",
       "  'url': 'https://api.github.com/repos/ironhack-datalabs/scavenger/contents/15024?ref=master',\n",
       "  'html_url': 'https://github.com/ironhack-datalabs/scavenger/tree/master/15024',\n",
       "  'git_url': 'https://api.github.com/repos/ironhack-datalabs/scavenger/git/trees/2945e51c87ad5da893c954afcf092f06343bbb7d',\n",
       "  'download_url': None,\n",
       "  'type': 'dir',\n",
       "  '_links': {'self': 'https://api.github.com/repos/ironhack-datalabs/scavenger/contents/15024?ref=master',\n",
       "   'git': 'https://api.github.com/repos/ironhack-datalabs/scavenger/git/trees/2945e51c87ad5da893c954afcf092f06343bbb7d',\n",
       "   'html': 'https://github.com/ironhack-datalabs/scavenger/tree/master/15024'}},\n",
       " {'name': '15534',\n",
       "  'path': '15534',\n",
       "  'sha': '5af6f2a7287e4191f39e55693fc1e9c8918d1d3a',\n",
       "  'size': 0,\n",
       "  'url': 'https://api.github.com/repos/ironhack-datalabs/scavenger/contents/15534?ref=master',\n",
       "  'html_url': 'https://github.com/ironhack-datalabs/scavenger/tree/master/15534',\n",
       "  'git_url': 'https://api.github.com/repos/ironhack-datalabs/scavenger/git/trees/5af6f2a7287e4191f39e55693fc1e9c8918d1d3a',\n",
       "  'download_url': None,\n",
       "  'type': 'dir',\n",
       "  '_links': {'self': 'https://api.github.com/repos/ironhack-datalabs/scavenger/contents/15534?ref=master',\n",
       "   'git': 'https://api.github.com/repos/ironhack-datalabs/scavenger/git/trees/5af6f2a7287e4191f39e55693fc1e9c8918d1d3a',\n",
       "   'html': 'https://github.com/ironhack-datalabs/scavenger/tree/master/15534'}},\n",
       " {'name': '17020',\n",
       "  'path': '17020',\n",
       "  'sha': '9c49f920aa4d9433fa99a5824128f0e6b90ec5f2',\n",
       "  'size': 0,\n",
       "  'url': 'https://api.github.com/repos/ironhack-datalabs/scavenger/contents/17020?ref=master',\n",
       "  'html_url': 'https://github.com/ironhack-datalabs/scavenger/tree/master/17020',\n",
       "  'git_url': 'https://api.github.com/repos/ironhack-datalabs/scavenger/git/trees/9c49f920aa4d9433fa99a5824128f0e6b90ec5f2',\n",
       "  'download_url': None,\n",
       "  'type': 'dir',\n",
       "  '_links': {'self': 'https://api.github.com/repos/ironhack-datalabs/scavenger/contents/17020?ref=master',\n",
       "   'git': 'https://api.github.com/repos/ironhack-datalabs/scavenger/git/trees/9c49f920aa4d9433fa99a5824128f0e6b90ec5f2',\n",
       "   'html': 'https://github.com/ironhack-datalabs/scavenger/tree/master/17020'}},\n",
       " {'name': '30351',\n",
       "  'path': '30351',\n",
       "  'sha': 'c488d7f64088c852e22067d48fdc64ee3670f3ba',\n",
       "  'size': 0,\n",
       "  'url': 'https://api.github.com/repos/ironhack-datalabs/scavenger/contents/30351?ref=master',\n",
       "  'html_url': 'https://github.com/ironhack-datalabs/scavenger/tree/master/30351',\n",
       "  'git_url': 'https://api.github.com/repos/ironhack-datalabs/scavenger/git/trees/c488d7f64088c852e22067d48fdc64ee3670f3ba',\n",
       "  'download_url': None,\n",
       "  'type': 'dir',\n",
       "  '_links': {'self': 'https://api.github.com/repos/ironhack-datalabs/scavenger/contents/30351?ref=master',\n",
       "   'git': 'https://api.github.com/repos/ironhack-datalabs/scavenger/git/trees/c488d7f64088c852e22067d48fdc64ee3670f3ba',\n",
       "   'html': 'https://github.com/ironhack-datalabs/scavenger/tree/master/30351'}},\n",
       " {'name': '40303',\n",
       "  'path': '40303',\n",
       "  'sha': '30193d9cf62b07bcbb6366513ff03596861f2d29',\n",
       "  'size': 0,\n",
       "  'url': 'https://api.github.com/repos/ironhack-datalabs/scavenger/contents/40303?ref=master',\n",
       "  'html_url': 'https://github.com/ironhack-datalabs/scavenger/tree/master/40303',\n",
       "  'git_url': 'https://api.github.com/repos/ironhack-datalabs/scavenger/git/trees/30193d9cf62b07bcbb6366513ff03596861f2d29',\n",
       "  'download_url': None,\n",
       "  'type': 'dir',\n",
       "  '_links': {'self': 'https://api.github.com/repos/ironhack-datalabs/scavenger/contents/40303?ref=master',\n",
       "   'git': 'https://api.github.com/repos/ironhack-datalabs/scavenger/git/trees/30193d9cf62b07bcbb6366513ff03596861f2d29',\n",
       "   'html': 'https://github.com/ironhack-datalabs/scavenger/tree/master/40303'}},\n",
       " {'name': '44639',\n",
       "  'path': '44639',\n",
       "  'sha': '22fc3d5c2db80822c351edb2248f3491c8ebda86',\n",
       "  'size': 0,\n",
       "  'url': 'https://api.github.com/repos/ironhack-datalabs/scavenger/contents/44639?ref=master',\n",
       "  'html_url': 'https://github.com/ironhack-datalabs/scavenger/tree/master/44639',\n",
       "  'git_url': 'https://api.github.com/repos/ironhack-datalabs/scavenger/git/trees/22fc3d5c2db80822c351edb2248f3491c8ebda86',\n",
       "  'download_url': None,\n",
       "  'type': 'dir',\n",
       "  '_links': {'self': 'https://api.github.com/repos/ironhack-datalabs/scavenger/contents/44639?ref=master',\n",
       "   'git': 'https://api.github.com/repos/ironhack-datalabs/scavenger/git/trees/22fc3d5c2db80822c351edb2248f3491c8ebda86',\n",
       "   'html': 'https://github.com/ironhack-datalabs/scavenger/tree/master/44639'}},\n",
       " {'name': '45525',\n",
       "  'path': '45525',\n",
       "  'sha': '6a4a88cd9084110c8646c3cfd84dfe96b300a4a7',\n",
       "  'size': 0,\n",
       "  'url': 'https://api.github.com/repos/ironhack-datalabs/scavenger/contents/45525?ref=master',\n",
       "  'html_url': 'https://github.com/ironhack-datalabs/scavenger/tree/master/45525',\n",
       "  'git_url': 'https://api.github.com/repos/ironhack-datalabs/scavenger/git/trees/6a4a88cd9084110c8646c3cfd84dfe96b300a4a7',\n",
       "  'download_url': None,\n",
       "  'type': 'dir',\n",
       "  '_links': {'self': 'https://api.github.com/repos/ironhack-datalabs/scavenger/contents/45525?ref=master',\n",
       "   'git': 'https://api.github.com/repos/ironhack-datalabs/scavenger/git/trees/6a4a88cd9084110c8646c3cfd84dfe96b300a4a7',\n",
       "   'html': 'https://github.com/ironhack-datalabs/scavenger/tree/master/45525'}},\n",
       " {'name': '47222',\n",
       "  'path': '47222',\n",
       "  'sha': 'c7001604cdadc2fe7b82e0f6996690718cac6941',\n",
       "  'size': 0,\n",
       "  'url': 'https://api.github.com/repos/ironhack-datalabs/scavenger/contents/47222?ref=master',\n",
       "  'html_url': 'https://github.com/ironhack-datalabs/scavenger/tree/master/47222',\n",
       "  'git_url': 'https://api.github.com/repos/ironhack-datalabs/scavenger/git/trees/c7001604cdadc2fe7b82e0f6996690718cac6941',\n",
       "  'download_url': None,\n",
       "  'type': 'dir',\n",
       "  '_links': {'self': 'https://api.github.com/repos/ironhack-datalabs/scavenger/contents/47222?ref=master',\n",
       "   'git': 'https://api.github.com/repos/ironhack-datalabs/scavenger/git/trees/c7001604cdadc2fe7b82e0f6996690718cac6941',\n",
       "   'html': 'https://github.com/ironhack-datalabs/scavenger/tree/master/47222'}},\n",
       " {'name': '47830',\n",
       "  'path': '47830',\n",
       "  'sha': 'f84882ad7560fd2b8c6a0867bc707ce9009ef288',\n",
       "  'size': 0,\n",
       "  'url': 'https://api.github.com/repos/ironhack-datalabs/scavenger/contents/47830?ref=master',\n",
       "  'html_url': 'https://github.com/ironhack-datalabs/scavenger/tree/master/47830',\n",
       "  'git_url': 'https://api.github.com/repos/ironhack-datalabs/scavenger/git/trees/f84882ad7560fd2b8c6a0867bc707ce9009ef288',\n",
       "  'download_url': None,\n",
       "  'type': 'dir',\n",
       "  '_links': {'self': 'https://api.github.com/repos/ironhack-datalabs/scavenger/contents/47830?ref=master',\n",
       "   'git': 'https://api.github.com/repos/ironhack-datalabs/scavenger/git/trees/f84882ad7560fd2b8c6a0867bc707ce9009ef288',\n",
       "   'html': 'https://github.com/ironhack-datalabs/scavenger/tree/master/47830'}},\n",
       " {'name': '49418',\n",
       "  'path': '49418',\n",
       "  'sha': '46bc658c09589d9023246b00e848ce97d30d4989',\n",
       "  'size': 0,\n",
       "  'url': 'https://api.github.com/repos/ironhack-datalabs/scavenger/contents/49418?ref=master',\n",
       "  'html_url': 'https://github.com/ironhack-datalabs/scavenger/tree/master/49418',\n",
       "  'git_url': 'https://api.github.com/repos/ironhack-datalabs/scavenger/git/trees/46bc658c09589d9023246b00e848ce97d30d4989',\n",
       "  'download_url': None,\n",
       "  'type': 'dir',\n",
       "  '_links': {'self': 'https://api.github.com/repos/ironhack-datalabs/scavenger/contents/49418?ref=master',\n",
       "   'git': 'https://api.github.com/repos/ironhack-datalabs/scavenger/git/trees/46bc658c09589d9023246b00e848ce97d30d4989',\n",
       "   'html': 'https://github.com/ironhack-datalabs/scavenger/tree/master/49418'}},\n",
       " {'name': '50896',\n",
       "  'path': '50896',\n",
       "  'sha': 'e47a7a35a19f80694587330c57d94e28d3b4c054',\n",
       "  'size': 0,\n",
       "  'url': 'https://api.github.com/repos/ironhack-datalabs/scavenger/contents/50896?ref=master',\n",
       "  'html_url': 'https://github.com/ironhack-datalabs/scavenger/tree/master/50896',\n",
       "  'git_url': 'https://api.github.com/repos/ironhack-datalabs/scavenger/git/trees/e47a7a35a19f80694587330c57d94e28d3b4c054',\n",
       "  'download_url': None,\n",
       "  'type': 'dir',\n",
       "  '_links': {'self': 'https://api.github.com/repos/ironhack-datalabs/scavenger/contents/50896?ref=master',\n",
       "   'git': 'https://api.github.com/repos/ironhack-datalabs/scavenger/git/trees/e47a7a35a19f80694587330c57d94e28d3b4c054',\n",
       "   'html': 'https://github.com/ironhack-datalabs/scavenger/tree/master/50896'}},\n",
       " {'name': '55417',\n",
       "  'path': '55417',\n",
       "  'sha': '636fa555a2ee752759144a268fd860feb2b6fd2d',\n",
       "  'size': 0,\n",
       "  'url': 'https://api.github.com/repos/ironhack-datalabs/scavenger/contents/55417?ref=master',\n",
       "  'html_url': 'https://github.com/ironhack-datalabs/scavenger/tree/master/55417',\n",
       "  'git_url': 'https://api.github.com/repos/ironhack-datalabs/scavenger/git/trees/636fa555a2ee752759144a268fd860feb2b6fd2d',\n",
       "  'download_url': None,\n",
       "  'type': 'dir',\n",
       "  '_links': {'self': 'https://api.github.com/repos/ironhack-datalabs/scavenger/contents/55417?ref=master',\n",
       "   'git': 'https://api.github.com/repos/ironhack-datalabs/scavenger/git/trees/636fa555a2ee752759144a268fd860feb2b6fd2d',\n",
       "   'html': 'https://github.com/ironhack-datalabs/scavenger/tree/master/55417'}},\n",
       " {'name': '55685',\n",
       "  'path': '55685',\n",
       "  'sha': 'a00a8148a88287508a867616d7063786d3d5d4ff',\n",
       "  'size': 0,\n",
       "  'url': 'https://api.github.com/repos/ironhack-datalabs/scavenger/contents/55685?ref=master',\n",
       "  'html_url': 'https://github.com/ironhack-datalabs/scavenger/tree/master/55685',\n",
       "  'git_url': 'https://api.github.com/repos/ironhack-datalabs/scavenger/git/trees/a00a8148a88287508a867616d7063786d3d5d4ff',\n",
       "  'download_url': None,\n",
       "  'type': 'dir',\n",
       "  '_links': {'self': 'https://api.github.com/repos/ironhack-datalabs/scavenger/contents/55685?ref=master',\n",
       "   'git': 'https://api.github.com/repos/ironhack-datalabs/scavenger/git/trees/a00a8148a88287508a867616d7063786d3d5d4ff',\n",
       "   'html': 'https://github.com/ironhack-datalabs/scavenger/tree/master/55685'}},\n",
       " {'name': '60224',\n",
       "  'path': '60224',\n",
       "  'sha': '28d70fba98bfacfaa5e5544b2eff6b61c9e8f57b',\n",
       "  'size': 0,\n",
       "  'url': 'https://api.github.com/repos/ironhack-datalabs/scavenger/contents/60224?ref=master',\n",
       "  'html_url': 'https://github.com/ironhack-datalabs/scavenger/tree/master/60224',\n",
       "  'git_url': 'https://api.github.com/repos/ironhack-datalabs/scavenger/git/trees/28d70fba98bfacfaa5e5544b2eff6b61c9e8f57b',\n",
       "  'download_url': None,\n",
       "  'type': 'dir',\n",
       "  '_links': {'self': 'https://api.github.com/repos/ironhack-datalabs/scavenger/contents/60224?ref=master',\n",
       "   'git': 'https://api.github.com/repos/ironhack-datalabs/scavenger/git/trees/28d70fba98bfacfaa5e5544b2eff6b61c9e8f57b',\n",
       "   'html': 'https://github.com/ironhack-datalabs/scavenger/tree/master/60224'}},\n",
       " {'name': '64880',\n",
       "  'path': '64880',\n",
       "  'sha': '88b159d6f73378e6968bb35ccfd8e3ad0cc462d2',\n",
       "  'size': 0,\n",
       "  'url': 'https://api.github.com/repos/ironhack-datalabs/scavenger/contents/64880?ref=master',\n",
       "  'html_url': 'https://github.com/ironhack-datalabs/scavenger/tree/master/64880',\n",
       "  'git_url': 'https://api.github.com/repos/ironhack-datalabs/scavenger/git/trees/88b159d6f73378e6968bb35ccfd8e3ad0cc462d2',\n",
       "  'download_url': None,\n",
       "  'type': 'dir',\n",
       "  '_links': {'self': 'https://api.github.com/repos/ironhack-datalabs/scavenger/contents/64880?ref=master',\n",
       "   'git': 'https://api.github.com/repos/ironhack-datalabs/scavenger/git/trees/88b159d6f73378e6968bb35ccfd8e3ad0cc462d2',\n",
       "   'html': 'https://github.com/ironhack-datalabs/scavenger/tree/master/64880'}},\n",
       " {'name': '66032',\n",
       "  'path': '66032',\n",
       "  'sha': '0230fa6fa1ccf49ab976fbbfc9eb838094779785',\n",
       "  'size': 0,\n",
       "  'url': 'https://api.github.com/repos/ironhack-datalabs/scavenger/contents/66032?ref=master',\n",
       "  'html_url': 'https://github.com/ironhack-datalabs/scavenger/tree/master/66032',\n",
       "  'git_url': 'https://api.github.com/repos/ironhack-datalabs/scavenger/git/trees/0230fa6fa1ccf49ab976fbbfc9eb838094779785',\n",
       "  'download_url': None,\n",
       "  'type': 'dir',\n",
       "  '_links': {'self': 'https://api.github.com/repos/ironhack-datalabs/scavenger/contents/66032?ref=master',\n",
       "   'git': 'https://api.github.com/repos/ironhack-datalabs/scavenger/git/trees/0230fa6fa1ccf49ab976fbbfc9eb838094779785',\n",
       "   'html': 'https://github.com/ironhack-datalabs/scavenger/tree/master/66032'}},\n",
       " {'name': '68848',\n",
       "  'path': '68848',\n",
       "  'sha': 'ed2f90be6835e7e74c283aedba1942b788754d32',\n",
       "  'size': 0,\n",
       "  'url': 'https://api.github.com/repos/ironhack-datalabs/scavenger/contents/68848?ref=master',\n",
       "  'html_url': 'https://github.com/ironhack-datalabs/scavenger/tree/master/68848',\n",
       "  'git_url': 'https://api.github.com/repos/ironhack-datalabs/scavenger/git/trees/ed2f90be6835e7e74c283aedba1942b788754d32',\n",
       "  'download_url': None,\n",
       "  'type': 'dir',\n",
       "  '_links': {'self': 'https://api.github.com/repos/ironhack-datalabs/scavenger/contents/68848?ref=master',\n",
       "   'git': 'https://api.github.com/repos/ironhack-datalabs/scavenger/git/trees/ed2f90be6835e7e74c283aedba1942b788754d32',\n",
       "   'html': 'https://github.com/ironhack-datalabs/scavenger/tree/master/68848'}},\n",
       " {'name': '70751',\n",
       "  'path': '70751',\n",
       "  'sha': 'a5d9391003b67cecf3c336398ec38cfa75a689b7',\n",
       "  'size': 0,\n",
       "  'url': 'https://api.github.com/repos/ironhack-datalabs/scavenger/contents/70751?ref=master',\n",
       "  'html_url': 'https://github.com/ironhack-datalabs/scavenger/tree/master/70751',\n",
       "  'git_url': 'https://api.github.com/repos/ironhack-datalabs/scavenger/git/trees/a5d9391003b67cecf3c336398ec38cfa75a689b7',\n",
       "  'download_url': None,\n",
       "  'type': 'dir',\n",
       "  '_links': {'self': 'https://api.github.com/repos/ironhack-datalabs/scavenger/contents/70751?ref=master',\n",
       "   'git': 'https://api.github.com/repos/ironhack-datalabs/scavenger/git/trees/a5d9391003b67cecf3c336398ec38cfa75a689b7',\n",
       "   'html': 'https://github.com/ironhack-datalabs/scavenger/tree/master/70751'}},\n",
       " {'name': '70985',\n",
       "  'path': '70985',\n",
       "  'sha': 'd1a654c5811f52ec8a101652b0a04367644eab99',\n",
       "  'size': 0,\n",
       "  'url': 'https://api.github.com/repos/ironhack-datalabs/scavenger/contents/70985?ref=master',\n",
       "  'html_url': 'https://github.com/ironhack-datalabs/scavenger/tree/master/70985',\n",
       "  'git_url': 'https://api.github.com/repos/ironhack-datalabs/scavenger/git/trees/d1a654c5811f52ec8a101652b0a04367644eab99',\n",
       "  'download_url': None,\n",
       "  'type': 'dir',\n",
       "  '_links': {'self': 'https://api.github.com/repos/ironhack-datalabs/scavenger/contents/70985?ref=master',\n",
       "   'git': 'https://api.github.com/repos/ironhack-datalabs/scavenger/git/trees/d1a654c5811f52ec8a101652b0a04367644eab99',\n",
       "   'html': 'https://github.com/ironhack-datalabs/scavenger/tree/master/70985'}},\n",
       " {'name': '88596',\n",
       "  'path': '88596',\n",
       "  'sha': 'f294d2a0e55a4bab12625a7f709b44450a5e4648',\n",
       "  'size': 0,\n",
       "  'url': 'https://api.github.com/repos/ironhack-datalabs/scavenger/contents/88596?ref=master',\n",
       "  'html_url': 'https://github.com/ironhack-datalabs/scavenger/tree/master/88596',\n",
       "  'git_url': 'https://api.github.com/repos/ironhack-datalabs/scavenger/git/trees/f294d2a0e55a4bab12625a7f709b44450a5e4648',\n",
       "  'download_url': None,\n",
       "  'type': 'dir',\n",
       "  '_links': {'self': 'https://api.github.com/repos/ironhack-datalabs/scavenger/contents/88596?ref=master',\n",
       "   'git': 'https://api.github.com/repos/ironhack-datalabs/scavenger/git/trees/f294d2a0e55a4bab12625a7f709b44450a5e4648',\n",
       "   'html': 'https://github.com/ironhack-datalabs/scavenger/tree/master/88596'}},\n",
       " {'name': '89046',\n",
       "  'path': '89046',\n",
       "  'sha': '5f3ef5f14cf72bbe03a24b69777ba02f19a3adb5',\n",
       "  'size': 0,\n",
       "  'url': 'https://api.github.com/repos/ironhack-datalabs/scavenger/contents/89046?ref=master',\n",
       "  'html_url': 'https://github.com/ironhack-datalabs/scavenger/tree/master/89046',\n",
       "  'git_url': 'https://api.github.com/repos/ironhack-datalabs/scavenger/git/trees/5f3ef5f14cf72bbe03a24b69777ba02f19a3adb5',\n",
       "  'download_url': None,\n",
       "  'type': 'dir',\n",
       "  '_links': {'self': 'https://api.github.com/repos/ironhack-datalabs/scavenger/contents/89046?ref=master',\n",
       "   'git': 'https://api.github.com/repos/ironhack-datalabs/scavenger/git/trees/5f3ef5f14cf72bbe03a24b69777ba02f19a3adb5',\n",
       "   'html': 'https://github.com/ironhack-datalabs/scavenger/tree/master/89046'}},\n",
       " {'name': '89338',\n",
       "  'path': '89338',\n",
       "  'sha': '79c94a4032a927b2af52cc6da4ce27eb2abbf55e',\n",
       "  'size': 0,\n",
       "  'url': 'https://api.github.com/repos/ironhack-datalabs/scavenger/contents/89338?ref=master',\n",
       "  'html_url': 'https://github.com/ironhack-datalabs/scavenger/tree/master/89338',\n",
       "  'git_url': 'https://api.github.com/repos/ironhack-datalabs/scavenger/git/trees/79c94a4032a927b2af52cc6da4ce27eb2abbf55e',\n",
       "  'download_url': None,\n",
       "  'type': 'dir',\n",
       "  '_links': {'self': 'https://api.github.com/repos/ironhack-datalabs/scavenger/contents/89338?ref=master',\n",
       "   'git': 'https://api.github.com/repos/ironhack-datalabs/scavenger/git/trees/79c94a4032a927b2af52cc6da4ce27eb2abbf55e',\n",
       "   'html': 'https://github.com/ironhack-datalabs/scavenger/tree/master/89338'}},\n",
       " {'name': '91701',\n",
       "  'path': '91701',\n",
       "  'sha': '0ad19115f0b56c3cd10cb7e077140c201b527301',\n",
       "  'size': 0,\n",
       "  'url': 'https://api.github.com/repos/ironhack-datalabs/scavenger/contents/91701?ref=master',\n",
       "  'html_url': 'https://github.com/ironhack-datalabs/scavenger/tree/master/91701',\n",
       "  'git_url': 'https://api.github.com/repos/ironhack-datalabs/scavenger/git/trees/0ad19115f0b56c3cd10cb7e077140c201b527301',\n",
       "  'download_url': None,\n",
       "  'type': 'dir',\n",
       "  '_links': {'self': 'https://api.github.com/repos/ironhack-datalabs/scavenger/contents/91701?ref=master',\n",
       "   'git': 'https://api.github.com/repos/ironhack-datalabs/scavenger/git/trees/0ad19115f0b56c3cd10cb7e077140c201b527301',\n",
       "   'html': 'https://github.com/ironhack-datalabs/scavenger/tree/master/91701'}},\n",
       " {'name': '97881',\n",
       "  'path': '97881',\n",
       "  'sha': 'c369c43c17ec44cc3e66dd27f8e557f9d15d40f4',\n",
       "  'size': 0,\n",
       "  'url': 'https://api.github.com/repos/ironhack-datalabs/scavenger/contents/97881?ref=master',\n",
       "  'html_url': 'https://github.com/ironhack-datalabs/scavenger/tree/master/97881',\n",
       "  'git_url': 'https://api.github.com/repos/ironhack-datalabs/scavenger/git/trees/c369c43c17ec44cc3e66dd27f8e557f9d15d40f4',\n",
       "  'download_url': None,\n",
       "  'type': 'dir',\n",
       "  '_links': {'self': 'https://api.github.com/repos/ironhack-datalabs/scavenger/contents/97881?ref=master',\n",
       "   'git': 'https://api.github.com/repos/ironhack-datalabs/scavenger/git/trees/c369c43c17ec44cc3e66dd27f8e557f9d15d40f4',\n",
       "   'html': 'https://github.com/ironhack-datalabs/scavenger/tree/master/97881'}},\n",
       " {'name': '98750',\n",
       "  'path': '98750',\n",
       "  'sha': 'cdc23915e0a5179127458431986ba3750840a924',\n",
       "  'size': 0,\n",
       "  'url': 'https://api.github.com/repos/ironhack-datalabs/scavenger/contents/98750?ref=master',\n",
       "  'html_url': 'https://github.com/ironhack-datalabs/scavenger/tree/master/98750',\n",
       "  'git_url': 'https://api.github.com/repos/ironhack-datalabs/scavenger/git/trees/cdc23915e0a5179127458431986ba3750840a924',\n",
       "  'download_url': None,\n",
       "  'type': 'dir',\n",
       "  '_links': {'self': 'https://api.github.com/repos/ironhack-datalabs/scavenger/contents/98750?ref=master',\n",
       "   'git': 'https://api.github.com/repos/ironhack-datalabs/scavenger/git/trees/cdc23915e0a5179127458431986ba3750840a924',\n",
       "   'html': 'https://github.com/ironhack-datalabs/scavenger/tree/master/98750'}}]"
      ]
     },
     "execution_count": 136,
     "metadata": {},
     "output_type": "execute_result"
    }
   ],
   "source": [
    "#list((res_git.json()))"
   ]
  },
  {
   "cell_type": "code",
   "execution_count": null,
   "id": "2dad0586",
   "metadata": {},
   "outputs": [],
   "source": [
    "https://api.github.com/repos/ironhack-datalabs/scavenger/git/blobs # aqui detras veo que añade el SHA de cada elemento"
   ]
  },
  {
   "cell_type": "code",
   "execution_count": null,
   "id": "2ce8618c",
   "metadata": {},
   "outputs": [],
   "source": []
  }
 ],
 "metadata": {
  "kernelspec": {
   "display_name": "ironhack",
   "language": "python",
   "name": "ironhack"
  },
  "language_info": {
   "codemirror_mode": {
    "name": "ipython",
    "version": 3
   },
   "file_extension": ".py",
   "mimetype": "text/x-python",
   "name": "python",
   "nbconvert_exporter": "python",
   "pygments_lexer": "ipython3",
   "version": "3.8.10"
  },
  "toc": {
   "base_numbering": 1,
   "nav_menu": {},
   "number_sections": true,
   "sideBar": true,
   "skip_h1_title": true,
   "title_cell": "Table of Contents",
   "title_sidebar": "Contents",
   "toc_cell": false,
   "toc_position": {},
   "toc_section_display": true,
   "toc_window_display": true
  }
 },
 "nbformat": 4,
 "nbformat_minor": 5
}
