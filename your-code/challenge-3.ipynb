{
 "cells": [
  {
   "cell_type": "markdown",
   "id": "defensive-clock",
   "metadata": {},
   "source": [
    "# Challenge 3: Hidden Cold Joke\n",
    "\n",
    "Using Python, call Github API to find out the cold joke contained in the 24 secret files in the following repo:\n",
    "\n",
    "https://github.com/ironhack-datalabs/scavenger\n",
    "\n",
    "The filenames of the secret files contain .scavengerhunt and they are scattered in different directories of this repo. The secret files are named from .0001.scavengerhunt to .0024.scavengerhunt. They are scattered randomly throughout this repo. You need to search for these files by calling the Github API, not searching the local files on your computer.\n",
    "\n",
    "\n",
    "After you find out the secrete files:\n",
    "\n",
    "Sort the filenames ascendingly.\n",
    "\n",
    "Read the content of each secret files into an array of strings.\n",
    "\n",
    "Concatenate the strings in the array separating each two with a whitespace.\n",
    "\n",
    "Print out the joke."
   ]
  },
  {
   "cell_type": "markdown",
   "id": "universal-length",
   "metadata": {},
   "source": [
    "⚠️ **Remember to limit your output before submission**."
   ]
  },
  {
   "cell_type": "code",
   "execution_count": 474,
   "id": "toxic-trading",
   "metadata": {},
   "outputs": [],
   "source": [
    "import requests as req\n",
    "import base64 as b64\n",
    "URL='https://api.github.com/'"
   ]
  },
  {
   "cell_type": "code",
   "execution_count": 475,
   "id": "d447567c",
   "metadata": {},
   "outputs": [],
   "source": [
    "import os\n",
    "from dotenv import load_dotenv"
   ]
  },
  {
   "cell_type": "code",
   "execution_count": 488,
   "id": "9cca5faf",
   "metadata": {},
   "outputs": [],
   "source": [
    "clave = open(\"../txt.txt\",\"r\")\n",
    "token = clave.read()\n",
    "username=\"VictorPablo12\""
   ]
  },
  {
   "cell_type": "code",
   "execution_count": 481,
   "id": "3d6d3219",
   "metadata": {},
   "outputs": [],
   "source": [
    "repo=\"repos/ironhack-datalabs/scavenger/contents\"\n",
    "\n",
    "#repo =\"repos/ironhack-datalabs/scavenger/contents/15024?ref=master\" ->penultimo level por el que hay que pasar\n",
    "# --> Esta es la ruta que contiene la key content que es la que quiero/15024/.0006.scavengerhunt\""
   ]
  },
  {
   "cell_type": "code",
   "execution_count": 482,
   "id": "95263aa1",
   "metadata": {},
   "outputs": [],
   "source": [
    "#repo = \"repos/ironhack-datalabs/scavenger/commits\""
   ]
  },
  {
   "cell_type": "code",
   "execution_count": 483,
   "id": "bb433b65",
   "metadata": {},
   "outputs": [],
   "source": [
    "#repo = \"repos/ironhack-datalabs/scavenger/git/commits/5af6f2a7287e4191f39e55693fc1e9c8918d1d3a\""
   ]
  },
  {
   "cell_type": "code",
   "execution_count": 484,
   "id": "27d3c691",
   "metadata": {},
   "outputs": [],
   "source": [
    "#repo = \"repos/ironhack-datalabs/scavenger/git/blobs/e43b0f988953ae3a84b00331d0ccf5f7d51cb3cf\""
   ]
  },
  {
   "cell_type": "code",
   "execution_count": 485,
   "id": "5ac9b247",
   "metadata": {},
   "outputs": [
    {
     "data": {
      "text/plain": [
       "<Response [403]>"
      ]
     },
     "execution_count": 485,
     "metadata": {},
     "output_type": "execute_result"
    }
   ],
   "source": [
    "res_git= req.get(URL+repo)\n",
    "res_git"
   ]
  },
  {
   "cell_type": "code",
   "execution_count": 439,
   "id": "1fb50e3b",
   "metadata": {},
   "outputs": [
    {
     "data": {
      "text/plain": [
       "{'name': '15024',\n",
       " 'path': '15024',\n",
       " 'sha': '2945e51c87ad5da893c954afcf092f06343bbb7d',\n",
       " 'size': 0,\n",
       " 'url': 'https://api.github.com/repos/ironhack-datalabs/scavenger/contents/15024?ref=master',\n",
       " 'html_url': 'https://github.com/ironhack-datalabs/scavenger/tree/master/15024',\n",
       " 'git_url': 'https://api.github.com/repos/ironhack-datalabs/scavenger/git/trees/2945e51c87ad5da893c954afcf092f06343bbb7d',\n",
       " 'download_url': None,\n",
       " 'type': 'dir',\n",
       " '_links': {'self': 'https://api.github.com/repos/ironhack-datalabs/scavenger/contents/15024?ref=master',\n",
       "  'git': 'https://api.github.com/repos/ironhack-datalabs/scavenger/git/trees/2945e51c87ad5da893c954afcf092f06343bbb7d',\n",
       "  'html': 'https://github.com/ironhack-datalabs/scavenger/tree/master/15024'}}"
      ]
     },
     "execution_count": 439,
     "metadata": {},
     "output_type": "execute_result"
    }
   ],
   "source": [
    "res_git.json()[1]"
   ]
  },
  {
   "cell_type": "code",
   "execution_count": null,
   "id": "c547e9cf",
   "metadata": {},
   "outputs": [],
   "source": [
    "# dic = dict(zip('abcd',[1,2,3,4])) PARA RELLENAR EL DICCIONARIO"
   ]
  },
  {
   "cell_type": "code",
   "execution_count": 396,
   "id": "65e6a06e",
   "metadata": {},
   "outputs": [
    {
     "name": "stdout",
     "output_type": "stream",
     "text": [
      "['15024', '15534', '17020', '30351', '40303', '44639', '45525', '47222', '47830', '49418', '50896', '55417', '55685', '60224', '64880', '66032', '68848', '70751', '70985', '88596', '89046', '89338', '91701', '97881', '98750']\n"
     ]
    }
   ],
   "source": [
    "carpetas = []\n",
    "for a in range(len(res_git.json())):\n",
    "    carpetas.append(res_git.json()[a][\"name\"])\n",
    "    \n",
    "carpetas.pop(0)\n",
    "print(carpetas) #Ya sabemos las carpetas que vamos a mirar"
   ]
  },
  {
   "cell_type": "code",
   "execution_count": 502,
   "id": "40d7c399",
   "metadata": {},
   "outputs": [
    {
     "name": "stdout",
     "output_type": "stream",
     "text": [
      "['.0006.scavengerhunt', '40', '74', '99', '.0008.scavengerhunt', '.0012.scavengerhunt', '2', '98', '.0007.scavengerhunt', '46', '97', '.0021.scavengerhunt', '22', '96', '.0022.scavengerhunt', '51', '65', '.0005.scavengerhunt', '76', '91', '.0018.scavengerhunt', '67', '90', '.0016.scavengerhunt', '.0024.scavengerhunt', '7', '89', '.0010.scavengerhunt', '66', '85', '.0014.scavengerhunt', '30', '38', '84', '.0011.scavengerhunt', '4', '83', '.0023.scavengerhunt', '14', '82', '.0020.scavengerhunt', '5', '81', '.0003.scavengerhunt', '1', '80', '3', '57', '79', '28', '47', '77', '.0004.scavengerhunt', '16', '75', '.0019.scavengerhunt', '18', '44', '68', '.0017.scavengerhunt', '11', '59', '.0002.scavengerhunt', '12', '32', '55', '64', '70', '73', '.0013.scavengerhunt', '35', '43', '8', '.0015.scavengerhunt', '33', '39', '.0009.scavengerhunt', '26', '36', '71', '.0001.scavengerhunt', '20', '62']\n"
     ]
    }
   ],
   "source": [
    "REF =\"?ref=master\"\n",
    "ends=[]\n",
    "for element in carpetas:\n",
    "    res_git= req.get(f\"{URL}{repo}/{element}{REF}\",auth=(username,token))\n",
    "    for x in range(len(res_git.json())):\n",
    "        #print(res_git)\n",
    "        ends.append(res_git.json()[x][\"name\"])\n",
    "print(ends)"
   ]
  },
  {
   "cell_type": "code",
   "execution_count": 511,
   "id": "8dd909b7",
   "metadata": {},
   "outputs": [
    {
     "name": "stdout",
     "output_type": "stream",
     "text": [
      "['.0006.scavengerhunt', '.0008.scavengerhunt', '.0012.scavengerhunt', '.0007.scavengerhunt', '.0021.scavengerhunt', '.0022.scavengerhunt', '.0005.scavengerhunt', '.0018.scavengerhunt', '.0016.scavengerhunt', '.0024.scavengerhunt', '.0010.scavengerhunt', '.0014.scavengerhunt', '.0011.scavengerhunt', '.0023.scavengerhunt', '.0020.scavengerhunt', '.0003.scavengerhunt', '.0004.scavengerhunt', '.0019.scavengerhunt', '.0017.scavengerhunt', '.0002.scavengerhunt', '.0013.scavengerhunt', '.0015.scavengerhunt', '.0009.scavengerhunt', '.0001.scavengerhunt']\n"
     ]
    },
    {
     "data": {
      "text/plain": [
       "{'.0001.scavengerhunt',\n",
       " '.0002.scavengerhunt',\n",
       " '.0003.scavengerhunt',\n",
       " '.0004.scavengerhunt',\n",
       " '.0005.scavengerhunt',\n",
       " '.0006.scavengerhunt',\n",
       " '.0007.scavengerhunt',\n",
       " '.0008.scavengerhunt',\n",
       " '.0009.scavengerhunt',\n",
       " '.0010.scavengerhunt',\n",
       " '.0011.scavengerhunt',\n",
       " '.0012.scavengerhunt',\n",
       " '.0013.scavengerhunt',\n",
       " '.0014.scavengerhunt',\n",
       " '.0015.scavengerhunt',\n",
       " '.0016.scavengerhunt',\n",
       " '.0017.scavengerhunt',\n",
       " '.0018.scavengerhunt',\n",
       " '.0019.scavengerhunt',\n",
       " '.0020.scavengerhunt',\n",
       " '.0021.scavengerhunt',\n",
       " '.0022.scavengerhunt',\n",
       " '.0023.scavengerhunt',\n",
       " '.0024.scavengerhunt'}"
      ]
     },
     "execution_count": 511,
     "metadata": {},
     "output_type": "execute_result"
    }
   ],
   "source": [
    "for x in ends:\n",
    "    if len(x)<5:\n",
    "        ends.remove(x)\n",
    "print(ends)\n",
    "set(ends)"
   ]
  },
  {
   "cell_type": "code",
   "execution_count": 517,
   "id": "e3c1d1a5",
   "metadata": {},
   "outputs": [
    {
     "data": {
      "text/plain": [
       "['15024',\n",
       " '15534',\n",
       " '17020',\n",
       " '30351',\n",
       " '40303',\n",
       " '44639',\n",
       " '45525',\n",
       " '47222',\n",
       " '47830',\n",
       " '49418',\n",
       " '50896',\n",
       " '55417',\n",
       " '55685',\n",
       " '60224',\n",
       " '64880',\n",
       " '66032',\n",
       " '68848',\n",
       " '70751',\n",
       " '70985',\n",
       " '88596',\n",
       " '89046',\n",
       " '89338',\n",
       " '91701',\n",
       " '97881',\n",
       " '98750']"
      ]
     },
     "execution_count": 517,
     "metadata": {},
     "output_type": "execute_result"
    }
   ],
   "source": []
  },
  {
   "cell_type": "code",
   "execution_count": 519,
   "id": "e6f88a34",
   "metadata": {},
   "outputs": [],
   "source": [
    "dic = dict(zip(carpetas,ends))"
   ]
  },
  {
   "cell_type": "code",
   "execution_count": 520,
   "id": "e249a558",
   "metadata": {},
   "outputs": [
    {
     "data": {
      "text/plain": [
       "{'15024': '.0006.scavengerhunt',\n",
       " '15534': '.0008.scavengerhunt',\n",
       " '17020': '.0012.scavengerhunt',\n",
       " '30351': '.0007.scavengerhunt',\n",
       " '40303': '.0021.scavengerhunt',\n",
       " '44639': '.0022.scavengerhunt',\n",
       " '45525': '.0005.scavengerhunt',\n",
       " '47222': '.0018.scavengerhunt',\n",
       " '47830': '.0016.scavengerhunt',\n",
       " '49418': '.0024.scavengerhunt',\n",
       " '50896': '.0010.scavengerhunt',\n",
       " '55417': '.0014.scavengerhunt',\n",
       " '55685': '.0011.scavengerhunt',\n",
       " '60224': '.0023.scavengerhunt',\n",
       " '64880': '.0020.scavengerhunt',\n",
       " '66032': '.0003.scavengerhunt',\n",
       " '68848': '.0004.scavengerhunt',\n",
       " '70751': '.0019.scavengerhunt',\n",
       " '70985': '.0017.scavengerhunt',\n",
       " '88596': '.0002.scavengerhunt',\n",
       " '89046': '.0013.scavengerhunt',\n",
       " '89338': '.0015.scavengerhunt',\n",
       " '91701': '.0009.scavengerhunt',\n",
       " '97881': '.0001.scavengerhunt'}"
      ]
     },
     "execution_count": 520,
     "metadata": {},
     "output_type": "execute_result"
    }
   ],
   "source": [
    "dic"
   ]
  },
  {
   "cell_type": "code",
   "execution_count": null,
   "id": "d2da7fd7",
   "metadata": {},
   "outputs": [],
   "source": []
  },
  {
   "cell_type": "code",
   "execution_count": null,
   "id": "d45f2ff3",
   "metadata": {},
   "outputs": [],
   "source": []
  },
  {
   "cell_type": "code",
   "execution_count": null,
   "id": "db7d47f8",
   "metadata": {},
   "outputs": [],
   "source": []
  },
  {
   "cell_type": "code",
   "execution_count": null,
   "id": "742470e8",
   "metadata": {},
   "outputs": [],
   "source": []
  },
  {
   "cell_type": "code",
   "execution_count": 320,
   "id": "ece95eab",
   "metadata": {},
   "outputs": [
    {
     "name": "stdout",
     "output_type": "stream",
     "text": [
      "b'time\\n'\n"
     ]
    }
   ],
   "source": [
    "decode = b64.b64decode('dGltZQo=\\n')\n",
    "print(decode) #Tiene pinta de que es esto, suPM"
   ]
  },
  {
   "cell_type": "code",
   "execution_count": null,
   "id": "39a372c8",
   "metadata": {},
   "outputs": [],
   "source": []
  },
  {
   "cell_type": "code",
   "execution_count": 136,
   "id": "static-stopping",
   "metadata": {},
   "outputs": [
    {
     "data": {
      "text/plain": [
       "[{'name': '.gitignore',\n",
       "  'path': '.gitignore',\n",
       "  'sha': 'e43b0f988953ae3a84b00331d0ccf5f7d51cb3cf',\n",
       "  'size': 10,\n",
       "  'url': 'https://api.github.com/repos/ironhack-datalabs/scavenger/contents/.gitignore?ref=master',\n",
       "  'html_url': 'https://github.com/ironhack-datalabs/scavenger/blob/master/.gitignore',\n",
       "  'git_url': 'https://api.github.com/repos/ironhack-datalabs/scavenger/git/blobs/e43b0f988953ae3a84b00331d0ccf5f7d51cb3cf',\n",
       "  'download_url': 'https://raw.githubusercontent.com/ironhack-datalabs/scavenger/master/.gitignore',\n",
       "  'type': 'file',\n",
       "  '_links': {'self': 'https://api.github.com/repos/ironhack-datalabs/scavenger/contents/.gitignore?ref=master',\n",
       "   'git': 'https://api.github.com/repos/ironhack-datalabs/scavenger/git/blobs/e43b0f988953ae3a84b00331d0ccf5f7d51cb3cf',\n",
       "   'html': 'https://github.com/ironhack-datalabs/scavenger/blob/master/.gitignore'}},\n",
       " {'name': '15024',\n",
       "  'path': '15024',\n",
       "  'sha': '2945e51c87ad5da893c954afcf092f06343bbb7d',\n",
       "  'size': 0,\n",
       "  'url': 'https://api.github.com/repos/ironhack-datalabs/scavenger/contents/15024?ref=master',\n",
       "  'html_url': 'https://github.com/ironhack-datalabs/scavenger/tree/master/15024',\n",
       "  'git_url': 'https://api.github.com/repos/ironhack-datalabs/scavenger/git/trees/2945e51c87ad5da893c954afcf092f06343bbb7d',\n",
       "  'download_url': None,\n",
       "  'type': 'dir',\n",
       "  '_links': {'self': 'https://api.github.com/repos/ironhack-datalabs/scavenger/contents/15024?ref=master',\n",
       "   'git': 'https://api.github.com/repos/ironhack-datalabs/scavenger/git/trees/2945e51c87ad5da893c954afcf092f06343bbb7d',\n",
       "   'html': 'https://github.com/ironhack-datalabs/scavenger/tree/master/15024'}},\n",
       " {'name': '15534',\n",
       "  'path': '15534',\n",
       "  'sha': '5af6f2a7287e4191f39e55693fc1e9c8918d1d3a',\n",
       "  'size': 0,\n",
       "  'url': 'https://api.github.com/repos/ironhack-datalabs/scavenger/contents/15534?ref=master',\n",
       "  'html_url': 'https://github.com/ironhack-datalabs/scavenger/tree/master/15534',\n",
       "  'git_url': 'https://api.github.com/repos/ironhack-datalabs/scavenger/git/trees/5af6f2a7287e4191f39e55693fc1e9c8918d1d3a',\n",
       "  'download_url': None,\n",
       "  'type': 'dir',\n",
       "  '_links': {'self': 'https://api.github.com/repos/ironhack-datalabs/scavenger/contents/15534?ref=master',\n",
       "   'git': 'https://api.github.com/repos/ironhack-datalabs/scavenger/git/trees/5af6f2a7287e4191f39e55693fc1e9c8918d1d3a',\n",
       "   'html': 'https://github.com/ironhack-datalabs/scavenger/tree/master/15534'}},\n",
       " {'name': '17020',\n",
       "  'path': '17020',\n",
       "  'sha': '9c49f920aa4d9433fa99a5824128f0e6b90ec5f2',\n",
       "  'size': 0,\n",
       "  'url': 'https://api.github.com/repos/ironhack-datalabs/scavenger/contents/17020?ref=master',\n",
       "  'html_url': 'https://github.com/ironhack-datalabs/scavenger/tree/master/17020',\n",
       "  'git_url': 'https://api.github.com/repos/ironhack-datalabs/scavenger/git/trees/9c49f920aa4d9433fa99a5824128f0e6b90ec5f2',\n",
       "  'download_url': None,\n",
       "  'type': 'dir',\n",
       "  '_links': {'self': 'https://api.github.com/repos/ironhack-datalabs/scavenger/contents/17020?ref=master',\n",
       "   'git': 'https://api.github.com/repos/ironhack-datalabs/scavenger/git/trees/9c49f920aa4d9433fa99a5824128f0e6b90ec5f2',\n",
       "   'html': 'https://github.com/ironhack-datalabs/scavenger/tree/master/17020'}},\n",
       " {'name': '30351',\n",
       "  'path': '30351',\n",
       "  'sha': 'c488d7f64088c852e22067d48fdc64ee3670f3ba',\n",
       "  'size': 0,\n",
       "  'url': 'https://api.github.com/repos/ironhack-datalabs/scavenger/contents/30351?ref=master',\n",
       "  'html_url': 'https://github.com/ironhack-datalabs/scavenger/tree/master/30351',\n",
       "  'git_url': 'https://api.github.com/repos/ironhack-datalabs/scavenger/git/trees/c488d7f64088c852e22067d48fdc64ee3670f3ba',\n",
       "  'download_url': None,\n",
       "  'type': 'dir',\n",
       "  '_links': {'self': 'https://api.github.com/repos/ironhack-datalabs/scavenger/contents/30351?ref=master',\n",
       "   'git': 'https://api.github.com/repos/ironhack-datalabs/scavenger/git/trees/c488d7f64088c852e22067d48fdc64ee3670f3ba',\n",
       "   'html': 'https://github.com/ironhack-datalabs/scavenger/tree/master/30351'}},\n",
       " {'name': '40303',\n",
       "  'path': '40303',\n",
       "  'sha': '30193d9cf62b07bcbb6366513ff03596861f2d29',\n",
       "  'size': 0,\n",
       "  'url': 'https://api.github.com/repos/ironhack-datalabs/scavenger/contents/40303?ref=master',\n",
       "  'html_url': 'https://github.com/ironhack-datalabs/scavenger/tree/master/40303',\n",
       "  'git_url': 'https://api.github.com/repos/ironhack-datalabs/scavenger/git/trees/30193d9cf62b07bcbb6366513ff03596861f2d29',\n",
       "  'download_url': None,\n",
       "  'type': 'dir',\n",
       "  '_links': {'self': 'https://api.github.com/repos/ironhack-datalabs/scavenger/contents/40303?ref=master',\n",
       "   'git': 'https://api.github.com/repos/ironhack-datalabs/scavenger/git/trees/30193d9cf62b07bcbb6366513ff03596861f2d29',\n",
       "   'html': 'https://github.com/ironhack-datalabs/scavenger/tree/master/40303'}},\n",
       " {'name': '44639',\n",
       "  'path': '44639',\n",
       "  'sha': '22fc3d5c2db80822c351edb2248f3491c8ebda86',\n",
       "  'size': 0,\n",
       "  'url': 'https://api.github.com/repos/ironhack-datalabs/scavenger/contents/44639?ref=master',\n",
       "  'html_url': 'https://github.com/ironhack-datalabs/scavenger/tree/master/44639',\n",
       "  'git_url': 'https://api.github.com/repos/ironhack-datalabs/scavenger/git/trees/22fc3d5c2db80822c351edb2248f3491c8ebda86',\n",
       "  'download_url': None,\n",
       "  'type': 'dir',\n",
       "  '_links': {'self': 'https://api.github.com/repos/ironhack-datalabs/scavenger/contents/44639?ref=master',\n",
       "   'git': 'https://api.github.com/repos/ironhack-datalabs/scavenger/git/trees/22fc3d5c2db80822c351edb2248f3491c8ebda86',\n",
       "   'html': 'https://github.com/ironhack-datalabs/scavenger/tree/master/44639'}},\n",
       " {'name': '45525',\n",
       "  'path': '45525',\n",
       "  'sha': '6a4a88cd9084110c8646c3cfd84dfe96b300a4a7',\n",
       "  'size': 0,\n",
       "  'url': 'https://api.github.com/repos/ironhack-datalabs/scavenger/contents/45525?ref=master',\n",
       "  'html_url': 'https://github.com/ironhack-datalabs/scavenger/tree/master/45525',\n",
       "  'git_url': 'https://api.github.com/repos/ironhack-datalabs/scavenger/git/trees/6a4a88cd9084110c8646c3cfd84dfe96b300a4a7',\n",
       "  'download_url': None,\n",
       "  'type': 'dir',\n",
       "  '_links': {'self': 'https://api.github.com/repos/ironhack-datalabs/scavenger/contents/45525?ref=master',\n",
       "   'git': 'https://api.github.com/repos/ironhack-datalabs/scavenger/git/trees/6a4a88cd9084110c8646c3cfd84dfe96b300a4a7',\n",
       "   'html': 'https://github.com/ironhack-datalabs/scavenger/tree/master/45525'}},\n",
       " {'name': '47222',\n",
       "  'path': '47222',\n",
       "  'sha': 'c7001604cdadc2fe7b82e0f6996690718cac6941',\n",
       "  'size': 0,\n",
       "  'url': 'https://api.github.com/repos/ironhack-datalabs/scavenger/contents/47222?ref=master',\n",
       "  'html_url': 'https://github.com/ironhack-datalabs/scavenger/tree/master/47222',\n",
       "  'git_url': 'https://api.github.com/repos/ironhack-datalabs/scavenger/git/trees/c7001604cdadc2fe7b82e0f6996690718cac6941',\n",
       "  'download_url': None,\n",
       "  'type': 'dir',\n",
       "  '_links': {'self': 'https://api.github.com/repos/ironhack-datalabs/scavenger/contents/47222?ref=master',\n",
       "   'git': 'https://api.github.com/repos/ironhack-datalabs/scavenger/git/trees/c7001604cdadc2fe7b82e0f6996690718cac6941',\n",
       "   'html': 'https://github.com/ironhack-datalabs/scavenger/tree/master/47222'}},\n",
       " {'name': '47830',\n",
       "  'path': '47830',\n",
       "  'sha': 'f84882ad7560fd2b8c6a0867bc707ce9009ef288',\n",
       "  'size': 0,\n",
       "  'url': 'https://api.github.com/repos/ironhack-datalabs/scavenger/contents/47830?ref=master',\n",
       "  'html_url': 'https://github.com/ironhack-datalabs/scavenger/tree/master/47830',\n",
       "  'git_url': 'https://api.github.com/repos/ironhack-datalabs/scavenger/git/trees/f84882ad7560fd2b8c6a0867bc707ce9009ef288',\n",
       "  'download_url': None,\n",
       "  'type': 'dir',\n",
       "  '_links': {'self': 'https://api.github.com/repos/ironhack-datalabs/scavenger/contents/47830?ref=master',\n",
       "   'git': 'https://api.github.com/repos/ironhack-datalabs/scavenger/git/trees/f84882ad7560fd2b8c6a0867bc707ce9009ef288',\n",
       "   'html': 'https://github.com/ironhack-datalabs/scavenger/tree/master/47830'}},\n",
       " {'name': '49418',\n",
       "  'path': '49418',\n",
       "  'sha': '46bc658c09589d9023246b00e848ce97d30d4989',\n",
       "  'size': 0,\n",
       "  'url': 'https://api.github.com/repos/ironhack-datalabs/scavenger/contents/49418?ref=master',\n",
       "  'html_url': 'https://github.com/ironhack-datalabs/scavenger/tree/master/49418',\n",
       "  'git_url': 'https://api.github.com/repos/ironhack-datalabs/scavenger/git/trees/46bc658c09589d9023246b00e848ce97d30d4989',\n",
       "  'download_url': None,\n",
       "  'type': 'dir',\n",
       "  '_links': {'self': 'https://api.github.com/repos/ironhack-datalabs/scavenger/contents/49418?ref=master',\n",
       "   'git': 'https://api.github.com/repos/ironhack-datalabs/scavenger/git/trees/46bc658c09589d9023246b00e848ce97d30d4989',\n",
       "   'html': 'https://github.com/ironhack-datalabs/scavenger/tree/master/49418'}},\n",
       " {'name': '50896',\n",
       "  'path': '50896',\n",
       "  'sha': 'e47a7a35a19f80694587330c57d94e28d3b4c054',\n",
       "  'size': 0,\n",
       "  'url': 'https://api.github.com/repos/ironhack-datalabs/scavenger/contents/50896?ref=master',\n",
       "  'html_url': 'https://github.com/ironhack-datalabs/scavenger/tree/master/50896',\n",
       "  'git_url': 'https://api.github.com/repos/ironhack-datalabs/scavenger/git/trees/e47a7a35a19f80694587330c57d94e28d3b4c054',\n",
       "  'download_url': None,\n",
       "  'type': 'dir',\n",
       "  '_links': {'self': 'https://api.github.com/repos/ironhack-datalabs/scavenger/contents/50896?ref=master',\n",
       "   'git': 'https://api.github.com/repos/ironhack-datalabs/scavenger/git/trees/e47a7a35a19f80694587330c57d94e28d3b4c054',\n",
       "   'html': 'https://github.com/ironhack-datalabs/scavenger/tree/master/50896'}},\n",
       " {'name': '55417',\n",
       "  'path': '55417',\n",
       "  'sha': '636fa555a2ee752759144a268fd860feb2b6fd2d',\n",
       "  'size': 0,\n",
       "  'url': 'https://api.github.com/repos/ironhack-datalabs/scavenger/contents/55417?ref=master',\n",
       "  'html_url': 'https://github.com/ironhack-datalabs/scavenger/tree/master/55417',\n",
       "  'git_url': 'https://api.github.com/repos/ironhack-datalabs/scavenger/git/trees/636fa555a2ee752759144a268fd860feb2b6fd2d',\n",
       "  'download_url': None,\n",
       "  'type': 'dir',\n",
       "  '_links': {'self': 'https://api.github.com/repos/ironhack-datalabs/scavenger/contents/55417?ref=master',\n",
       "   'git': 'https://api.github.com/repos/ironhack-datalabs/scavenger/git/trees/636fa555a2ee752759144a268fd860feb2b6fd2d',\n",
       "   'html': 'https://github.com/ironhack-datalabs/scavenger/tree/master/55417'}},\n",
       " {'name': '55685',\n",
       "  'path': '55685',\n",
       "  'sha': 'a00a8148a88287508a867616d7063786d3d5d4ff',\n",
       "  'size': 0,\n",
       "  'url': 'https://api.github.com/repos/ironhack-datalabs/scavenger/contents/55685?ref=master',\n",
       "  'html_url': 'https://github.com/ironhack-datalabs/scavenger/tree/master/55685',\n",
       "  'git_url': 'https://api.github.com/repos/ironhack-datalabs/scavenger/git/trees/a00a8148a88287508a867616d7063786d3d5d4ff',\n",
       "  'download_url': None,\n",
       "  'type': 'dir',\n",
       "  '_links': {'self': 'https://api.github.com/repos/ironhack-datalabs/scavenger/contents/55685?ref=master',\n",
       "   'git': 'https://api.github.com/repos/ironhack-datalabs/scavenger/git/trees/a00a8148a88287508a867616d7063786d3d5d4ff',\n",
       "   'html': 'https://github.com/ironhack-datalabs/scavenger/tree/master/55685'}},\n",
       " {'name': '60224',\n",
       "  'path': '60224',\n",
       "  'sha': '28d70fba98bfacfaa5e5544b2eff6b61c9e8f57b',\n",
       "  'size': 0,\n",
       "  'url': 'https://api.github.com/repos/ironhack-datalabs/scavenger/contents/60224?ref=master',\n",
       "  'html_url': 'https://github.com/ironhack-datalabs/scavenger/tree/master/60224',\n",
       "  'git_url': 'https://api.github.com/repos/ironhack-datalabs/scavenger/git/trees/28d70fba98bfacfaa5e5544b2eff6b61c9e8f57b',\n",
       "  'download_url': None,\n",
       "  'type': 'dir',\n",
       "  '_links': {'self': 'https://api.github.com/repos/ironhack-datalabs/scavenger/contents/60224?ref=master',\n",
       "   'git': 'https://api.github.com/repos/ironhack-datalabs/scavenger/git/trees/28d70fba98bfacfaa5e5544b2eff6b61c9e8f57b',\n",
       "   'html': 'https://github.com/ironhack-datalabs/scavenger/tree/master/60224'}},\n",
       " {'name': '64880',\n",
       "  'path': '64880',\n",
       "  'sha': '88b159d6f73378e6968bb35ccfd8e3ad0cc462d2',\n",
       "  'size': 0,\n",
       "  'url': 'https://api.github.com/repos/ironhack-datalabs/scavenger/contents/64880?ref=master',\n",
       "  'html_url': 'https://github.com/ironhack-datalabs/scavenger/tree/master/64880',\n",
       "  'git_url': 'https://api.github.com/repos/ironhack-datalabs/scavenger/git/trees/88b159d6f73378e6968bb35ccfd8e3ad0cc462d2',\n",
       "  'download_url': None,\n",
       "  'type': 'dir',\n",
       "  '_links': {'self': 'https://api.github.com/repos/ironhack-datalabs/scavenger/contents/64880?ref=master',\n",
       "   'git': 'https://api.github.com/repos/ironhack-datalabs/scavenger/git/trees/88b159d6f73378e6968bb35ccfd8e3ad0cc462d2',\n",
       "   'html': 'https://github.com/ironhack-datalabs/scavenger/tree/master/64880'}},\n",
       " {'name': '66032',\n",
       "  'path': '66032',\n",
       "  'sha': '0230fa6fa1ccf49ab976fbbfc9eb838094779785',\n",
       "  'size': 0,\n",
       "  'url': 'https://api.github.com/repos/ironhack-datalabs/scavenger/contents/66032?ref=master',\n",
       "  'html_url': 'https://github.com/ironhack-datalabs/scavenger/tree/master/66032',\n",
       "  'git_url': 'https://api.github.com/repos/ironhack-datalabs/scavenger/git/trees/0230fa6fa1ccf49ab976fbbfc9eb838094779785',\n",
       "  'download_url': None,\n",
       "  'type': 'dir',\n",
       "  '_links': {'self': 'https://api.github.com/repos/ironhack-datalabs/scavenger/contents/66032?ref=master',\n",
       "   'git': 'https://api.github.com/repos/ironhack-datalabs/scavenger/git/trees/0230fa6fa1ccf49ab976fbbfc9eb838094779785',\n",
       "   'html': 'https://github.com/ironhack-datalabs/scavenger/tree/master/66032'}},\n",
       " {'name': '68848',\n",
       "  'path': '68848',\n",
       "  'sha': 'ed2f90be6835e7e74c283aedba1942b788754d32',\n",
       "  'size': 0,\n",
       "  'url': 'https://api.github.com/repos/ironhack-datalabs/scavenger/contents/68848?ref=master',\n",
       "  'html_url': 'https://github.com/ironhack-datalabs/scavenger/tree/master/68848',\n",
       "  'git_url': 'https://api.github.com/repos/ironhack-datalabs/scavenger/git/trees/ed2f90be6835e7e74c283aedba1942b788754d32',\n",
       "  'download_url': None,\n",
       "  'type': 'dir',\n",
       "  '_links': {'self': 'https://api.github.com/repos/ironhack-datalabs/scavenger/contents/68848?ref=master',\n",
       "   'git': 'https://api.github.com/repos/ironhack-datalabs/scavenger/git/trees/ed2f90be6835e7e74c283aedba1942b788754d32',\n",
       "   'html': 'https://github.com/ironhack-datalabs/scavenger/tree/master/68848'}},\n",
       " {'name': '70751',\n",
       "  'path': '70751',\n",
       "  'sha': 'a5d9391003b67cecf3c336398ec38cfa75a689b7',\n",
       "  'size': 0,\n",
       "  'url': 'https://api.github.com/repos/ironhack-datalabs/scavenger/contents/70751?ref=master',\n",
       "  'html_url': 'https://github.com/ironhack-datalabs/scavenger/tree/master/70751',\n",
       "  'git_url': 'https://api.github.com/repos/ironhack-datalabs/scavenger/git/trees/a5d9391003b67cecf3c336398ec38cfa75a689b7',\n",
       "  'download_url': None,\n",
       "  'type': 'dir',\n",
       "  '_links': {'self': 'https://api.github.com/repos/ironhack-datalabs/scavenger/contents/70751?ref=master',\n",
       "   'git': 'https://api.github.com/repos/ironhack-datalabs/scavenger/git/trees/a5d9391003b67cecf3c336398ec38cfa75a689b7',\n",
       "   'html': 'https://github.com/ironhack-datalabs/scavenger/tree/master/70751'}},\n",
       " {'name': '70985',\n",
       "  'path': '70985',\n",
       "  'sha': 'd1a654c5811f52ec8a101652b0a04367644eab99',\n",
       "  'size': 0,\n",
       "  'url': 'https://api.github.com/repos/ironhack-datalabs/scavenger/contents/70985?ref=master',\n",
       "  'html_url': 'https://github.com/ironhack-datalabs/scavenger/tree/master/70985',\n",
       "  'git_url': 'https://api.github.com/repos/ironhack-datalabs/scavenger/git/trees/d1a654c5811f52ec8a101652b0a04367644eab99',\n",
       "  'download_url': None,\n",
       "  'type': 'dir',\n",
       "  '_links': {'self': 'https://api.github.com/repos/ironhack-datalabs/scavenger/contents/70985?ref=master',\n",
       "   'git': 'https://api.github.com/repos/ironhack-datalabs/scavenger/git/trees/d1a654c5811f52ec8a101652b0a04367644eab99',\n",
       "   'html': 'https://github.com/ironhack-datalabs/scavenger/tree/master/70985'}},\n",
       " {'name': '88596',\n",
       "  'path': '88596',\n",
       "  'sha': 'f294d2a0e55a4bab12625a7f709b44450a5e4648',\n",
       "  'size': 0,\n",
       "  'url': 'https://api.github.com/repos/ironhack-datalabs/scavenger/contents/88596?ref=master',\n",
       "  'html_url': 'https://github.com/ironhack-datalabs/scavenger/tree/master/88596',\n",
       "  'git_url': 'https://api.github.com/repos/ironhack-datalabs/scavenger/git/trees/f294d2a0e55a4bab12625a7f709b44450a5e4648',\n",
       "  'download_url': None,\n",
       "  'type': 'dir',\n",
       "  '_links': {'self': 'https://api.github.com/repos/ironhack-datalabs/scavenger/contents/88596?ref=master',\n",
       "   'git': 'https://api.github.com/repos/ironhack-datalabs/scavenger/git/trees/f294d2a0e55a4bab12625a7f709b44450a5e4648',\n",
       "   'html': 'https://github.com/ironhack-datalabs/scavenger/tree/master/88596'}},\n",
       " {'name': '89046',\n",
       "  'path': '89046',\n",
       "  'sha': '5f3ef5f14cf72bbe03a24b69777ba02f19a3adb5',\n",
       "  'size': 0,\n",
       "  'url': 'https://api.github.com/repos/ironhack-datalabs/scavenger/contents/89046?ref=master',\n",
       "  'html_url': 'https://github.com/ironhack-datalabs/scavenger/tree/master/89046',\n",
       "  'git_url': 'https://api.github.com/repos/ironhack-datalabs/scavenger/git/trees/5f3ef5f14cf72bbe03a24b69777ba02f19a3adb5',\n",
       "  'download_url': None,\n",
       "  'type': 'dir',\n",
       "  '_links': {'self': 'https://api.github.com/repos/ironhack-datalabs/scavenger/contents/89046?ref=master',\n",
       "   'git': 'https://api.github.com/repos/ironhack-datalabs/scavenger/git/trees/5f3ef5f14cf72bbe03a24b69777ba02f19a3adb5',\n",
       "   'html': 'https://github.com/ironhack-datalabs/scavenger/tree/master/89046'}},\n",
       " {'name': '89338',\n",
       "  'path': '89338',\n",
       "  'sha': '79c94a4032a927b2af52cc6da4ce27eb2abbf55e',\n",
       "  'size': 0,\n",
       "  'url': 'https://api.github.com/repos/ironhack-datalabs/scavenger/contents/89338?ref=master',\n",
       "  'html_url': 'https://github.com/ironhack-datalabs/scavenger/tree/master/89338',\n",
       "  'git_url': 'https://api.github.com/repos/ironhack-datalabs/scavenger/git/trees/79c94a4032a927b2af52cc6da4ce27eb2abbf55e',\n",
       "  'download_url': None,\n",
       "  'type': 'dir',\n",
       "  '_links': {'self': 'https://api.github.com/repos/ironhack-datalabs/scavenger/contents/89338?ref=master',\n",
       "   'git': 'https://api.github.com/repos/ironhack-datalabs/scavenger/git/trees/79c94a4032a927b2af52cc6da4ce27eb2abbf55e',\n",
       "   'html': 'https://github.com/ironhack-datalabs/scavenger/tree/master/89338'}},\n",
       " {'name': '91701',\n",
       "  'path': '91701',\n",
       "  'sha': '0ad19115f0b56c3cd10cb7e077140c201b527301',\n",
       "  'size': 0,\n",
       "  'url': 'https://api.github.com/repos/ironhack-datalabs/scavenger/contents/91701?ref=master',\n",
       "  'html_url': 'https://github.com/ironhack-datalabs/scavenger/tree/master/91701',\n",
       "  'git_url': 'https://api.github.com/repos/ironhack-datalabs/scavenger/git/trees/0ad19115f0b56c3cd10cb7e077140c201b527301',\n",
       "  'download_url': None,\n",
       "  'type': 'dir',\n",
       "  '_links': {'self': 'https://api.github.com/repos/ironhack-datalabs/scavenger/contents/91701?ref=master',\n",
       "   'git': 'https://api.github.com/repos/ironhack-datalabs/scavenger/git/trees/0ad19115f0b56c3cd10cb7e077140c201b527301',\n",
       "   'html': 'https://github.com/ironhack-datalabs/scavenger/tree/master/91701'}},\n",
       " {'name': '97881',\n",
       "  'path': '97881',\n",
       "  'sha': 'c369c43c17ec44cc3e66dd27f8e557f9d15d40f4',\n",
       "  'size': 0,\n",
       "  'url': 'https://api.github.com/repos/ironhack-datalabs/scavenger/contents/97881?ref=master',\n",
       "  'html_url': 'https://github.com/ironhack-datalabs/scavenger/tree/master/97881',\n",
       "  'git_url': 'https://api.github.com/repos/ironhack-datalabs/scavenger/git/trees/c369c43c17ec44cc3e66dd27f8e557f9d15d40f4',\n",
       "  'download_url': None,\n",
       "  'type': 'dir',\n",
       "  '_links': {'self': 'https://api.github.com/repos/ironhack-datalabs/scavenger/contents/97881?ref=master',\n",
       "   'git': 'https://api.github.com/repos/ironhack-datalabs/scavenger/git/trees/c369c43c17ec44cc3e66dd27f8e557f9d15d40f4',\n",
       "   'html': 'https://github.com/ironhack-datalabs/scavenger/tree/master/97881'}},\n",
       " {'name': '98750',\n",
       "  'path': '98750',\n",
       "  'sha': 'cdc23915e0a5179127458431986ba3750840a924',\n",
       "  'size': 0,\n",
       "  'url': 'https://api.github.com/repos/ironhack-datalabs/scavenger/contents/98750?ref=master',\n",
       "  'html_url': 'https://github.com/ironhack-datalabs/scavenger/tree/master/98750',\n",
       "  'git_url': 'https://api.github.com/repos/ironhack-datalabs/scavenger/git/trees/cdc23915e0a5179127458431986ba3750840a924',\n",
       "  'download_url': None,\n",
       "  'type': 'dir',\n",
       "  '_links': {'self': 'https://api.github.com/repos/ironhack-datalabs/scavenger/contents/98750?ref=master',\n",
       "   'git': 'https://api.github.com/repos/ironhack-datalabs/scavenger/git/trees/cdc23915e0a5179127458431986ba3750840a924',\n",
       "   'html': 'https://github.com/ironhack-datalabs/scavenger/tree/master/98750'}}]"
      ]
     },
     "execution_count": 136,
     "metadata": {},
     "output_type": "execute_result"
    }
   ],
   "source": [
    "#list((res_git.json()))"
   ]
  },
  {
   "cell_type": "code",
   "execution_count": null,
   "id": "2dad0586",
   "metadata": {},
   "outputs": [],
   "source": [
    "https://api.github.com/repos/ironhack-datalabs/scavenger/git/blobs # aqui detras veo que añade el SHA de cada elemento"
   ]
  },
  {
   "cell_type": "code",
   "execution_count": null,
   "id": "2ce8618c",
   "metadata": {},
   "outputs": [],
   "source": []
  }
 ],
 "metadata": {
  "kernelspec": {
   "display_name": "Python 3 (ipykernel)",
   "language": "python",
   "name": "python3"
  },
  "language_info": {
   "codemirror_mode": {
    "name": "ipython",
    "version": 3
   },
   "file_extension": ".py",
   "mimetype": "text/x-python",
   "name": "python",
   "nbconvert_exporter": "python",
   "pygments_lexer": "ipython3",
   "version": "3.8.10"
  },
  "toc": {
   "base_numbering": 1,
   "nav_menu": {},
   "number_sections": true,
   "sideBar": true,
   "skip_h1_title": true,
   "title_cell": "Table of Contents",
   "title_sidebar": "Contents",
   "toc_cell": false,
   "toc_position": {},
   "toc_section_display": true,
   "toc_window_display": true
  }
 },
 "nbformat": 4,
 "nbformat_minor": 5
}
