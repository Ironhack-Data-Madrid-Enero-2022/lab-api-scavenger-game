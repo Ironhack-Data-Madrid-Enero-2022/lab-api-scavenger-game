{
 "cells": [
  {
   "cell_type": "markdown",
   "id": "defensive-clock",
   "metadata": {},
   "source": [
    "# Challenge 3: Hidden Cold Joke\n",
    "\n",
    "Using Python, call Github API to find out the cold joke contained in the 24 secret files in the following repo:\n",
    "\n",
    "https://github.com/ironhack-datalabs/scavenger\n",
    "\n",
    "The filenames of the secret files contain .scavengerhunt and they are scattered in different directories of this repo. The secret files are named from .0001.scavengerhunt to .0024.scavengerhunt. They are scattered randomly throughout this repo. You need to search for these files by calling the Github API, not searching the local files on your computer.\n",
    "\n",
    "\n",
    "After you find out the secrete files:\n",
    "\n",
    "Sort the filenames ascendingly.\n",
    "\n",
    "Read the content of each secret files into an array of strings.\n",
    "\n",
    "Concatenate the strings in the array separating each two with a whitespace.\n",
    "\n",
    "Print out the joke."
   ]
  },
  {
   "cell_type": "markdown",
   "id": "universal-length",
   "metadata": {},
   "source": [
    "⚠️ **Remember to limit your output before submission**."
   ]
  },
  {
   "cell_type": "code",
   "execution_count": 195,
   "id": "toxic-trading",
   "metadata": {},
   "outputs": [],
   "source": [
    "import pandas as pd\n",
    "import json\n",
    "import requests as req\n",
    "import numpy as np"
   ]
  },
  {
   "cell_type": "code",
   "execution_count": 196,
   "id": "7802f9ee",
   "metadata": {},
   "outputs": [],
   "source": [
    "a=open(\"../.token.txt\", \"r\").read()"
   ]
  },
  {
   "cell_type": "code",
   "execution_count": 197,
   "id": "9aec53ae",
   "metadata": {},
   "outputs": [],
   "source": [
    "auth=('IsabelGarcia11',a)"
   ]
  },
  {
   "cell_type": "code",
   "execution_count": 198,
   "id": "b14a944b",
   "metadata": {},
   "outputs": [],
   "source": [
    "import os\n",
    "from dotenv import load_dotenv"
   ]
  },
  {
   "cell_type": "code",
   "execution_count": 199,
   "id": "295c6d81",
   "metadata": {},
   "outputs": [],
   "source": [
    "URL='https://api.github.com/'"
   ]
  },
  {
   "cell_type": "code",
   "execution_count": 200,
   "id": "478e3690",
   "metadata": {},
   "outputs": [],
   "source": [
    "user_repo=\"repos/ironhack-datalabs/scavenger\""
   ]
  },
  {
   "cell_type": "code",
   "execution_count": 201,
   "id": "c0944963",
   "metadata": {},
   "outputs": [
    {
     "data": {
      "text/plain": [
       "{'id': 162375181,\n",
       " 'node_id': 'MDEwOlJlcG9zaXRvcnkxNjIzNzUxODE=',\n",
       " 'name': 'scavenger',\n",
       " 'full_name': 'ironhack-datalabs/scavenger',\n",
       " 'private': False,\n",
       " 'owner': {'login': 'ironhack-datalabs',\n",
       "  'id': 44225188,\n",
       "  'node_id': 'MDEyOk9yZ2FuaXphdGlvbjQ0MjI1MTg4',\n",
       "  'avatar_url': 'https://avatars.githubusercontent.com/u/44225188?v=4',\n",
       "  'gravatar_id': '',\n",
       "  'url': 'https://api.github.com/users/ironhack-datalabs',\n",
       "  'html_url': 'https://github.com/ironhack-datalabs',\n",
       "  'followers_url': 'https://api.github.com/users/ironhack-datalabs/followers',\n",
       "  'following_url': 'https://api.github.com/users/ironhack-datalabs/following{/other_user}',\n",
       "  'gists_url': 'https://api.github.com/users/ironhack-datalabs/gists{/gist_id}',\n",
       "  'starred_url': 'https://api.github.com/users/ironhack-datalabs/starred{/owner}{/repo}',\n",
       "  'subscriptions_url': 'https://api.github.com/users/ironhack-datalabs/subscriptions',\n",
       "  'organizations_url': 'https://api.github.com/users/ironhack-datalabs/orgs',\n",
       "  'repos_url': 'https://api.github.com/users/ironhack-datalabs/repos',\n",
       "  'events_url': 'https://api.github.com/users/ironhack-datalabs/events{/privacy}',\n",
       "  'received_events_url': 'https://api.github.com/users/ironhack-datalabs/received_events',\n",
       "  'type': 'Organization',\n",
       "  'site_admin': False},\n",
       " 'html_url': 'https://github.com/ironhack-datalabs/scavenger',\n",
       " 'description': None,\n",
       " 'fork': False,\n",
       " 'url': 'https://api.github.com/repos/ironhack-datalabs/scavenger',\n",
       " 'forks_url': 'https://api.github.com/repos/ironhack-datalabs/scavenger/forks',\n",
       " 'keys_url': 'https://api.github.com/repos/ironhack-datalabs/scavenger/keys{/key_id}',\n",
       " 'collaborators_url': 'https://api.github.com/repos/ironhack-datalabs/scavenger/collaborators{/collaborator}',\n",
       " 'teams_url': 'https://api.github.com/repos/ironhack-datalabs/scavenger/teams',\n",
       " 'hooks_url': 'https://api.github.com/repos/ironhack-datalabs/scavenger/hooks',\n",
       " 'issue_events_url': 'https://api.github.com/repos/ironhack-datalabs/scavenger/issues/events{/number}',\n",
       " 'events_url': 'https://api.github.com/repos/ironhack-datalabs/scavenger/events',\n",
       " 'assignees_url': 'https://api.github.com/repos/ironhack-datalabs/scavenger/assignees{/user}',\n",
       " 'branches_url': 'https://api.github.com/repos/ironhack-datalabs/scavenger/branches{/branch}',\n",
       " 'tags_url': 'https://api.github.com/repos/ironhack-datalabs/scavenger/tags',\n",
       " 'blobs_url': 'https://api.github.com/repos/ironhack-datalabs/scavenger/git/blobs{/sha}',\n",
       " 'git_tags_url': 'https://api.github.com/repos/ironhack-datalabs/scavenger/git/tags{/sha}',\n",
       " 'git_refs_url': 'https://api.github.com/repos/ironhack-datalabs/scavenger/git/refs{/sha}',\n",
       " 'trees_url': 'https://api.github.com/repos/ironhack-datalabs/scavenger/git/trees{/sha}',\n",
       " 'statuses_url': 'https://api.github.com/repos/ironhack-datalabs/scavenger/statuses/{sha}',\n",
       " 'languages_url': 'https://api.github.com/repos/ironhack-datalabs/scavenger/languages',\n",
       " 'stargazers_url': 'https://api.github.com/repos/ironhack-datalabs/scavenger/stargazers',\n",
       " 'contributors_url': 'https://api.github.com/repos/ironhack-datalabs/scavenger/contributors',\n",
       " 'subscribers_url': 'https://api.github.com/repos/ironhack-datalabs/scavenger/subscribers',\n",
       " 'subscription_url': 'https://api.github.com/repos/ironhack-datalabs/scavenger/subscription',\n",
       " 'commits_url': 'https://api.github.com/repos/ironhack-datalabs/scavenger/commits{/sha}',\n",
       " 'git_commits_url': 'https://api.github.com/repos/ironhack-datalabs/scavenger/git/commits{/sha}',\n",
       " 'comments_url': 'https://api.github.com/repos/ironhack-datalabs/scavenger/comments{/number}',\n",
       " 'issue_comment_url': 'https://api.github.com/repos/ironhack-datalabs/scavenger/issues/comments{/number}',\n",
       " 'contents_url': 'https://api.github.com/repos/ironhack-datalabs/scavenger/contents/{+path}',\n",
       " 'compare_url': 'https://api.github.com/repos/ironhack-datalabs/scavenger/compare/{base}...{head}',\n",
       " 'merges_url': 'https://api.github.com/repos/ironhack-datalabs/scavenger/merges',\n",
       " 'archive_url': 'https://api.github.com/repos/ironhack-datalabs/scavenger/{archive_format}{/ref}',\n",
       " 'downloads_url': 'https://api.github.com/repos/ironhack-datalabs/scavenger/downloads',\n",
       " 'issues_url': 'https://api.github.com/repos/ironhack-datalabs/scavenger/issues{/number}',\n",
       " 'pulls_url': 'https://api.github.com/repos/ironhack-datalabs/scavenger/pulls{/number}',\n",
       " 'milestones_url': 'https://api.github.com/repos/ironhack-datalabs/scavenger/milestones{/number}',\n",
       " 'notifications_url': 'https://api.github.com/repos/ironhack-datalabs/scavenger/notifications{?since,all,participating}',\n",
       " 'labels_url': 'https://api.github.com/repos/ironhack-datalabs/scavenger/labels{/name}',\n",
       " 'releases_url': 'https://api.github.com/repos/ironhack-datalabs/scavenger/releases{/id}',\n",
       " 'deployments_url': 'https://api.github.com/repos/ironhack-datalabs/scavenger/deployments',\n",
       " 'created_at': '2018-12-19T03:01:30Z',\n",
       " 'updated_at': '2018-12-19T03:05:09Z',\n",
       " 'pushed_at': '2018-12-19T03:05:07Z',\n",
       " 'git_url': 'git://github.com/ironhack-datalabs/scavenger.git',\n",
       " 'ssh_url': 'git@github.com:ironhack-datalabs/scavenger.git',\n",
       " 'clone_url': 'https://github.com/ironhack-datalabs/scavenger.git',\n",
       " 'svn_url': 'https://github.com/ironhack-datalabs/scavenger',\n",
       " 'homepage': None,\n",
       " 'size': 3,\n",
       " 'stargazers_count': 0,\n",
       " 'watchers_count': 0,\n",
       " 'language': None,\n",
       " 'has_issues': True,\n",
       " 'has_projects': True,\n",
       " 'has_downloads': True,\n",
       " 'has_wiki': True,\n",
       " 'has_pages': False,\n",
       " 'forks_count': 13,\n",
       " 'mirror_url': None,\n",
       " 'archived': False,\n",
       " 'disabled': False,\n",
       " 'open_issues_count': 0,\n",
       " 'license': None,\n",
       " 'allow_forking': True,\n",
       " 'is_template': False,\n",
       " 'topics': [],\n",
       " 'visibility': 'public',\n",
       " 'forks': 13,\n",
       " 'open_issues': 0,\n",
       " 'watchers': 0,\n",
       " 'default_branch': 'master',\n",
       " 'permissions': {'admin': False,\n",
       "  'maintain': False,\n",
       "  'push': False,\n",
       "  'triage': False,\n",
       "  'pull': True},\n",
       " 'temp_clone_token': '',\n",
       " 'organization': {'login': 'ironhack-datalabs',\n",
       "  'id': 44225188,\n",
       "  'node_id': 'MDEyOk9yZ2FuaXphdGlvbjQ0MjI1MTg4',\n",
       "  'avatar_url': 'https://avatars.githubusercontent.com/u/44225188?v=4',\n",
       "  'gravatar_id': '',\n",
       "  'url': 'https://api.github.com/users/ironhack-datalabs',\n",
       "  'html_url': 'https://github.com/ironhack-datalabs',\n",
       "  'followers_url': 'https://api.github.com/users/ironhack-datalabs/followers',\n",
       "  'following_url': 'https://api.github.com/users/ironhack-datalabs/following{/other_user}',\n",
       "  'gists_url': 'https://api.github.com/users/ironhack-datalabs/gists{/gist_id}',\n",
       "  'starred_url': 'https://api.github.com/users/ironhack-datalabs/starred{/owner}{/repo}',\n",
       "  'subscriptions_url': 'https://api.github.com/users/ironhack-datalabs/subscriptions',\n",
       "  'organizations_url': 'https://api.github.com/users/ironhack-datalabs/orgs',\n",
       "  'repos_url': 'https://api.github.com/users/ironhack-datalabs/repos',\n",
       "  'events_url': 'https://api.github.com/users/ironhack-datalabs/events{/privacy}',\n",
       "  'received_events_url': 'https://api.github.com/users/ironhack-datalabs/received_events',\n",
       "  'type': 'Organization',\n",
       "  'site_admin': False},\n",
       " 'network_count': 13,\n",
       " 'subscribers_count': 2}"
      ]
     },
     "execution_count": 201,
     "metadata": {},
     "output_type": "execute_result"
    }
   ],
   "source": [
    "web1=req.get(URL+user_repo,auth=auth)\n",
    "web1.json()"
   ]
  },
  {
   "cell_type": "code",
   "execution_count": 202,
   "id": "ae078e90",
   "metadata": {},
   "outputs": [],
   "source": [
    "#repository_url\": \"https://api.github.com/repos/{owner}/{repo}\", recordatorio"
   ]
  },
  {
   "cell_type": "code",
   "execution_count": 203,
   "id": "6be1c5d9",
   "metadata": {},
   "outputs": [
    {
     "data": {
      "text/plain": [
       "'https://api.github.com/repos/ironhack-datalabs/scavenger/git/trees{/sha}'"
      ]
     },
     "execution_count": 203,
     "metadata": {},
     "output_type": "execute_result"
    }
   ],
   "source": [
    "web1_tress=web1.json()['trees_url']\n",
    "web1_tress"
   ]
  },
  {
   "cell_type": "code",
   "execution_count": 204,
   "id": "c09a696b",
   "metadata": {},
   "outputs": [],
   "source": [
    "url1=\"https://api.github.com/repos/ironhack-datalabs/scavenger/git/trees/master?recursive=1\"\n",
    "#si añado recursive=1 al final, los path incluye más datos de la secret file"
   ]
  },
  {
   "cell_type": "code",
   "execution_count": 205,
   "id": "df020edf",
   "metadata": {},
   "outputs": [
    {
     "data": {
      "text/plain": [
       "<Response [200]>"
      ]
     },
     "execution_count": 205,
     "metadata": {},
     "output_type": "execute_result"
    }
   ],
   "source": [
    "web2=req.get(url1,auth=auth)\n",
    "web2"
   ]
  },
  {
   "cell_type": "code",
   "execution_count": 206,
   "id": "40b483a8",
   "metadata": {},
   "outputs": [],
   "source": [
    "solucion=web2.json()['tree']"
   ]
  },
  {
   "cell_type": "code",
   "execution_count": 207,
   "id": "static-stopping",
   "metadata": {},
   "outputs": [
    {
     "data": {
      "text/html": [
       "<div>\n",
       "<style scoped>\n",
       "    .dataframe tbody tr th:only-of-type {\n",
       "        vertical-align: middle;\n",
       "    }\n",
       "\n",
       "    .dataframe tbody tr th {\n",
       "        vertical-align: top;\n",
       "    }\n",
       "\n",
       "    .dataframe thead th {\n",
       "        text-align: right;\n",
       "    }\n",
       "</style>\n",
       "<table border=\"1\" class=\"dataframe\">\n",
       "  <thead>\n",
       "    <tr style=\"text-align: right;\">\n",
       "      <th></th>\n",
       "      <th>path</th>\n",
       "      <th>mode</th>\n",
       "      <th>type</th>\n",
       "      <th>sha</th>\n",
       "      <th>size</th>\n",
       "      <th>url</th>\n",
       "    </tr>\n",
       "  </thead>\n",
       "  <tbody>\n",
       "    <tr>\n",
       "      <th>0</th>\n",
       "      <td>.gitignore</td>\n",
       "      <td>100644</td>\n",
       "      <td>blob</td>\n",
       "      <td>e43b0f988953ae3a84b00331d0ccf5f7d51cb3cf</td>\n",
       "      <td>10.0</td>\n",
       "      <td>https://api.github.com/repos/ironhack-datalabs...</td>\n",
       "    </tr>\n",
       "    <tr>\n",
       "      <th>1</th>\n",
       "      <td>15024</td>\n",
       "      <td>040000</td>\n",
       "      <td>tree</td>\n",
       "      <td>2945e51c87ad5da893c954afcf092f06343bbb7d</td>\n",
       "      <td>NaN</td>\n",
       "      <td>https://api.github.com/repos/ironhack-datalabs...</td>\n",
       "    </tr>\n",
       "    <tr>\n",
       "      <th>2</th>\n",
       "      <td>15024/.0006.scavengerhunt</td>\n",
       "      <td>100644</td>\n",
       "      <td>blob</td>\n",
       "      <td>1c9064284a24b3486015eafdb391b141c27ada2b</td>\n",
       "      <td>3.0</td>\n",
       "      <td>https://api.github.com/repos/ironhack-datalabs...</td>\n",
       "    </tr>\n",
       "    <tr>\n",
       "      <th>3</th>\n",
       "      <td>15024/40</td>\n",
       "      <td>100644</td>\n",
       "      <td>blob</td>\n",
       "      <td>e69de29bb2d1d6434b8b29ae775ad8c2e48c5391</td>\n",
       "      <td>0.0</td>\n",
       "      <td>https://api.github.com/repos/ironhack-datalabs...</td>\n",
       "    </tr>\n",
       "    <tr>\n",
       "      <th>4</th>\n",
       "      <td>15024/74</td>\n",
       "      <td>100644</td>\n",
       "      <td>blob</td>\n",
       "      <td>e69de29bb2d1d6434b8b29ae775ad8c2e48c5391</td>\n",
       "      <td>0.0</td>\n",
       "      <td>https://api.github.com/repos/ironhack-datalabs...</td>\n",
       "    </tr>\n",
       "  </tbody>\n",
       "</table>\n",
       "</div>"
      ],
      "text/plain": [
       "                        path    mode  type  \\\n",
       "0                 .gitignore  100644  blob   \n",
       "1                      15024  040000  tree   \n",
       "2  15024/.0006.scavengerhunt  100644  blob   \n",
       "3                   15024/40  100644  blob   \n",
       "4                   15024/74  100644  blob   \n",
       "\n",
       "                                        sha  size  \\\n",
       "0  e43b0f988953ae3a84b00331d0ccf5f7d51cb3cf  10.0   \n",
       "1  2945e51c87ad5da893c954afcf092f06343bbb7d   NaN   \n",
       "2  1c9064284a24b3486015eafdb391b141c27ada2b   3.0   \n",
       "3  e69de29bb2d1d6434b8b29ae775ad8c2e48c5391   0.0   \n",
       "4  e69de29bb2d1d6434b8b29ae775ad8c2e48c5391   0.0   \n",
       "\n",
       "                                                 url  \n",
       "0  https://api.github.com/repos/ironhack-datalabs...  \n",
       "1  https://api.github.com/repos/ironhack-datalabs...  \n",
       "2  https://api.github.com/repos/ironhack-datalabs...  \n",
       "3  https://api.github.com/repos/ironhack-datalabs...  \n",
       "4  https://api.github.com/repos/ironhack-datalabs...  "
      ]
     },
     "execution_count": 207,
     "metadata": {},
     "output_type": "execute_result"
    }
   ],
   "source": [
    "data=pd.DataFrame(solucion)\n",
    "data.head(5)"
   ]
  },
  {
   "cell_type": "code",
   "execution_count": 208,
   "id": "437a8005",
   "metadata": {},
   "outputs": [
    {
     "name": "stdout",
     "output_type": "stream",
     "text": [
      "['55685/5', '15024/99', '64880', '60224/1', '47222/.0024.scavengerhunt', '55685/.0020.scavengerhunt', '68848/75', '98750/20', '55417/14', '49418/38', '30351', '60224', '55685/81', '66032/28', '66032/77', '70751/18', '15534/98', '66032', '88596', '15024/40', '60224/.0003.scavengerhunt', '97881/.0009.scavengerhunt', '30351/22', '70751/68', '60224/80', '70751', '89046', '55417/.0023.scavengerhunt', '40303/.0022.scavengerhunt', '97881/26', '97881/71', '44639/76', '15024/74', '47830/66', '17020', '40303', '45525', '89046/73', '50896', '15534/2', '15534/.0012.scavengerhunt', '66032/47', '45525/67', '50896/.0011.scavengerhunt', '98750/62', '15534', '50896/83', '98750/.0001.scavengerhunt', '47830', '70751/44', '47222/.0016.scavengerhunt', '40303/51', '47830/.0010.scavengerhunt', '91701', '15024', '98750', '89338/35', '70751/.0019.scavengerhunt', '30351/.0021.scavengerhunt', '45525/90', '44639/91', '68848/16', '.gitignore', '44639/.0005.scavengerhunt', '64880/3', '50896/4', '47222', '55417', '64880/79', '97881/36', '17020/97', '70985/59', '49418/30', '88596/.0002.scavengerhunt', '89338', '17020/46', '91701/33', '88596/12', '88596/32', '89046/64', '91701/.0015.scavengerhunt', '89338/.0013.scavengerhunt', '64880/57', '70985/.0017.scavengerhunt', '70985', '17020/.0007.scavengerhunt', '89046/70', '88596/55', '44639', '45525/.0018.scavengerhunt', '47830/85', '49418/84', '55417/82', '70985/11', '97881', '49418/.0014.scavengerhunt', '68848/.0004.scavengerhunt', '40303/65', '91701/39', '15534/.0008.scavengerhunt', '15024/.0006.scavengerhunt', '47222/7', '49418', '30351/96', '89338/43', '55685', '47222/89', '89338/8', '68848']\n"
     ]
    }
   ],
   "source": [
    "lista_path=data[\"path\"]\n",
    "seta=set(lista_path)\n",
    "seta_lista=list(seta)\n",
    "print(seta_lista)"
   ]
  },
  {
   "cell_type": "code",
   "execution_count": 209,
   "id": "76cf7f8d",
   "metadata": {},
   "outputs": [
    {
     "data": {
      "text/plain": [
       "109"
      ]
     },
     "execution_count": 209,
     "metadata": {},
     "output_type": "execute_result"
    }
   ],
   "source": [
    "len(seta_lista) \n",
    "#he creado una lista de los path para luego sacar los path que son las carpetas que luego contienen los secret files pero\n",
    "#no he conseguido leer el contenido"
   ]
  },
  {
   "cell_type": "code",
   "execution_count": 210,
   "id": "9c5e3428",
   "metadata": {},
   "outputs": [],
   "source": [
    "#probamos con content en lugar de tree para llegar a las secret files"
   ]
  },
  {
   "cell_type": "code",
   "execution_count": 211,
   "id": "e120948c",
   "metadata": {},
   "outputs": [
    {
     "data": {
      "text/plain": [
       "'https://api.github.com/repos/ironhack-datalabs/scavenger/contents/{+path}'"
      ]
     },
     "execution_count": 211,
     "metadata": {},
     "output_type": "execute_result"
    }
   ],
   "source": [
    "web1_cont=web1.json()['contents_url']\n",
    "web1_cont"
   ]
  },
  {
   "cell_type": "code",
   "execution_count": 212,
   "id": "13a9bc0b",
   "metadata": {},
   "outputs": [],
   "source": [
    "url3='https://api.github.com/repos/ironhack-datalabs/scavenger/contents/'\n",
    "path=seta_lista"
   ]
  },
  {
   "cell_type": "code",
   "execution_count": 213,
   "id": "b38b5f9f",
   "metadata": {},
   "outputs": [
    {
     "data": {
      "text/plain": [
       "['https://api.github.com/repos/ironhack-datalabs/scavenger/contents/55685/5',\n",
       " 'https://api.github.com/repos/ironhack-datalabs/scavenger/contents/15024/99',\n",
       " 'https://api.github.com/repos/ironhack-datalabs/scavenger/contents/64880',\n",
       " 'https://api.github.com/repos/ironhack-datalabs/scavenger/contents/60224/1',\n",
       " 'https://api.github.com/repos/ironhack-datalabs/scavenger/contents/47222/.0024.scavengerhunt',\n",
       " 'https://api.github.com/repos/ironhack-datalabs/scavenger/contents/55685/.0020.scavengerhunt',\n",
       " 'https://api.github.com/repos/ironhack-datalabs/scavenger/contents/68848/75',\n",
       " 'https://api.github.com/repos/ironhack-datalabs/scavenger/contents/98750/20',\n",
       " 'https://api.github.com/repos/ironhack-datalabs/scavenger/contents/55417/14',\n",
       " 'https://api.github.com/repos/ironhack-datalabs/scavenger/contents/49418/38',\n",
       " 'https://api.github.com/repos/ironhack-datalabs/scavenger/contents/30351',\n",
       " 'https://api.github.com/repos/ironhack-datalabs/scavenger/contents/60224',\n",
       " 'https://api.github.com/repos/ironhack-datalabs/scavenger/contents/55685/81',\n",
       " 'https://api.github.com/repos/ironhack-datalabs/scavenger/contents/66032/28',\n",
       " 'https://api.github.com/repos/ironhack-datalabs/scavenger/contents/66032/77',\n",
       " 'https://api.github.com/repos/ironhack-datalabs/scavenger/contents/70751/18',\n",
       " 'https://api.github.com/repos/ironhack-datalabs/scavenger/contents/15534/98',\n",
       " 'https://api.github.com/repos/ironhack-datalabs/scavenger/contents/66032',\n",
       " 'https://api.github.com/repos/ironhack-datalabs/scavenger/contents/88596',\n",
       " 'https://api.github.com/repos/ironhack-datalabs/scavenger/contents/15024/40',\n",
       " 'https://api.github.com/repos/ironhack-datalabs/scavenger/contents/60224/.0003.scavengerhunt',\n",
       " 'https://api.github.com/repos/ironhack-datalabs/scavenger/contents/97881/.0009.scavengerhunt',\n",
       " 'https://api.github.com/repos/ironhack-datalabs/scavenger/contents/30351/22',\n",
       " 'https://api.github.com/repos/ironhack-datalabs/scavenger/contents/70751/68',\n",
       " 'https://api.github.com/repos/ironhack-datalabs/scavenger/contents/60224/80',\n",
       " 'https://api.github.com/repos/ironhack-datalabs/scavenger/contents/70751',\n",
       " 'https://api.github.com/repos/ironhack-datalabs/scavenger/contents/89046',\n",
       " 'https://api.github.com/repos/ironhack-datalabs/scavenger/contents/55417/.0023.scavengerhunt',\n",
       " 'https://api.github.com/repos/ironhack-datalabs/scavenger/contents/40303/.0022.scavengerhunt',\n",
       " 'https://api.github.com/repos/ironhack-datalabs/scavenger/contents/97881/26',\n",
       " 'https://api.github.com/repos/ironhack-datalabs/scavenger/contents/97881/71',\n",
       " 'https://api.github.com/repos/ironhack-datalabs/scavenger/contents/44639/76',\n",
       " 'https://api.github.com/repos/ironhack-datalabs/scavenger/contents/15024/74',\n",
       " 'https://api.github.com/repos/ironhack-datalabs/scavenger/contents/47830/66',\n",
       " 'https://api.github.com/repos/ironhack-datalabs/scavenger/contents/17020',\n",
       " 'https://api.github.com/repos/ironhack-datalabs/scavenger/contents/40303',\n",
       " 'https://api.github.com/repos/ironhack-datalabs/scavenger/contents/45525',\n",
       " 'https://api.github.com/repos/ironhack-datalabs/scavenger/contents/89046/73',\n",
       " 'https://api.github.com/repos/ironhack-datalabs/scavenger/contents/50896',\n",
       " 'https://api.github.com/repos/ironhack-datalabs/scavenger/contents/15534/2',\n",
       " 'https://api.github.com/repos/ironhack-datalabs/scavenger/contents/15534/.0012.scavengerhunt',\n",
       " 'https://api.github.com/repos/ironhack-datalabs/scavenger/contents/66032/47',\n",
       " 'https://api.github.com/repos/ironhack-datalabs/scavenger/contents/45525/67',\n",
       " 'https://api.github.com/repos/ironhack-datalabs/scavenger/contents/50896/.0011.scavengerhunt',\n",
       " 'https://api.github.com/repos/ironhack-datalabs/scavenger/contents/98750/62',\n",
       " 'https://api.github.com/repos/ironhack-datalabs/scavenger/contents/15534',\n",
       " 'https://api.github.com/repos/ironhack-datalabs/scavenger/contents/50896/83',\n",
       " 'https://api.github.com/repos/ironhack-datalabs/scavenger/contents/98750/.0001.scavengerhunt',\n",
       " 'https://api.github.com/repos/ironhack-datalabs/scavenger/contents/47830',\n",
       " 'https://api.github.com/repos/ironhack-datalabs/scavenger/contents/70751/44',\n",
       " 'https://api.github.com/repos/ironhack-datalabs/scavenger/contents/47222/.0016.scavengerhunt',\n",
       " 'https://api.github.com/repos/ironhack-datalabs/scavenger/contents/40303/51',\n",
       " 'https://api.github.com/repos/ironhack-datalabs/scavenger/contents/47830/.0010.scavengerhunt',\n",
       " 'https://api.github.com/repos/ironhack-datalabs/scavenger/contents/91701',\n",
       " 'https://api.github.com/repos/ironhack-datalabs/scavenger/contents/15024',\n",
       " 'https://api.github.com/repos/ironhack-datalabs/scavenger/contents/98750',\n",
       " 'https://api.github.com/repos/ironhack-datalabs/scavenger/contents/89338/35',\n",
       " 'https://api.github.com/repos/ironhack-datalabs/scavenger/contents/70751/.0019.scavengerhunt',\n",
       " 'https://api.github.com/repos/ironhack-datalabs/scavenger/contents/30351/.0021.scavengerhunt',\n",
       " 'https://api.github.com/repos/ironhack-datalabs/scavenger/contents/45525/90',\n",
       " 'https://api.github.com/repos/ironhack-datalabs/scavenger/contents/44639/91',\n",
       " 'https://api.github.com/repos/ironhack-datalabs/scavenger/contents/68848/16',\n",
       " 'https://api.github.com/repos/ironhack-datalabs/scavenger/contents/.gitignore',\n",
       " 'https://api.github.com/repos/ironhack-datalabs/scavenger/contents/44639/.0005.scavengerhunt',\n",
       " 'https://api.github.com/repos/ironhack-datalabs/scavenger/contents/64880/3',\n",
       " 'https://api.github.com/repos/ironhack-datalabs/scavenger/contents/50896/4',\n",
       " 'https://api.github.com/repos/ironhack-datalabs/scavenger/contents/47222',\n",
       " 'https://api.github.com/repos/ironhack-datalabs/scavenger/contents/55417',\n",
       " 'https://api.github.com/repos/ironhack-datalabs/scavenger/contents/64880/79',\n",
       " 'https://api.github.com/repos/ironhack-datalabs/scavenger/contents/97881/36',\n",
       " 'https://api.github.com/repos/ironhack-datalabs/scavenger/contents/17020/97',\n",
       " 'https://api.github.com/repos/ironhack-datalabs/scavenger/contents/70985/59',\n",
       " 'https://api.github.com/repos/ironhack-datalabs/scavenger/contents/49418/30',\n",
       " 'https://api.github.com/repos/ironhack-datalabs/scavenger/contents/88596/.0002.scavengerhunt',\n",
       " 'https://api.github.com/repos/ironhack-datalabs/scavenger/contents/89338',\n",
       " 'https://api.github.com/repos/ironhack-datalabs/scavenger/contents/17020/46',\n",
       " 'https://api.github.com/repos/ironhack-datalabs/scavenger/contents/91701/33',\n",
       " 'https://api.github.com/repos/ironhack-datalabs/scavenger/contents/88596/12',\n",
       " 'https://api.github.com/repos/ironhack-datalabs/scavenger/contents/88596/32',\n",
       " 'https://api.github.com/repos/ironhack-datalabs/scavenger/contents/89046/64',\n",
       " 'https://api.github.com/repos/ironhack-datalabs/scavenger/contents/91701/.0015.scavengerhunt',\n",
       " 'https://api.github.com/repos/ironhack-datalabs/scavenger/contents/89338/.0013.scavengerhunt',\n",
       " 'https://api.github.com/repos/ironhack-datalabs/scavenger/contents/64880/57',\n",
       " 'https://api.github.com/repos/ironhack-datalabs/scavenger/contents/70985/.0017.scavengerhunt',\n",
       " 'https://api.github.com/repos/ironhack-datalabs/scavenger/contents/70985',\n",
       " 'https://api.github.com/repos/ironhack-datalabs/scavenger/contents/17020/.0007.scavengerhunt',\n",
       " 'https://api.github.com/repos/ironhack-datalabs/scavenger/contents/89046/70',\n",
       " 'https://api.github.com/repos/ironhack-datalabs/scavenger/contents/88596/55',\n",
       " 'https://api.github.com/repos/ironhack-datalabs/scavenger/contents/44639',\n",
       " 'https://api.github.com/repos/ironhack-datalabs/scavenger/contents/45525/.0018.scavengerhunt',\n",
       " 'https://api.github.com/repos/ironhack-datalabs/scavenger/contents/47830/85',\n",
       " 'https://api.github.com/repos/ironhack-datalabs/scavenger/contents/49418/84',\n",
       " 'https://api.github.com/repos/ironhack-datalabs/scavenger/contents/55417/82',\n",
       " 'https://api.github.com/repos/ironhack-datalabs/scavenger/contents/70985/11',\n",
       " 'https://api.github.com/repos/ironhack-datalabs/scavenger/contents/97881',\n",
       " 'https://api.github.com/repos/ironhack-datalabs/scavenger/contents/49418/.0014.scavengerhunt',\n",
       " 'https://api.github.com/repos/ironhack-datalabs/scavenger/contents/68848/.0004.scavengerhunt',\n",
       " 'https://api.github.com/repos/ironhack-datalabs/scavenger/contents/40303/65',\n",
       " 'https://api.github.com/repos/ironhack-datalabs/scavenger/contents/91701/39',\n",
       " 'https://api.github.com/repos/ironhack-datalabs/scavenger/contents/15534/.0008.scavengerhunt',\n",
       " 'https://api.github.com/repos/ironhack-datalabs/scavenger/contents/15024/.0006.scavengerhunt',\n",
       " 'https://api.github.com/repos/ironhack-datalabs/scavenger/contents/47222/7',\n",
       " 'https://api.github.com/repos/ironhack-datalabs/scavenger/contents/49418',\n",
       " 'https://api.github.com/repos/ironhack-datalabs/scavenger/contents/30351/96',\n",
       " 'https://api.github.com/repos/ironhack-datalabs/scavenger/contents/89338/43',\n",
       " 'https://api.github.com/repos/ironhack-datalabs/scavenger/contents/55685',\n",
       " 'https://api.github.com/repos/ironhack-datalabs/scavenger/contents/47222/89',\n",
       " 'https://api.github.com/repos/ironhack-datalabs/scavenger/contents/89338/8',\n",
       " 'https://api.github.com/repos/ironhack-datalabs/scavenger/contents/68848']"
      ]
     },
     "execution_count": 213,
     "metadata": {},
     "output_type": "execute_result"
    }
   ],
   "source": [
    "union=[]\n",
    "for items in seta_lista:\n",
    "    union.append(url3+items)\n",
    "union"
   ]
  },
  {
   "cell_type": "code",
   "execution_count": 214,
   "id": "affd835b",
   "metadata": {},
   "outputs": [
    {
     "data": {
      "text/plain": [
       "['https://api.github.com/repos/ironhack-datalabs/scavenger/contents/47222/.0024.scavengerhunt',\n",
       " 'https://api.github.com/repos/ironhack-datalabs/scavenger/contents/55685/.0020.scavengerhunt',\n",
       " 'https://api.github.com/repos/ironhack-datalabs/scavenger/contents/60224/.0003.scavengerhunt',\n",
       " 'https://api.github.com/repos/ironhack-datalabs/scavenger/contents/97881/.0009.scavengerhunt',\n",
       " 'https://api.github.com/repos/ironhack-datalabs/scavenger/contents/55417/.0023.scavengerhunt',\n",
       " 'https://api.github.com/repos/ironhack-datalabs/scavenger/contents/40303/.0022.scavengerhunt',\n",
       " 'https://api.github.com/repos/ironhack-datalabs/scavenger/contents/15534/.0012.scavengerhunt',\n",
       " 'https://api.github.com/repos/ironhack-datalabs/scavenger/contents/50896/.0011.scavengerhunt',\n",
       " 'https://api.github.com/repos/ironhack-datalabs/scavenger/contents/98750/.0001.scavengerhunt',\n",
       " 'https://api.github.com/repos/ironhack-datalabs/scavenger/contents/47222/.0016.scavengerhunt',\n",
       " 'https://api.github.com/repos/ironhack-datalabs/scavenger/contents/47830/.0010.scavengerhunt',\n",
       " 'https://api.github.com/repos/ironhack-datalabs/scavenger/contents/70751/.0019.scavengerhunt',\n",
       " 'https://api.github.com/repos/ironhack-datalabs/scavenger/contents/30351/.0021.scavengerhunt',\n",
       " 'https://api.github.com/repos/ironhack-datalabs/scavenger/contents/44639/.0005.scavengerhunt',\n",
       " 'https://api.github.com/repos/ironhack-datalabs/scavenger/contents/88596/.0002.scavengerhunt',\n",
       " 'https://api.github.com/repos/ironhack-datalabs/scavenger/contents/91701/.0015.scavengerhunt',\n",
       " 'https://api.github.com/repos/ironhack-datalabs/scavenger/contents/89338/.0013.scavengerhunt',\n",
       " 'https://api.github.com/repos/ironhack-datalabs/scavenger/contents/70985/.0017.scavengerhunt',\n",
       " 'https://api.github.com/repos/ironhack-datalabs/scavenger/contents/17020/.0007.scavengerhunt',\n",
       " 'https://api.github.com/repos/ironhack-datalabs/scavenger/contents/45525/.0018.scavengerhunt',\n",
       " 'https://api.github.com/repos/ironhack-datalabs/scavenger/contents/49418/.0014.scavengerhunt',\n",
       " 'https://api.github.com/repos/ironhack-datalabs/scavenger/contents/68848/.0004.scavengerhunt',\n",
       " 'https://api.github.com/repos/ironhack-datalabs/scavenger/contents/15534/.0008.scavengerhunt',\n",
       " 'https://api.github.com/repos/ironhack-datalabs/scavenger/contents/15024/.0006.scavengerhunt']"
      ]
     },
     "execution_count": 214,
     "metadata": {},
     "output_type": "execute_result"
    }
   ],
   "source": [
    "urls_totales=[]\n",
    "for items in union:\n",
    "    if 'scavengerhunt' in items:\n",
    "        urls_totales.append(items)\n",
    "urls_totales"
   ]
  },
  {
   "cell_type": "code",
   "execution_count": 215,
   "id": "f719ac5f",
   "metadata": {},
   "outputs": [
    {
     "data": {
      "text/plain": [
       "24"
      ]
     },
     "execution_count": 215,
     "metadata": {},
     "output_type": "execute_result"
    }
   ],
   "source": [
    "len(urls_totales) #tenemos la ruta de las 24 carpetas"
   ]
  },
  {
   "cell_type": "code",
   "execution_count": 216,
   "id": "dc2325fd",
   "metadata": {},
   "outputs": [
    {
     "data": {
      "text/plain": [
       "{'name': '.0024.scavengerhunt',\n",
       " 'path': '47222/.0024.scavengerhunt',\n",
       " 'sha': '47eb4306e5fec9e051dacabc7039348109784b94',\n",
       " 'size': 6,\n",
       " 'url': 'https://api.github.com/repos/ironhack-datalabs/scavenger/contents/47222/.0024.scavengerhunt?ref=master',\n",
       " 'html_url': 'https://github.com/ironhack-datalabs/scavenger/blob/master/47222/.0024.scavengerhunt',\n",
       " 'git_url': 'https://api.github.com/repos/ironhack-datalabs/scavenger/git/blobs/47eb4306e5fec9e051dacabc7039348109784b94',\n",
       " 'download_url': 'https://raw.githubusercontent.com/ironhack-datalabs/scavenger/master/47222/.0024.scavengerhunt',\n",
       " 'type': 'file',\n",
       " 'content': 'ZGF0YS4K\\n',\n",
       " 'encoding': 'base64',\n",
       " '_links': {'self': 'https://api.github.com/repos/ironhack-datalabs/scavenger/contents/47222/.0024.scavengerhunt?ref=master',\n",
       "  'git': 'https://api.github.com/repos/ironhack-datalabs/scavenger/git/blobs/47eb4306e5fec9e051dacabc7039348109784b94',\n",
       "  'html': 'https://github.com/ironhack-datalabs/scavenger/blob/master/47222/.0024.scavengerhunt'}}"
      ]
     },
     "execution_count": 216,
     "metadata": {},
     "output_type": "execute_result"
    }
   ],
   "source": [
    "obtener_raw=req.get(urls_totales[0],auth=auth)\n",
    "obtener_raw.json() "
   ]
  },
  {
   "cell_type": "code",
   "execution_count": 217,
   "id": "1334e7df",
   "metadata": {
    "scrolled": true
   },
   "outputs": [
    {
     "data": {
      "text/plain": [
       "[<Response [200]>,\n",
       " <Response [200]>,\n",
       " <Response [200]>,\n",
       " <Response [200]>,\n",
       " <Response [200]>,\n",
       " <Response [200]>,\n",
       " <Response [200]>,\n",
       " <Response [200]>,\n",
       " <Response [200]>,\n",
       " <Response [200]>,\n",
       " <Response [200]>,\n",
       " <Response [200]>,\n",
       " <Response [200]>,\n",
       " <Response [200]>,\n",
       " <Response [200]>,\n",
       " <Response [200]>,\n",
       " <Response [200]>,\n",
       " <Response [200]>,\n",
       " <Response [200]>,\n",
       " <Response [200]>,\n",
       " <Response [200]>,\n",
       " <Response [200]>,\n",
       " <Response [200]>,\n",
       " <Response [200]>]"
      ]
     },
     "execution_count": 217,
     "metadata": {},
     "output_type": "execute_result"
    }
   ],
   "source": [
    "raw_totales=[]\n",
    "for i in urls_totales:\n",
    "    data=req.get(i,auth=auth)\n",
    "    raw_totales.append(data)\n",
    "raw_totales"
   ]
  },
  {
   "cell_type": "code",
   "execution_count": 218,
   "id": "a6e1f960",
   "metadata": {},
   "outputs": [
    {
     "data": {
      "text/plain": [
       "{'name': '.0003.scavengerhunt',\n",
       " 'path': '60224/.0003.scavengerhunt',\n",
       " 'sha': 'ba524d7abc4b3a0c0995eb85c9eef470e9e7172f',\n",
       " 'size': 9,\n",
       " 'url': 'https://api.github.com/repos/ironhack-datalabs/scavenger/contents/60224/.0003.scavengerhunt?ref=master',\n",
       " 'html_url': 'https://github.com/ironhack-datalabs/scavenger/blob/master/60224/.0003.scavengerhunt',\n",
       " 'git_url': 'https://api.github.com/repos/ironhack-datalabs/scavenger/git/blobs/ba524d7abc4b3a0c0995eb85c9eef470e9e7172f',\n",
       " 'download_url': 'https://raw.githubusercontent.com/ironhack-datalabs/scavenger/master/60224/.0003.scavengerhunt',\n",
       " 'type': 'file',\n",
       " 'content': 'c2NpZW5jZSwK\\n',\n",
       " 'encoding': 'base64',\n",
       " '_links': {'self': 'https://api.github.com/repos/ironhack-datalabs/scavenger/contents/60224/.0003.scavengerhunt?ref=master',\n",
       "  'git': 'https://api.github.com/repos/ironhack-datalabs/scavenger/git/blobs/ba524d7abc4b3a0c0995eb85c9eef470e9e7172f',\n",
       "  'html': 'https://github.com/ironhack-datalabs/scavenger/blob/master/60224/.0003.scavengerhunt'}}"
      ]
     },
     "execution_count": 218,
     "metadata": {},
     "output_type": "execute_result"
    }
   ],
   "source": [
    "raw_totales[2].json() #para comprobar a lo que tenemos que llegar, download_url"
   ]
  },
  {
   "cell_type": "code",
   "execution_count": 219,
   "id": "ce2c8617",
   "metadata": {},
   "outputs": [],
   "source": [
    "a=raw_totales[0].json()[\"download_url\"]\n",
    "b=raw_totales[1].json()[\"download_url\"]"
   ]
  },
  {
   "cell_type": "code",
   "execution_count": 220,
   "id": "9ed358a7",
   "metadata": {},
   "outputs": [
    {
     "data": {
      "text/html": [
       "<div>\n",
       "<style scoped>\n",
       "    .dataframe tbody tr th:only-of-type {\n",
       "        vertical-align: middle;\n",
       "    }\n",
       "\n",
       "    .dataframe tbody tr th {\n",
       "        vertical-align: top;\n",
       "    }\n",
       "\n",
       "    .dataframe thead th {\n",
       "        text-align: right;\n",
       "    }\n",
       "</style>\n",
       "<table border=\"1\" class=\"dataframe\">\n",
       "  <thead>\n",
       "    <tr style=\"text-align: right;\">\n",
       "      <th></th>\n",
       "      <th>0</th>\n",
       "      <th>1</th>\n",
       "      <th>2</th>\n",
       "      <th>3</th>\n",
       "      <th>4</th>\n",
       "      <th>5</th>\n",
       "      <th>6</th>\n",
       "      <th>7</th>\n",
       "    </tr>\n",
       "  </thead>\n",
       "  <tbody>\n",
       "    <tr>\n",
       "      <th>0</th>\n",
       "      <td>b'{\"name\":\".0024.scavengerhunt\",\"path\":\"47222/...</td>\n",
       "      <td>b':\"https://api.github.com/repos/ironhack-data...</td>\n",
       "      <td>b'thub.com/ironhack-datalabs/scavenger/blob/ma...</td>\n",
       "      <td>b'alabs/scavenger/git/blobs/47eb4306e5fec9e051...</td>\n",
       "      <td>b'atalabs/scavenger/master/47222/.0024.scaveng...</td>\n",
       "      <td>b'ttps://api.github.com/repos/ironhack-datalab...</td>\n",
       "      <td>b'.com/repos/ironhack-datalabs/scavenger/git/b...</td>\n",
       "      <td>b'atalabs/scavenger/blob/master/47222/.0024.sc...</td>\n",
       "    </tr>\n",
       "    <tr>\n",
       "      <th>1</th>\n",
       "      <td>b'{\"name\":\".0020.scavengerhunt\",\"path\":\"55685/...</td>\n",
       "      <td>b':\"https://api.github.com/repos/ironhack-data...</td>\n",
       "      <td>b'thub.com/ironhack-datalabs/scavenger/blob/ma...</td>\n",
       "      <td>b'alabs/scavenger/git/blobs/41d25f51c301c5eee3...</td>\n",
       "      <td>b'atalabs/scavenger/master/55685/.0020.scaveng...</td>\n",
       "      <td>b'ttps://api.github.com/repos/ironhack-datalab...</td>\n",
       "      <td>b'.com/repos/ironhack-datalabs/scavenger/git/b...</td>\n",
       "      <td>b'atalabs/scavenger/blob/master/55685/.0020.sc...</td>\n",
       "    </tr>\n",
       "    <tr>\n",
       "      <th>2</th>\n",
       "      <td>b'{\"name\":\".0003.scavengerhunt\",\"path\":\"60224/...</td>\n",
       "      <td>b':\"https://api.github.com/repos/ironhack-data...</td>\n",
       "      <td>b'thub.com/ironhack-datalabs/scavenger/blob/ma...</td>\n",
       "      <td>b'alabs/scavenger/git/blobs/ba524d7abc4b3a0c09...</td>\n",
       "      <td>b'atalabs/scavenger/master/60224/.0003.scaveng...</td>\n",
       "      <td>b'\":\"https://api.github.com/repos/ironhack-dat...</td>\n",
       "      <td>b'thub.com/repos/ironhack-datalabs/scavenger/g...</td>\n",
       "      <td>b'ck-datalabs/scavenger/blob/master/60224/.000...</td>\n",
       "    </tr>\n",
       "    <tr>\n",
       "      <th>3</th>\n",
       "      <td>b'{\"name\":\".0009.scavengerhunt\",\"path\":\"97881/...</td>\n",
       "      <td>b':\"https://api.github.com/repos/ironhack-data...</td>\n",
       "      <td>b'thub.com/ironhack-datalabs/scavenger/blob/ma...</td>\n",
       "      <td>b'alabs/scavenger/git/blobs/f5cb13223fdc1b11f4...</td>\n",
       "      <td>b'atalabs/scavenger/master/97881/.0009.scaveng...</td>\n",
       "      <td>b'://api.github.com/repos/ironhack-datalabs/sc...</td>\n",
       "      <td>b'/repos/ironhack-datalabs/scavenger/git/blobs...</td>\n",
       "      <td>b'abs/scavenger/blob/master/97881/.0009.scaven...</td>\n",
       "    </tr>\n",
       "    <tr>\n",
       "      <th>4</th>\n",
       "      <td>b'{\"name\":\".0023.scavengerhunt\",\"path\":\"55417/...</td>\n",
       "      <td>b':\"https://api.github.com/repos/ironhack-data...</td>\n",
       "      <td>b'thub.com/ironhack-datalabs/scavenger/blob/ma...</td>\n",
       "      <td>b'alabs/scavenger/git/blobs/04d0ffb8d895a9e3ee...</td>\n",
       "      <td>b'atalabs/scavenger/master/55417/.0023.scaveng...</td>\n",
       "      <td>b'\":\"https://api.github.com/repos/ironhack-dat...</td>\n",
       "      <td>b'thub.com/repos/ironhack-datalabs/scavenger/g...</td>\n",
       "      <td>b'ck-datalabs/scavenger/blob/master/55417/.002...</td>\n",
       "    </tr>\n",
       "  </tbody>\n",
       "</table>\n",
       "</div>"
      ],
      "text/plain": [
       "                                                   0  \\\n",
       "0  b'{\"name\":\".0024.scavengerhunt\",\"path\":\"47222/...   \n",
       "1  b'{\"name\":\".0020.scavengerhunt\",\"path\":\"55685/...   \n",
       "2  b'{\"name\":\".0003.scavengerhunt\",\"path\":\"60224/...   \n",
       "3  b'{\"name\":\".0009.scavengerhunt\",\"path\":\"97881/...   \n",
       "4  b'{\"name\":\".0023.scavengerhunt\",\"path\":\"55417/...   \n",
       "\n",
       "                                                   1  \\\n",
       "0  b':\"https://api.github.com/repos/ironhack-data...   \n",
       "1  b':\"https://api.github.com/repos/ironhack-data...   \n",
       "2  b':\"https://api.github.com/repos/ironhack-data...   \n",
       "3  b':\"https://api.github.com/repos/ironhack-data...   \n",
       "4  b':\"https://api.github.com/repos/ironhack-data...   \n",
       "\n",
       "                                                   2  \\\n",
       "0  b'thub.com/ironhack-datalabs/scavenger/blob/ma...   \n",
       "1  b'thub.com/ironhack-datalabs/scavenger/blob/ma...   \n",
       "2  b'thub.com/ironhack-datalabs/scavenger/blob/ma...   \n",
       "3  b'thub.com/ironhack-datalabs/scavenger/blob/ma...   \n",
       "4  b'thub.com/ironhack-datalabs/scavenger/blob/ma...   \n",
       "\n",
       "                                                   3  \\\n",
       "0  b'alabs/scavenger/git/blobs/47eb4306e5fec9e051...   \n",
       "1  b'alabs/scavenger/git/blobs/41d25f51c301c5eee3...   \n",
       "2  b'alabs/scavenger/git/blobs/ba524d7abc4b3a0c09...   \n",
       "3  b'alabs/scavenger/git/blobs/f5cb13223fdc1b11f4...   \n",
       "4  b'alabs/scavenger/git/blobs/04d0ffb8d895a9e3ee...   \n",
       "\n",
       "                                                   4  \\\n",
       "0  b'atalabs/scavenger/master/47222/.0024.scaveng...   \n",
       "1  b'atalabs/scavenger/master/55685/.0020.scaveng...   \n",
       "2  b'atalabs/scavenger/master/60224/.0003.scaveng...   \n",
       "3  b'atalabs/scavenger/master/97881/.0009.scaveng...   \n",
       "4  b'atalabs/scavenger/master/55417/.0023.scaveng...   \n",
       "\n",
       "                                                   5  \\\n",
       "0  b'ttps://api.github.com/repos/ironhack-datalab...   \n",
       "1  b'ttps://api.github.com/repos/ironhack-datalab...   \n",
       "2  b'\":\"https://api.github.com/repos/ironhack-dat...   \n",
       "3  b'://api.github.com/repos/ironhack-datalabs/sc...   \n",
       "4  b'\":\"https://api.github.com/repos/ironhack-dat...   \n",
       "\n",
       "                                                   6  \\\n",
       "0  b'.com/repos/ironhack-datalabs/scavenger/git/b...   \n",
       "1  b'.com/repos/ironhack-datalabs/scavenger/git/b...   \n",
       "2  b'thub.com/repos/ironhack-datalabs/scavenger/g...   \n",
       "3  b'/repos/ironhack-datalabs/scavenger/git/blobs...   \n",
       "4  b'thub.com/repos/ironhack-datalabs/scavenger/g...   \n",
       "\n",
       "                                                   7  \n",
       "0  b'atalabs/scavenger/blob/master/47222/.0024.sc...  \n",
       "1  b'atalabs/scavenger/blob/master/55685/.0020.sc...  \n",
       "2  b'ck-datalabs/scavenger/blob/master/60224/.000...  \n",
       "3  b'abs/scavenger/blob/master/97881/.0009.scaven...  \n",
       "4  b'ck-datalabs/scavenger/blob/master/55417/.002...  "
      ]
     },
     "execution_count": 220,
     "metadata": {},
     "output_type": "execute_result"
    }
   ],
   "source": [
    "data2=pd.DataFrame(raw_totales)\n",
    "data2.head(5)\n"
   ]
  },
  {
   "cell_type": "code",
   "execution_count": 239,
   "id": "6162dbfc",
   "metadata": {},
   "outputs": [
    {
     "data": {
      "text/plain": [
       "{'1': 'https://raw.githubusercontent.com/ironhack-datalabs/scavenger/master/47222/.0024.scavengerhunt',\n",
       " '2': 'https://raw.githubusercontent.com/ironhack-datalabs/scavenger/master/55685/.0020.scavengerhunt',\n",
       " '3': 'https://raw.githubusercontent.com/ironhack-datalabs/scavenger/master/60224/.0003.scavengerhunt',\n",
       " '4': 'https://raw.githubusercontent.com/ironhack-datalabs/scavenger/master/97881/.0009.scavengerhunt',\n",
       " '5': 'https://raw.githubusercontent.com/ironhack-datalabs/scavenger/master/55417/.0023.scavengerhunt',\n",
       " '6': 'https://raw.githubusercontent.com/ironhack-datalabs/scavenger/master/40303/.0022.scavengerhunt',\n",
       " '7': 'https://raw.githubusercontent.com/ironhack-datalabs/scavenger/master/15534/.0012.scavengerhunt',\n",
       " '8': 'https://raw.githubusercontent.com/ironhack-datalabs/scavenger/master/50896/.0011.scavengerhunt',\n",
       " '9': 'https://raw.githubusercontent.com/ironhack-datalabs/scavenger/master/98750/.0001.scavengerhunt',\n",
       " '10': 'https://raw.githubusercontent.com/ironhack-datalabs/scavenger/master/47222/.0016.scavengerhunt',\n",
       " '11': 'https://raw.githubusercontent.com/ironhack-datalabs/scavenger/master/47830/.0010.scavengerhunt',\n",
       " '12': 'https://raw.githubusercontent.com/ironhack-datalabs/scavenger/master/70751/.0019.scavengerhunt',\n",
       " '13': 'https://raw.githubusercontent.com/ironhack-datalabs/scavenger/master/30351/.0021.scavengerhunt',\n",
       " '14': 'https://raw.githubusercontent.com/ironhack-datalabs/scavenger/master/44639/.0005.scavengerhunt',\n",
       " '15': 'https://raw.githubusercontent.com/ironhack-datalabs/scavenger/master/88596/.0002.scavengerhunt',\n",
       " '16': 'https://raw.githubusercontent.com/ironhack-datalabs/scavenger/master/91701/.0015.scavengerhunt',\n",
       " '17': 'https://raw.githubusercontent.com/ironhack-datalabs/scavenger/master/89338/.0013.scavengerhunt',\n",
       " '18': 'https://raw.githubusercontent.com/ironhack-datalabs/scavenger/master/70985/.0017.scavengerhunt',\n",
       " '19': 'https://raw.githubusercontent.com/ironhack-datalabs/scavenger/master/17020/.0007.scavengerhunt',\n",
       " '20': 'https://raw.githubusercontent.com/ironhack-datalabs/scavenger/master/45525/.0018.scavengerhunt',\n",
       " '21': 'https://raw.githubusercontent.com/ironhack-datalabs/scavenger/master/49418/.0014.scavengerhunt',\n",
       " '22': 'https://raw.githubusercontent.com/ironhack-datalabs/scavenger/master/68848/.0004.scavengerhunt',\n",
       " '23': 'https://raw.githubusercontent.com/ironhack-datalabs/scavenger/master/15534/.0008.scavengerhunt',\n",
       " '24': 'https://raw.githubusercontent.com/ironhack-datalabs/scavenger/master/15024/.0006.scavengerhunt'}"
      ]
     },
     "execution_count": 239,
     "metadata": {},
     "output_type": "execute_result"
    }
   ],
   "source": [
    "TOTAL={}\n",
    "\n",
    "TOTAL[\"1\"]=raw_totales[0].json()[\"download_url\"]\n",
    "TOTAL[\"2\"]=raw_totales[1].json()[\"download_url\"]\n",
    "TOTAL[\"3\"]=raw_totales[2].json()[\"download_url\"]\n",
    "TOTAL[\"4\"]=raw_totales[3].json()[\"download_url\"]\n",
    "TOTAL[\"5\"]=raw_totales[4].json()[\"download_url\"]\n",
    "TOTAL[\"6\"]=raw_totales[5].json()[\"download_url\"]\n",
    "TOTAL[\"7\"]=raw_totales[6].json()[\"download_url\"]\n",
    "TOTAL[\"8\"]=raw_totales[7].json()[\"download_url\"]\n",
    "TOTAL[\"9\"]=raw_totales[8].json()[\"download_url\"]\n",
    "TOTAL[\"10\"]=raw_totales[9].json()[\"download_url\"]\n",
    "TOTAL[\"11\"]=raw_totales[10].json()[\"download_url\"]\n",
    "TOTAL[\"12\"]=raw_totales[11].json()[\"download_url\"]\n",
    "TOTAL[\"13\"]=raw_totales[12].json()[\"download_url\"]\n",
    "TOTAL[\"14\"]=raw_totales[13].json()[\"download_url\"]\n",
    "TOTAL[\"15\"]=raw_totales[14].json()[\"download_url\"]\n",
    "TOTAL[\"16\"]=raw_totales[15].json()[\"download_url\"]\n",
    "TOTAL[\"17\"]=raw_totales[16].json()[\"download_url\"]\n",
    "TOTAL[\"18\"]=raw_totales[17].json()[\"download_url\"]\n",
    "TOTAL[\"19\"]=raw_totales[18].json()[\"download_url\"]\n",
    "TOTAL[\"20\"]=raw_totales[19].json()[\"download_url\"]\n",
    "TOTAL[\"21\"]=raw_totales[20].json()[\"download_url\"]\n",
    "TOTAL[\"22\"]=raw_totales[21].json()[\"download_url\"]\n",
    "TOTAL[\"23\"]=raw_totales[22].json()[\"download_url\"]\n",
    "TOTAL[\"24\"]=raw_totales[23].json()[\"download_url\"]\n",
    "\n",
    "\n",
    "TOTAL"
   ]
  },
  {
   "cell_type": "code",
   "execution_count": 222,
   "id": "b315aa57",
   "metadata": {},
   "outputs": [
    {
     "data": {
      "text/plain": [
       "['https://raw.githubusercontent.com/ironhack-datalabs/scavenger/master/47222/.0024.scavengerhunt',\n",
       " 'https://raw.githubusercontent.com/ironhack-datalabs/scavenger/master/55685/.0020.scavengerhunt',\n",
       " 'https://raw.githubusercontent.com/ironhack-datalabs/scavenger/master/60224/.0003.scavengerhunt',\n",
       " 'https://raw.githubusercontent.com/ironhack-datalabs/scavenger/master/97881/.0009.scavengerhunt',\n",
       " 'https://raw.githubusercontent.com/ironhack-datalabs/scavenger/master/55417/.0023.scavengerhunt',\n",
       " 'https://raw.githubusercontent.com/ironhack-datalabs/scavenger/master/40303/.0022.scavengerhunt',\n",
       " 'https://raw.githubusercontent.com/ironhack-datalabs/scavenger/master/15534/.0012.scavengerhunt',\n",
       " 'https://raw.githubusercontent.com/ironhack-datalabs/scavenger/master/50896/.0011.scavengerhunt',\n",
       " 'https://raw.githubusercontent.com/ironhack-datalabs/scavenger/master/98750/.0001.scavengerhunt',\n",
       " 'https://raw.githubusercontent.com/ironhack-datalabs/scavenger/master/47222/.0016.scavengerhunt',\n",
       " 'https://raw.githubusercontent.com/ironhack-datalabs/scavenger/master/47830/.0010.scavengerhunt',\n",
       " 'https://raw.githubusercontent.com/ironhack-datalabs/scavenger/master/70751/.0019.scavengerhunt',\n",
       " 'https://raw.githubusercontent.com/ironhack-datalabs/scavenger/master/30351/.0021.scavengerhunt',\n",
       " 'https://raw.githubusercontent.com/ironhack-datalabs/scavenger/master/44639/.0005.scavengerhunt',\n",
       " 'https://raw.githubusercontent.com/ironhack-datalabs/scavenger/master/88596/.0002.scavengerhunt',\n",
       " 'https://raw.githubusercontent.com/ironhack-datalabs/scavenger/master/91701/.0015.scavengerhunt',\n",
       " 'https://raw.githubusercontent.com/ironhack-datalabs/scavenger/master/89338/.0013.scavengerhunt',\n",
       " 'https://raw.githubusercontent.com/ironhack-datalabs/scavenger/master/70985/.0017.scavengerhunt',\n",
       " 'https://raw.githubusercontent.com/ironhack-datalabs/scavenger/master/17020/.0007.scavengerhunt',\n",
       " 'https://raw.githubusercontent.com/ironhack-datalabs/scavenger/master/45525/.0018.scavengerhunt',\n",
       " 'https://raw.githubusercontent.com/ironhack-datalabs/scavenger/master/49418/.0014.scavengerhunt',\n",
       " 'https://raw.githubusercontent.com/ironhack-datalabs/scavenger/master/68848/.0004.scavengerhunt',\n",
       " 'https://raw.githubusercontent.com/ironhack-datalabs/scavenger/master/15534/.0008.scavengerhunt',\n",
       " 'https://raw.githubusercontent.com/ironhack-datalabs/scavenger/master/15024/.0006.scavengerhunt']"
      ]
     },
     "execution_count": 222,
     "metadata": {},
     "output_type": "execute_result"
    }
   ],
   "source": [
    "contenido= list(TOTAL.values())\n",
    "contenido"
   ]
  },
  {
   "cell_type": "code",
   "execution_count": 243,
   "id": "ce8af87e",
   "metadata": {},
   "outputs": [
    {
     "data": {
      "text/plain": [
       "['https://raw.githubusercontent.com/ironhack-datalabs/scavenger/master/15024/.0006.scavengerhunt',\n",
       " 'https://raw.githubusercontent.com/ironhack-datalabs/scavenger/master/15534/.0008.scavengerhunt',\n",
       " 'https://raw.githubusercontent.com/ironhack-datalabs/scavenger/master/15534/.0012.scavengerhunt',\n",
       " 'https://raw.githubusercontent.com/ironhack-datalabs/scavenger/master/17020/.0007.scavengerhunt',\n",
       " 'https://raw.githubusercontent.com/ironhack-datalabs/scavenger/master/30351/.0021.scavengerhunt',\n",
       " 'https://raw.githubusercontent.com/ironhack-datalabs/scavenger/master/40303/.0022.scavengerhunt',\n",
       " 'https://raw.githubusercontent.com/ironhack-datalabs/scavenger/master/44639/.0005.scavengerhunt',\n",
       " 'https://raw.githubusercontent.com/ironhack-datalabs/scavenger/master/45525/.0018.scavengerhunt',\n",
       " 'https://raw.githubusercontent.com/ironhack-datalabs/scavenger/master/47222/.0016.scavengerhunt',\n",
       " 'https://raw.githubusercontent.com/ironhack-datalabs/scavenger/master/47222/.0024.scavengerhunt',\n",
       " 'https://raw.githubusercontent.com/ironhack-datalabs/scavenger/master/47830/.0010.scavengerhunt',\n",
       " 'https://raw.githubusercontent.com/ironhack-datalabs/scavenger/master/49418/.0014.scavengerhunt',\n",
       " 'https://raw.githubusercontent.com/ironhack-datalabs/scavenger/master/50896/.0011.scavengerhunt',\n",
       " 'https://raw.githubusercontent.com/ironhack-datalabs/scavenger/master/55417/.0023.scavengerhunt',\n",
       " 'https://raw.githubusercontent.com/ironhack-datalabs/scavenger/master/55685/.0020.scavengerhunt',\n",
       " 'https://raw.githubusercontent.com/ironhack-datalabs/scavenger/master/60224/.0003.scavengerhunt',\n",
       " 'https://raw.githubusercontent.com/ironhack-datalabs/scavenger/master/68848/.0004.scavengerhunt',\n",
       " 'https://raw.githubusercontent.com/ironhack-datalabs/scavenger/master/70751/.0019.scavengerhunt',\n",
       " 'https://raw.githubusercontent.com/ironhack-datalabs/scavenger/master/70985/.0017.scavengerhunt',\n",
       " 'https://raw.githubusercontent.com/ironhack-datalabs/scavenger/master/88596/.0002.scavengerhunt',\n",
       " 'https://raw.githubusercontent.com/ironhack-datalabs/scavenger/master/89338/.0013.scavengerhunt',\n",
       " 'https://raw.githubusercontent.com/ironhack-datalabs/scavenger/master/91701/.0015.scavengerhunt',\n",
       " 'https://raw.githubusercontent.com/ironhack-datalabs/scavenger/master/97881/.0009.scavengerhunt',\n",
       " 'https://raw.githubusercontent.com/ironhack-datalabs/scavenger/master/98750/.0001.scavengerhunt']"
      ]
     },
     "execution_count": 243,
     "metadata": {},
     "output_type": "execute_result"
    }
   ],
   "source": [
    "contenido.sort()\n",
    "contenido"
   ]
  },
  {
   "cell_type": "code",
   "execution_count": 248,
   "id": "be3272cd",
   "metadata": {},
   "outputs": [
    {
     "data": {
      "text/plain": [
       "<Response [404]>"
      ]
     },
     "execution_count": 248,
     "metadata": {},
     "output_type": "execute_result"
    }
   ],
   "source": [
    "req.get('https://raw.githubusercontent.com/ironhack-datalabs/scavenger/master/98750/.0001.scavengerhunt') #ok"
   ]
  },
  {
   "cell_type": "code",
   "execution_count": null,
   "id": "50ac29c5",
   "metadata": {},
   "outputs": [],
   "source": [
    "https://raw.githubusercontent.com/ironhack-datalabs/scavenger/master/98750/0001.scavengerhunt"
   ]
  },
  {
   "cell_type": "code",
   "execution_count": 247,
   "id": "629c1182",
   "metadata": {},
   "outputs": [
    {
     "name": "stdout",
     "output_type": "stream",
     "text": [
      "[['https://raw.githubusercontent.com/ironhack-datalabs/scavenger/', '/15024/.0006.scavengerhunt'], ['https://raw.githubusercontent.com/ironhack-datalabs/scavenger/', '/15534/.0008.scavengerhunt'], ['https://raw.githubusercontent.com/ironhack-datalabs/scavenger/', '/15534/.0012.scavengerhunt'], ['https://raw.githubusercontent.com/ironhack-datalabs/scavenger/', '/17020/.0007.scavengerhunt'], ['https://raw.githubusercontent.com/ironhack-datalabs/scavenger/', '/30351/.0021.scavengerhunt'], ['https://raw.githubusercontent.com/ironhack-datalabs/scavenger/', '/40303/.0022.scavengerhunt'], ['https://raw.githubusercontent.com/ironhack-datalabs/scavenger/', '/44639/.0005.scavengerhunt'], ['https://raw.githubusercontent.com/ironhack-datalabs/scavenger/', '/45525/.0018.scavengerhunt'], ['https://raw.githubusercontent.com/ironhack-datalabs/scavenger/', '/47222/.0016.scavengerhunt'], ['https://raw.githubusercontent.com/ironhack-datalabs/scavenger/', '/47222/.0024.scavengerhunt'], ['https://raw.githubusercontent.com/ironhack-datalabs/scavenger/', '/47830/.0010.scavengerhunt'], ['https://raw.githubusercontent.com/ironhack-datalabs/scavenger/', '/49418/.0014.scavengerhunt'], ['https://raw.githubusercontent.com/ironhack-datalabs/scavenger/', '/50896/.0011.scavengerhunt'], ['https://raw.githubusercontent.com/ironhack-datalabs/scavenger/', '/55417/.0023.scavengerhunt'], ['https://raw.githubusercontent.com/ironhack-datalabs/scavenger/', '/55685/.0020.scavengerhunt'], ['https://raw.githubusercontent.com/ironhack-datalabs/scavenger/', '/60224/.0003.scavengerhunt'], ['https://raw.githubusercontent.com/ironhack-datalabs/scavenger/', '/68848/.0004.scavengerhunt'], ['https://raw.githubusercontent.com/ironhack-datalabs/scavenger/', '/70751/.0019.scavengerhunt'], ['https://raw.githubusercontent.com/ironhack-datalabs/scavenger/', '/70985/.0017.scavengerhunt'], ['https://raw.githubusercontent.com/ironhack-datalabs/scavenger/', '/88596/.0002.scavengerhunt'], ['https://raw.githubusercontent.com/ironhack-datalabs/scavenger/', '/89338/.0013.scavengerhunt'], ['https://raw.githubusercontent.com/ironhack-datalabs/scavenger/', '/91701/.0015.scavengerhunt'], ['https://raw.githubusercontent.com/ironhack-datalabs/scavenger/', '/97881/.0009.scavengerhunt'], ['https://raw.githubusercontent.com/ironhack-datalabs/scavenger/', '/98750/.0001.scavengerhunt']]\n"
     ]
    }
   ],
   "source": [
    "separadas=[]\n",
    "for items in contenido:\n",
    "    separadas.append(items.split(\"master\"))\n",
    "print(separadas)"
   ]
  },
  {
   "cell_type": "code",
   "execution_count": 226,
   "id": "5c308865",
   "metadata": {},
   "outputs": [
    {
     "data": {
      "text/plain": [
       "['/47222/.0024.scavengerhunt',\n",
       " '/55685/.0020.scavengerhunt',\n",
       " '/60224/.0003.scavengerhunt',\n",
       " '/97881/.0009.scavengerhunt',\n",
       " '/55417/.0023.scavengerhunt',\n",
       " '/40303/.0022.scavengerhunt',\n",
       " '/15534/.0012.scavengerhunt',\n",
       " '/50896/.0011.scavengerhunt',\n",
       " '/98750/.0001.scavengerhunt',\n",
       " '/47222/.0016.scavengerhunt',\n",
       " '/47830/.0010.scavengerhunt',\n",
       " '/70751/.0019.scavengerhunt',\n",
       " '/30351/.0021.scavengerhunt',\n",
       " '/44639/.0005.scavengerhunt',\n",
       " '/88596/.0002.scavengerhunt',\n",
       " '/91701/.0015.scavengerhunt',\n",
       " '/89338/.0013.scavengerhunt',\n",
       " '/70985/.0017.scavengerhunt',\n",
       " '/17020/.0007.scavengerhunt',\n",
       " '/45525/.0018.scavengerhunt',\n",
       " '/49418/.0014.scavengerhunt',\n",
       " '/68848/.0004.scavengerhunt',\n",
       " '/15534/.0008.scavengerhunt',\n",
       " '/15024/.0006.scavengerhunt']"
      ]
     },
     "execution_count": 226,
     "metadata": {},
     "output_type": "execute_result"
    }
   ],
   "source": [
    "separadas2=[]\n",
    "for i in separadas:\n",
    "    separadas2.append(i[1])\n",
    "separadas2"
   ]
  },
  {
   "cell_type": "code",
   "execution_count": 256,
   "id": "9aebec49",
   "metadata": {},
   "outputs": [
    {
     "name": "stdout",
     "output_type": "stream",
     "text": [
      "[['/47222', '0024.scavengerhunt'], ['/55685', '0020.scavengerhunt'], ['/60224', '0003.scavengerhunt'], ['/97881', '0009.scavengerhunt'], ['/55417', '0023.scavengerhunt'], ['/40303', '0022.scavengerhunt'], ['/15534', '0012.scavengerhunt'], ['/50896', '0011.scavengerhunt'], ['/98750', '0001.scavengerhunt'], ['/47222', '0016.scavengerhunt'], ['/47830', '0010.scavengerhunt'], ['/70751', '0019.scavengerhunt'], ['/30351', '0021.scavengerhunt'], ['/44639', '0005.scavengerhunt'], ['/88596', '0002.scavengerhunt'], ['/91701', '0015.scavengerhunt'], ['/89338', '0013.scavengerhunt'], ['/70985', '0017.scavengerhunt'], ['/17020', '0007.scavengerhunt'], ['/45525', '0018.scavengerhunt'], ['/49418', '0014.scavengerhunt'], ['/68848', '0004.scavengerhunt'], ['/15534', '0008.scavengerhunt'], ['/15024', '0006.scavengerhunt']]\n"
     ]
    }
   ],
   "source": [
    "separadas3=[]\n",
    "for i in separadas2:\n",
    "    separadas3.append(i.split(\"/.\"))\n",
    "print(separadas3)"
   ]
  },
  {
   "cell_type": "code",
   "execution_count": 257,
   "id": "2225e7b0",
   "metadata": {},
   "outputs": [
    {
     "name": "stdout",
     "output_type": "stream",
     "text": [
      "[['/98750', '0001.scavengerhunt'], ['/88596', '0002.scavengerhunt'], ['/60224', '0003.scavengerhunt'], ['/68848', '0004.scavengerhunt'], ['/44639', '0005.scavengerhunt'], ['/15024', '0006.scavengerhunt'], ['/17020', '0007.scavengerhunt'], ['/15534', '0008.scavengerhunt'], ['/97881', '0009.scavengerhunt'], ['/47830', '0010.scavengerhunt'], ['/50896', '0011.scavengerhunt'], ['/15534', '0012.scavengerhunt'], ['/89338', '0013.scavengerhunt'], ['/49418', '0014.scavengerhunt'], ['/91701', '0015.scavengerhunt'], ['/47222', '0016.scavengerhunt'], ['/70985', '0017.scavengerhunt'], ['/45525', '0018.scavengerhunt'], ['/70751', '0019.scavengerhunt'], ['/55685', '0020.scavengerhunt'], ['/30351', '0021.scavengerhunt'], ['/40303', '0022.scavengerhunt'], ['/55417', '0023.scavengerhunt'], ['/47222', '0024.scavengerhunt']]\n"
     ]
    }
   ],
   "source": [
    "from operator import itemgetter\n",
    "ordenada=(sorted(separadas3, key=itemgetter(1))) #ordeno por el segundo elemento el separadas [1]=0024 etc\n",
    "print(ordenada)"
   ]
  },
  {
   "cell_type": "code",
   "execution_count": 262,
   "id": "a87a0df3",
   "metadata": {},
   "outputs": [
    {
     "name": "stdout",
     "output_type": "stream",
     "text": [
      "['/98750/.0001.scavengerhunt', '/88596/.0002.scavengerhunt', '/60224/.0003.scavengerhunt', '/68848/.0004.scavengerhunt', '/44639/.0005.scavengerhunt', '/15024/.0006.scavengerhunt', '/17020/.0007.scavengerhunt', '/15534/.0008.scavengerhunt', '/97881/.0009.scavengerhunt', '/47830/.0010.scavengerhunt', '/50896/.0011.scavengerhunt', '/15534/.0012.scavengerhunt', '/89338/.0013.scavengerhunt', '/49418/.0014.scavengerhunt', '/91701/.0015.scavengerhunt', '/47222/.0016.scavengerhunt', '/70985/.0017.scavengerhunt', '/45525/.0018.scavengerhunt', '/70751/.0019.scavengerhunt', '/55685/.0020.scavengerhunt', '/30351/.0021.scavengerhunt', '/40303/.0022.scavengerhunt', '/55417/.0023.scavengerhunt', '/47222/.0024.scavengerhunt']\n"
     ]
    }
   ],
   "source": [
    "todo_junto1=[]\n",
    "for items in ordenada:\n",
    "    todo_junto1.append(\"/.\".join(items))\n",
    "print(todo_junto1)"
   ]
  },
  {
   "cell_type": "code",
   "execution_count": 263,
   "id": "326e583b",
   "metadata": {},
   "outputs": [
    {
     "data": {
      "text/plain": [
       "['https://raw.githubusercontent.com/ironhack-datalabs/scavenger/master/98750/.0001.scavengerhunt',\n",
       " 'https://raw.githubusercontent.com/ironhack-datalabs/scavenger/master/88596/.0002.scavengerhunt',\n",
       " 'https://raw.githubusercontent.com/ironhack-datalabs/scavenger/master/60224/.0003.scavengerhunt',\n",
       " 'https://raw.githubusercontent.com/ironhack-datalabs/scavenger/master/68848/.0004.scavengerhunt',\n",
       " 'https://raw.githubusercontent.com/ironhack-datalabs/scavenger/master/44639/.0005.scavengerhunt',\n",
       " 'https://raw.githubusercontent.com/ironhack-datalabs/scavenger/master/15024/.0006.scavengerhunt',\n",
       " 'https://raw.githubusercontent.com/ironhack-datalabs/scavenger/master/17020/.0007.scavengerhunt',\n",
       " 'https://raw.githubusercontent.com/ironhack-datalabs/scavenger/master/15534/.0008.scavengerhunt',\n",
       " 'https://raw.githubusercontent.com/ironhack-datalabs/scavenger/master/97881/.0009.scavengerhunt',\n",
       " 'https://raw.githubusercontent.com/ironhack-datalabs/scavenger/master/47830/.0010.scavengerhunt',\n",
       " 'https://raw.githubusercontent.com/ironhack-datalabs/scavenger/master/50896/.0011.scavengerhunt',\n",
       " 'https://raw.githubusercontent.com/ironhack-datalabs/scavenger/master/15534/.0012.scavengerhunt',\n",
       " 'https://raw.githubusercontent.com/ironhack-datalabs/scavenger/master/89338/.0013.scavengerhunt',\n",
       " 'https://raw.githubusercontent.com/ironhack-datalabs/scavenger/master/49418/.0014.scavengerhunt',\n",
       " 'https://raw.githubusercontent.com/ironhack-datalabs/scavenger/master/91701/.0015.scavengerhunt',\n",
       " 'https://raw.githubusercontent.com/ironhack-datalabs/scavenger/master/47222/.0016.scavengerhunt',\n",
       " 'https://raw.githubusercontent.com/ironhack-datalabs/scavenger/master/70985/.0017.scavengerhunt',\n",
       " 'https://raw.githubusercontent.com/ironhack-datalabs/scavenger/master/45525/.0018.scavengerhunt',\n",
       " 'https://raw.githubusercontent.com/ironhack-datalabs/scavenger/master/70751/.0019.scavengerhunt',\n",
       " 'https://raw.githubusercontent.com/ironhack-datalabs/scavenger/master/55685/.0020.scavengerhunt',\n",
       " 'https://raw.githubusercontent.com/ironhack-datalabs/scavenger/master/30351/.0021.scavengerhunt',\n",
       " 'https://raw.githubusercontent.com/ironhack-datalabs/scavenger/master/40303/.0022.scavengerhunt',\n",
       " 'https://raw.githubusercontent.com/ironhack-datalabs/scavenger/master/55417/.0023.scavengerhunt',\n",
       " 'https://raw.githubusercontent.com/ironhack-datalabs/scavenger/master/47222/.0024.scavengerhunt']"
      ]
     },
     "execution_count": 263,
     "metadata": {},
     "output_type": "execute_result"
    }
   ],
   "source": [
    "url='https://raw.githubusercontent.com/ironhack-datalabs/scavenger/master'\n",
    "TODO=[]\n",
    "for items in todo_junto1:\n",
    "    TODO.append(url+\"\"+items)\n",
    "TODO"
   ]
  },
  {
   "cell_type": "code",
   "execution_count": 264,
   "id": "29f3379e",
   "metadata": {},
   "outputs": [
    {
     "data": {
      "text/plain": [
       "<Response [200]>"
      ]
     },
     "execution_count": 264,
     "metadata": {},
     "output_type": "execute_result"
    }
   ],
   "source": [
    "req.get('https://raw.githubusercontent.com/ironhack-datalabs/scavenger/master/98750/.0001.scavengerhunt')"
   ]
  },
  {
   "cell_type": "code",
   "execution_count": 267,
   "id": "48f40ef0",
   "metadata": {},
   "outputs": [
    {
     "name": "stdout",
     "output_type": "stream",
     "text": [
      "['In\\n', 'data\\n', 'science,\\n', '80\\n', 'percent\\n', 'of\\n', 'time\\n', 'spent\\n', 'is\\n', 'preparing\\n', 'data,\\n', '20\\n', 'percent\\n', 'of\\n', 'time\\n', 'is\\n', 'spent\\n', 'complaining\\n', 'about\\n', 'the\\n', 'need\\n', 'to\\n', 'prepare\\n', 'data.\\n']\n"
     ]
    }
   ],
   "source": [
    "FRASE=[]\n",
    "for items in TODO:\n",
    "    FRASE.append(req.get(items).text)\n",
    "print(FRASE)"
   ]
  },
  {
   "cell_type": "code",
   "execution_count": 272,
   "id": "fa16ec4c",
   "metadata": {},
   "outputs": [
    {
     "name": "stdout",
     "output_type": "stream",
     "text": [
      "['In', 'data', 'science,', '80', 'percent', 'of', 'time', 'spent', 'is', 'preparing', 'data,', '20', 'percent', 'of', 'time', 'is', 'spent', 'complaining', 'about', 'the', 'need', 'to', 'prepare', 'data.']\n"
     ]
    }
   ],
   "source": [
    "definitiva=[]\n",
    "\n",
    "for items in FRASE:\n",
    "    definitiva.append(items.strip(\"\\n\"))\n",
    "print(definitiva)"
   ]
  },
  {
   "cell_type": "code",
   "execution_count": null,
   "id": "21daa4a0",
   "metadata": {},
   "outputs": [],
   "source": []
  }
 ],
 "metadata": {
  "kernelspec": {
   "display_name": "ironhack",
   "language": "python",
   "name": "ironhack"
  },
  "language_info": {
   "codemirror_mode": {
    "name": "ipython",
    "version": 3
   },
   "file_extension": ".py",
   "mimetype": "text/x-python",
   "name": "python",
   "nbconvert_exporter": "python",
   "pygments_lexer": "ipython3",
   "version": "3.8.5"
  },
  "toc": {
   "base_numbering": 1,
   "nav_menu": {},
   "number_sections": true,
   "sideBar": true,
   "skip_h1_title": true,
   "title_cell": "Table of Contents",
   "title_sidebar": "Contents",
   "toc_cell": false,
   "toc_position": {},
   "toc_section_display": true,
   "toc_window_display": true
  }
 },
 "nbformat": 4,
 "nbformat_minor": 5
}
