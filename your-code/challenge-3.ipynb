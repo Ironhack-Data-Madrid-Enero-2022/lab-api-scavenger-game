{
 "cells": [
  {
   "cell_type": "markdown",
   "metadata": {},
   "source": [
    "# Challenge 3: Hidden Cold Joke\n",
    "\n",
    "Using Python, call Github API to find out the cold joke contained in the 24 secret files in the following repo:\n",
    "\n",
    "https://github.com/ironhack-datalabs/scavenger\n",
    "\n",
    "The filenames of the secret files contain .scavengerhunt and they are scattered in different directories of this repo. The secret files are named from .0001.scavengerhunt to .0024.scavengerhunt. They are scattered randomly throughout this repo. You need to search for these files by calling the Github API, not searching the local files on your computer.\n",
    "\n",
    "\n",
    "After you find out the secrete files:\n",
    "\n",
    "Sort the filenames ascendingly.\n",
    "\n",
    "Read the content of each secret files into an array of strings.\n",
    "\n",
    "Concatenate the strings in the array separating each two with a whitespace.\n",
    "\n",
    "Print out the joke."
   ]
  },
  {
   "cell_type": "markdown",
   "metadata": {},
   "source": [
    "⚠️ **Remember to limit your output before submission**."
   ]
  },
  {
   "cell_type": "code",
   "execution_count": 1,
   "metadata": {},
   "outputs": [],
   "source": [
    "# Your code"
   ]
  },
  {
   "cell_type": "code",
   "execution_count": 52,
   "metadata": {},
   "outputs": [
    {
     "data": {
      "text/plain": [
       "True"
      ]
     },
     "execution_count": 52,
     "metadata": {},
     "output_type": "execute_result"
    }
   ],
   "source": [
    "import os\n",
    "import base64\n",
    "import pandas as pd\n",
    "from dotenv import load_dotenv\n",
    "import json\n",
    "import requests as req\n",
    "import re\n",
    "load_dotenv()"
   ]
  },
  {
   "cell_type": "code",
   "execution_count": 53,
   "metadata": {},
   "outputs": [],
   "source": [
    "url_base='https://api.github.com'\n",
    "url_contenidos = \"/repos/ironhack-datalabs/scavenger/contents?extension:scavengerhunt\""
   ]
  },
  {
   "cell_type": "code",
   "execution_count": 54,
   "metadata": {},
   "outputs": [],
   "source": [
    "a= open(\"../Token.txt\",\"r\").read()  "
   ]
  },
  {
   "cell_type": "code",
   "execution_count": 55,
   "metadata": {},
   "outputs": [],
   "source": [
    "auth = (\"jesuschao\", a)"
   ]
  },
  {
   "cell_type": "code",
   "execution_count": 56,
   "metadata": {},
   "outputs": [
    {
     "data": {
      "text/plain": [
       "<Response [200]>"
      ]
     },
     "execution_count": 56,
     "metadata": {},
     "output_type": "execute_result"
    }
   ],
   "source": [
    "scavenger=req.get(url_base+url_contenidos, auth=auth)\n",
    "\n",
    "scavenger"
   ]
  },
  {
   "cell_type": "code",
   "execution_count": 57,
   "metadata": {},
   "outputs": [],
   "source": [
    "scavenger_json=scavenger.json()"
   ]
  },
  {
   "cell_type": "code",
   "execution_count": 58,
   "metadata": {},
   "outputs": [
    {
     "data": {
      "text/plain": [
       "26"
      ]
     },
     "execution_count": 58,
     "metadata": {},
     "output_type": "execute_result"
    }
   ],
   "source": [
    "len(scavenger_json)"
   ]
  },
  {
   "cell_type": "code",
   "execution_count": 59,
   "metadata": {},
   "outputs": [
    {
     "name": "stdout",
     "output_type": "stream",
     "text": [
      "['.gitignore', '15024', '15534', '17020', '30351', '40303', '44639', '45525', '47222', '47830', '49418', '50896', '55417', '55685', '60224', '64880', '66032', '68848', '70751', '70985', '88596', '89046', '89338', '91701', '97881', '98750']\n"
     ]
    }
   ],
   "source": [
    "lista = [e[\"name\"] for e in scavenger_json]\n",
    "print(lista)"
   ]
  },
  {
   "cell_type": "code",
   "execution_count": 60,
   "metadata": {},
   "outputs": [
    {
     "name": "stdout",
     "output_type": "stream",
     "text": [
      "['15024', '15534', '17020', '30351', '40303', '44639', '45525', '47222', '47830', '49418', '50896', '55417', '55685', '60224', '64880', '66032', '68848', '70751', '70985', '88596', '89046', '89338', '91701', '97881', '98750']\n"
     ]
    }
   ],
   "source": [
    "listafinal=lista[1::]\n",
    "print(listafinal)"
   ]
  },
  {
   "cell_type": "code",
   "execution_count": 61,
   "metadata": {},
   "outputs": [],
   "source": [
    "def request(lista):\n",
    "    \n",
    "    print(f\"Haciendo request a {lista}\")\n",
    "    a= open(\"../Token.txt\",\"r\").read()  \n",
    "    auth = (\"jesuschao\", a)\n",
    "    url = f\"https://api.github.com/repos/ironhack-datalabs/scavenger/contents/{lista}\"\n",
    "        \n",
    "    res = req.get(url, auth=auth)\n",
    "    \n",
    "    return res.json()"
   ]
  },
  {
   "cell_type": "code",
   "execution_count": 62,
   "metadata": {},
   "outputs": [
    {
     "name": "stdout",
     "output_type": "stream",
     "text": [
      "Haciendo request a 15024\n",
      "Haciendo request a 15534\n",
      "Haciendo request a 17020\n",
      "Haciendo request a 30351\n",
      "Haciendo request a 40303\n",
      "Haciendo request a 44639\n",
      "Haciendo request a 45525\n",
      "Haciendo request a 47222\n",
      "Haciendo request a 47830\n",
      "Haciendo request a 49418\n",
      "Haciendo request a 50896\n",
      "Haciendo request a 55417\n",
      "Haciendo request a 55685\n",
      "Haciendo request a 60224\n",
      "Haciendo request a 64880\n",
      "Haciendo request a 66032\n",
      "Haciendo request a 68848\n",
      "Haciendo request a 70751\n",
      "Haciendo request a 70985\n",
      "Haciendo request a 88596\n",
      "Haciendo request a 89046\n",
      "Haciendo request a 89338\n",
      "Haciendo request a 91701\n",
      "Haciendo request a 97881\n",
      "Haciendo request a 98750\n"
     ]
    }
   ],
   "source": [
    "archivos_json = list(map(request, carpetasfinal))"
   ]
  },
  {
   "cell_type": "code",
   "execution_count": 63,
   "metadata": {},
   "outputs": [
    {
     "data": {
      "text/plain": [
       "['15024/.0006.scavengerhunt',\n",
       " '15534/.0008.scavengerhunt',\n",
       " '15534/.0012.scavengerhunt',\n",
       " '17020/.0007.scavengerhunt',\n",
       " '30351/.0021.scavengerhunt',\n",
       " '40303/.0022.scavengerhunt',\n",
       " '44639/.0005.scavengerhunt',\n",
       " '45525/.0018.scavengerhunt',\n",
       " '47222/.0016.scavengerhunt',\n",
       " '47222/.0024.scavengerhunt',\n",
       " '47830/.0010.scavengerhunt',\n",
       " '49418/.0014.scavengerhunt',\n",
       " '50896/.0011.scavengerhunt',\n",
       " '55417/.0023.scavengerhunt',\n",
       " '55685/.0020.scavengerhunt',\n",
       " '60224/.0003.scavengerhunt',\n",
       " '68848/.0004.scavengerhunt',\n",
       " '70751/.0019.scavengerhunt',\n",
       " '70985/.0017.scavengerhunt',\n",
       " '88596/.0002.scavengerhunt',\n",
       " '89338/.0013.scavengerhunt',\n",
       " '91701/.0015.scavengerhunt',\n",
       " '97881/.0009.scavengerhunt',\n",
       " '98750/.0001.scavengerhunt']"
      ]
     },
     "execution_count": 63,
     "metadata": {},
     "output_type": "execute_result"
    }
   ],
   "source": [
    "archivo = [a[\"path\"] for x in archivos_json for a in x ]\n",
    "archivofinal= [a for a in archivo if \"scavengerhunt\" in a]\n",
    "archivofinal"
   ]
  },
  {
   "cell_type": "code",
   "execution_count": 64,
   "metadata": {},
   "outputs": [
    {
     "data": {
      "text/plain": [
       "['98750/.0001.scavengerhunt',\n",
       " '88596/.0002.scavengerhunt',\n",
       " '60224/.0003.scavengerhunt',\n",
       " '68848/.0004.scavengerhunt',\n",
       " '44639/.0005.scavengerhunt',\n",
       " '15024/.0006.scavengerhunt',\n",
       " '17020/.0007.scavengerhunt',\n",
       " '15534/.0008.scavengerhunt',\n",
       " '97881/.0009.scavengerhunt',\n",
       " '47830/.0010.scavengerhunt',\n",
       " '50896/.0011.scavengerhunt',\n",
       " '15534/.0012.scavengerhunt',\n",
       " '89338/.0013.scavengerhunt',\n",
       " '49418/.0014.scavengerhunt',\n",
       " '91701/.0015.scavengerhunt',\n",
       " '47222/.0016.scavengerhunt',\n",
       " '70985/.0017.scavengerhunt',\n",
       " '45525/.0018.scavengerhunt',\n",
       " '70751/.0019.scavengerhunt',\n",
       " '55685/.0020.scavengerhunt',\n",
       " '30351/.0021.scavengerhunt',\n",
       " '40303/.0022.scavengerhunt',\n",
       " '55417/.0023.scavengerhunt',\n",
       " '47222/.0024.scavengerhunt']"
      ]
     },
     "execution_count": 64,
     "metadata": {},
     "output_type": "execute_result"
    }
   ],
   "source": [
    "arch_ordenado = sorted(archivofinal, key = lambda x: (x[9], x[10]))\n",
    "arch_ordenado"
   ]
  },
  {
   "cell_type": "code",
   "execution_count": 65,
   "metadata": {},
   "outputs": [
    {
     "name": "stdout",
     "output_type": "stream",
     "text": [
      "Haciendo request a 98750/.0001.scavengerhunt\n",
      "Haciendo request a 88596/.0002.scavengerhunt\n",
      "Haciendo request a 60224/.0003.scavengerhunt\n",
      "Haciendo request a 68848/.0004.scavengerhunt\n",
      "Haciendo request a 44639/.0005.scavengerhunt\n",
      "Haciendo request a 15024/.0006.scavengerhunt\n",
      "Haciendo request a 17020/.0007.scavengerhunt\n",
      "Haciendo request a 15534/.0008.scavengerhunt\n",
      "Haciendo request a 97881/.0009.scavengerhunt\n",
      "Haciendo request a 47830/.0010.scavengerhunt\n",
      "Haciendo request a 50896/.0011.scavengerhunt\n",
      "Haciendo request a 15534/.0012.scavengerhunt\n",
      "Haciendo request a 89338/.0013.scavengerhunt\n",
      "Haciendo request a 49418/.0014.scavengerhunt\n",
      "Haciendo request a 91701/.0015.scavengerhunt\n",
      "Haciendo request a 47222/.0016.scavengerhunt\n",
      "Haciendo request a 70985/.0017.scavengerhunt\n",
      "Haciendo request a 45525/.0018.scavengerhunt\n",
      "Haciendo request a 70751/.0019.scavengerhunt\n",
      "Haciendo request a 55685/.0020.scavengerhunt\n",
      "Haciendo request a 30351/.0021.scavengerhunt\n",
      "Haciendo request a 40303/.0022.scavengerhunt\n",
      "Haciendo request a 55417/.0023.scavengerhunt\n",
      "Haciendo request a 47222/.0024.scavengerhunt\n"
     ]
    }
   ],
   "source": [
    "archivos_jsonfinal = list(map(request,ordenado))"
   ]
  },
  {
   "cell_type": "code",
   "execution_count": 73,
   "metadata": {},
   "outputs": [
    {
     "data": {
      "text/plain": [
       "[{'name': '.0001.scavengerhunt',\n",
       "  'path': '98750/.0001.scavengerhunt',\n",
       "  'sha': '2add7632f1323136324efbf38ec66db1838b6173',\n",
       "  'size': 3,\n",
       "  'url': 'https://api.github.com/repos/ironhack-datalabs/scavenger/contents/98750/.0001.scavengerhunt?ref=master',\n",
       "  'html_url': 'https://github.com/ironhack-datalabs/scavenger/blob/master/98750/.0001.scavengerhunt',\n",
       "  'git_url': 'https://api.github.com/repos/ironhack-datalabs/scavenger/git/blobs/2add7632f1323136324efbf38ec66db1838b6173',\n",
       "  'download_url': 'https://raw.githubusercontent.com/ironhack-datalabs/scavenger/master/98750/.0001.scavengerhunt',\n",
       "  'type': 'file',\n",
       "  'content': 'SW4K\\n',\n",
       "  'encoding': 'base64',\n",
       "  '_links': {'self': 'https://api.github.com/repos/ironhack-datalabs/scavenger/contents/98750/.0001.scavengerhunt?ref=master',\n",
       "   'git': 'https://api.github.com/repos/ironhack-datalabs/scavenger/git/blobs/2add7632f1323136324efbf38ec66db1838b6173',\n",
       "   'html': 'https://github.com/ironhack-datalabs/scavenger/blob/master/98750/.0001.scavengerhunt'}},\n",
       " {'name': '.0002.scavengerhunt',\n",
       "  'path': '88596/.0002.scavengerhunt',\n",
       "  'sha': '1269488f7fb1f4b56a8c0e5eb48cecbfadfa9219',\n",
       "  'size': 5,\n",
       "  'url': 'https://api.github.com/repos/ironhack-datalabs/scavenger/contents/88596/.0002.scavengerhunt?ref=master',\n",
       "  'html_url': 'https://github.com/ironhack-datalabs/scavenger/blob/master/88596/.0002.scavengerhunt',\n",
       "  'git_url': 'https://api.github.com/repos/ironhack-datalabs/scavenger/git/blobs/1269488f7fb1f4b56a8c0e5eb48cecbfadfa9219',\n",
       "  'download_url': 'https://raw.githubusercontent.com/ironhack-datalabs/scavenger/master/88596/.0002.scavengerhunt',\n",
       "  'type': 'file',\n",
       "  'content': 'ZGF0YQo=\\n',\n",
       "  'encoding': 'base64',\n",
       "  '_links': {'self': 'https://api.github.com/repos/ironhack-datalabs/scavenger/contents/88596/.0002.scavengerhunt?ref=master',\n",
       "   'git': 'https://api.github.com/repos/ironhack-datalabs/scavenger/git/blobs/1269488f7fb1f4b56a8c0e5eb48cecbfadfa9219',\n",
       "   'html': 'https://github.com/ironhack-datalabs/scavenger/blob/master/88596/.0002.scavengerhunt'}},\n",
       " {'name': '.0003.scavengerhunt',\n",
       "  'path': '60224/.0003.scavengerhunt',\n",
       "  'sha': 'ba524d7abc4b3a0c0995eb85c9eef470e9e7172f',\n",
       "  'size': 9,\n",
       "  'url': 'https://api.github.com/repos/ironhack-datalabs/scavenger/contents/60224/.0003.scavengerhunt?ref=master',\n",
       "  'html_url': 'https://github.com/ironhack-datalabs/scavenger/blob/master/60224/.0003.scavengerhunt',\n",
       "  'git_url': 'https://api.github.com/repos/ironhack-datalabs/scavenger/git/blobs/ba524d7abc4b3a0c0995eb85c9eef470e9e7172f',\n",
       "  'download_url': 'https://raw.githubusercontent.com/ironhack-datalabs/scavenger/master/60224/.0003.scavengerhunt',\n",
       "  'type': 'file',\n",
       "  'content': 'c2NpZW5jZSwK\\n',\n",
       "  'encoding': 'base64',\n",
       "  '_links': {'self': 'https://api.github.com/repos/ironhack-datalabs/scavenger/contents/60224/.0003.scavengerhunt?ref=master',\n",
       "   'git': 'https://api.github.com/repos/ironhack-datalabs/scavenger/git/blobs/ba524d7abc4b3a0c0995eb85c9eef470e9e7172f',\n",
       "   'html': 'https://github.com/ironhack-datalabs/scavenger/blob/master/60224/.0003.scavengerhunt'}},\n",
       " {'name': '.0004.scavengerhunt',\n",
       "  'path': '68848/.0004.scavengerhunt',\n",
       "  'sha': 'd15a2cc44e31b14c65264271b81072e5ba0e1634',\n",
       "  'size': 3,\n",
       "  'url': 'https://api.github.com/repos/ironhack-datalabs/scavenger/contents/68848/.0004.scavengerhunt?ref=master',\n",
       "  'html_url': 'https://github.com/ironhack-datalabs/scavenger/blob/master/68848/.0004.scavengerhunt',\n",
       "  'git_url': 'https://api.github.com/repos/ironhack-datalabs/scavenger/git/blobs/d15a2cc44e31b14c65264271b81072e5ba0e1634',\n",
       "  'download_url': 'https://raw.githubusercontent.com/ironhack-datalabs/scavenger/master/68848/.0004.scavengerhunt',\n",
       "  'type': 'file',\n",
       "  'content': 'ODAK\\n',\n",
       "  'encoding': 'base64',\n",
       "  '_links': {'self': 'https://api.github.com/repos/ironhack-datalabs/scavenger/contents/68848/.0004.scavengerhunt?ref=master',\n",
       "   'git': 'https://api.github.com/repos/ironhack-datalabs/scavenger/git/blobs/d15a2cc44e31b14c65264271b81072e5ba0e1634',\n",
       "   'html': 'https://github.com/ironhack-datalabs/scavenger/blob/master/68848/.0004.scavengerhunt'}},\n",
       " {'name': '.0005.scavengerhunt',\n",
       "  'path': '44639/.0005.scavengerhunt',\n",
       "  'sha': '3aaf448b40f878cf3067e2323616143bdde600de',\n",
       "  'size': 8,\n",
       "  'url': 'https://api.github.com/repos/ironhack-datalabs/scavenger/contents/44639/.0005.scavengerhunt?ref=master',\n",
       "  'html_url': 'https://github.com/ironhack-datalabs/scavenger/blob/master/44639/.0005.scavengerhunt',\n",
       "  'git_url': 'https://api.github.com/repos/ironhack-datalabs/scavenger/git/blobs/3aaf448b40f878cf3067e2323616143bdde600de',\n",
       "  'download_url': 'https://raw.githubusercontent.com/ironhack-datalabs/scavenger/master/44639/.0005.scavengerhunt',\n",
       "  'type': 'file',\n",
       "  'content': 'cGVyY2VudAo=\\n',\n",
       "  'encoding': 'base64',\n",
       "  '_links': {'self': 'https://api.github.com/repos/ironhack-datalabs/scavenger/contents/44639/.0005.scavengerhunt?ref=master',\n",
       "   'git': 'https://api.github.com/repos/ironhack-datalabs/scavenger/git/blobs/3aaf448b40f878cf3067e2323616143bdde600de',\n",
       "   'html': 'https://github.com/ironhack-datalabs/scavenger/blob/master/44639/.0005.scavengerhunt'}},\n",
       " {'name': '.0006.scavengerhunt',\n",
       "  'path': '15024/.0006.scavengerhunt',\n",
       "  'sha': '1c9064284a24b3486015eafdb391b141c27ada2b',\n",
       "  'size': 3,\n",
       "  'url': 'https://api.github.com/repos/ironhack-datalabs/scavenger/contents/15024/.0006.scavengerhunt?ref=master',\n",
       "  'html_url': 'https://github.com/ironhack-datalabs/scavenger/blob/master/15024/.0006.scavengerhunt',\n",
       "  'git_url': 'https://api.github.com/repos/ironhack-datalabs/scavenger/git/blobs/1c9064284a24b3486015eafdb391b141c27ada2b',\n",
       "  'download_url': 'https://raw.githubusercontent.com/ironhack-datalabs/scavenger/master/15024/.0006.scavengerhunt',\n",
       "  'type': 'file',\n",
       "  'content': 'b2YK\\n',\n",
       "  'encoding': 'base64',\n",
       "  '_links': {'self': 'https://api.github.com/repos/ironhack-datalabs/scavenger/contents/15024/.0006.scavengerhunt?ref=master',\n",
       "   'git': 'https://api.github.com/repos/ironhack-datalabs/scavenger/git/blobs/1c9064284a24b3486015eafdb391b141c27ada2b',\n",
       "   'html': 'https://github.com/ironhack-datalabs/scavenger/blob/master/15024/.0006.scavengerhunt'}},\n",
       " {'name': '.0007.scavengerhunt',\n",
       "  'path': '17020/.0007.scavengerhunt',\n",
       "  'sha': '6abb415e0ae3450be0f323113bcca2af195ebbff',\n",
       "  'size': 5,\n",
       "  'url': 'https://api.github.com/repos/ironhack-datalabs/scavenger/contents/17020/.0007.scavengerhunt?ref=master',\n",
       "  'html_url': 'https://github.com/ironhack-datalabs/scavenger/blob/master/17020/.0007.scavengerhunt',\n",
       "  'git_url': 'https://api.github.com/repos/ironhack-datalabs/scavenger/git/blobs/6abb415e0ae3450be0f323113bcca2af195ebbff',\n",
       "  'download_url': 'https://raw.githubusercontent.com/ironhack-datalabs/scavenger/master/17020/.0007.scavengerhunt',\n",
       "  'type': 'file',\n",
       "  'content': 'dGltZQo=\\n',\n",
       "  'encoding': 'base64',\n",
       "  '_links': {'self': 'https://api.github.com/repos/ironhack-datalabs/scavenger/contents/17020/.0007.scavengerhunt?ref=master',\n",
       "   'git': 'https://api.github.com/repos/ironhack-datalabs/scavenger/git/blobs/6abb415e0ae3450be0f323113bcca2af195ebbff',\n",
       "   'html': 'https://github.com/ironhack-datalabs/scavenger/blob/master/17020/.0007.scavengerhunt'}},\n",
       " {'name': '.0008.scavengerhunt',\n",
       "  'path': '15534/.0008.scavengerhunt',\n",
       "  'sha': 'e351fb73264581ce26504b97ef07daea35116f32',\n",
       "  'size': 6,\n",
       "  'url': 'https://api.github.com/repos/ironhack-datalabs/scavenger/contents/15534/.0008.scavengerhunt?ref=master',\n",
       "  'html_url': 'https://github.com/ironhack-datalabs/scavenger/blob/master/15534/.0008.scavengerhunt',\n",
       "  'git_url': 'https://api.github.com/repos/ironhack-datalabs/scavenger/git/blobs/e351fb73264581ce26504b97ef07daea35116f32',\n",
       "  'download_url': 'https://raw.githubusercontent.com/ironhack-datalabs/scavenger/master/15534/.0008.scavengerhunt',\n",
       "  'type': 'file',\n",
       "  'content': 'c3BlbnQK\\n',\n",
       "  'encoding': 'base64',\n",
       "  '_links': {'self': 'https://api.github.com/repos/ironhack-datalabs/scavenger/contents/15534/.0008.scavengerhunt?ref=master',\n",
       "   'git': 'https://api.github.com/repos/ironhack-datalabs/scavenger/git/blobs/e351fb73264581ce26504b97ef07daea35116f32',\n",
       "   'html': 'https://github.com/ironhack-datalabs/scavenger/blob/master/15534/.0008.scavengerhunt'}},\n",
       " {'name': '.0009.scavengerhunt',\n",
       "  'path': '97881/.0009.scavengerhunt',\n",
       "  'sha': 'f5cb13223fdc1b11f4cfbbe1694f533b3c579fa0',\n",
       "  'size': 3,\n",
       "  'url': 'https://api.github.com/repos/ironhack-datalabs/scavenger/contents/97881/.0009.scavengerhunt?ref=master',\n",
       "  'html_url': 'https://github.com/ironhack-datalabs/scavenger/blob/master/97881/.0009.scavengerhunt',\n",
       "  'git_url': 'https://api.github.com/repos/ironhack-datalabs/scavenger/git/blobs/f5cb13223fdc1b11f4cfbbe1694f533b3c579fa0',\n",
       "  'download_url': 'https://raw.githubusercontent.com/ironhack-datalabs/scavenger/master/97881/.0009.scavengerhunt',\n",
       "  'type': 'file',\n",
       "  'content': 'aXMK\\n',\n",
       "  'encoding': 'base64',\n",
       "  '_links': {'self': 'https://api.github.com/repos/ironhack-datalabs/scavenger/contents/97881/.0009.scavengerhunt?ref=master',\n",
       "   'git': 'https://api.github.com/repos/ironhack-datalabs/scavenger/git/blobs/f5cb13223fdc1b11f4cfbbe1694f533b3c579fa0',\n",
       "   'html': 'https://github.com/ironhack-datalabs/scavenger/blob/master/97881/.0009.scavengerhunt'}},\n",
       " {'name': '.0010.scavengerhunt',\n",
       "  'path': '47830/.0010.scavengerhunt',\n",
       "  'sha': 'c1187c4badc9be6990570cef850fc87dcf3523b0',\n",
       "  'size': 10,\n",
       "  'url': 'https://api.github.com/repos/ironhack-datalabs/scavenger/contents/47830/.0010.scavengerhunt?ref=master',\n",
       "  'html_url': 'https://github.com/ironhack-datalabs/scavenger/blob/master/47830/.0010.scavengerhunt',\n",
       "  'git_url': 'https://api.github.com/repos/ironhack-datalabs/scavenger/git/blobs/c1187c4badc9be6990570cef850fc87dcf3523b0',\n",
       "  'download_url': 'https://raw.githubusercontent.com/ironhack-datalabs/scavenger/master/47830/.0010.scavengerhunt',\n",
       "  'type': 'file',\n",
       "  'content': 'cHJlcGFyaW5nCg==\\n',\n",
       "  'encoding': 'base64',\n",
       "  '_links': {'self': 'https://api.github.com/repos/ironhack-datalabs/scavenger/contents/47830/.0010.scavengerhunt?ref=master',\n",
       "   'git': 'https://api.github.com/repos/ironhack-datalabs/scavenger/git/blobs/c1187c4badc9be6990570cef850fc87dcf3523b0',\n",
       "   'html': 'https://github.com/ironhack-datalabs/scavenger/blob/master/47830/.0010.scavengerhunt'}},\n",
       " {'name': '.0011.scavengerhunt',\n",
       "  'path': '50896/.0011.scavengerhunt',\n",
       "  'sha': '1a00a70b240d8947af0aaa04f1a93a52c72f7420',\n",
       "  'size': 6,\n",
       "  'url': 'https://api.github.com/repos/ironhack-datalabs/scavenger/contents/50896/.0011.scavengerhunt?ref=master',\n",
       "  'html_url': 'https://github.com/ironhack-datalabs/scavenger/blob/master/50896/.0011.scavengerhunt',\n",
       "  'git_url': 'https://api.github.com/repos/ironhack-datalabs/scavenger/git/blobs/1a00a70b240d8947af0aaa04f1a93a52c72f7420',\n",
       "  'download_url': 'https://raw.githubusercontent.com/ironhack-datalabs/scavenger/master/50896/.0011.scavengerhunt',\n",
       "  'type': 'file',\n",
       "  'content': 'ZGF0YSwK\\n',\n",
       "  'encoding': 'base64',\n",
       "  '_links': {'self': 'https://api.github.com/repos/ironhack-datalabs/scavenger/contents/50896/.0011.scavengerhunt?ref=master',\n",
       "   'git': 'https://api.github.com/repos/ironhack-datalabs/scavenger/git/blobs/1a00a70b240d8947af0aaa04f1a93a52c72f7420',\n",
       "   'html': 'https://github.com/ironhack-datalabs/scavenger/blob/master/50896/.0011.scavengerhunt'}},\n",
       " {'name': '.0012.scavengerhunt',\n",
       "  'path': '15534/.0012.scavengerhunt',\n",
       "  'sha': '209e3ef4b6247ce746048d5711befda46206d235',\n",
       "  'size': 3,\n",
       "  'url': 'https://api.github.com/repos/ironhack-datalabs/scavenger/contents/15534/.0012.scavengerhunt?ref=master',\n",
       "  'html_url': 'https://github.com/ironhack-datalabs/scavenger/blob/master/15534/.0012.scavengerhunt',\n",
       "  'git_url': 'https://api.github.com/repos/ironhack-datalabs/scavenger/git/blobs/209e3ef4b6247ce746048d5711befda46206d235',\n",
       "  'download_url': 'https://raw.githubusercontent.com/ironhack-datalabs/scavenger/master/15534/.0012.scavengerhunt',\n",
       "  'type': 'file',\n",
       "  'content': 'MjAK\\n',\n",
       "  'encoding': 'base64',\n",
       "  '_links': {'self': 'https://api.github.com/repos/ironhack-datalabs/scavenger/contents/15534/.0012.scavengerhunt?ref=master',\n",
       "   'git': 'https://api.github.com/repos/ironhack-datalabs/scavenger/git/blobs/209e3ef4b6247ce746048d5711befda46206d235',\n",
       "   'html': 'https://github.com/ironhack-datalabs/scavenger/blob/master/15534/.0012.scavengerhunt'}},\n",
       " {'name': '.0013.scavengerhunt',\n",
       "  'path': '89338/.0013.scavengerhunt',\n",
       "  'sha': '3aaf448b40f878cf3067e2323616143bdde600de',\n",
       "  'size': 8,\n",
       "  'url': 'https://api.github.com/repos/ironhack-datalabs/scavenger/contents/89338/.0013.scavengerhunt?ref=master',\n",
       "  'html_url': 'https://github.com/ironhack-datalabs/scavenger/blob/master/89338/.0013.scavengerhunt',\n",
       "  'git_url': 'https://api.github.com/repos/ironhack-datalabs/scavenger/git/blobs/3aaf448b40f878cf3067e2323616143bdde600de',\n",
       "  'download_url': 'https://raw.githubusercontent.com/ironhack-datalabs/scavenger/master/89338/.0013.scavengerhunt',\n",
       "  'type': 'file',\n",
       "  'content': 'cGVyY2VudAo=\\n',\n",
       "  'encoding': 'base64',\n",
       "  '_links': {'self': 'https://api.github.com/repos/ironhack-datalabs/scavenger/contents/89338/.0013.scavengerhunt?ref=master',\n",
       "   'git': 'https://api.github.com/repos/ironhack-datalabs/scavenger/git/blobs/3aaf448b40f878cf3067e2323616143bdde600de',\n",
       "   'html': 'https://github.com/ironhack-datalabs/scavenger/blob/master/89338/.0013.scavengerhunt'}},\n",
       " {'name': '.0014.scavengerhunt',\n",
       "  'path': '49418/.0014.scavengerhunt',\n",
       "  'sha': '1c9064284a24b3486015eafdb391b141c27ada2b',\n",
       "  'size': 3,\n",
       "  'url': 'https://api.github.com/repos/ironhack-datalabs/scavenger/contents/49418/.0014.scavengerhunt?ref=master',\n",
       "  'html_url': 'https://github.com/ironhack-datalabs/scavenger/blob/master/49418/.0014.scavengerhunt',\n",
       "  'git_url': 'https://api.github.com/repos/ironhack-datalabs/scavenger/git/blobs/1c9064284a24b3486015eafdb391b141c27ada2b',\n",
       "  'download_url': 'https://raw.githubusercontent.com/ironhack-datalabs/scavenger/master/49418/.0014.scavengerhunt',\n",
       "  'type': 'file',\n",
       "  'content': 'b2YK\\n',\n",
       "  'encoding': 'base64',\n",
       "  '_links': {'self': 'https://api.github.com/repos/ironhack-datalabs/scavenger/contents/49418/.0014.scavengerhunt?ref=master',\n",
       "   'git': 'https://api.github.com/repos/ironhack-datalabs/scavenger/git/blobs/1c9064284a24b3486015eafdb391b141c27ada2b',\n",
       "   'html': 'https://github.com/ironhack-datalabs/scavenger/blob/master/49418/.0014.scavengerhunt'}},\n",
       " {'name': '.0015.scavengerhunt',\n",
       "  'path': '91701/.0015.scavengerhunt',\n",
       "  'sha': '6abb415e0ae3450be0f323113bcca2af195ebbff',\n",
       "  'size': 5,\n",
       "  'url': 'https://api.github.com/repos/ironhack-datalabs/scavenger/contents/91701/.0015.scavengerhunt?ref=master',\n",
       "  'html_url': 'https://github.com/ironhack-datalabs/scavenger/blob/master/91701/.0015.scavengerhunt',\n",
       "  'git_url': 'https://api.github.com/repos/ironhack-datalabs/scavenger/git/blobs/6abb415e0ae3450be0f323113bcca2af195ebbff',\n",
       "  'download_url': 'https://raw.githubusercontent.com/ironhack-datalabs/scavenger/master/91701/.0015.scavengerhunt',\n",
       "  'type': 'file',\n",
       "  'content': 'dGltZQo=\\n',\n",
       "  'encoding': 'base64',\n",
       "  '_links': {'self': 'https://api.github.com/repos/ironhack-datalabs/scavenger/contents/91701/.0015.scavengerhunt?ref=master',\n",
       "   'git': 'https://api.github.com/repos/ironhack-datalabs/scavenger/git/blobs/6abb415e0ae3450be0f323113bcca2af195ebbff',\n",
       "   'html': 'https://github.com/ironhack-datalabs/scavenger/blob/master/91701/.0015.scavengerhunt'}},\n",
       " {'name': '.0016.scavengerhunt',\n",
       "  'path': '47222/.0016.scavengerhunt',\n",
       "  'sha': 'f5cb13223fdc1b11f4cfbbe1694f533b3c579fa0',\n",
       "  'size': 3,\n",
       "  'url': 'https://api.github.com/repos/ironhack-datalabs/scavenger/contents/47222/.0016.scavengerhunt?ref=master',\n",
       "  'html_url': 'https://github.com/ironhack-datalabs/scavenger/blob/master/47222/.0016.scavengerhunt',\n",
       "  'git_url': 'https://api.github.com/repos/ironhack-datalabs/scavenger/git/blobs/f5cb13223fdc1b11f4cfbbe1694f533b3c579fa0',\n",
       "  'download_url': 'https://raw.githubusercontent.com/ironhack-datalabs/scavenger/master/47222/.0016.scavengerhunt',\n",
       "  'type': 'file',\n",
       "  'content': 'aXMK\\n',\n",
       "  'encoding': 'base64',\n",
       "  '_links': {'self': 'https://api.github.com/repos/ironhack-datalabs/scavenger/contents/47222/.0016.scavengerhunt?ref=master',\n",
       "   'git': 'https://api.github.com/repos/ironhack-datalabs/scavenger/git/blobs/f5cb13223fdc1b11f4cfbbe1694f533b3c579fa0',\n",
       "   'html': 'https://github.com/ironhack-datalabs/scavenger/blob/master/47222/.0016.scavengerhunt'}},\n",
       " {'name': '.0017.scavengerhunt',\n",
       "  'path': '70985/.0017.scavengerhunt',\n",
       "  'sha': 'e351fb73264581ce26504b97ef07daea35116f32',\n",
       "  'size': 6,\n",
       "  'url': 'https://api.github.com/repos/ironhack-datalabs/scavenger/contents/70985/.0017.scavengerhunt?ref=master',\n",
       "  'html_url': 'https://github.com/ironhack-datalabs/scavenger/blob/master/70985/.0017.scavengerhunt',\n",
       "  'git_url': 'https://api.github.com/repos/ironhack-datalabs/scavenger/git/blobs/e351fb73264581ce26504b97ef07daea35116f32',\n",
       "  'download_url': 'https://raw.githubusercontent.com/ironhack-datalabs/scavenger/master/70985/.0017.scavengerhunt',\n",
       "  'type': 'file',\n",
       "  'content': 'c3BlbnQK\\n',\n",
       "  'encoding': 'base64',\n",
       "  '_links': {'self': 'https://api.github.com/repos/ironhack-datalabs/scavenger/contents/70985/.0017.scavengerhunt?ref=master',\n",
       "   'git': 'https://api.github.com/repos/ironhack-datalabs/scavenger/git/blobs/e351fb73264581ce26504b97ef07daea35116f32',\n",
       "   'html': 'https://github.com/ironhack-datalabs/scavenger/blob/master/70985/.0017.scavengerhunt'}},\n",
       " {'name': '.0018.scavengerhunt',\n",
       "  'path': '45525/.0018.scavengerhunt',\n",
       "  'sha': '397b22b2dc371e8db59ed327f0b75321e4c0d0f2',\n",
       "  'size': 12,\n",
       "  'url': 'https://api.github.com/repos/ironhack-datalabs/scavenger/contents/45525/.0018.scavengerhunt?ref=master',\n",
       "  'html_url': 'https://github.com/ironhack-datalabs/scavenger/blob/master/45525/.0018.scavengerhunt',\n",
       "  'git_url': 'https://api.github.com/repos/ironhack-datalabs/scavenger/git/blobs/397b22b2dc371e8db59ed327f0b75321e4c0d0f2',\n",
       "  'download_url': 'https://raw.githubusercontent.com/ironhack-datalabs/scavenger/master/45525/.0018.scavengerhunt',\n",
       "  'type': 'file',\n",
       "  'content': 'Y29tcGxhaW5pbmcK\\n',\n",
       "  'encoding': 'base64',\n",
       "  '_links': {'self': 'https://api.github.com/repos/ironhack-datalabs/scavenger/contents/45525/.0018.scavengerhunt?ref=master',\n",
       "   'git': 'https://api.github.com/repos/ironhack-datalabs/scavenger/git/blobs/397b22b2dc371e8db59ed327f0b75321e4c0d0f2',\n",
       "   'html': 'https://github.com/ironhack-datalabs/scavenger/blob/master/45525/.0018.scavengerhunt'}},\n",
       " {'name': '.0019.scavengerhunt',\n",
       "  'path': '70751/.0019.scavengerhunt',\n",
       "  'sha': '09e16f36b3c4993ba924b1074629283a49869be9',\n",
       "  'size': 6,\n",
       "  'url': 'https://api.github.com/repos/ironhack-datalabs/scavenger/contents/70751/.0019.scavengerhunt?ref=master',\n",
       "  'html_url': 'https://github.com/ironhack-datalabs/scavenger/blob/master/70751/.0019.scavengerhunt',\n",
       "  'git_url': 'https://api.github.com/repos/ironhack-datalabs/scavenger/git/blobs/09e16f36b3c4993ba924b1074629283a49869be9',\n",
       "  'download_url': 'https://raw.githubusercontent.com/ironhack-datalabs/scavenger/master/70751/.0019.scavengerhunt',\n",
       "  'type': 'file',\n",
       "  'content': 'YWJvdXQK\\n',\n",
       "  'encoding': 'base64',\n",
       "  '_links': {'self': 'https://api.github.com/repos/ironhack-datalabs/scavenger/contents/70751/.0019.scavengerhunt?ref=master',\n",
       "   'git': 'https://api.github.com/repos/ironhack-datalabs/scavenger/git/blobs/09e16f36b3c4993ba924b1074629283a49869be9',\n",
       "   'html': 'https://github.com/ironhack-datalabs/scavenger/blob/master/70751/.0019.scavengerhunt'}},\n",
       " {'name': '.0020.scavengerhunt',\n",
       "  'path': '55685/.0020.scavengerhunt',\n",
       "  'sha': '41d25f51c301c5eee3737998b0d86573e4e91b90',\n",
       "  'size': 4,\n",
       "  'url': 'https://api.github.com/repos/ironhack-datalabs/scavenger/contents/55685/.0020.scavengerhunt?ref=master',\n",
       "  'html_url': 'https://github.com/ironhack-datalabs/scavenger/blob/master/55685/.0020.scavengerhunt',\n",
       "  'git_url': 'https://api.github.com/repos/ironhack-datalabs/scavenger/git/blobs/41d25f51c301c5eee3737998b0d86573e4e91b90',\n",
       "  'download_url': 'https://raw.githubusercontent.com/ironhack-datalabs/scavenger/master/55685/.0020.scavengerhunt',\n",
       "  'type': 'file',\n",
       "  'content': 'dGhlCg==\\n',\n",
       "  'encoding': 'base64',\n",
       "  '_links': {'self': 'https://api.github.com/repos/ironhack-datalabs/scavenger/contents/55685/.0020.scavengerhunt?ref=master',\n",
       "   'git': 'https://api.github.com/repos/ironhack-datalabs/scavenger/git/blobs/41d25f51c301c5eee3737998b0d86573e4e91b90',\n",
       "   'html': 'https://github.com/ironhack-datalabs/scavenger/blob/master/55685/.0020.scavengerhunt'}},\n",
       " {'name': '.0021.scavengerhunt',\n",
       "  'path': '30351/.0021.scavengerhunt',\n",
       "  'sha': 'fb828e4a926b0a84fc16111fc0ee3eeec41f0ce7',\n",
       "  'size': 5,\n",
       "  'url': 'https://api.github.com/repos/ironhack-datalabs/scavenger/contents/30351/.0021.scavengerhunt?ref=master',\n",
       "  'html_url': 'https://github.com/ironhack-datalabs/scavenger/blob/master/30351/.0021.scavengerhunt',\n",
       "  'git_url': 'https://api.github.com/repos/ironhack-datalabs/scavenger/git/blobs/fb828e4a926b0a84fc16111fc0ee3eeec41f0ce7',\n",
       "  'download_url': 'https://raw.githubusercontent.com/ironhack-datalabs/scavenger/master/30351/.0021.scavengerhunt',\n",
       "  'type': 'file',\n",
       "  'content': 'bmVlZAo=\\n',\n",
       "  'encoding': 'base64',\n",
       "  '_links': {'self': 'https://api.github.com/repos/ironhack-datalabs/scavenger/contents/30351/.0021.scavengerhunt?ref=master',\n",
       "   'git': 'https://api.github.com/repos/ironhack-datalabs/scavenger/git/blobs/fb828e4a926b0a84fc16111fc0ee3eeec41f0ce7',\n",
       "   'html': 'https://github.com/ironhack-datalabs/scavenger/blob/master/30351/.0021.scavengerhunt'}},\n",
       " {'name': '.0022.scavengerhunt',\n",
       "  'path': '40303/.0022.scavengerhunt',\n",
       "  'sha': 'bf3efa02f721c40c03a613824e345243a35f6812',\n",
       "  'size': 3,\n",
       "  'url': 'https://api.github.com/repos/ironhack-datalabs/scavenger/contents/40303/.0022.scavengerhunt?ref=master',\n",
       "  'html_url': 'https://github.com/ironhack-datalabs/scavenger/blob/master/40303/.0022.scavengerhunt',\n",
       "  'git_url': 'https://api.github.com/repos/ironhack-datalabs/scavenger/git/blobs/bf3efa02f721c40c03a613824e345243a35f6812',\n",
       "  'download_url': 'https://raw.githubusercontent.com/ironhack-datalabs/scavenger/master/40303/.0022.scavengerhunt',\n",
       "  'type': 'file',\n",
       "  'content': 'dG8K\\n',\n",
       "  'encoding': 'base64',\n",
       "  '_links': {'self': 'https://api.github.com/repos/ironhack-datalabs/scavenger/contents/40303/.0022.scavengerhunt?ref=master',\n",
       "   'git': 'https://api.github.com/repos/ironhack-datalabs/scavenger/git/blobs/bf3efa02f721c40c03a613824e345243a35f6812',\n",
       "   'html': 'https://github.com/ironhack-datalabs/scavenger/blob/master/40303/.0022.scavengerhunt'}},\n",
       " {'name': '.0023.scavengerhunt',\n",
       "  'path': '55417/.0023.scavengerhunt',\n",
       "  'sha': '04d0ffb8d895a9e3ee244493e829a24468bd1f60',\n",
       "  'size': 8,\n",
       "  'url': 'https://api.github.com/repos/ironhack-datalabs/scavenger/contents/55417/.0023.scavengerhunt?ref=master',\n",
       "  'html_url': 'https://github.com/ironhack-datalabs/scavenger/blob/master/55417/.0023.scavengerhunt',\n",
       "  'git_url': 'https://api.github.com/repos/ironhack-datalabs/scavenger/git/blobs/04d0ffb8d895a9e3ee244493e829a24468bd1f60',\n",
       "  'download_url': 'https://raw.githubusercontent.com/ironhack-datalabs/scavenger/master/55417/.0023.scavengerhunt',\n",
       "  'type': 'file',\n",
       "  'content': 'cHJlcGFyZQo=\\n',\n",
       "  'encoding': 'base64',\n",
       "  '_links': {'self': 'https://api.github.com/repos/ironhack-datalabs/scavenger/contents/55417/.0023.scavengerhunt?ref=master',\n",
       "   'git': 'https://api.github.com/repos/ironhack-datalabs/scavenger/git/blobs/04d0ffb8d895a9e3ee244493e829a24468bd1f60',\n",
       "   'html': 'https://github.com/ironhack-datalabs/scavenger/blob/master/55417/.0023.scavengerhunt'}},\n",
       " {'name': '.0024.scavengerhunt',\n",
       "  'path': '47222/.0024.scavengerhunt',\n",
       "  'sha': '47eb4306e5fec9e051dacabc7039348109784b94',\n",
       "  'size': 6,\n",
       "  'url': 'https://api.github.com/repos/ironhack-datalabs/scavenger/contents/47222/.0024.scavengerhunt?ref=master',\n",
       "  'html_url': 'https://github.com/ironhack-datalabs/scavenger/blob/master/47222/.0024.scavengerhunt',\n",
       "  'git_url': 'https://api.github.com/repos/ironhack-datalabs/scavenger/git/blobs/47eb4306e5fec9e051dacabc7039348109784b94',\n",
       "  'download_url': 'https://raw.githubusercontent.com/ironhack-datalabs/scavenger/master/47222/.0024.scavengerhunt',\n",
       "  'type': 'file',\n",
       "  'content': 'ZGF0YS4K\\n',\n",
       "  'encoding': 'base64',\n",
       "  '_links': {'self': 'https://api.github.com/repos/ironhack-datalabs/scavenger/contents/47222/.0024.scavengerhunt?ref=master',\n",
       "   'git': 'https://api.github.com/repos/ironhack-datalabs/scavenger/git/blobs/47eb4306e5fec9e051dacabc7039348109784b94',\n",
       "   'html': 'https://github.com/ironhack-datalabs/scavenger/blob/master/47222/.0024.scavengerhunt'}}]"
      ]
     },
     "execution_count": 73,
     "metadata": {},
     "output_type": "execute_result"
    }
   ],
   "source": [
    "archivos_jsonfinal"
   ]
  },
  {
   "cell_type": "code",
   "execution_count": 68,
   "metadata": {},
   "outputs": [
    {
     "name": "stdout",
     "output_type": "stream",
     "text": [
      "[b'In\\n', b'data\\n', b'science,\\n', b'80\\n', b'percent\\n', b'of\\n', b'time\\n', b'spent\\n', b'is\\n', b'preparing\\n', b'data,\\n', b'20\\n', b'percent\\n', b'of\\n', b'time\\n', b'is\\n', b'spent\\n', b'complaining\\n', b'about\\n', b'the\\n', b'need\\n', b'to\\n', b'prepare\\n', b'data.\\n']\n"
     ]
    }
   ],
   "source": [
    "contenido_list = [contenido[\"content\"] for contenido in archivos_jsonfinal]\n",
    "decodificado = [base64.b64decode(b) for b in contenido_list]\n",
    "print(decodificado)"
   ]
  },
  {
   "cell_type": "code",
   "execution_count": 69,
   "metadata": {},
   "outputs": [],
   "source": [
    "final = [i.decode(\"UTF-8\") for i in decodificado]"
   ]
  },
  {
   "cell_type": "code",
   "execution_count": 70,
   "metadata": {},
   "outputs": [],
   "source": [
    "frase =[z.replace(\"\\n\", \" \") for z in final]"
   ]
  },
  {
   "cell_type": "code",
   "execution_count": 71,
   "metadata": {},
   "outputs": [],
   "source": [
    "frasefinal = \"\".join(frase)"
   ]
  },
  {
   "cell_type": "code",
   "execution_count": 72,
   "metadata": {},
   "outputs": [
    {
     "data": {
      "text/plain": [
       "'In data science, 80 percent of time spent is preparing data, 20 percent of time is spent complaining about the need to prepare data. '"
      ]
     },
     "execution_count": 72,
     "metadata": {},
     "output_type": "execute_result"
    }
   ],
   "source": [
    "frasefinal"
   ]
  }
 ],
 "metadata": {
  "kernelspec": {
   "display_name": "ironhack",
   "language": "python",
   "name": "ironhack"
  },
  "language_info": {
   "codemirror_mode": {
    "name": "ipython",
    "version": 3
   },
   "file_extension": ".py",
   "mimetype": "text/x-python",
   "name": "python",
   "nbconvert_exporter": "python",
   "pygments_lexer": "ipython3",
   "version": "3.8.5"
  },
  "toc": {
   "base_numbering": 1,
   "nav_menu": {},
   "number_sections": true,
   "sideBar": true,
   "skip_h1_title": true,
   "title_cell": "Table of Contents",
   "title_sidebar": "Contents",
   "toc_cell": false,
   "toc_position": {},
   "toc_section_display": true,
   "toc_window_display": true
  }
 },
 "nbformat": 4,
 "nbformat_minor": 5
}
