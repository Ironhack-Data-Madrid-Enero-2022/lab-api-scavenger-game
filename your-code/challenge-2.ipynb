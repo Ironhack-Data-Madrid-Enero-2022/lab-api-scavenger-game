{
 "cells": [
  {
   "cell_type": "markdown",
   "id": "threaded-asbestos",
   "metadata": {},
   "source": [
    "# Challenge 2: Count Commits\n",
    "\n",
    "Count how many commits were made in the past week.\n",
    "\n",
    "Obtain all the commits made in the past week via API, which is a JSON array that contains multiple commit objects.\n",
    "\n",
    "Count how many commit objects are contained in the array."
   ]
  },
  {
   "cell_type": "markdown",
   "id": "norwegian-praise",
   "metadata": {},
   "source": [
    "⚠️ **Remember to limit your output before submission**."
   ]
  },
  {
   "cell_type": "code",
   "execution_count": 1,
   "id": "developing-printing",
   "metadata": {},
   "outputs": [],
   "source": [
    "#Your code"
   ]
  },
  {
   "cell_type": "code",
   "execution_count": 1,
   "id": "88fd0434",
   "metadata": {},
   "outputs": [],
   "source": [
    "import json\n",
    "import requests as req\n"
   ]
  },
  {
   "cell_type": "code",
   "execution_count": 2,
   "id": "a39ef8b7",
   "metadata": {},
   "outputs": [],
   "source": [
    "import os\n",
    "from dotenv import load_dotenv"
   ]
  },
  {
   "cell_type": "code",
   "execution_count": 17,
   "id": "95d46c39",
   "metadata": {},
   "outputs": [],
   "source": [
    "token= open(\"../token\", \"r\").read()#cargo y leo el archivo oculto"
   ]
  },
  {
   "cell_type": "code",
   "execution_count": 19,
   "id": "7340ca5b",
   "metadata": {},
   "outputs": [],
   "source": [
    "auth=(\"pablomora213\",token)#me he identificado"
   ]
  },
  {
   "cell_type": "code",
   "execution_count": 3,
   "id": "24eb6482",
   "metadata": {},
   "outputs": [],
   "source": [
    "URL='https://api.github.com/'\n"
   ]
  },
  {
   "cell_type": "code",
   "execution_count": 36,
   "id": "077558dd",
   "metadata": {},
   "outputs": [],
   "source": [
    "user_repo=\"repos/ironhack-datalabs/datamad1020-rev\""
   ]
  },
  {
   "cell_type": "code",
   "execution_count": 39,
   "id": "3eb539eb",
   "metadata": {},
   "outputs": [
    {
     "data": {
      "text/plain": [
       "'https://api.github.com/repos/ironhack-datalabs/datamad1020-rev/commits{/sha}'"
      ]
     },
     "execution_count": 39,
     "metadata": {},
     "output_type": "execute_result"
    }
   ],
   "source": [
    "res_git=req.get(URL+user_repo, auth=auth)#me he identificado para entrar, entro\n",
    "res_git.json()['commits_url']"
   ]
  },
  {
   "cell_type": "code",
   "execution_count": 55,
   "id": "ffe838e5",
   "metadata": {},
   "outputs": [],
   "source": [
    "com=\"https://api.github.com/repos/ironhack-datalabs/datamad1020-rev/commits\"\n",
    "sha= \"?sha=master\""
   ]
  },
  {
   "cell_type": "code",
   "execution_count": 56,
   "id": "dafdced9",
   "metadata": {},
   "outputs": [
    {
     "data": {
      "text/plain": [
       "[{'sha': 'f61a35d1016bfc11bb53e8d844db395fc6c4933d',\n",
       "  'node_id': 'MDY6Q29tbWl0MzA0MjQ4NTM5OmY2MWEzNWQxMDE2YmZjMTFiYjUzZThkODQ0ZGIzOTVmYzZjNDkzM2Q=',\n",
       "  'commit': {'author': {'name': 'ras',\n",
       "    'email': 'agalvezcorell@gmail.com',\n",
       "    'date': '2021-08-26T14:17:20Z'},\n",
       "   'committer': {'name': 'ras',\n",
       "    'email': 'agalvezcorell@gmail.com',\n",
       "    'date': '2021-08-26T14:17:20Z'},\n",
       "   'message': 'Hola polluelos de DataMad FT Agosto 2021 ♥️',\n",
       "   'tree': {'sha': '3f29ee656cb674a9e5d77748490d23bdff86aa18',\n",
       "    'url': 'https://api.github.com/repos/ironhack-datalabs/datamad1020-rev/git/trees/3f29ee656cb674a9e5d77748490d23bdff86aa18'},\n",
       "   'url': 'https://api.github.com/repos/ironhack-datalabs/datamad1020-rev/git/commits/f61a35d1016bfc11bb53e8d844db395fc6c4933d',\n",
       "   'comment_count': 0,\n",
       "   'verification': {'verified': False,\n",
       "    'reason': 'unsigned',\n",
       "    'signature': None,\n",
       "    'payload': None}},\n",
       "  'url': 'https://api.github.com/repos/ironhack-datalabs/datamad1020-rev/commits/f61a35d1016bfc11bb53e8d844db395fc6c4933d',\n",
       "  'html_url': 'https://github.com/ironhack-datalabs/datamad1020-rev/commit/f61a35d1016bfc11bb53e8d844db395fc6c4933d',\n",
       "  'comments_url': 'https://api.github.com/repos/ironhack-datalabs/datamad1020-rev/commits/f61a35d1016bfc11bb53e8d844db395fc6c4933d/comments',\n",
       "  'author': {'login': 'amandagcorell',\n",
       "   'id': 57899051,\n",
       "   'node_id': 'MDQ6VXNlcjU3ODk5MDUx',\n",
       "   'avatar_url': 'https://avatars.githubusercontent.com/u/57899051?v=4',\n",
       "   'gravatar_id': '',\n",
       "   'url': 'https://api.github.com/users/amandagcorell',\n",
       "   'html_url': 'https://github.com/amandagcorell',\n",
       "   'followers_url': 'https://api.github.com/users/amandagcorell/followers',\n",
       "   'following_url': 'https://api.github.com/users/amandagcorell/following{/other_user}',\n",
       "   'gists_url': 'https://api.github.com/users/amandagcorell/gists{/gist_id}',\n",
       "   'starred_url': 'https://api.github.com/users/amandagcorell/starred{/owner}{/repo}',\n",
       "   'subscriptions_url': 'https://api.github.com/users/amandagcorell/subscriptions',\n",
       "   'organizations_url': 'https://api.github.com/users/amandagcorell/orgs',\n",
       "   'repos_url': 'https://api.github.com/users/amandagcorell/repos',\n",
       "   'events_url': 'https://api.github.com/users/amandagcorell/events{/privacy}',\n",
       "   'received_events_url': 'https://api.github.com/users/amandagcorell/received_events',\n",
       "   'type': 'User',\n",
       "   'site_admin': False},\n",
       "  'committer': {'login': 'amandagcorell',\n",
       "   'id': 57899051,\n",
       "   'node_id': 'MDQ6VXNlcjU3ODk5MDUx',\n",
       "   'avatar_url': 'https://avatars.githubusercontent.com/u/57899051?v=4',\n",
       "   'gravatar_id': '',\n",
       "   'url': 'https://api.github.com/users/amandagcorell',\n",
       "   'html_url': 'https://github.com/amandagcorell',\n",
       "   'followers_url': 'https://api.github.com/users/amandagcorell/followers',\n",
       "   'following_url': 'https://api.github.com/users/amandagcorell/following{/other_user}',\n",
       "   'gists_url': 'https://api.github.com/users/amandagcorell/gists{/gist_id}',\n",
       "   'starred_url': 'https://api.github.com/users/amandagcorell/starred{/owner}{/repo}',\n",
       "   'subscriptions_url': 'https://api.github.com/users/amandagcorell/subscriptions',\n",
       "   'organizations_url': 'https://api.github.com/users/amandagcorell/orgs',\n",
       "   'repos_url': 'https://api.github.com/users/amandagcorell/repos',\n",
       "   'events_url': 'https://api.github.com/users/amandagcorell/events{/privacy}',\n",
       "   'received_events_url': 'https://api.github.com/users/amandagcorell/received_events',\n",
       "   'type': 'User',\n",
       "   'site_admin': False},\n",
       "  'parents': [{'sha': '79efcf150e34bc5eb982fde74dc5446bafc39bad',\n",
       "    'url': 'https://api.github.com/repos/ironhack-datalabs/datamad1020-rev/commits/79efcf150e34bc5eb982fde74dc5446bafc39bad',\n",
       "    'html_url': 'https://github.com/ironhack-datalabs/datamad1020-rev/commit/79efcf150e34bc5eb982fde74dc5446bafc39bad'}]}]"
      ]
     },
     "execution_count": 56,
     "metadata": {},
     "output_type": "execute_result"
    }
   ],
   "source": [
    "req.get(com+sha).json()[:1]"
   ]
  },
  {
   "cell_type": "code",
   "execution_count": 54,
   "id": "edc15741",
   "metadata": {},
   "outputs": [
    {
     "data": {
      "text/plain": [
       "0"
      ]
     },
     "execution_count": 54,
     "metadata": {},
     "output_type": "execute_result"
    }
   ],
   "source": [
    "len(req.get(com+sha).json())"
   ]
  },
  {
   "cell_type": "code",
   "execution_count": 2,
   "id": "creative-stable",
   "metadata": {},
   "outputs": [],
   "source": [
    "# Example: print(variable[:10]) "
   ]
  },
  {
   "cell_type": "code",
   "execution_count": 60,
   "id": "ongoing-taylor",
   "metadata": {},
   "outputs": [],
   "source": [
    "com=\"https://api.github.com/repos/ironhack-datalabs/datamad1020-rev/commits\"\n",
    "sha= \"?since=2022-01-20T16;50:00Z\"#en vez de master para entrar en el general, hemos puesto la fecha desde donde queremo ver, pero no hocieron commits la semana pasada"
   ]
  },
  {
   "cell_type": "code",
   "execution_count": 61,
   "id": "88234309",
   "metadata": {},
   "outputs": [
    {
     "data": {
      "text/plain": [
       "[]"
      ]
     },
     "execution_count": 61,
     "metadata": {},
     "output_type": "execute_result"
    }
   ],
   "source": [
    "req.get(com+sha).json()[:1]"
   ]
  },
  {
   "cell_type": "code",
   "execution_count": 62,
   "id": "4952f831",
   "metadata": {},
   "outputs": [
    {
     "data": {
      "text/plain": [
       "0"
      ]
     },
     "execution_count": 62,
     "metadata": {},
     "output_type": "execute_result"
    }
   ],
   "source": [
    "len(req.get(com+sha).json())"
   ]
  },
  {
   "cell_type": "code",
   "execution_count": null,
   "id": "b28894e0",
   "metadata": {},
   "outputs": [],
   "source": []
  }
 ],
 "metadata": {
  "kernelspec": {
   "display_name": "ironhack",
   "language": "python",
   "name": "ironhack"
  },
  "language_info": {
   "codemirror_mode": {
    "name": "ipython",
    "version": 3
   },
   "file_extension": ".py",
   "mimetype": "text/x-python",
   "name": "python",
   "nbconvert_exporter": "python",
   "pygments_lexer": "ipython3",
   "version": "3.8.5"
  },
  "toc": {
   "base_numbering": 1,
   "nav_menu": {},
   "number_sections": true,
   "sideBar": true,
   "skip_h1_title": true,
   "title_cell": "Table of Contents",
   "title_sidebar": "Contents",
   "toc_cell": false,
   "toc_position": {
    "height": "calc(100% - 180px)",
    "left": "10px",
    "top": "150px",
    "width": "288px"
   },
   "toc_section_display": true,
   "toc_window_display": true
  }
 },
 "nbformat": 4,
 "nbformat_minor": 5
}
