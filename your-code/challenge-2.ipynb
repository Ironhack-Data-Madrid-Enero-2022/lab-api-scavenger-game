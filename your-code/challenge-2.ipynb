{
 "cells": [
  {
   "cell_type": "markdown",
   "id": "threaded-asbestos",
   "metadata": {},
   "source": [
    "# Challenge 2: Count Commits\n",
    "\n",
    "Count how many commits were made in the past week.\n",
    "\n",
    "Obtain all the commits made in the past week via API, which is a JSON array that contains multiple commit objects.\n",
    "\n",
    "Count how many commit objects are contained in the array."
   ]
  },
  {
   "cell_type": "markdown",
   "id": "norwegian-praise",
   "metadata": {},
   "source": [
    "⚠️ **Remember to limit your output before submission**."
   ]
  },
  {
   "cell_type": "code",
   "execution_count": 1,
   "id": "developing-printing",
   "metadata": {},
   "outputs": [],
   "source": [
    "#Your code"
   ]
  },
  {
   "cell_type": "code",
   "execution_count": 2,
   "id": "creative-stable",
   "metadata": {},
   "outputs": [],
   "source": [
    "# Example: print(variable[:10]) "
   ]
  },
  {
   "cell_type": "code",
   "execution_count": 2,
   "id": "ongoing-taylor",
   "metadata": {},
   "outputs": [],
   "source": [
    "import os\n",
    "import json\n",
    "import requests as req\n",
    "import json\n",
    "import requests"
   ]
  },
  {
   "cell_type": "code",
   "execution_count": 10,
   "id": "61c6654c",
   "metadata": {},
   "outputs": [],
   "source": [
    "url='https://api.github.com/repos/Ironhack-Data-Madrid-Enero-2022/apuntes_clase/commits'"
   ]
  },
  {
   "cell_type": "code",
   "execution_count": 11,
   "id": "d000d24c",
   "metadata": {},
   "outputs": [
    {
     "data": {
      "text/plain": [
       "<Response [200]>"
      ]
     },
     "execution_count": 11,
     "metadata": {},
     "output_type": "execute_result"
    }
   ],
   "source": [
    "req.get(url)"
   ]
  },
  {
   "cell_type": "code",
   "execution_count": 12,
   "id": "9ee1f540",
   "metadata": {},
   "outputs": [],
   "source": [
    "commits = req.get(url).json()"
   ]
  },
  {
   "cell_type": "code",
   "execution_count": 13,
   "id": "35471ac8",
   "metadata": {},
   "outputs": [
    {
     "data": {
      "text/plain": [
       "30"
      ]
     },
     "execution_count": 13,
     "metadata": {},
     "output_type": "execute_result"
    }
   ],
   "source": [
    "len(commits)"
   ]
  },
  {
   "cell_type": "code",
   "execution_count": 75,
   "id": "54d3e7e5",
   "metadata": {},
   "outputs": [],
   "source": [
    "#commits"
   ]
  },
  {
   "cell_type": "code",
   "execution_count": 51,
   "id": "cb931b27",
   "metadata": {},
   "outputs": [],
   "source": [
    "lista_commits = []\n",
    "for i in commits:\n",
    "    for k,v in i.items():\n",
    "        if k == 'commit':\n",
    "            for z,y in v.items():\n",
    "                if z == 'author':\n",
    "                    for h,j in y.items():\n",
    "                        if h == 'date':\n",
    "                            lista_commits.append(j[:10])\n"
   ]
  },
  {
   "cell_type": "code",
   "execution_count": 76,
   "id": "44cb370b",
   "metadata": {},
   "outputs": [],
   "source": [
    "#lista_commits"
   ]
  },
  {
   "cell_type": "code",
   "execution_count": 71,
   "id": "a695a76b",
   "metadata": {},
   "outputs": [],
   "source": [
    "def condicion(numero):\n",
    "    fechas = ['2022-01-14','2022-01-16', '2022-01-27', '2022-01-26', '2022-01-25']\n",
    "    return not numero in fechas "
   ]
  },
  {
   "cell_type": "code",
   "execution_count": 72,
   "id": "382dc3a2",
   "metadata": {},
   "outputs": [],
   "source": [
    "filtrada = list(filter(condicion, lista_commits))"
   ]
  },
  {
   "cell_type": "code",
   "execution_count": 77,
   "id": "3770f12c",
   "metadata": {},
   "outputs": [
    {
     "data": {
      "text/plain": [
       "['2022-01-21',\n",
       " '2022-01-21',\n",
       " '2022-01-21',\n",
       " '2022-01-21',\n",
       " '2022-01-20',\n",
       " '2022-01-19',\n",
       " '2022-01-19',\n",
       " '2022-01-19',\n",
       " '2022-01-19',\n",
       " '2022-01-19',\n",
       " '2022-01-18',\n",
       " '2022-01-18',\n",
       " '2022-01-17',\n",
       " '2022-01-17',\n",
       " '2022-01-17',\n",
       " '2022-01-17',\n",
       " '2022-01-17',\n",
       " '2022-01-17']"
      ]
     },
     "execution_count": 77,
     "metadata": {},
     "output_type": "execute_result"
    }
   ],
   "source": [
    "filtrada"
   ]
  },
  {
   "cell_type": "code",
   "execution_count": 79,
   "id": "19830d09",
   "metadata": {},
   "outputs": [],
   "source": [
    "#commits"
   ]
  }
 ],
 "metadata": {
  "kernelspec": {
   "display_name": "Python 3 (ipykernel)",
   "language": "python",
   "name": "python3"
  },
  "language_info": {
   "codemirror_mode": {
    "name": "ipython",
    "version": 3
   },
   "file_extension": ".py",
   "mimetype": "text/x-python",
   "name": "python",
   "nbconvert_exporter": "python",
   "pygments_lexer": "ipython3",
   "version": "3.9.7"
  },
  "toc": {
   "base_numbering": 1,
   "nav_menu": {},
   "number_sections": true,
   "sideBar": true,
   "skip_h1_title": true,
   "title_cell": "Table of Contents",
   "title_sidebar": "Contents",
   "toc_cell": false,
   "toc_position": {
    "height": "calc(100% - 180px)",
    "left": "10px",
    "top": "150px",
    "width": "288px"
   },
   "toc_section_display": true,
   "toc_window_display": true
  }
 },
 "nbformat": 4,
 "nbformat_minor": 5
}
