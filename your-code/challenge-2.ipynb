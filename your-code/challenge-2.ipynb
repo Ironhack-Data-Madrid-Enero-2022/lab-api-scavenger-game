{
 "cells": [
  {
   "cell_type": "markdown",
   "id": "threaded-asbestos",
   "metadata": {},
   "source": [
    "# Challenge 2: Count Commits\n",
    "\n",
    "Count how many commits were made in the past week.\n",
    "\n",
    "Obtain all the commits made in the past week via API, which is a JSON array that contains multiple commit objects.\n",
    "\n",
    "Count how many commit objects are contained in the array."
   ]
  },
  {
   "cell_type": "markdown",
   "id": "norwegian-praise",
   "metadata": {},
   "source": [
    "⚠️ **Remember to limit your output before submission**."
   ]
  },
  {
   "cell_type": "code",
   "execution_count": 8,
   "id": "fdcf0595",
   "metadata": {},
   "outputs": [],
   "source": [
    "import json\n",
    "import os\n",
    "import pandas as pd\n",
    "import requests as req"
   ]
  },
  {
   "cell_type": "code",
   "execution_count": 16,
   "id": "developing-printing",
   "metadata": {},
   "outputs": [],
   "source": [
    "URL='https://api.github.com/'\n",
    "token = open('../token.txt').read()\n",
    "user = 'AntonioLopga12'\n",
    "main = user + token\n",
    "repo_2= 'repos/ironhack-datalabs/datamad1020-rev/commits?since=2021-01-20T00:00:00Z'\n",
    "#Your code"
   ]
  },
  {
   "cell_type": "code",
   "execution_count": 21,
   "id": "a1b858b9",
   "metadata": {},
   "outputs": [],
   "source": [
    "rep_git = req.get(URL+repo_2,auth=(user,token))"
   ]
  },
  {
   "cell_type": "code",
   "execution_count": 18,
   "id": "42816262",
   "metadata": {},
   "outputs": [],
   "source": [
    "lis = []\n",
    "\n",
    "for i in range(len(rep_git.json())):\n",
    "    lis.append(rep_git.json()[i]['commit']['committer']['name'])\n",
    "\n"
   ]
  },
  {
   "cell_type": "code",
   "execution_count": 27,
   "id": "creative-stable",
   "metadata": {},
   "outputs": [
    {
     "name": "stdout",
     "output_type": "stream",
     "text": [
      "There have been 4 commits, since the 2021-01-20, from ,['ras', 'agalvezcorell', 'Ras Soyungalgo', 'Ras Soyungalgo']\n"
     ]
    }
   ],
   "source": [
    "print(f'There have been {len(lis)} commits, since the 2021-01-20, from ,{lis}')\n"
   ]
  },
  {
   "cell_type": "code",
   "execution_count": null,
   "id": "ongoing-taylor",
   "metadata": {},
   "outputs": [],
   "source": []
  }
 ],
 "metadata": {
  "kernelspec": {
   "display_name": "ironhack",
   "language": "python",
   "name": "ironhack"
  },
  "language_info": {
   "codemirror_mode": {
    "name": "ipython",
    "version": 3
   },
   "file_extension": ".py",
   "mimetype": "text/x-python",
   "name": "python",
   "nbconvert_exporter": "python",
   "pygments_lexer": "ipython3",
   "version": "3.9.7"
  },
  "toc": {
   "base_numbering": 1,
   "nav_menu": {},
   "number_sections": true,
   "sideBar": true,
   "skip_h1_title": true,
   "title_cell": "Table of Contents",
   "title_sidebar": "Contents",
   "toc_cell": false,
   "toc_position": {
    "height": "calc(100% - 180px)",
    "left": "10px",
    "top": "150px",
    "width": "288px"
   },
   "toc_section_display": true,
   "toc_window_display": true
  }
 },
 "nbformat": 4,
 "nbformat_minor": 5
}
