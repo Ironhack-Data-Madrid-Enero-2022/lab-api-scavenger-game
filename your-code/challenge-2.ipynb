{
 "cells": [
  {
   "cell_type": "markdown",
   "metadata": {},
   "source": [
    "# Challenge 2: Count Commits\n",
    "\n",
    "Count how many commits were made in the past week.\n",
    "\n",
    "Obtain all the commits made in the past week via API, which is a JSON array that contains multiple commit objects.\n",
    "\n",
    "Count how many commit objects are contained in the array."
   ]
  },
  {
   "cell_type": "markdown",
   "metadata": {},
   "source": [
    "⚠️ **Remember to limit your output before submission**."
   ]
  },
  {
   "cell_type": "code",
   "execution_count": 43,
   "metadata": {},
   "outputs": [],
   "source": [
    "# First things first, let's import all the libraries we might need,\n",
    "import json\n",
    "import requests as req\n",
    "import os\n",
    "import datetime"
   ]
  },
  {
   "cell_type": "code",
   "execution_count": 3,
   "metadata": {},
   "outputs": [],
   "source": [
    "# Reutilitzamos el codigo que teniamos, miraremos todos los commits de la ultima semana para todos las repos que hay en el usaurio de nuestro grup\n",
    "URL ='https://api.github.com/users/Ironhack-Data-Madrid-Enero-2022/repos' \n",
    "token = open (\"../token.txt\").readlines()[0]\n",
    "params = {\"Authorization\": f\"token {token}\"}\n",
    "get_repos_list = req.get(URL, headers = params) \n",
    "lista_repos = [i['name'] for i in get_repos_list.json()]"
   ]
  },
  {
   "cell_type": "code",
   "execution_count": 102,
   "metadata": {},
   "outputs": [],
   "source": [
    "# Nos creamos una nueva funcion, esta tendra que mirar todos los commits de la ultima semana en cada repo, \n",
    "def lastweek_commits(repo, USERNAME='Ironhack-Data-Madrid-Enero-2022' , date = datetime.datetime.now()): # Lo voy a hacer mazo generalizado para que se pueda usar mas adelante👽\n",
    "    \"\"\" This function gets the username and the name of a repo in this User's github, and a date (if none given it takes now),\n",
    "    it returns a dict with all the users that have commited within the last week, and how many times have they commited. \n",
    "    \n",
    "    Attention: this function requires to import, before, the libraries: \n",
    "    json, request as req and datatime. And any given date must be given in the format of datetime\"\"\"\n",
    "    \n",
    "    URL_BASE=f'https://api.github.com/repos/{USERNAME}'\n",
    "    URL = URL_BASE+f'/{repo}/commits' # Nos creamos el endpoint para acceder a todos los forks de cada lab\n",
    "    langs = req.get(URL, headers = params)\n",
    "    user_commits = dict() # ademas como somos super chulos creamos un diccionario para mirar quien es que ha hecho commits...\n",
    "    for i in langs.json():\n",
    "        a = i['commit']['author']['date']\n",
    "        commit_time = datetime.datetime(int(a[0:4]), int(a[5:7]), int(a[8:10]), int(a[11:13]), int(a[14:16]), int(a[17:19])) # miramos cuanto se dio el commit\n",
    "        clock = date-commit_time\n",
    "        if clock.days < 7:\n",
    "            if  i['commit']['author']['name'] not in user_commits.keys(): user_commits[i['commit']['author']['name']] = 1 # If it is the first commit detected from the user...\n",
    "            else: user_commits[i['commit']['author']['name']] += 1 \n",
    "    return user_commits\n",
    "# Ahora lo hacemos para todos los repos, igual que antes\n",
    "a = lastweek_commits('apuntes_clase','Ironhack-Data-Madrid-Enero-2022') # comprovamos que funcione\n"
   ]
  },
  {
   "cell_type": "code",
   "execution_count": 113,
   "metadata": {},
   "outputs": [
    {
     "data": {
      "text/plain": [
       "24"
      ]
     },
     "execution_count": 113,
     "metadata": {},
     "output_type": "execute_result"
    }
   ],
   "source": [
    "resultado = dict() # Crearemos un diccionario vacio para almacenar la info\n",
    "for lab in lista_repos:\n",
    "    if lastweek_commits(lab): # So to avoid empty elements in the dict\n",
    "        resultado[lab] = [lastweek_commits(lab) , sum(lastweek_commits(lab).values())] # Recogemos tambien el total de commits que se han hecho de cada repo\n",
    "sum(list(i[1] for i in resultado.values())) # numero total de commits durante la ultima semana en todas las repos del usuario.  "
   ]
  }
 ],
 "metadata": {
  "kernelspec": {
   "display_name": "ironhack",
   "language": "python",
   "name": "ironhack"
  },
  "language_info": {
   "codemirror_mode": {
    "name": "ipython",
    "version": 3
   },
   "file_extension": ".py",
   "mimetype": "text/x-python",
   "name": "python",
   "nbconvert_exporter": "python",
   "pygments_lexer": "ipython3",
   "version": "3.8.5"
  },
  "toc": {
   "base_numbering": 1,
   "nav_menu": {},
   "number_sections": true,
   "sideBar": true,
   "skip_h1_title": true,
   "title_cell": "Table of Contents",
   "title_sidebar": "Contents",
   "toc_cell": false,
   "toc_position": {
    "height": "calc(100% - 180px)",
    "left": "10px",
    "top": "150px",
    "width": "288px"
   },
   "toc_section_display": true,
   "toc_window_display": true
  }
 },
 "nbformat": 4,
 "nbformat_minor": 5
}
