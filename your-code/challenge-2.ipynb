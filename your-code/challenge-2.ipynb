{
 "cells": [
  {
   "cell_type": "markdown",
   "id": "threaded-asbestos",
   "metadata": {},
   "source": [
    "# Challenge 2: Count Commits\n",
    "\n",
    "Count how many commits were made in the past week.\n",
    "\n",
    "Obtain all the commits made in the past week via API, which is a JSON array that contains multiple commit objects.\n",
    "\n",
    "Count how many commit objects are contained in the array."
   ]
  },
  {
   "cell_type": "markdown",
   "id": "norwegian-praise",
   "metadata": {},
   "source": [
    "⚠️ **Remember to limit your output before submission**."
   ]
  },
  {
   "cell_type": "code",
   "execution_count": 61,
   "id": "ed872f65",
   "metadata": {},
   "outputs": [],
   "source": [
    "a=open(\"../.token.txt\", \"r\").read()"
   ]
  },
  {
   "cell_type": "code",
   "execution_count": 62,
   "id": "307e5466",
   "metadata": {},
   "outputs": [],
   "source": [
    "auth=('IsabelGarcia11',a)"
   ]
  },
  {
   "cell_type": "code",
   "execution_count": 63,
   "id": "developing-printing",
   "metadata": {},
   "outputs": [],
   "source": [
    "import pandas as pd\n",
    "import json\n",
    "import requests as req"
   ]
  },
  {
   "cell_type": "code",
   "execution_count": 64,
   "id": "0b64a126",
   "metadata": {},
   "outputs": [],
   "source": [
    "import os\n",
    "from dotenv import load_dotenv"
   ]
  },
  {
   "cell_type": "code",
   "execution_count": 65,
   "id": "00880333",
   "metadata": {},
   "outputs": [
    {
     "data": {
      "text/plain": [
       "True"
      ]
     },
     "execution_count": 65,
     "metadata": {},
     "output_type": "execute_result"
    }
   ],
   "source": [
    "load_dotenv()"
   ]
  },
  {
   "cell_type": "code",
   "execution_count": 66,
   "id": "e24c16f1",
   "metadata": {},
   "outputs": [],
   "source": [
    "github = os.getenv(\"token\")"
   ]
  },
  {
   "cell_type": "code",
   "execution_count": 51,
   "id": "eb829af4",
   "metadata": {},
   "outputs": [],
   "source": [
    "URL='https://api.github.com/'"
   ]
  },
  {
   "cell_type": "code",
   "execution_count": 67,
   "id": "889663ba",
   "metadata": {},
   "outputs": [],
   "source": [
    "user_1='repos/ironhack-datalabs/datamad1020-rev'"
   ]
  },
  {
   "cell_type": "code",
   "execution_count": 68,
   "id": "958781ca",
   "metadata": {},
   "outputs": [
    {
     "data": {
      "text/plain": [
       "<Response [200]>"
      ]
     },
     "execution_count": 68,
     "metadata": {},
     "output_type": "execute_result"
    }
   ],
   "source": [
    "res_git=req.get(URL+user_1,auth=auth)\n",
    "res_git"
   ]
  },
  {
   "cell_type": "code",
   "execution_count": 69,
   "id": "217ea9c2",
   "metadata": {},
   "outputs": [
    {
     "data": {
      "text/plain": [
       "'https://api.github.com/repos/ironhack-datalabs/datamad1020-rev/commits{/sha}'"
      ]
     },
     "execution_count": 69,
     "metadata": {},
     "output_type": "execute_result"
    }
   ],
   "source": [
    "comit1=res_git.json()['commits_url']\n",
    "comit1"
   ]
  },
  {
   "cell_type": "code",
   "execution_count": 71,
   "id": "5c5a906d",
   "metadata": {},
   "outputs": [],
   "source": [
    "comit2=\"https://api.github.com/repos/ironhack-datalabs/datamad1020-rev/commits\"\n",
    "sha=\"?sha=master\" #igualamos para poder leer el sha"
   ]
  },
  {
   "cell_type": "code",
   "execution_count": 85,
   "id": "d2675473",
   "metadata": {},
   "outputs": [
    {
     "data": {
      "text/plain": [
       "<Response [200]>"
      ]
     },
     "execution_count": 85,
     "metadata": {},
     "output_type": "execute_result"
    }
   ],
   "source": [
    "commit=req.get(comit2+sha,auth=auth)\n",
    "commit"
   ]
  },
  {
   "cell_type": "code",
   "execution_count": 86,
   "id": "a0447108",
   "metadata": {},
   "outputs": [
    {
     "data": {
      "text/plain": [
       "30"
      ]
     },
     "execution_count": 86,
     "metadata": {},
     "output_type": "execute_result"
    }
   ],
   "source": [
    "len(commit.json()) #Aqui el número total sería 30, sin limitar que sean en la última semana"
   ]
  },
  {
   "cell_type": "code",
   "execution_count": 87,
   "id": "b6304d31",
   "metadata": {},
   "outputs": [],
   "source": [
    "user_2='repos/ironhack-datalabs/datamad1020-rev/commits?since=2022-01-20T16:50:00Z)' \n",
    "#Modificamos la fecha a 2022 y vemos que no hay commits en la última semana."
   ]
  },
  {
   "cell_type": "code",
   "execution_count": 88,
   "id": "53080d65",
   "metadata": {},
   "outputs": [
    {
     "data": {
      "text/plain": [
       "<Response [200]>"
      ]
     },
     "execution_count": 88,
     "metadata": {},
     "output_type": "execute_result"
    }
   ],
   "source": [
    "res_git2=req.get(URL+user_2,auth=auth)\n",
    "res_git2"
   ]
  },
  {
   "cell_type": "code",
   "execution_count": 89,
   "id": "1eb764e8",
   "metadata": {},
   "outputs": [
    {
     "data": {
      "text/plain": [
       "0"
      ]
     },
     "execution_count": 89,
     "metadata": {},
     "output_type": "execute_result"
    }
   ],
   "source": [
    "len(res_git2.json())"
   ]
  }
 ],
 "metadata": {
  "kernelspec": {
   "display_name": "ironhack",
   "language": "python",
   "name": "ironhack"
  },
  "language_info": {
   "codemirror_mode": {
    "name": "ipython",
    "version": 3
   },
   "file_extension": ".py",
   "mimetype": "text/x-python",
   "name": "python",
   "nbconvert_exporter": "python",
   "pygments_lexer": "ipython3",
   "version": "3.8.5"
  },
  "toc": {
   "base_numbering": 1,
   "nav_menu": {},
   "number_sections": true,
   "sideBar": true,
   "skip_h1_title": true,
   "title_cell": "Table of Contents",
   "title_sidebar": "Contents",
   "toc_cell": false,
   "toc_position": {
    "height": "calc(100% - 180px)",
    "left": "10px",
    "top": "150px",
    "width": "288px"
   },
   "toc_section_display": true,
   "toc_window_display": true
  }
 },
 "nbformat": 4,
 "nbformat_minor": 5
}
