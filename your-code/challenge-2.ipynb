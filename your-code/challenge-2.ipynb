{
 "cells": [
  {
   "cell_type": "markdown",
   "id": "threaded-asbestos",
   "metadata": {},
   "source": [
    "# Challenge 2: Count Commits\n",
    "\n",
    "Count how many commits were made in the past week.\n",
    "\n",
    "Obtain all the commits made in the past week via API, which is a JSON array that contains multiple commit objects.\n",
    "\n",
    "Count how many commit objects are contained in the array."
   ]
  },
  {
   "cell_type": "markdown",
   "id": "norwegian-praise",
   "metadata": {},
   "source": [
    "⚠️ **Remember to limit your output before submission**."
   ]
  },
  {
   "cell_type": "code",
   "execution_count": 123,
   "id": "developing-printing",
   "metadata": {},
   "outputs": [],
   "source": [
    "import json\n",
    "import requests as req\n",
    "import pandas as pd\n",
    "import os\n",
    "from dotenv import load_dotenv"
   ]
  },
  {
   "cell_type": "code",
   "execution_count": 135,
   "id": "43637249",
   "metadata": {},
   "outputs": [],
   "source": [
    "a = open(\"../token.txt\",\"r\").read()\n"
   ]
  },
  {
   "cell_type": "code",
   "execution_count": 130,
   "id": "95e8d21c",
   "metadata": {},
   "outputs": [],
   "source": [
    "auth=(\"Gitfracto\",a)"
   ]
  },
  {
   "cell_type": "code",
   "execution_count": 126,
   "id": "creative-stable",
   "metadata": {},
   "outputs": [],
   "source": [
    "github = os.getenv(\"token\")"
   ]
  },
  {
   "cell_type": "code",
   "execution_count": 105,
   "id": "ongoing-taylor",
   "metadata": {},
   "outputs": [],
   "source": [
    "URL='https://api.github.com/'"
   ]
  },
  {
   "cell_type": "code",
   "execution_count": 106,
   "id": "cfd11ded",
   "metadata": {},
   "outputs": [],
   "source": [
    "user_repo = \"repos/ironhack-datalabs/datamad1020-rev\""
   ]
  },
  {
   "cell_type": "code",
   "execution_count": 132,
   "id": "f46fb8c5",
   "metadata": {},
   "outputs": [
    {
     "data": {
      "text/plain": [
       "<Response [200]>"
      ]
     },
     "execution_count": 132,
     "metadata": {},
     "output_type": "execute_result"
    }
   ],
   "source": [
    "res_git=req.get(URL+user_repo,auth=auth)\n",
    "\n",
    "res_git"
   ]
  },
  {
   "cell_type": "code",
   "execution_count": 108,
   "id": "45b39f67",
   "metadata": {},
   "outputs": [],
   "source": [
    "com =res_git.json()[\"commits_url\"]"
   ]
  },
  {
   "cell_type": "code",
   "execution_count": 109,
   "id": "a9b6cab9",
   "metadata": {},
   "outputs": [
    {
     "data": {
      "text/plain": [
       "'https://api.github.com/repos/ironhack-datalabs/datamad1020-rev/commits{/sha}'"
      ]
     },
     "execution_count": 109,
     "metadata": {},
     "output_type": "execute_result"
    }
   ],
   "source": [
    "com"
   ]
  },
  {
   "cell_type": "code",
   "execution_count": 140,
   "id": "86548a2a",
   "metadata": {},
   "outputs": [
    {
     "data": {
      "text/plain": [
       "[{'sha': 'f61a35d1016bfc11bb53e8d844db395fc6c4933d',\n",
       "  'node_id': 'MDY6Q29tbWl0MzA0MjQ4NTM5OmY2MWEzNWQxMDE2YmZjMTFiYjUzZThkODQ0ZGIzOTVmYzZjNDkzM2Q=',\n",
       "  'commit': {'author': {'name': 'ras',\n",
       "    'email': 'agalvezcorell@gmail.com',\n",
       "    'date': '2021-08-26T14:17:20Z'},\n",
       "   'committer': {'name': 'ras',\n",
       "    'email': 'agalvezcorell@gmail.com',\n",
       "    'date': '2021-08-26T14:17:20Z'},\n",
       "   'message': 'Hola polluelos de DataMad FT Agosto 2021 ♥️',\n",
       "   'tree': {'sha': '3f29ee656cb674a9e5d77748490d23bdff86aa18',\n",
       "    'url': 'https://api.github.com/repos/ironhack-datalabs/datamad1020-rev/git/trees/3f29ee656cb674a9e5d77748490d23bdff86aa18'},\n",
       "   'url': 'https://api.github.com/repos/ironhack-datalabs/datamad1020-rev/git/commits/f61a35d1016bfc11bb53e8d844db395fc6c4933d',\n",
       "   'comment_count': 0,\n",
       "   'verification': {'verified': False,\n",
       "    'reason': 'unsigned',\n",
       "    'signature': None,\n",
       "    'payload': None}},\n",
       "  'url': 'https://api.github.com/repos/ironhack-datalabs/datamad1020-rev/commits/f61a35d1016bfc11bb53e8d844db395fc6c4933d',\n",
       "  'html_url': 'https://github.com/ironhack-datalabs/datamad1020-rev/commit/f61a35d1016bfc11bb53e8d844db395fc6c4933d',\n",
       "  'comments_url': 'https://api.github.com/repos/ironhack-datalabs/datamad1020-rev/commits/f61a35d1016bfc11bb53e8d844db395fc6c4933d/comments',\n",
       "  'author': {'login': 'amandagcorell',\n",
       "   'id': 57899051,\n",
       "   'node_id': 'MDQ6VXNlcjU3ODk5MDUx',\n",
       "   'avatar_url': 'https://avatars.githubusercontent.com/u/57899051?v=4',\n",
       "   'gravatar_id': '',\n",
       "   'url': 'https://api.github.com/users/amandagcorell',\n",
       "   'html_url': 'https://github.com/amandagcorell',\n",
       "   'followers_url': 'https://api.github.com/users/amandagcorell/followers',\n",
       "   'following_url': 'https://api.github.com/users/amandagcorell/following{/other_user}',\n",
       "   'gists_url': 'https://api.github.com/users/amandagcorell/gists{/gist_id}',\n",
       "   'starred_url': 'https://api.github.com/users/amandagcorell/starred{/owner}{/repo}',\n",
       "   'subscriptions_url': 'https://api.github.com/users/amandagcorell/subscriptions',\n",
       "   'organizations_url': 'https://api.github.com/users/amandagcorell/orgs',\n",
       "   'repos_url': 'https://api.github.com/users/amandagcorell/repos',\n",
       "   'events_url': 'https://api.github.com/users/amandagcorell/events{/privacy}',\n",
       "   'received_events_url': 'https://api.github.com/users/amandagcorell/received_events',\n",
       "   'type': 'User',\n",
       "   'site_admin': False},\n",
       "  'committer': {'login': 'amandagcorell',\n",
       "   'id': 57899051,\n",
       "   'node_id': 'MDQ6VXNlcjU3ODk5MDUx',\n",
       "   'avatar_url': 'https://avatars.githubusercontent.com/u/57899051?v=4',\n",
       "   'gravatar_id': '',\n",
       "   'url': 'https://api.github.com/users/amandagcorell',\n",
       "   'html_url': 'https://github.com/amandagcorell',\n",
       "   'followers_url': 'https://api.github.com/users/amandagcorell/followers',\n",
       "   'following_url': 'https://api.github.com/users/amandagcorell/following{/other_user}',\n",
       "   'gists_url': 'https://api.github.com/users/amandagcorell/gists{/gist_id}',\n",
       "   'starred_url': 'https://api.github.com/users/amandagcorell/starred{/owner}{/repo}',\n",
       "   'subscriptions_url': 'https://api.github.com/users/amandagcorell/subscriptions',\n",
       "   'organizations_url': 'https://api.github.com/users/amandagcorell/orgs',\n",
       "   'repos_url': 'https://api.github.com/users/amandagcorell/repos',\n",
       "   'events_url': 'https://api.github.com/users/amandagcorell/events{/privacy}',\n",
       "   'received_events_url': 'https://api.github.com/users/amandagcorell/received_events',\n",
       "   'type': 'User',\n",
       "   'site_admin': False},\n",
       "  'parents': [{'sha': '79efcf150e34bc5eb982fde74dc5446bafc39bad',\n",
       "    'url': 'https://api.github.com/repos/ironhack-datalabs/datamad1020-rev/commits/79efcf150e34bc5eb982fde74dc5446bafc39bad',\n",
       "    'html_url': 'https://github.com/ironhack-datalabs/datamad1020-rev/commit/79efcf150e34bc5eb982fde74dc5446bafc39bad'}]}]"
      ]
     },
     "execution_count": 140,
     "metadata": {},
     "output_type": "execute_result"
    }
   ],
   "source": [
    "com2 = \"https://api.github.com/repos/ironhack-datalabs/datamad1020-rev/commits\"\n",
    "sha = \"?until=2022-01-20T16:50:00Z)\"\n",
    "sha2 = \"?sha=master\" # funciona para sacarlos todos\n",
    "com3= com2 + sha\n",
    "com4=req.get(com3, auth=auth)\n",
    "com4.json()[:1]"
   ]
  },
  {
   "cell_type": "code",
   "execution_count": 139,
   "id": "b728763a",
   "metadata": {},
   "outputs": [
    {
     "name": "stdout",
     "output_type": "stream",
     "text": [
      "commits = 0\n"
     ]
    }
   ],
   "source": [
    "print( \"commits =\",len(com4.json()))"
   ]
  },
  {
   "cell_type": "code",
   "execution_count": 127,
   "id": "f75c8f36",
   "metadata": {},
   "outputs": [],
   "source": [
    "URL2 = \"https://api.github.com/\"\n",
    "user_repo2 = \"repos/Data-Madrid-Enero-2022/apuntes_clase\""
   ]
  },
  {
   "cell_type": "code",
   "execution_count": 131,
   "id": "d26f30b5",
   "metadata": {},
   "outputs": [
    {
     "data": {
      "text/plain": [
       "<Response [404]>"
      ]
     },
     "execution_count": 131,
     "metadata": {},
     "output_type": "execute_result"
    }
   ],
   "source": [
    "res_git3=req.get(URL2+user_repo2,auth=auth)\n",
    "\n",
    "\n",
    "res_git3"
   ]
  },
  {
   "cell_type": "code",
   "execution_count": 114,
   "id": "1fb8e61c",
   "metadata": {},
   "outputs": [
    {
     "data": {
      "text/plain": [
       "'https://api.github.com/repos/ironhack-datalabs/datamad1020-rev/commits{/sha}'"
      ]
     },
     "execution_count": 114,
     "metadata": {},
     "output_type": "execute_result"
    }
   ],
   "source": [
    "res_git3.json()[\"commits_url\"]"
   ]
  },
  {
   "cell_type": "code",
   "execution_count": 121,
   "id": "d67998c3",
   "metadata": {},
   "outputs": [
    {
     "data": {
      "text/plain": [
       "{'message': 'Not Found',\n",
       " 'documentation_url': 'https://docs.github.com/rest/reference/repos#list-commits'}"
      ]
     },
     "execution_count": 121,
     "metadata": {},
     "output_type": "execute_result"
    }
   ],
   "source": [
    "flo3 = \"https://api.github.com/repos/Data-Madrid-Enero-2022/lab-api-scavenger-game/commits\"\n",
    "sha2 = \"?sha=master\"\n",
    "flo4= flo3 + sha2\n",
    "flo5=req.get(flo4, auth=auth)\n",
    "flo5.json()"
   ]
  },
  {
   "cell_type": "code",
   "execution_count": 117,
   "id": "073ace48",
   "metadata": {},
   "outputs": [
    {
     "ename": "AttributeError",
     "evalue": "'str' object has no attribute 'json'",
     "output_type": "error",
     "traceback": [
      "\u001b[0;31m---------------------------------------------------------------------------\u001b[0m",
      "\u001b[0;31mAttributeError\u001b[0m                            Traceback (most recent call last)",
      "\u001b[0;32m<ipython-input-117-ef79e30b01c6>\u001b[0m in \u001b[0;36m<module>\u001b[0;34m\u001b[0m\n\u001b[0;32m----> 1\u001b[0;31m \u001b[0;34m\"https://api.github.com/repos/Data-Madrid-Enero-2022/lab-api-scavenger-game/commits?sha=master\"\u001b[0m\u001b[0;34m.\u001b[0m\u001b[0mjson\u001b[0m\u001b[0;34m(\u001b[0m\u001b[0;34m)\u001b[0m\u001b[0;34m\u001b[0m\u001b[0;34m\u001b[0m\u001b[0m\n\u001b[0m",
      "\u001b[0;31mAttributeError\u001b[0m: 'str' object has no attribute 'json'"
     ]
    }
   ],
   "source": [
    "\"https://api.github.com/repos/Data-Madrid-Enero-2022/lab-api-scavenger-game/commits?sha=master\".json()"
   ]
  },
  {
   "cell_type": "code",
   "execution_count": null,
   "id": "3f2243ae",
   "metadata": {},
   "outputs": [],
   "source": []
  },
  {
   "cell_type": "code",
   "execution_count": null,
   "id": "903e6dfb",
   "metadata": {},
   "outputs": [],
   "source": []
  },
  {
   "cell_type": "code",
   "execution_count": null,
   "id": "c1a42082",
   "metadata": {},
   "outputs": [],
   "source": []
  },
  {
   "cell_type": "code",
   "execution_count": null,
   "id": "cbd5cc83",
   "metadata": {},
   "outputs": [],
   "source": []
  },
  {
   "cell_type": "code",
   "execution_count": null,
   "id": "1728c426",
   "metadata": {},
   "outputs": [],
   "source": []
  },
  {
   "cell_type": "code",
   "execution_count": null,
   "id": "b83fa431",
   "metadata": {},
   "outputs": [],
   "source": []
  }
 ],
 "metadata": {
  "kernelspec": {
   "display_name": "ironhack",
   "language": "python",
   "name": "ironhack"
  },
  "language_info": {
   "codemirror_mode": {
    "name": "ipython",
    "version": 3
   },
   "file_extension": ".py",
   "mimetype": "text/x-python",
   "name": "python",
   "nbconvert_exporter": "python",
   "pygments_lexer": "ipython3",
   "version": "3.8.5"
  },
  "toc": {
   "base_numbering": 1,
   "nav_menu": {},
   "number_sections": true,
   "sideBar": true,
   "skip_h1_title": true,
   "title_cell": "Table of Contents",
   "title_sidebar": "Contents",
   "toc_cell": false,
   "toc_position": {
    "height": "calc(100% - 180px)",
    "left": "10px",
    "top": "150px",
    "width": "288px"
   },
   "toc_section_display": true,
   "toc_window_display": true
  }
 },
 "nbformat": 4,
 "nbformat_minor": 5
}
