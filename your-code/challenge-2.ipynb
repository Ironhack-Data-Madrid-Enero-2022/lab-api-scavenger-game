{
 "cells": [
  {
   "cell_type": "markdown",
   "id": "threaded-asbestos",
   "metadata": {},
   "source": [
    "# Challenge 2: Count Commits\n",
    "\n",
    "Count how many commits were made in the past week.\n",
    "\n",
    "Obtain all the commits made in the past week via API, which is a JSON array that contains multiple commit objects.\n",
    "\n",
    "Count how many commit objects are contained in the array."
   ]
  },
  {
   "cell_type": "markdown",
   "id": "norwegian-praise",
   "metadata": {},
   "source": [
    "⚠️ **Remember to limit your output before submission**."
   ]
  },
  {
   "cell_type": "code",
   "execution_count": 7,
   "id": "330dd68d",
   "metadata": {},
   "outputs": [],
   "source": [
    "import json\n",
    "import requests as req"
   ]
  },
  {
   "cell_type": "code",
   "execution_count": 5,
   "id": "developing-printing",
   "metadata": {},
   "outputs": [],
   "source": [
    "url = 'https://api.github.com/repos/Ironhack-Data-Madrid-Enero-2022/apuntes_clase/commits'"
   ]
  },
  {
   "cell_type": "code",
   "execution_count": 6,
   "id": "creative-stable",
   "metadata": {},
   "outputs": [
    {
     "data": {
      "text/plain": [
       "<Response [200]>"
      ]
     },
     "execution_count": 6,
     "metadata": {},
     "output_type": "execute_result"
    }
   ],
   "source": [
    "req.get(url)"
   ]
  },
  {
   "cell_type": "code",
   "execution_count": 8,
   "id": "ongoing-taylor",
   "metadata": {},
   "outputs": [],
   "source": [
    "commits = req.get(url).json()"
   ]
  },
  {
   "cell_type": "code",
   "execution_count": 10,
   "id": "f54a3005",
   "metadata": {
    "scrolled": true
   },
   "outputs": [],
   "source": [
    "# commits"
   ]
  },
  {
   "cell_type": "code",
   "execution_count": 11,
   "id": "131fa86a",
   "metadata": {},
   "outputs": [],
   "source": [
    "lista_commits = []\n",
    "for i in commits:\n",
    "    for k,v in i.items():\n",
    "        if k == 'commit':\n",
    "            for z,y in v.items():\n",
    "                if z == 'author':\n",
    "                    for h,j in y.items():\n",
    "                        if h == 'date':\n",
    "                            lista_commits.append(j[:10])"
   ]
  },
  {
   "cell_type": "code",
   "execution_count": 12,
   "id": "60045902",
   "metadata": {},
   "outputs": [],
   "source": [
    "def condicion(numero):\n",
    "    fechas = ['2022-01-14','2022-01-16', '2022-01-27', '2022-01-26', '2022-01-25']\n",
    "    return not numero in fechas "
   ]
  },
  {
   "cell_type": "code",
   "execution_count": 15,
   "id": "559d1d07",
   "metadata": {},
   "outputs": [],
   "source": [
    "filtrada = list(filter(condicion, lista_commits))"
   ]
  },
  {
   "cell_type": "code",
   "execution_count": 14,
   "id": "a788d18b",
   "metadata": {},
   "outputs": [
    {
     "data": {
      "text/plain": [
       "18"
      ]
     },
     "execution_count": 14,
     "metadata": {},
     "output_type": "execute_result"
    }
   ],
   "source": [
    "len(filtrada)"
   ]
  },
  {
   "cell_type": "code",
   "execution_count": null,
   "id": "7d5619b1",
   "metadata": {},
   "outputs": [],
   "source": []
  }
 ],
 "metadata": {
  "kernelspec": {
   "display_name": "Python 3",
   "language": "python",
   "name": "python3"
  },
  "language_info": {
   "codemirror_mode": {
    "name": "ipython",
    "version": 3
   },
   "file_extension": ".py",
   "mimetype": "text/x-python",
   "name": "python",
   "nbconvert_exporter": "python",
   "pygments_lexer": "ipython3",
   "version": "3.8.2"
  },
  "toc": {
   "base_numbering": 1,
   "nav_menu": {},
   "number_sections": true,
   "sideBar": true,
   "skip_h1_title": true,
   "title_cell": "Table of Contents",
   "title_sidebar": "Contents",
   "toc_cell": false,
   "toc_position": {
    "height": "calc(100% - 180px)",
    "left": "10px",
    "top": "150px",
    "width": "288px"
   },
   "toc_section_display": true,
   "toc_window_display": true
  }
 },
 "nbformat": 4,
 "nbformat_minor": 5
}
